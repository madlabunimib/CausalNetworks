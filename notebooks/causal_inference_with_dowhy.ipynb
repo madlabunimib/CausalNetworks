{
  "cells": [
    {
      "cell_type": "code",
      "execution_count": null,
      "metadata": {
        "id": "MuJ4gS_d9XiS"
      },
      "outputs": [],
      "source": [
        "%%capture\n",
        "!pip install dowhy==0.10"
      ]
    },
    {
      "cell_type": "code",
      "execution_count": null,
      "metadata": {
        "id": "JFfUL7209XiU"
      },
      "outputs": [],
      "source": [
        "import warnings\n",
        "warnings.filterwarnings(\"ignore\")"
      ]
    },
    {
      "cell_type": "code",
      "execution_count": null,
      "metadata": {
        "id": "boc1RfO79XiV"
      },
      "outputs": [],
      "source": [
        "import dowhy\n",
        "import dowhy.api\n",
        "import dowhy.datasets\n",
        "import dowhy.plotter\n",
        "import numpy as np"
      ]
    },
    {
      "cell_type": "markdown",
      "metadata": {
        "id": "sdoJDX-z9XiV"
      },
      "source": [
        "# Causal Inference with DoWhy"
      ]
    },
    {
      "cell_type": "markdown",
      "metadata": {
        "id": "HatMC0Fr9XiW"
      },
      "source": [
        "By Alessio Zanga, Niccolò Rocchi and Fabio Stella"
      ]
    },
    {
      "cell_type": "markdown",
      "metadata": {
        "id": "6DbUe3ts9XiW"
      },
      "source": [
        "## Abstract"
      ]
    },
    {
      "cell_type": "markdown",
      "metadata": {
        "id": "ZOEmPP8c9XiW"
      },
      "source": [
        "This notebook represents a quick-start guide to causal inference using the [DoWhy](https://github.com/microsoft/dowhy) package."
      ]
    },
    {
      "cell_type": "markdown",
      "metadata": {
        "id": "zYpeFrgz9XiX"
      },
      "source": [
        "## Generate a Dataset"
      ]
    },
    {
      "cell_type": "markdown",
      "metadata": {
        "id": "N5B64-RSkmm-"
      },
      "source": [
        "Set the random seed generator for result reproducibility."
      ]
    },
    {
      "cell_type": "code",
      "execution_count": null,
      "metadata": {
        "id": "sSLi7Mhikmm_"
      },
      "outputs": [],
      "source": [
        "np.random.seed(33)"
      ]
    },
    {
      "cell_type": "markdown",
      "metadata": {
        "id": "um8sJlav9XiX"
      },
      "source": [
        "DoWhy allows the generation of a dataset by specifying a set of parameters."
      ]
    },
    {
      "cell_type": "code",
      "execution_count": null,
      "metadata": {
        "id": "PQmsX9WU9XiX",
        "outputId": "ebe3aacc-ee12-4dd5-bd26-252e1d0bafc1",
        "colab": {
          "base_uri": "https://localhost:8080/"
        }
      },
      "outputs": [
        {
          "output_type": "execute_result",
          "data": {
            "text/plain": [
              "['df',\n",
              " 'treatment_name',\n",
              " 'outcome_name',\n",
              " 'common_causes_names',\n",
              " 'instrument_names',\n",
              " 'effect_modifier_names',\n",
              " 'frontdoor_variables_names',\n",
              " 'dot_graph',\n",
              " 'gml_graph',\n",
              " 'ate']"
            ]
          },
          "metadata": {},
          "execution_count": 5
        }
      ],
      "source": [
        "dataset = dowhy.datasets.linear_dataset(\n",
        "    beta = 3,\n",
        "    num_samples = int(1e4),\n",
        "    num_common_causes = 2,\n",
        "    num_frontdoor_variables = 1,\n",
        "    treatment_is_binary = True,\n",
        "    outcome_is_binary = True\n",
        ")\n",
        "\n",
        "list(dataset.keys())"
      ]
    },
    {
      "cell_type": "markdown",
      "metadata": {
        "id": "IfXDc0g19XiY"
      },
      "source": [
        "It will return a dictionary with a Pandas DataFrame, along with a set of variables names and the true causal graph used for the sampling process."
      ]
    },
    {
      "cell_type": "code",
      "execution_count": null,
      "metadata": {
        "id": "6kHLzchf9XiY"
      },
      "outputs": [],
      "source": [
        "data, [treatment], outcome, _, _, _, _, _, causal_graph, ace = dataset.values()"
      ]
    },
    {
      "cell_type": "markdown",
      "metadata": {
        "id": "DufQAWQ69XiZ"
      },
      "source": [
        "After unpacking the values of the dictionary, it is possible to observe the assigned names to the data columns:"
      ]
    },
    {
      "cell_type": "code",
      "execution_count": null,
      "metadata": {
        "id": "0m2QQj7V9XiZ",
        "outputId": "9d986225-2f5e-487a-e0b7-335877430687",
        "colab": {
          "base_uri": "https://localhost:8080/"
        }
      },
      "outputs": [
        {
          "output_type": "execute_result",
          "data": {
            "text/plain": [
              "('v0', 'y')"
            ]
          },
          "metadata": {},
          "execution_count": 7
        }
      ],
      "source": [
        "treatment, outcome"
      ]
    },
    {
      "cell_type": "markdown",
      "metadata": {
        "id": "0BAbmdNE9XiZ"
      },
      "source": [
        "It also return the true average causal effect:"
      ]
    },
    {
      "cell_type": "code",
      "execution_count": null,
      "metadata": {
        "id": "A7S3mLpK9XiZ",
        "outputId": "274b0764-d743-4952-83c6-93cdd835553f",
        "colab": {
          "base_uri": "https://localhost:8080/",
          "height": 37
        }
      },
      "outputs": [
        {
          "output_type": "execute_result",
          "data": {
            "text/plain": [
              "0.1219"
            ],
            "text/latex": "$\\displaystyle 0.1219$"
          },
          "metadata": {},
          "execution_count": 8
        }
      ],
      "source": [
        "ace"
      ]
    },
    {
      "cell_type": "code",
      "execution_count": null,
      "metadata": {
        "id": "Boe53kTM9Xia",
        "outputId": "eb562013-ed21-4836-e2db-a50f862087a4",
        "colab": {
          "base_uri": "https://localhost:8080/",
          "height": 424
        }
      },
      "outputs": [
        {
          "output_type": "execute_result",
          "data": {
            "text/plain": [
              "           FD0        W0        W1     v0      y\n",
              "0    -0.808793 -2.038198 -0.670450  False  False\n",
              "1    -0.847388 -0.719708  0.154825  False  False\n",
              "2     1.871803 -0.652430  1.910733   True   True\n",
              "3    -0.163010 -0.599764  0.322153   True   True\n",
              "4    -2.410111 -0.728441 -0.737992  False  False\n",
              "...        ...       ...       ...    ...    ...\n",
              "9995  2.095709  0.225739  1.332569   True   True\n",
              "9996  1.251388 -1.529271  0.724498   True   True\n",
              "9997  0.760808 -0.191442 -0.352940   True   True\n",
              "9998  1.101175 -0.126650  1.465335   True   True\n",
              "9999 -0.534195 -1.716706 -0.311268  False  False\n",
              "\n",
              "[10000 rows x 5 columns]"
            ],
            "text/html": [
              "\n",
              "  <div id=\"df-9b0c6a58-7850-429d-beca-9925afd42448\" class=\"colab-df-container\">\n",
              "    <div>\n",
              "<style scoped>\n",
              "    .dataframe tbody tr th:only-of-type {\n",
              "        vertical-align: middle;\n",
              "    }\n",
              "\n",
              "    .dataframe tbody tr th {\n",
              "        vertical-align: top;\n",
              "    }\n",
              "\n",
              "    .dataframe thead th {\n",
              "        text-align: right;\n",
              "    }\n",
              "</style>\n",
              "<table border=\"1\" class=\"dataframe\">\n",
              "  <thead>\n",
              "    <tr style=\"text-align: right;\">\n",
              "      <th></th>\n",
              "      <th>FD0</th>\n",
              "      <th>W0</th>\n",
              "      <th>W1</th>\n",
              "      <th>v0</th>\n",
              "      <th>y</th>\n",
              "    </tr>\n",
              "  </thead>\n",
              "  <tbody>\n",
              "    <tr>\n",
              "      <th>0</th>\n",
              "      <td>-0.808793</td>\n",
              "      <td>-2.038198</td>\n",
              "      <td>-0.670450</td>\n",
              "      <td>False</td>\n",
              "      <td>False</td>\n",
              "    </tr>\n",
              "    <tr>\n",
              "      <th>1</th>\n",
              "      <td>-0.847388</td>\n",
              "      <td>-0.719708</td>\n",
              "      <td>0.154825</td>\n",
              "      <td>False</td>\n",
              "      <td>False</td>\n",
              "    </tr>\n",
              "    <tr>\n",
              "      <th>2</th>\n",
              "      <td>1.871803</td>\n",
              "      <td>-0.652430</td>\n",
              "      <td>1.910733</td>\n",
              "      <td>True</td>\n",
              "      <td>True</td>\n",
              "    </tr>\n",
              "    <tr>\n",
              "      <th>3</th>\n",
              "      <td>-0.163010</td>\n",
              "      <td>-0.599764</td>\n",
              "      <td>0.322153</td>\n",
              "      <td>True</td>\n",
              "      <td>True</td>\n",
              "    </tr>\n",
              "    <tr>\n",
              "      <th>4</th>\n",
              "      <td>-2.410111</td>\n",
              "      <td>-0.728441</td>\n",
              "      <td>-0.737992</td>\n",
              "      <td>False</td>\n",
              "      <td>False</td>\n",
              "    </tr>\n",
              "    <tr>\n",
              "      <th>...</th>\n",
              "      <td>...</td>\n",
              "      <td>...</td>\n",
              "      <td>...</td>\n",
              "      <td>...</td>\n",
              "      <td>...</td>\n",
              "    </tr>\n",
              "    <tr>\n",
              "      <th>9995</th>\n",
              "      <td>2.095709</td>\n",
              "      <td>0.225739</td>\n",
              "      <td>1.332569</td>\n",
              "      <td>True</td>\n",
              "      <td>True</td>\n",
              "    </tr>\n",
              "    <tr>\n",
              "      <th>9996</th>\n",
              "      <td>1.251388</td>\n",
              "      <td>-1.529271</td>\n",
              "      <td>0.724498</td>\n",
              "      <td>True</td>\n",
              "      <td>True</td>\n",
              "    </tr>\n",
              "    <tr>\n",
              "      <th>9997</th>\n",
              "      <td>0.760808</td>\n",
              "      <td>-0.191442</td>\n",
              "      <td>-0.352940</td>\n",
              "      <td>True</td>\n",
              "      <td>True</td>\n",
              "    </tr>\n",
              "    <tr>\n",
              "      <th>9998</th>\n",
              "      <td>1.101175</td>\n",
              "      <td>-0.126650</td>\n",
              "      <td>1.465335</td>\n",
              "      <td>True</td>\n",
              "      <td>True</td>\n",
              "    </tr>\n",
              "    <tr>\n",
              "      <th>9999</th>\n",
              "      <td>-0.534195</td>\n",
              "      <td>-1.716706</td>\n",
              "      <td>-0.311268</td>\n",
              "      <td>False</td>\n",
              "      <td>False</td>\n",
              "    </tr>\n",
              "  </tbody>\n",
              "</table>\n",
              "<p>10000 rows × 5 columns</p>\n",
              "</div>\n",
              "    <div class=\"colab-df-buttons\">\n",
              "\n",
              "  <div class=\"colab-df-container\">\n",
              "    <button class=\"colab-df-convert\" onclick=\"convertToInteractive('df-9b0c6a58-7850-429d-beca-9925afd42448')\"\n",
              "            title=\"Convert this dataframe to an interactive table.\"\n",
              "            style=\"display:none;\">\n",
              "\n",
              "  <svg xmlns=\"http://www.w3.org/2000/svg\" height=\"24px\" viewBox=\"0 -960 960 960\">\n",
              "    <path d=\"M120-120v-720h720v720H120Zm60-500h600v-160H180v160Zm220 220h160v-160H400v160Zm0 220h160v-160H400v160ZM180-400h160v-160H180v160Zm440 0h160v-160H620v160ZM180-180h160v-160H180v160Zm440 0h160v-160H620v160Z\"/>\n",
              "  </svg>\n",
              "    </button>\n",
              "\n",
              "  <style>\n",
              "    .colab-df-container {\n",
              "      display:flex;\n",
              "      gap: 12px;\n",
              "    }\n",
              "\n",
              "    .colab-df-convert {\n",
              "      background-color: #E8F0FE;\n",
              "      border: none;\n",
              "      border-radius: 50%;\n",
              "      cursor: pointer;\n",
              "      display: none;\n",
              "      fill: #1967D2;\n",
              "      height: 32px;\n",
              "      padding: 0 0 0 0;\n",
              "      width: 32px;\n",
              "    }\n",
              "\n",
              "    .colab-df-convert:hover {\n",
              "      background-color: #E2EBFA;\n",
              "      box-shadow: 0px 1px 2px rgba(60, 64, 67, 0.3), 0px 1px 3px 1px rgba(60, 64, 67, 0.15);\n",
              "      fill: #174EA6;\n",
              "    }\n",
              "\n",
              "    .colab-df-buttons div {\n",
              "      margin-bottom: 4px;\n",
              "    }\n",
              "\n",
              "    [theme=dark] .colab-df-convert {\n",
              "      background-color: #3B4455;\n",
              "      fill: #D2E3FC;\n",
              "    }\n",
              "\n",
              "    [theme=dark] .colab-df-convert:hover {\n",
              "      background-color: #434B5C;\n",
              "      box-shadow: 0px 1px 3px 1px rgba(0, 0, 0, 0.15);\n",
              "      filter: drop-shadow(0px 1px 2px rgba(0, 0, 0, 0.3));\n",
              "      fill: #FFFFFF;\n",
              "    }\n",
              "  </style>\n",
              "\n",
              "    <script>\n",
              "      const buttonEl =\n",
              "        document.querySelector('#df-9b0c6a58-7850-429d-beca-9925afd42448 button.colab-df-convert');\n",
              "      buttonEl.style.display =\n",
              "        google.colab.kernel.accessAllowed ? 'block' : 'none';\n",
              "\n",
              "      async function convertToInteractive(key) {\n",
              "        const element = document.querySelector('#df-9b0c6a58-7850-429d-beca-9925afd42448');\n",
              "        const dataTable =\n",
              "          await google.colab.kernel.invokeFunction('convertToInteractive',\n",
              "                                                    [key], {});\n",
              "        if (!dataTable) return;\n",
              "\n",
              "        const docLinkHtml = 'Like what you see? Visit the ' +\n",
              "          '<a target=\"_blank\" href=https://colab.research.google.com/notebooks/data_table.ipynb>data table notebook</a>'\n",
              "          + ' to learn more about interactive tables.';\n",
              "        element.innerHTML = '';\n",
              "        dataTable['output_type'] = 'display_data';\n",
              "        await google.colab.output.renderOutput(dataTable, element);\n",
              "        const docLink = document.createElement('div');\n",
              "        docLink.innerHTML = docLinkHtml;\n",
              "        element.appendChild(docLink);\n",
              "      }\n",
              "    </script>\n",
              "  </div>\n",
              "\n",
              "\n",
              "<div id=\"df-555ef32a-cc90-421d-ae59-23f4a84fecae\">\n",
              "  <button class=\"colab-df-quickchart\" onclick=\"quickchart('df-555ef32a-cc90-421d-ae59-23f4a84fecae')\"\n",
              "            title=\"Suggest charts.\"\n",
              "            style=\"display:none;\">\n",
              "\n",
              "<svg xmlns=\"http://www.w3.org/2000/svg\" height=\"24px\"viewBox=\"0 0 24 24\"\n",
              "     width=\"24px\">\n",
              "    <g>\n",
              "        <path d=\"M19 3H5c-1.1 0-2 .9-2 2v14c0 1.1.9 2 2 2h14c1.1 0 2-.9 2-2V5c0-1.1-.9-2-2-2zM9 17H7v-7h2v7zm4 0h-2V7h2v10zm4 0h-2v-4h2v4z\"/>\n",
              "    </g>\n",
              "</svg>\n",
              "  </button>\n",
              "\n",
              "<style>\n",
              "  .colab-df-quickchart {\n",
              "      --bg-color: #E8F0FE;\n",
              "      --fill-color: #1967D2;\n",
              "      --hover-bg-color: #E2EBFA;\n",
              "      --hover-fill-color: #174EA6;\n",
              "      --disabled-fill-color: #AAA;\n",
              "      --disabled-bg-color: #DDD;\n",
              "  }\n",
              "\n",
              "  [theme=dark] .colab-df-quickchart {\n",
              "      --bg-color: #3B4455;\n",
              "      --fill-color: #D2E3FC;\n",
              "      --hover-bg-color: #434B5C;\n",
              "      --hover-fill-color: #FFFFFF;\n",
              "      --disabled-bg-color: #3B4455;\n",
              "      --disabled-fill-color: #666;\n",
              "  }\n",
              "\n",
              "  .colab-df-quickchart {\n",
              "    background-color: var(--bg-color);\n",
              "    border: none;\n",
              "    border-radius: 50%;\n",
              "    cursor: pointer;\n",
              "    display: none;\n",
              "    fill: var(--fill-color);\n",
              "    height: 32px;\n",
              "    padding: 0;\n",
              "    width: 32px;\n",
              "  }\n",
              "\n",
              "  .colab-df-quickchart:hover {\n",
              "    background-color: var(--hover-bg-color);\n",
              "    box-shadow: 0 1px 2px rgba(60, 64, 67, 0.3), 0 1px 3px 1px rgba(60, 64, 67, 0.15);\n",
              "    fill: var(--button-hover-fill-color);\n",
              "  }\n",
              "\n",
              "  .colab-df-quickchart-complete:disabled,\n",
              "  .colab-df-quickchart-complete:disabled:hover {\n",
              "    background-color: var(--disabled-bg-color);\n",
              "    fill: var(--disabled-fill-color);\n",
              "    box-shadow: none;\n",
              "  }\n",
              "\n",
              "  .colab-df-spinner {\n",
              "    border: 2px solid var(--fill-color);\n",
              "    border-color: transparent;\n",
              "    border-bottom-color: var(--fill-color);\n",
              "    animation:\n",
              "      spin 1s steps(1) infinite;\n",
              "  }\n",
              "\n",
              "  @keyframes spin {\n",
              "    0% {\n",
              "      border-color: transparent;\n",
              "      border-bottom-color: var(--fill-color);\n",
              "      border-left-color: var(--fill-color);\n",
              "    }\n",
              "    20% {\n",
              "      border-color: transparent;\n",
              "      border-left-color: var(--fill-color);\n",
              "      border-top-color: var(--fill-color);\n",
              "    }\n",
              "    30% {\n",
              "      border-color: transparent;\n",
              "      border-left-color: var(--fill-color);\n",
              "      border-top-color: var(--fill-color);\n",
              "      border-right-color: var(--fill-color);\n",
              "    }\n",
              "    40% {\n",
              "      border-color: transparent;\n",
              "      border-right-color: var(--fill-color);\n",
              "      border-top-color: var(--fill-color);\n",
              "    }\n",
              "    60% {\n",
              "      border-color: transparent;\n",
              "      border-right-color: var(--fill-color);\n",
              "    }\n",
              "    80% {\n",
              "      border-color: transparent;\n",
              "      border-right-color: var(--fill-color);\n",
              "      border-bottom-color: var(--fill-color);\n",
              "    }\n",
              "    90% {\n",
              "      border-color: transparent;\n",
              "      border-bottom-color: var(--fill-color);\n",
              "    }\n",
              "  }\n",
              "</style>\n",
              "\n",
              "  <script>\n",
              "    async function quickchart(key) {\n",
              "      const quickchartButtonEl =\n",
              "        document.querySelector('#' + key + ' button');\n",
              "      quickchartButtonEl.disabled = true;  // To prevent multiple clicks.\n",
              "      quickchartButtonEl.classList.add('colab-df-spinner');\n",
              "      try {\n",
              "        const charts = await google.colab.kernel.invokeFunction(\n",
              "            'suggestCharts', [key], {});\n",
              "      } catch (error) {\n",
              "        console.error('Error during call to suggestCharts:', error);\n",
              "      }\n",
              "      quickchartButtonEl.classList.remove('colab-df-spinner');\n",
              "      quickchartButtonEl.classList.add('colab-df-quickchart-complete');\n",
              "    }\n",
              "    (() => {\n",
              "      let quickchartButtonEl =\n",
              "        document.querySelector('#df-555ef32a-cc90-421d-ae59-23f4a84fecae button');\n",
              "      quickchartButtonEl.style.display =\n",
              "        google.colab.kernel.accessAllowed ? 'block' : 'none';\n",
              "    })();\n",
              "  </script>\n",
              "</div>\n",
              "    </div>\n",
              "  </div>\n"
            ]
          },
          "metadata": {},
          "execution_count": 9
        }
      ],
      "source": [
        "data"
      ]
    },
    {
      "cell_type": "markdown",
      "metadata": {
        "id": "ssvrA64_9Xia"
      },
      "source": [
        "## Construct a Model"
      ]
    },
    {
      "cell_type": "markdown",
      "metadata": {
        "id": "s3kgaDc_9Xia"
      },
      "source": [
        "The second step consists in constructing a causal model using the true graph."
      ]
    },
    {
      "cell_type": "code",
      "execution_count": null,
      "metadata": {
        "id": "qYjxInhI9Xia"
      },
      "outputs": [],
      "source": [
        "model = dowhy.CausalModel(\n",
        "    data = data,\n",
        "    treatment = treatment,\n",
        "    outcome = outcome,\n",
        "    graph = causal_graph\n",
        ")"
      ]
    },
    {
      "cell_type": "markdown",
      "metadata": {
        "id": "Bedd69yy9Xia"
      },
      "source": [
        "It is not a proper SCM as we seen in previous sessions. It is more like a container for the data and the graph."
      ]
    },
    {
      "cell_type": "code",
      "execution_count": null,
      "metadata": {
        "id": "JAJscaJM9Xib",
        "outputId": "08c91bbe-79d8-4538-920d-2d50daefe683",
        "colab": {
          "base_uri": "https://localhost:8080/",
          "height": 636
        }
      },
      "outputs": [
        {
          "output_type": "display_data",
          "data": {
            "text/plain": [
              "<Figure size 800x600 with 1 Axes>"
            ],
            "image/png": "[encoded data removed]"
          },
          "metadata": {}
        }
      ],
      "source": [
        "model.view_model(layout=\"dot\")\n",
        "# from IPython.display import Image, display    # Run these lines if you are on local.\n",
        "# display(Image(filename=\"causal_model.png\"))"
      ]
    },
    {
      "cell_type": "markdown",
      "metadata": {
        "id": "eQ--0pS29Xib"
      },
      "source": [
        "This will enable the identification step by using a couple of handful methods."
      ]
    },
    {
      "cell_type": "markdown",
      "metadata": {
        "id": "oKq-rp4X9Xib"
      },
      "source": [
        "## Identify the Estimand"
      ]
    },
    {
      "cell_type": "markdown",
      "metadata": {
        "id": "wjM6jAz09Xib"
      },
      "source": [
        "The estimand identification tests for both backdoor and frontdoor criterion."
      ]
    },
    {
      "cell_type": "code",
      "execution_count": null,
      "metadata": {
        "id": "i9ANDpH79Xib",
        "outputId": "3fd4ae36-bea0-4f65-e44c-78abbae45b5a",
        "colab": {
          "base_uri": "https://localhost:8080/"
        }
      },
      "outputs": [
        {
          "output_type": "stream",
          "name": "stdout",
          "text": [
            "Estimand type: EstimandType.NONPARAMETRIC_ATE\n",
            "\n",
            "### Estimand : 1\n",
            "Estimand name: backdoor\n",
            "Estimand expression:\n",
            "  d              \n",
            "─────(E[y|W0,W1])\n",
            "d[v₀]            \n",
            "Estimand assumption 1, Unconfoundedness: If U→{v0} and U→y then P(y|v0,W0,W1,U) = P(y|v0,W0,W1)\n",
            "\n",
            "### Estimand : 2\n",
            "Estimand name: iv\n",
            "No such variable(s) found!\n",
            "\n",
            "### Estimand : 3\n",
            "Estimand name: frontdoor\n",
            "No such variable(s) found!\n",
            "\n"
          ]
        }
      ],
      "source": [
        "estimand = model.identify_effect(proceed_when_unidentifiable=True)\n",
        "\n",
        "print(estimand)"
      ]
    },
    {
      "cell_type": "markdown",
      "metadata": {
        "id": "vE3VRhEI9Xib"
      },
      "source": [
        "## Estimate the Average Causal Effect"
      ]
    },
    {
      "cell_type": "markdown",
      "metadata": {
        "id": "fmG40zAR9Xib"
      },
      "source": [
        "Once the estimand has been identified, we can proceed to the last estimation step."
      ]
    },
    {
      "cell_type": "code",
      "execution_count": null,
      "metadata": {
        "id": "ArUcSri39Xib"
      },
      "outputs": [],
      "source": [
        "estimators = [\n",
        "    \"backdoor.linear_regression\",\n",
        "    \"backdoor.propensity_score_stratification\",\n",
        "    \"backdoor.propensity_score_weighting\",\n",
        "    \"backdoor.propensity_score_matching\",\n",
        "]"
      ]
    },
    {
      "cell_type": "markdown",
      "metadata": {
        "id": "87F-qXvL9Xic"
      },
      "source": [
        "We will iterate over the provided methods and compare the results."
      ]
    },
    {
      "cell_type": "code",
      "execution_count": null,
      "metadata": {
        "id": "jYdJeDFf9Xic"
      },
      "outputs": [],
      "source": [
        "estimates = {\n",
        "    estimator: model.estimate_effect(estimand, method_name=estimator)\n",
        "    for estimator in estimators\n",
        "}"
      ]
    },
    {
      "cell_type": "code",
      "execution_count": null,
      "metadata": {
        "id": "Wi5SzwYg9Xic",
        "outputId": "6e585f65-e6dc-4c02-c49d-20a1e13f5f29",
        "colab": {
          "base_uri": "https://localhost:8080/"
        }
      },
      "outputs": [
        {
          "output_type": "stream",
          "name": "stdout",
          "text": [
            "*** Causal Estimate ***\n",
            "\n",
            "## Identified estimand\n",
            "Estimand type: EstimandType.NONPARAMETRIC_ATE\n",
            "\n",
            "### Estimand : 1\n",
            "Estimand name: backdoor\n",
            "Estimand expression:\n",
            "  d              \n",
            "─────(E[y|W0,W1])\n",
            "d[v₀]            \n",
            "Estimand assumption 1, Unconfoundedness: If U→{v0} and U→y then P(y|v0,W0,W1,U) = P(y|v0,W0,W1)\n",
            "\n",
            "## Realized estimand\n",
            "b: y~v0+W0+W1\n",
            "Target units: ate\n",
            "\n",
            "## Estimate\n",
            "Mean value: 0.13535578974430706\n",
            "\n"
          ]
        }
      ],
      "source": [
        "for estimate in estimates.values():\n",
        "    print(estimate)\n",
        "    break"
      ]
    },
    {
      "cell_type": "code",
      "execution_count": null,
      "metadata": {
        "id": "o9tTdE0w9Xic",
        "outputId": "62667020-d874-4817-c697-fad033cbcc71",
        "colab": {
          "base_uri": "https://localhost:8080/"
        }
      },
      "outputs": [
        {
          "output_type": "stream",
          "name": "stdout",
          "text": [
            "    Estimator: backdoor.linear_regression,\n",
            "    Estimate: 0.1354,\n",
            "    Relative Error: 11.04%\n",
            "    \n",
            "    Estimator: backdoor.propensity_score_stratification,\n",
            "    Estimate: 0.1253,\n",
            "    Relative Error: 2.751%\n",
            "    \n",
            "    Estimator: backdoor.propensity_score_weighting,\n",
            "    Estimate: 0.1667,\n",
            "    Relative Error: 36.72%\n",
            "    \n",
            "    Estimator: backdoor.propensity_score_matching,\n",
            "    Estimate: 0.2336,\n",
            "    Relative Error: 91.63%\n",
            "    \n"
          ]
        }
      ],
      "source": [
        "for estimator, estimate in estimates.items():\n",
        "    print(f\"\"\"\n",
        "    Estimator: {estimator},\n",
        "    Estimate: {estimate.value:.4},\n",
        "    Relative Error: {(abs((estimate.value-ace)/ace*100)):.4}%\n",
        "    \"\"\".lstrip(\"\\n\"))"
      ]
    },
    {
      "cell_type": "markdown",
      "metadata": {
        "id": "cVWOQMHe9Xic"
      },
      "source": [
        "## Evaluate the Results"
      ]
    },
    {
      "cell_type": "markdown",
      "metadata": {
        "id": "8hLZwQtE9Xic"
      },
      "source": [
        "With the estimates obtained we can setup a round of hypothesis testing. Note that, since we usually don't know the true ACE, refutation is more about the estimation procedure and not the estimate itself.\n",
        "\n",
        "If the test's p-value is $p<0.05$, we refute the estimation; otherwise, we *don't refute* it, that is we cannot conclude anything about the correctness of the procedure. For more information, see the [DoWhy refuters page](https://www.pywhy.org/dowhy/v0.8/user_guide/effect_inference/refute.html)."
      ]
    },
    {
      "cell_type": "code",
      "execution_count": null,
      "metadata": {
        "id": "nEgSePlC9Xic"
      },
      "outputs": [],
      "source": [
        "refuters = [\n",
        "    \"bootstrap_refuter\",\n",
        "    \"data_subset_refuter\",\n",
        "    \"dummy_outcome_refuter\",\n",
        "    \"placebo_treatment_refuter\",\n",
        "    \"random_common_cause\",\n",
        "]"
      ]
    },
    {
      "cell_type": "markdown",
      "metadata": {
        "id": "g0PlHTo-9Xid"
      },
      "source": [
        "We will take the backdoor with linear regression as estimate of reference."
      ]
    },
    {
      "cell_type": "code",
      "execution_count": null,
      "metadata": {
        "id": "K_lIXCcj9Xid"
      },
      "outputs": [],
      "source": [
        "refuteds = {\n",
        "    refuter: model.refute_estimate(\n",
        "      estimand,\n",
        "      estimates[\"backdoor.linear_regression\"],\n",
        "      method_name=refuter\n",
        "    )\n",
        "    for refuter in refuters\n",
        "}"
      ]
    },
    {
      "cell_type": "markdown",
      "metadata": {
        "id": "k27K7-pl9Xid"
      },
      "source": [
        "Some refuters may return a list of tests."
      ]
    },
    {
      "cell_type": "code",
      "execution_count": null,
      "metadata": {
        "id": "2ZOVk1Z59Xid",
        "outputId": "55415bc5-d4b4-425e-9bd2-e8a78128aade",
        "colab": {
          "base_uri": "https://localhost:8080/"
        }
      },
      "outputs": [
        {
          "output_type": "stream",
          "name": "stdout",
          "text": [
            "Refute: Bootstrap Sample Dataset\n",
            "Estimated effect:0.13535578974430706\n",
            "New effect:0.13990726918337112\n",
            "p value:0.6599999999999999\n",
            "\n",
            "Refute: Use a subset of data\n",
            "Estimated effect:0.13535578974430706\n",
            "New effect:0.13567482620114313\n",
            "p value:0.98\n",
            "\n",
            "Refute: Use a Dummy Outcome\n",
            "Estimated effect:0\n",
            "New effect:0.0017584941005710025\n",
            "p value:0.8999999999999999\n",
            "\n",
            "Refute: Use a Placebo Treatment\n",
            "Estimated effect:0.13535578974430706\n",
            "New effect:0.0006462815620775303\n",
            "p value:0.9199999999999999\n",
            "\n",
            "Refute: Add a random common cause\n",
            "Estimated effect:0.13535578974430706\n",
            "New effect:0.1353529542992688\n",
            "p value:1.0\n",
            "\n"
          ]
        }
      ],
      "source": [
        "for refuter in refuteds.values():\n",
        "    print(refuter if type(refuter) != list else refuter[0])"
      ]
    },
    {
      "cell_type": "markdown",
      "source": [
        "We may also want to test if our estimate is significantly different from 0."
      ],
      "metadata": {
        "id": "d3WlUNRHxDlM"
      }
    },
    {
      "cell_type": "code",
      "source": [
        "print(model.estimate_effect(estimand, method_name = \"backdoor.linear_regression\", test_significance = True))"
      ],
      "metadata": {
        "colab": {
          "base_uri": "https://localhost:8080/"
        },
        "id": "z2VVIE8rxD3L",
        "outputId": "247a17d3-71c1-4446-93e8-38e132db55a9"
      },
      "execution_count": null,
      "outputs": [
        {
          "output_type": "stream",
          "name": "stdout",
          "text": [
            "*** Causal Estimate ***\n",
            "\n",
            "## Identified estimand\n",
            "Estimand type: EstimandType.NONPARAMETRIC_ATE\n",
            "\n",
            "### Estimand : 1\n",
            "Estimand name: backdoor\n",
            "Estimand expression:\n",
            "  d              \n",
            "─────(E[y|W0,W1])\n",
            "d[v₀]            \n",
            "Estimand assumption 1, Unconfoundedness: If U→{v0} and U→y then P(y|v0,W0,W1,U) = P(y|v0,W0,W1)\n",
            "\n",
            "## Realized estimand\n",
            "b: y~v0+W0+W1\n",
            "Target units: ate\n",
            "\n",
            "## Estimate\n",
            "Mean value: 0.13535578974430706\n",
            "p-value: [1.08720934e-38]\n",
            "\n"
          ]
        }
      ]
    },
    {
      "cell_type": "markdown",
      "metadata": {
        "id": "4opbkE8l9Xid"
      },
      "source": [
        "Try to experiment with different graph configurations by altering the numbers of variables in the generation step.\n",
        "\n",
        "Have fun!"
      ]
    }
  ],
  "metadata": {
    "kernelspec": {
      "display_name": "Python 3",
      "language": "python",
      "name": "python3"
    },
    "language_info": {
      "codemirror_mode": {
        "name": "ipython",
        "version": 3
      },
      "file_extension": ".py",
      "mimetype": "text/x-python",
      "name": "python",
      "nbconvert_exporter": "python",
      "pygments_lexer": "ipython3",
      "version": "3.8.10"
    },
    "colab": {
      "provenance": []
    }
  },
  "nbformat": 4,
  "nbformat_minor": 0
}