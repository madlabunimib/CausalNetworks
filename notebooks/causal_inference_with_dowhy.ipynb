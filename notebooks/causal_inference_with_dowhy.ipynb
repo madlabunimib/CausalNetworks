{
  "cells": [
    {
      "cell_type": "code",
      "execution_count": 1,
      "metadata": {
        "id": "MuJ4gS_d9XiS"
      },
      "outputs": [],
      "source": [
        "%%capture\n",
        "!pip install dowhy==0.6"
      ]
    },
    {
      "cell_type": "code",
      "execution_count": 2,
      "metadata": {
        "id": "JFfUL7209XiU"
      },
      "outputs": [],
      "source": [
        "import warnings\n",
        "warnings.filterwarnings(\"ignore\")"
      ]
    },
    {
      "cell_type": "code",
      "execution_count": 3,
      "metadata": {
        "id": "boc1RfO79XiV"
      },
      "outputs": [],
      "source": [
        "import dowhy\n",
        "import dowhy.api\n",
        "import dowhy.datasets\n",
        "import dowhy.plotter"
      ]
    },
    {
      "cell_type": "markdown",
      "metadata": {
        "id": "sdoJDX-z9XiV"
      },
      "source": [
        "# Causal Inference with DoWhy"
      ]
    },
    {
      "cell_type": "markdown",
      "metadata": {
        "id": "HatMC0Fr9XiW"
      },
      "source": [
        "By Alessio Zanga and Fabio Stella"
      ]
    },
    {
      "cell_type": "markdown",
      "metadata": {
        "id": "6DbUe3ts9XiW"
      },
      "source": [
        "## Abstract"
      ]
    },
    {
      "cell_type": "markdown",
      "metadata": {
        "id": "ZOEmPP8c9XiW"
      },
      "source": [
        "This notebook represents a quick-start guide to causal inference using the [DoWhy](https://github.com/microsoft/dowhy) package."
      ]
    },
    {
      "cell_type": "markdown",
      "metadata": {
        "id": "zYpeFrgz9XiX"
      },
      "source": [
        "## Generate a Dataset"
      ]
    },
    {
      "cell_type": "markdown",
      "metadata": {
        "id": "um8sJlav9XiX"
      },
      "source": [
        "DoWhy allows the generation of a dataset by specifying a set of parameters."
      ]
    },
    {
      "cell_type": "code",
      "execution_count": 4,
      "metadata": {
        "id": "PQmsX9WU9XiX",
        "outputId": "0e20d626-cc47-4a97-fb73-a247454c5ea1",
        "colab": {
          "base_uri": "https://localhost:8080/"
        }
      },
      "outputs": [
        {
          "output_type": "execute_result",
          "data": {
            "text/plain": [
              "['df',\n",
              " 'treatment_name',\n",
              " 'outcome_name',\n",
              " 'common_causes_names',\n",
              " 'instrument_names',\n",
              " 'effect_modifier_names',\n",
              " 'frontdoor_variables_names',\n",
              " 'dot_graph',\n",
              " 'gml_graph',\n",
              " 'ate']"
            ]
          },
          "metadata": {},
          "execution_count": 4
        }
      ],
      "source": [
        "dataset = dowhy.datasets.linear_dataset(\n",
        "    beta = 1,\n",
        "    num_samples = int(1e4),\n",
        "    num_common_causes = 1,\n",
        "    num_frontdoor_variables = 1,\n",
        "    treatment_is_binary = True,\n",
        "    outcome_is_binary = True\n",
        ")\n",
        "\n",
        "list(dataset.keys())"
      ]
    },
    {
      "cell_type": "markdown",
      "metadata": {
        "id": "IfXDc0g19XiY"
      },
      "source": [
        "It will return a dictionary with a Pandas DataFrame, along with a set of variables names and the true causal graph used for the sampling process."
      ]
    },
    {
      "cell_type": "code",
      "execution_count": 5,
      "metadata": {
        "id": "6kHLzchf9XiY"
      },
      "outputs": [],
      "source": [
        "data, [treatment], outcome, _, _, _, _, _, causal_graph, ace = dataset.values()"
      ]
    },
    {
      "cell_type": "markdown",
      "metadata": {
        "id": "DufQAWQ69XiZ"
      },
      "source": [
        "After unpacking the values of the dictionary, it is possible to observe the assigned names to the data columns:"
      ]
    },
    {
      "cell_type": "code",
      "execution_count": 6,
      "metadata": {
        "id": "0m2QQj7V9XiZ",
        "outputId": "0c827f19-fd27-4bd6-d46f-9980ac36de78",
        "colab": {
          "base_uri": "https://localhost:8080/"
        }
      },
      "outputs": [
        {
          "output_type": "execute_result",
          "data": {
            "text/plain": [
              "('v0', 'y')"
            ]
          },
          "metadata": {},
          "execution_count": 6
        }
      ],
      "source": [
        "treatment, outcome"
      ]
    },
    {
      "cell_type": "markdown",
      "metadata": {
        "id": "0BAbmdNE9XiZ"
      },
      "source": [
        "It also return the true average causal effect:"
      ]
    },
    {
      "cell_type": "code",
      "execution_count": 7,
      "metadata": {
        "id": "A7S3mLpK9XiZ",
        "outputId": "7ec2d661-3d5f-4252-d8db-a5e703e913b7",
        "colab": {
          "base_uri": "https://localhost:8080/",
          "height": 37
        }
      },
      "outputs": [
        {
          "output_type": "execute_result",
          "data": {
            "text/plain": [
              "0.0535"
            ],
            "image/png": "[encoded data removed]",
            "text/latex": "$\\displaystyle 0.0535$"
          },
          "metadata": {},
          "execution_count": 7
        }
      ],
      "source": [
        "ace"
      ]
    },
    {
      "cell_type": "code",
      "execution_count": 8,
      "metadata": {
        "id": "Boe53kTM9Xia",
        "outputId": "d9140bef-f3e8-4329-d99f-5518a631a318",
        "colab": {
          "base_uri": "https://localhost:8080/",
          "height": 424
        }
      },
      "outputs": [
        {
          "output_type": "execute_result",
          "data": {
            "text/plain": [
              "           FD0        W0     v0      y\n",
              "0    -1.229433  1.490153  False  False\n",
              "1     0.376174  2.414687   True  False\n",
              "2     0.578884  0.553060   True   True\n",
              "3    -0.690915  0.474165   True   True\n",
              "4     0.408051 -0.049500  False   True\n",
              "...        ...       ...    ...    ...\n",
              "9995  1.836035  2.554652  False   True\n",
              "9996  1.790884  1.015481  False   True\n",
              "9997 -1.242127  0.292431   True  False\n",
              "9998  0.977336  0.670689   True   True\n",
              "9999  0.135154  1.363311   True   True\n",
              "\n",
              "[10000 rows x 4 columns]"
            ],
            "text/html": [
              "\n",
              "  <div id=\"df-74f17e90-127a-4856-9dd9-b74ee9f84be4\">\n",
              "    <div class=\"colab-df-container\">\n",
              "      <div>\n",
              "<style scoped>\n",
              "    .dataframe tbody tr th:only-of-type {\n",
              "        vertical-align: middle;\n",
              "    }\n",
              "\n",
              "    .dataframe tbody tr th {\n",
              "        vertical-align: top;\n",
              "    }\n",
              "\n",
              "    .dataframe thead th {\n",
              "        text-align: right;\n",
              "    }\n",
              "</style>\n",
              "<table border=\"1\" class=\"dataframe\">\n",
              "  <thead>\n",
              "    <tr style=\"text-align: right;\">\n",
              "      <th></th>\n",
              "      <th>FD0</th>\n",
              "      <th>W0</th>\n",
              "      <th>v0</th>\n",
              "      <th>y</th>\n",
              "    </tr>\n",
              "  </thead>\n",
              "  <tbody>\n",
              "    <tr>\n",
              "      <th>0</th>\n",
              "      <td>-1.229433</td>\n",
              "      <td>1.490153</td>\n",
              "      <td>False</td>\n",
              "      <td>False</td>\n",
              "    </tr>\n",
              "    <tr>\n",
              "      <th>1</th>\n",
              "      <td>0.376174</td>\n",
              "      <td>2.414687</td>\n",
              "      <td>True</td>\n",
              "      <td>False</td>\n",
              "    </tr>\n",
              "    <tr>\n",
              "      <th>2</th>\n",
              "      <td>0.578884</td>\n",
              "      <td>0.553060</td>\n",
              "      <td>True</td>\n",
              "      <td>True</td>\n",
              "    </tr>\n",
              "    <tr>\n",
              "      <th>3</th>\n",
              "      <td>-0.690915</td>\n",
              "      <td>0.474165</td>\n",
              "      <td>True</td>\n",
              "      <td>True</td>\n",
              "    </tr>\n",
              "    <tr>\n",
              "      <th>4</th>\n",
              "      <td>0.408051</td>\n",
              "      <td>-0.049500</td>\n",
              "      <td>False</td>\n",
              "      <td>True</td>\n",
              "    </tr>\n",
              "    <tr>\n",
              "      <th>...</th>\n",
              "      <td>...</td>\n",
              "      <td>...</td>\n",
              "      <td>...</td>\n",
              "      <td>...</td>\n",
              "    </tr>\n",
              "    <tr>\n",
              "      <th>9995</th>\n",
              "      <td>1.836035</td>\n",
              "      <td>2.554652</td>\n",
              "      <td>False</td>\n",
              "      <td>True</td>\n",
              "    </tr>\n",
              "    <tr>\n",
              "      <th>9996</th>\n",
              "      <td>1.790884</td>\n",
              "      <td>1.015481</td>\n",
              "      <td>False</td>\n",
              "      <td>True</td>\n",
              "    </tr>\n",
              "    <tr>\n",
              "      <th>9997</th>\n",
              "      <td>-1.242127</td>\n",
              "      <td>0.292431</td>\n",
              "      <td>True</td>\n",
              "      <td>False</td>\n",
              "    </tr>\n",
              "    <tr>\n",
              "      <th>9998</th>\n",
              "      <td>0.977336</td>\n",
              "      <td>0.670689</td>\n",
              "      <td>True</td>\n",
              "      <td>True</td>\n",
              "    </tr>\n",
              "    <tr>\n",
              "      <th>9999</th>\n",
              "      <td>0.135154</td>\n",
              "      <td>1.363311</td>\n",
              "      <td>True</td>\n",
              "      <td>True</td>\n",
              "    </tr>\n",
              "  </tbody>\n",
              "</table>\n",
              "<p>10000 rows × 4 columns</p>\n",
              "</div>\n",
              "      <button class=\"colab-df-convert\" onclick=\"convertToInteractive('df-74f17e90-127a-4856-9dd9-b74ee9f84be4')\"\n",
              "              title=\"Convert this dataframe to an interactive table.\"\n",
              "              style=\"display:none;\">\n",
              "        \n",
              "  <svg xmlns=\"http://www.w3.org/2000/svg\" height=\"24px\"viewBox=\"0 0 24 24\"\n",
              "       width=\"24px\">\n",
              "    <path d=\"M0 0h24v24H0V0z\" fill=\"none\"/>\n",
              "    <path d=\"M18.56 5.44l.94 2.06.94-2.06 2.06-.94-2.06-.94-.94-2.06-.94 2.06-2.06.94zm-11 1L8.5 8.5l.94-2.06 2.06-.94-2.06-.94L8.5 2.5l-.94 2.06-2.06.94zm10 10l.94 2.06.94-2.06 2.06-.94-2.06-.94-.94-2.06-.94 2.06-2.06.94z\"/><path d=\"M17.41 7.96l-1.37-1.37c-.4-.4-.92-.59-1.43-.59-.52 0-1.04.2-1.43.59L10.3 9.45l-7.72 7.72c-.78.78-.78 2.05 0 2.83L4 21.41c.39.39.9.59 1.41.59.51 0 1.02-.2 1.41-.59l7.78-7.78 2.81-2.81c.8-.78.8-2.07 0-2.86zM5.41 20L4 18.59l7.72-7.72 1.47 1.35L5.41 20z\"/>\n",
              "  </svg>\n",
              "      </button>\n",
              "      \n",
              "  <style>\n",
              "    .colab-df-container {\n",
              "      display:flex;\n",
              "      flex-wrap:wrap;\n",
              "      gap: 12px;\n",
              "    }\n",
              "\n",
              "    .colab-df-convert {\n",
              "      background-color: #E8F0FE;\n",
              "      border: none;\n",
              "      border-radius: 50%;\n",
              "      cursor: pointer;\n",
              "      display: none;\n",
              "      fill: #1967D2;\n",
              "      height: 32px;\n",
              "      padding: 0 0 0 0;\n",
              "      width: 32px;\n",
              "    }\n",
              "\n",
              "    .colab-df-convert:hover {\n",
              "      background-color: #E2EBFA;\n",
              "      box-shadow: 0px 1px 2px rgba(60, 64, 67, 0.3), 0px 1px 3px 1px rgba(60, 64, 67, 0.15);\n",
              "      fill: #174EA6;\n",
              "    }\n",
              "\n",
              "    [theme=dark] .colab-df-convert {\n",
              "      background-color: #3B4455;\n",
              "      fill: #D2E3FC;\n",
              "    }\n",
              "\n",
              "    [theme=dark] .colab-df-convert:hover {\n",
              "      background-color: #434B5C;\n",
              "      box-shadow: 0px 1px 3px 1px rgba(0, 0, 0, 0.15);\n",
              "      filter: drop-shadow(0px 1px 2px rgba(0, 0, 0, 0.3));\n",
              "      fill: #FFFFFF;\n",
              "    }\n",
              "  </style>\n",
              "\n",
              "      <script>\n",
              "        const buttonEl =\n",
              "          document.querySelector('#df-74f17e90-127a-4856-9dd9-b74ee9f84be4 button.colab-df-convert');\n",
              "        buttonEl.style.display =\n",
              "          google.colab.kernel.accessAllowed ? 'block' : 'none';\n",
              "\n",
              "        async function convertToInteractive(key) {\n",
              "          const element = document.querySelector('#df-74f17e90-127a-4856-9dd9-b74ee9f84be4');\n",
              "          const dataTable =\n",
              "            await google.colab.kernel.invokeFunction('convertToInteractive',\n",
              "                                                     [key], {});\n",
              "          if (!dataTable) return;\n",
              "\n",
              "          const docLinkHtml = 'Like what you see? Visit the ' +\n",
              "            '<a target=\"_blank\" href=https://colab.research.google.com/notebooks/data_table.ipynb>data table notebook</a>'\n",
              "            + ' to learn more about interactive tables.';\n",
              "          element.innerHTML = '';\n",
              "          dataTable['output_type'] = 'display_data';\n",
              "          await google.colab.output.renderOutput(dataTable, element);\n",
              "          const docLink = document.createElement('div');\n",
              "          docLink.innerHTML = docLinkHtml;\n",
              "          element.appendChild(docLink);\n",
              "        }\n",
              "      </script>\n",
              "    </div>\n",
              "  </div>\n",
              "  "
            ]
          },
          "metadata": {},
          "execution_count": 8
        }
      ],
      "source": [
        "data"
      ]
    },
    {
      "cell_type": "markdown",
      "metadata": {
        "id": "ssvrA64_9Xia"
      },
      "source": [
        "## Construct a Model"
      ]
    },
    {
      "cell_type": "markdown",
      "metadata": {
        "id": "s3kgaDc_9Xia"
      },
      "source": [
        "The second step consists in constructing a causal model using the true graph."
      ]
    },
    {
      "cell_type": "code",
      "execution_count": 9,
      "metadata": {
        "id": "qYjxInhI9Xia"
      },
      "outputs": [],
      "source": [
        "model = dowhy.CausalModel(\n",
        "    data = data,\n",
        "    treatment = treatment,\n",
        "    outcome = outcome,\n",
        "    graph = causal_graph\n",
        ")"
      ]
    },
    {
      "cell_type": "markdown",
      "metadata": {
        "id": "Bedd69yy9Xia"
      },
      "source": [
        "It is not a proper SCM as we seen in previous sessions. It is more like a container for the data and the graph."
      ]
    },
    {
      "cell_type": "code",
      "execution_count": 10,
      "metadata": {
        "id": "JAJscaJM9Xib",
        "outputId": "36e8cfed-5b71-497d-b596-b3c89f74e33c",
        "colab": {
          "base_uri": "https://localhost:8080/",
          "height": 265
        }
      },
      "outputs": [
        {
          "output_type": "stream",
          "name": "stderr",
          "text": [
            "WARNING:dowhy.causal_graph:Warning: Pygraphviz cannot be loaded. Check that graphviz and pygraphviz are installed.\n"
          ]
        },
        {
          "output_type": "display_data",
          "data": {
            "text/plain": [
              "<Figure size 432x288 with 1 Axes>"
            ],
            "image/png": "[encoded data removed]"
          },
          "metadata": {}
        }
      ],
      "source": [
        "model.view_model(layout=\"dot\")\n",
        "# from IPython.display import Image, display    # Run these lines if you are on local.\n",
        "# display(Image(filename=\"causal_model.png\"))"
      ]
    },
    {
      "cell_type": "markdown",
      "metadata": {
        "id": "eQ--0pS29Xib"
      },
      "source": [
        "This will enable the identification step by using a couple of handful methods."
      ]
    },
    {
      "cell_type": "markdown",
      "metadata": {
        "id": "oKq-rp4X9Xib"
      },
      "source": [
        "## Identify the Estimand"
      ]
    },
    {
      "cell_type": "markdown",
      "metadata": {
        "id": "wjM6jAz09Xib"
      },
      "source": [
        "The estimand identification tests for both backdoor and frontdoor criterion."
      ]
    },
    {
      "cell_type": "code",
      "execution_count": 11,
      "metadata": {
        "id": "i9ANDpH79Xib",
        "outputId": "94d9a1db-a125-4a5d-a6cf-33d92db30fd9",
        "colab": {
          "base_uri": "https://localhost:8080/"
        }
      },
      "outputs": [
        {
          "output_type": "stream",
          "name": "stderr",
          "text": [
            "WARNING:dowhy.causal_identifier:If this is observed data (not from a randomized experiment), there might always be missing confounders. Causal effect cannot be identified perfectly.\n"
          ]
        },
        {
          "output_type": "stream",
          "name": "stdout",
          "text": [
            "Estimand type: nonparametric-ate\n",
            "\n",
            "### Estimand : 1\n",
            "Estimand name: backdoor\n",
            "Estimand expression:\n",
            "  d                     \n",
            "─────(Expectation(y|W0))\n",
            "d[v₀]                   \n",
            "Estimand assumption 1, Unconfoundedness: If U→{v0} and U→y then P(y|v0,W0,U) = P(y|v0,W0)\n",
            "\n",
            "### Estimand : 2\n",
            "Estimand name: iv\n",
            "No such variable found!\n",
            "\n",
            "### Estimand : 3\n",
            "Estimand name: frontdoor\n",
            "Estimand expression:\n",
            "Expectation(Derivative(y, [FD0])*Derivative([FD0], [v0]))\n",
            "Estimand assumption 1, Full-mediation: FD0 intercepts (blocks) all directed paths from v0 to y.\n",
            "Estimand assumption 2, First-stage-unconfoundedness: If U→{v0} and U→{FD0} then P(FD0|v0,U) = P(FD0|v0)\n",
            "Estimand assumption 3, Second-stage-unconfoundedness: If U→{FD0} and U→y then P(y|FD0, v0, U) = P(y|FD0, v0)\n",
            "\n"
          ]
        }
      ],
      "source": [
        "estimand = model.identify_effect(proceed_when_unidentifiable=True)\n",
        "\n",
        "print(estimand)"
      ]
    },
    {
      "cell_type": "markdown",
      "metadata": {
        "id": "vE3VRhEI9Xib"
      },
      "source": [
        "## Estimate the Average Causal Effect"
      ]
    },
    {
      "cell_type": "markdown",
      "metadata": {
        "id": "fmG40zAR9Xib"
      },
      "source": [
        "Once the estimand has been identified, we can proceed to the last estimation step."
      ]
    },
    {
      "cell_type": "code",
      "execution_count": 12,
      "metadata": {
        "id": "ArUcSri39Xib"
      },
      "outputs": [],
      "source": [
        "estimators = [\n",
        "    \"backdoor.linear_regression\",\n",
        "    \"backdoor.propensity_score_stratification\",\n",
        "    \"backdoor.propensity_score_weighting\",\n",
        "    \"backdoor.propensity_score_matching\",\n",
        "]"
      ]
    },
    {
      "cell_type": "markdown",
      "metadata": {
        "id": "87F-qXvL9Xic"
      },
      "source": [
        "We will iterate over the provided methods and compare the results."
      ]
    },
    {
      "cell_type": "code",
      "execution_count": 13,
      "metadata": {
        "id": "jYdJeDFf9Xic"
      },
      "outputs": [],
      "source": [
        "estimates = {\n",
        "    estimator: model.estimate_effect(estimand, method_name=estimator)\n",
        "    for estimator in estimators\n",
        "}"
      ]
    },
    {
      "cell_type": "code",
      "execution_count": 14,
      "metadata": {
        "id": "Wi5SzwYg9Xic",
        "outputId": "37c5133c-d07c-470a-cf81-be1aa2c7314b",
        "colab": {
          "base_uri": "https://localhost:8080/"
        }
      },
      "outputs": [
        {
          "output_type": "stream",
          "name": "stdout",
          "text": [
            "*** Causal Estimate ***\n",
            "\n",
            "## Identified estimand\n",
            "Estimand type: nonparametric-ate\n",
            "\n",
            "### Estimand : 1\n",
            "Estimand name: backdoor\n",
            "Estimand expression:\n",
            "  d                     \n",
            "─────(Expectation(y|W0))\n",
            "d[v₀]                   \n",
            "Estimand assumption 1, Unconfoundedness: If U→{v0} and U→y then P(y|v0,W0,U) = P(y|v0,W0)\n",
            "\n",
            "## Realized estimand\n",
            "b: y~v0+W0\n",
            "Target units: ate\n",
            "\n",
            "## Estimate\n",
            "Mean value: 0.03435719140200377\n",
            "\n"
          ]
        }
      ],
      "source": [
        "for estimate in estimates.values():\n",
        "    print(estimate)\n",
        "    break"
      ]
    },
    {
      "cell_type": "code",
      "execution_count": 15,
      "metadata": {
        "id": "o9tTdE0w9Xic",
        "outputId": "919bd21e-4b2a-49fe-ad8c-dac5f32bda32",
        "colab": {
          "base_uri": "https://localhost:8080/"
        }
      },
      "outputs": [
        {
          "output_type": "stream",
          "name": "stdout",
          "text": [
            "    Estimator: backdoor.linear_regression,\n",
            "    Estimate: 0.03436,\n",
            "    Relative Error: 35.78%\n",
            "    \n",
            "    Estimator: backdoor.propensity_score_stratification,\n",
            "    Estimate: 0.03479,\n",
            "    Relative Error: 34.97%\n",
            "    \n",
            "    Estimator: backdoor.propensity_score_weighting,\n",
            "    Estimate: 0.03436,\n",
            "    Relative Error: 35.78%\n",
            "    \n",
            "    Estimator: backdoor.propensity_score_matching,\n",
            "    Estimate: 0.0446,\n",
            "    Relative Error: 16.64%\n",
            "    \n"
          ]
        }
      ],
      "source": [
        "for estimator, estimate in estimates.items():\n",
        "    print(f\"\"\"\n",
        "    Estimator: {estimator},\n",
        "    Estimate: {estimate.value:.4},\n",
        "    Relative Error: {(abs((estimate.value-ace)/ace*100)):.4}%\n",
        "    \"\"\".lstrip(\"\\n\"))"
      ]
    },
    {
      "cell_type": "markdown",
      "metadata": {
        "id": "cVWOQMHe9Xic"
      },
      "source": [
        "## Evaluate the Results"
      ]
    },
    {
      "cell_type": "markdown",
      "metadata": {
        "id": "8hLZwQtE9Xic"
      },
      "source": [
        "With the estimates obtained we can setup a round of hypothesis testing."
      ]
    },
    {
      "cell_type": "code",
      "execution_count": 16,
      "metadata": {
        "id": "nEgSePlC9Xic"
      },
      "outputs": [],
      "source": [
        "refuters = [\n",
        "    \"bootstrap_refuter\",\n",
        "    \"data_subset_refuter\",\n",
        "    \"dummy_outcome_refuter\",\n",
        "    \"placebo_treatment_refuter\",\n",
        "    \"random_common_cause\",\n",
        "]"
      ]
    },
    {
      "cell_type": "markdown",
      "metadata": {
        "id": "g0PlHTo-9Xid"
      },
      "source": [
        "We will take the backdoor with linear regression as estimate of reference."
      ]
    },
    {
      "cell_type": "code",
      "execution_count": 17,
      "metadata": {
        "id": "K_lIXCcj9Xid"
      },
      "outputs": [],
      "source": [
        "refuteds = {\n",
        "    refuter: model.refute_estimate(\n",
        "      estimand,\n",
        "      estimates[\"backdoor.linear_regression\"],\n",
        "      method_name=refuter\n",
        "    )\n",
        "    for refuter in refuters\n",
        "}"
      ]
    },
    {
      "cell_type": "markdown",
      "metadata": {
        "id": "k27K7-pl9Xid"
      },
      "source": [
        "Some \"refuters\", as they are called in DoWhy, may return a list of tests."
      ]
    },
    {
      "cell_type": "code",
      "execution_count": 18,
      "metadata": {
        "id": "2ZOVk1Z59Xid",
        "outputId": "e0002b1a-a00b-4eab-9d79-28d962200c15",
        "colab": {
          "base_uri": "https://localhost:8080/"
        }
      },
      "outputs": [
        {
          "output_type": "stream",
          "name": "stdout",
          "text": [
            "Refute: Bootstrap Sample Dataset\n",
            "Estimated effect:0.03435719140200377\n",
            "New effect:0.03433061361432344\n",
            "p value:0.43999999999999995\n",
            "\n",
            "Refute: Use a subset of data\n",
            "Estimated effect:0.03435719140200377\n",
            "New effect:0.03516756158619447\n",
            "p value:0.47\n",
            "\n",
            "Refute: Use a Dummy Outcome\n",
            "Estimated effect:0\n",
            "New effect:0.005771850986676498\n",
            "p value:0.38\n",
            "\n",
            "Refute: Use a Placebo Treatment\n",
            "Estimated effect:0.03435719140200377\n",
            "New effect:0.0006015473612568245\n",
            "p value:0.49\n",
            "\n",
            "Refute: Add a Random Common Cause\n",
            "Estimated effect:0.03435719140200377\n",
            "New effect:0.034442581051901566\n",
            "\n"
          ]
        }
      ],
      "source": [
        "for refuter in refuteds.values():\n",
        "    print(refuter if type(refuter) != list else refuter[0])"
      ]
    },
    {
      "cell_type": "markdown",
      "metadata": {
        "id": "4opbkE8l9Xid"
      },
      "source": [
        "Your results may vary. Try to experiment with different graph configurations by altering the numbers of variables in the generation step.\n",
        "\n",
        "Have fun!"
      ]
    }
  ],
  "metadata": {
    "kernelspec": {
      "display_name": "Python 3",
      "language": "python",
      "name": "python3"
    },
    "language_info": {
      "codemirror_mode": {
        "name": "ipython",
        "version": 3
      },
      "file_extension": ".py",
      "mimetype": "text/x-python",
      "name": "python",
      "nbconvert_exporter": "python",
      "pygments_lexer": "ipython3",
      "version": "3.8.10"
    },
    "colab": {
      "provenance": []
    }
  },
  "nbformat": 4,
  "nbformat_minor": 0
}