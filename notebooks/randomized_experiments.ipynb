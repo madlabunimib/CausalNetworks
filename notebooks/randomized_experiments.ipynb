{
  "nbformat": 4,
  "nbformat_minor": 0,
  "metadata": {
    "colab": {
      "provenance": []
    },
    "kernelspec": {
      "name": "python3",
      "display_name": "Python 3"
    },
    "language_info": {
      "name": "python"
    }
  },
  "cells": [
    {
      "cell_type": "code",
      "execution_count": 1,
      "metadata": {
        "id": "8es0gf-bYz2s"
      },
      "outputs": [],
      "source": [
        "%%capture\n",
        "!apt install python3-dev graphviz libgraphviz-dev pkg-config\n",
        "!pip install networkx numpy pandas statsmodels pygraphviz dowhy==0.10"
      ]
    },
    {
      "cell_type": "code",
      "execution_count": 2,
      "metadata": {
        "id": "tin0gYzHYz2u"
      },
      "outputs": [],
      "source": [
        "import networkx as nx\n",
        "from networkx.drawing.nx_agraph import graphviz_layout\n",
        "import matplotlib.pyplot as plt\n",
        "\n",
        "import numpy as np\n",
        "import pandas as pd\n",
        "\n",
        "import statsmodels.api as sm\n",
        "import dowhy\n",
        "from typing import Set\n",
        "\n",
        "import warnings\n",
        "warnings.filterwarnings(\"ignore\")"
      ]
    },
    {
      "cell_type": "markdown",
      "source": [
        "# Randomized Experiments"
      ],
      "metadata": {
        "id": "r4PNGmCVqyfx"
      }
    },
    {
      "cell_type": "markdown",
      "source": [
        "By Niccolò Rocchi and Fabio Stella"
      ],
      "metadata": {
        "id": "Hoi_7q5Lq3Aa"
      }
    },
    {
      "cell_type": "markdown",
      "source": [
        "## Abstract"
      ],
      "metadata": {
        "id": "wSjnZ5NPq70O"
      }
    },
    {
      "cell_type": "markdown",
      "source": [
        "Randomized Controlled Trials (RCTs) are usually compared to observational studies in the way they may enable to discover causal effect properly. A \"*perfect*\" (i.e. unbiased) RCT ensures the statistical difference between outcomes in case and control groups to be the real causal effect, that is: association **is** causation.\n",
        "\n",
        "In this notebook it is firstly presented a scenario in which all patients undergo a \"*perfect*\" randomized treatment, thus showing there's no need to adjust the causal estimand for any variable. In fact, in the randomized SCM the causal and statistical estimands coincide.\n",
        "\n",
        "Afterwards, the RCT scope is enlarged. In particular, some references will be given about different types of RCTs experiment and some possible biases that may occur in real-world experiments. The latter shows why RCTs are not always unbiased.\n",
        "\n",
        "Finally, it will be shown a common bias through a famous paradox, showing that not even randomization may help if data are collected badly."
      ],
      "metadata": {
        "id": "8_q8_IlDq-Ic"
      }
    },
    {
      "cell_type": "markdown",
      "source": [
        "## An ideal situation"
      ],
      "metadata": {
        "id": "mUkETTXgrA1P"
      }
    },
    {
      "cell_type": "markdown",
      "source": [
        "We review the [example](https://colab.research.google.com/github/madlabunimib/F1801Q161-CausalNetworks/blob/main/notebooks/potential_outcomes.ipynb) of **sodium intake** and  **systolic blood pressure**. The data generation mechanism, that is the underlying SCM, is as follows:"
      ],
      "metadata": {
        "id": "bpPwlCpHrC_h"
      }
    },
    {
      "cell_type": "code",
      "source": [
        "def sample_data(size: int = int(1e6), seed: int = 31):\n",
        "    # Set random generator seed for results reproducibility\n",
        "    np.random.seed(seed)\n",
        "    # Sample age with mean 65 and std 5\n",
        "    age = np.random.normal(65, 5, size)\n",
        "    # Sample sodium with additive noise\n",
        "    sod = 0.056 * age + np.random.normal(0, 1, size)\n",
        "    # Binarize sodium following cutoff\n",
        "    sod = (sod > 3.5).astype(int)\n",
        "    # Sample systolic blood pressure\n",
        "    sbp = 1.05 * sod + 2 * age + np.random.normal(0, 1, size)\n",
        "    # Sample urinary protein\n",
        "    pro = 0.4 * sod + 0.3 * sbp + np.random.normal(0, 1, size)\n",
        "    # Create a dataframe from sampled variables\n",
        "    return pd.DataFrame({\"AGE\": age, \"SOD\": sod, \"SBP\": sbp, \"PRO\": pro})"
      ],
      "metadata": {
        "id": "17Xw7jDIJMRt"
      },
      "execution_count": 3,
      "outputs": []
    },
    {
      "cell_type": "markdown",
      "source": [
        "Against any possible cost and ethic, image now we are able to assign or not a patient a certain quantity of daily sodium. If the assignment was performed like a coin toss, the new SCM would have this form:"
      ],
      "metadata": {
        "id": "l_ucGAm2ZTOM"
      }
    },
    {
      "cell_type": "code",
      "source": [
        "def sample_data_RCT(size: int = int(1e6), seed: int = 31):\n",
        "    # Set random generator seed for results reproducibility\n",
        "    np.random.seed(seed)\n",
        "    age = np.random.normal(65, 5, size)\n",
        "    # Sample sodium in a randomized manner\n",
        "    sod = np.random.binomial(1, 0.5, size)\n",
        "    sbp = 1.05 * sod + 2 * age + np.random.normal(0, 1, size)\n",
        "    pro = 0.4 * sod + 0.3 * sbp + np.random.normal(0, 1, size)\n",
        "    return pd.DataFrame({\"AGE\": age, \"SOD\": sod, \"SBP\": sbp, \"PRO\": pro})"
      ],
      "metadata": {
        "id": "iB5RP9wwJWXl"
      },
      "execution_count": 4,
      "outputs": []
    },
    {
      "cell_type": "markdown",
      "source": [
        "We generate data in one shot, but keep in mind the treatment is administered **after** the collection of patients. That is, the patient's covariates generation is **independent** from the treatment random assignment."
      ],
      "metadata": {
        "id": "Awf8QRwQ_lJB"
      }
    },
    {
      "cell_type": "markdown",
      "source": [
        "The formula by which we identify the causal estimand into a statistical one is the same, and it is the adjustment formula. However, in RCT experiments the causal estimand coincides with the statistical estimand, thus the estimation process reduces to model:\n",
        "\n",
        "$$\n",
        "\\mathbb{E}[Y|X]\n",
        "$$\n",
        "\n",
        "by which we compute:\n",
        "\n",
        "$$\n",
        "\\mathbb{E}[Y|X=1] -\\mathbb{E}[Y|X=0]\n",
        "$$\n",
        "\n",
        "from data."
      ],
      "metadata": {
        "id": "hpK6_80AZftG"
      }
    },
    {
      "cell_type": "markdown",
      "source": [
        "Define the ACE estimator, given an adjustment set of variables:"
      ],
      "metadata": {
        "id": "zBRNwyPcJwPX"
      }
    },
    {
      "cell_type": "code",
      "source": [
        "def ACE(data: pd.DataFrame, X: str, Y: str, Z: Set[str]):\n",
        "    # Define the regresion model formula\n",
        "    formula = f\"{Y} ~ {X}\"\n",
        "    if len(Z) != 0: formula += \"+\" + \"+\".join(Z)\n",
        "    # Fit Ordinary Least Square regression model\n",
        "    estimator = sm.OLS.from_formula(formula, data).fit()\n",
        "    # Compute potential outcomes by fixing X\n",
        "    Y1 = estimator.predict(data.assign(**{X: 1}))\n",
        "    Y0 = estimator.predict(data.assign(**{X: 0}))\n",
        "    # Compute average causal effect\n",
        "    return np.mean(Y1 - Y0)"
      ],
      "metadata": {
        "id": "ZvGHQ6ZBKKnR"
      },
      "execution_count": 5,
      "outputs": []
    },
    {
      "cell_type": "markdown",
      "source": [
        "The true ACE in the data generation process is:"
      ],
      "metadata": {
        "id": "l6WyG00EJ6b5"
      }
    },
    {
      "cell_type": "code",
      "source": [
        "ace = 1.05"
      ],
      "metadata": {
        "id": "j9k68YfHKbTT"
      },
      "execution_count": 6,
      "outputs": []
    },
    {
      "cell_type": "markdown",
      "source": [
        "In an observational study, we must adjust for known confounders. Anyway, what if we do not observe some of the confounders?"
      ],
      "metadata": {
        "id": "qjRpBOIsalvj"
      }
    },
    {
      "cell_type": "code",
      "source": [
        "data = sample_data()\n",
        "data.describe()"
      ],
      "metadata": {
        "colab": {
          "base_uri": "https://localhost:8080/",
          "height": 300
        },
        "id": "vOwFwXCqaiML",
        "outputId": "f675ecaa-4fe6-43b0-ce19-48af56b253cc"
      },
      "execution_count": 7,
      "outputs": [
        {
          "output_type": "execute_result",
          "data": {
            "text/plain": [
              "                  AGE             SOD             SBP             PRO\n",
              "count  1000000.000000  1000000.000000  1000000.000000  1000000.000000\n",
              "mean        65.001134        0.552995      130.583161       39.396720\n",
              "std          4.993518        0.497184       10.161539        3.263477\n",
              "min         40.964418        0.000000       82.816817       24.421988\n",
              "25%         61.627703        0.000000      123.720103       37.190745\n",
              "50%         65.009236        1.000000      130.597297       39.402344\n",
              "75%         68.372794        1.000000      137.445514       41.602773\n",
              "max         87.717317        1.000000      176.708462       54.573313"
            ],
            "text/html": [
              "\n",
              "  <div id=\"df-277a0734-5ad1-42d0-a6e0-42a1524a1cba\" class=\"colab-df-container\">\n",
              "    <div>\n",
              "<style scoped>\n",
              "    .dataframe tbody tr th:only-of-type {\n",
              "        vertical-align: middle;\n",
              "    }\n",
              "\n",
              "    .dataframe tbody tr th {\n",
              "        vertical-align: top;\n",
              "    }\n",
              "\n",
              "    .dataframe thead th {\n",
              "        text-align: right;\n",
              "    }\n",
              "</style>\n",
              "<table border=\"1\" class=\"dataframe\">\n",
              "  <thead>\n",
              "    <tr style=\"text-align: right;\">\n",
              "      <th></th>\n",
              "      <th>AGE</th>\n",
              "      <th>SOD</th>\n",
              "      <th>SBP</th>\n",
              "      <th>PRO</th>\n",
              "    </tr>\n",
              "  </thead>\n",
              "  <tbody>\n",
              "    <tr>\n",
              "      <th>count</th>\n",
              "      <td>1000000.000000</td>\n",
              "      <td>1000000.000000</td>\n",
              "      <td>1000000.000000</td>\n",
              "      <td>1000000.000000</td>\n",
              "    </tr>\n",
              "    <tr>\n",
              "      <th>mean</th>\n",
              "      <td>65.001134</td>\n",
              "      <td>0.552995</td>\n",
              "      <td>130.583161</td>\n",
              "      <td>39.396720</td>\n",
              "    </tr>\n",
              "    <tr>\n",
              "      <th>std</th>\n",
              "      <td>4.993518</td>\n",
              "      <td>0.497184</td>\n",
              "      <td>10.161539</td>\n",
              "      <td>3.263477</td>\n",
              "    </tr>\n",
              "    <tr>\n",
              "      <th>min</th>\n",
              "      <td>40.964418</td>\n",
              "      <td>0.000000</td>\n",
              "      <td>82.816817</td>\n",
              "      <td>24.421988</td>\n",
              "    </tr>\n",
              "    <tr>\n",
              "      <th>25%</th>\n",
              "      <td>61.627703</td>\n",
              "      <td>0.000000</td>\n",
              "      <td>123.720103</td>\n",
              "      <td>37.190745</td>\n",
              "    </tr>\n",
              "    <tr>\n",
              "      <th>50%</th>\n",
              "      <td>65.009236</td>\n",
              "      <td>1.000000</td>\n",
              "      <td>130.597297</td>\n",
              "      <td>39.402344</td>\n",
              "    </tr>\n",
              "    <tr>\n",
              "      <th>75%</th>\n",
              "      <td>68.372794</td>\n",
              "      <td>1.000000</td>\n",
              "      <td>137.445514</td>\n",
              "      <td>41.602773</td>\n",
              "    </tr>\n",
              "    <tr>\n",
              "      <th>max</th>\n",
              "      <td>87.717317</td>\n",
              "      <td>1.000000</td>\n",
              "      <td>176.708462</td>\n",
              "      <td>54.573313</td>\n",
              "    </tr>\n",
              "  </tbody>\n",
              "</table>\n",
              "</div>\n",
              "    <div class=\"colab-df-buttons\">\n",
              "\n",
              "  <div class=\"colab-df-container\">\n",
              "    <button class=\"colab-df-convert\" onclick=\"convertToInteractive('df-277a0734-5ad1-42d0-a6e0-42a1524a1cba')\"\n",
              "            title=\"Convert this dataframe to an interactive table.\"\n",
              "            style=\"display:none;\">\n",
              "\n",
              "  <svg xmlns=\"http://www.w3.org/2000/svg\" height=\"24px\" viewBox=\"0 -960 960 960\">\n",
              "    <path d=\"M120-120v-720h720v720H120Zm60-500h600v-160H180v160Zm220 220h160v-160H400v160Zm0 220h160v-160H400v160ZM180-400h160v-160H180v160Zm440 0h160v-160H620v160ZM180-180h160v-160H180v160Zm440 0h160v-160H620v160Z\"/>\n",
              "  </svg>\n",
              "    </button>\n",
              "\n",
              "  <style>\n",
              "    .colab-df-container {\n",
              "      display:flex;\n",
              "      gap: 12px;\n",
              "    }\n",
              "\n",
              "    .colab-df-convert {\n",
              "      background-color: #E8F0FE;\n",
              "      border: none;\n",
              "      border-radius: 50%;\n",
              "      cursor: pointer;\n",
              "      display: none;\n",
              "      fill: #1967D2;\n",
              "      height: 32px;\n",
              "      padding: 0 0 0 0;\n",
              "      width: 32px;\n",
              "    }\n",
              "\n",
              "    .colab-df-convert:hover {\n",
              "      background-color: #E2EBFA;\n",
              "      box-shadow: 0px 1px 2px rgba(60, 64, 67, 0.3), 0px 1px 3px 1px rgba(60, 64, 67, 0.15);\n",
              "      fill: #174EA6;\n",
              "    }\n",
              "\n",
              "    .colab-df-buttons div {\n",
              "      margin-bottom: 4px;\n",
              "    }\n",
              "\n",
              "    [theme=dark] .colab-df-convert {\n",
              "      background-color: #3B4455;\n",
              "      fill: #D2E3FC;\n",
              "    }\n",
              "\n",
              "    [theme=dark] .colab-df-convert:hover {\n",
              "      background-color: #434B5C;\n",
              "      box-shadow: 0px 1px 3px 1px rgba(0, 0, 0, 0.15);\n",
              "      filter: drop-shadow(0px 1px 2px rgba(0, 0, 0, 0.3));\n",
              "      fill: #FFFFFF;\n",
              "    }\n",
              "  </style>\n",
              "\n",
              "    <script>\n",
              "      const buttonEl =\n",
              "        document.querySelector('#df-277a0734-5ad1-42d0-a6e0-42a1524a1cba button.colab-df-convert');\n",
              "      buttonEl.style.display =\n",
              "        google.colab.kernel.accessAllowed ? 'block' : 'none';\n",
              "\n",
              "      async function convertToInteractive(key) {\n",
              "        const element = document.querySelector('#df-277a0734-5ad1-42d0-a6e0-42a1524a1cba');\n",
              "        const dataTable =\n",
              "          await google.colab.kernel.invokeFunction('convertToInteractive',\n",
              "                                                    [key], {});\n",
              "        if (!dataTable) return;\n",
              "\n",
              "        const docLinkHtml = 'Like what you see? Visit the ' +\n",
              "          '<a target=\"_blank\" href=https://colab.research.google.com/notebooks/data_table.ipynb>data table notebook</a>'\n",
              "          + ' to learn more about interactive tables.';\n",
              "        element.innerHTML = '';\n",
              "        dataTable['output_type'] = 'display_data';\n",
              "        await google.colab.output.renderOutput(dataTable, element);\n",
              "        const docLink = document.createElement('div');\n",
              "        docLink.innerHTML = docLinkHtml;\n",
              "        element.appendChild(docLink);\n",
              "      }\n",
              "    </script>\n",
              "  </div>\n",
              "\n",
              "\n",
              "<div id=\"df-9ea87b4c-db09-42bc-8678-36fa041cf6b2\">\n",
              "  <button class=\"colab-df-quickchart\" onclick=\"quickchart('df-9ea87b4c-db09-42bc-8678-36fa041cf6b2')\"\n",
              "            title=\"Suggest charts\"\n",
              "            style=\"display:none;\">\n",
              "\n",
              "<svg xmlns=\"http://www.w3.org/2000/svg\" height=\"24px\"viewBox=\"0 0 24 24\"\n",
              "     width=\"24px\">\n",
              "    <g>\n",
              "        <path d=\"M19 3H5c-1.1 0-2 .9-2 2v14c0 1.1.9 2 2 2h14c1.1 0 2-.9 2-2V5c0-1.1-.9-2-2-2zM9 17H7v-7h2v7zm4 0h-2V7h2v10zm4 0h-2v-4h2v4z\"/>\n",
              "    </g>\n",
              "</svg>\n",
              "  </button>\n",
              "\n",
              "<style>\n",
              "  .colab-df-quickchart {\n",
              "      --bg-color: #E8F0FE;\n",
              "      --fill-color: #1967D2;\n",
              "      --hover-bg-color: #E2EBFA;\n",
              "      --hover-fill-color: #174EA6;\n",
              "      --disabled-fill-color: #AAA;\n",
              "      --disabled-bg-color: #DDD;\n",
              "  }\n",
              "\n",
              "  [theme=dark] .colab-df-quickchart {\n",
              "      --bg-color: #3B4455;\n",
              "      --fill-color: #D2E3FC;\n",
              "      --hover-bg-color: #434B5C;\n",
              "      --hover-fill-color: #FFFFFF;\n",
              "      --disabled-bg-color: #3B4455;\n",
              "      --disabled-fill-color: #666;\n",
              "  }\n",
              "\n",
              "  .colab-df-quickchart {\n",
              "    background-color: var(--bg-color);\n",
              "    border: none;\n",
              "    border-radius: 50%;\n",
              "    cursor: pointer;\n",
              "    display: none;\n",
              "    fill: var(--fill-color);\n",
              "    height: 32px;\n",
              "    padding: 0;\n",
              "    width: 32px;\n",
              "  }\n",
              "\n",
              "  .colab-df-quickchart:hover {\n",
              "    background-color: var(--hover-bg-color);\n",
              "    box-shadow: 0 1px 2px rgba(60, 64, 67, 0.3), 0 1px 3px 1px rgba(60, 64, 67, 0.15);\n",
              "    fill: var(--button-hover-fill-color);\n",
              "  }\n",
              "\n",
              "  .colab-df-quickchart-complete:disabled,\n",
              "  .colab-df-quickchart-complete:disabled:hover {\n",
              "    background-color: var(--disabled-bg-color);\n",
              "    fill: var(--disabled-fill-color);\n",
              "    box-shadow: none;\n",
              "  }\n",
              "\n",
              "  .colab-df-spinner {\n",
              "    border: 2px solid var(--fill-color);\n",
              "    border-color: transparent;\n",
              "    border-bottom-color: var(--fill-color);\n",
              "    animation:\n",
              "      spin 1s steps(1) infinite;\n",
              "  }\n",
              "\n",
              "  @keyframes spin {\n",
              "    0% {\n",
              "      border-color: transparent;\n",
              "      border-bottom-color: var(--fill-color);\n",
              "      border-left-color: var(--fill-color);\n",
              "    }\n",
              "    20% {\n",
              "      border-color: transparent;\n",
              "      border-left-color: var(--fill-color);\n",
              "      border-top-color: var(--fill-color);\n",
              "    }\n",
              "    30% {\n",
              "      border-color: transparent;\n",
              "      border-left-color: var(--fill-color);\n",
              "      border-top-color: var(--fill-color);\n",
              "      border-right-color: var(--fill-color);\n",
              "    }\n",
              "    40% {\n",
              "      border-color: transparent;\n",
              "      border-right-color: var(--fill-color);\n",
              "      border-top-color: var(--fill-color);\n",
              "    }\n",
              "    60% {\n",
              "      border-color: transparent;\n",
              "      border-right-color: var(--fill-color);\n",
              "    }\n",
              "    80% {\n",
              "      border-color: transparent;\n",
              "      border-right-color: var(--fill-color);\n",
              "      border-bottom-color: var(--fill-color);\n",
              "    }\n",
              "    90% {\n",
              "      border-color: transparent;\n",
              "      border-bottom-color: var(--fill-color);\n",
              "    }\n",
              "  }\n",
              "</style>\n",
              "\n",
              "  <script>\n",
              "    async function quickchart(key) {\n",
              "      const quickchartButtonEl =\n",
              "        document.querySelector('#' + key + ' button');\n",
              "      quickchartButtonEl.disabled = true;  // To prevent multiple clicks.\n",
              "      quickchartButtonEl.classList.add('colab-df-spinner');\n",
              "      try {\n",
              "        const charts = await google.colab.kernel.invokeFunction(\n",
              "            'suggestCharts', [key], {});\n",
              "      } catch (error) {\n",
              "        console.error('Error during call to suggestCharts:', error);\n",
              "      }\n",
              "      quickchartButtonEl.classList.remove('colab-df-spinner');\n",
              "      quickchartButtonEl.classList.add('colab-df-quickchart-complete');\n",
              "    }\n",
              "    (() => {\n",
              "      let quickchartButtonEl =\n",
              "        document.querySelector('#df-9ea87b4c-db09-42bc-8678-36fa041cf6b2 button');\n",
              "      quickchartButtonEl.style.display =\n",
              "        google.colab.kernel.accessAllowed ? 'block' : 'none';\n",
              "    })();\n",
              "  </script>\n",
              "</div>\n",
              "    </div>\n",
              "  </div>\n"
            ]
          },
          "metadata": {},
          "execution_count": 7
        }
      ]
    },
    {
      "cell_type": "code",
      "source": [
        "t = ACE(data, X = \"SOD\", Y = \"SBP\", Z = [])\n",
        "f\"Estimated ACE: {t:.3}, Relative Error: {(np.abs((t-ace)/ace*100)):.4}%\""
      ],
      "metadata": {
        "colab": {
          "base_uri": "https://localhost:8080/",
          "height": 35
        },
        "id": "DXjByML6KZG9",
        "outputId": "ef1a0cb3-9682-426b-c73a-bfb9ef35bd6c"
      },
      "execution_count": 8,
      "outputs": [
        {
          "output_type": "execute_result",
          "data": {
            "text/plain": [
              "'Estimated ACE: 5.37, Relative Error: 411.5%'"
            ],
            "application/vnd.google.colaboratory.intrinsic+json": {
              "type": "string"
            }
          },
          "metadata": {},
          "execution_count": 8
        }
      ]
    },
    {
      "cell_type": "code",
      "source": [
        "t = ACE(data, X = \"SOD\", Y = \"SBP\", Z = [\"AGE\"])\n",
        "f\"Estimated ACE: {t:.3}, Relative Error: {(np.abs((t-ace)/ace*100)):.4}%\""
      ],
      "metadata": {
        "colab": {
          "base_uri": "https://localhost:8080/",
          "height": 35
        },
        "id": "uwg6RDJojINg",
        "outputId": "fa12ad72-1e7e-408b-96fe-8f444e4aa1cb"
      },
      "execution_count": 9,
      "outputs": [
        {
          "output_type": "execute_result",
          "data": {
            "text/plain": [
              "'Estimated ACE: 1.05, Relative Error: 0.2269%'"
            ],
            "application/vnd.google.colaboratory.intrinsic+json": {
              "type": "string"
            }
          },
          "metadata": {},
          "execution_count": 9
        }
      ]
    },
    {
      "cell_type": "markdown",
      "source": [
        "In a perfect RCT any observed and unobserved confounder does not bias the effect. The flow of association coincides with the flow of causation."
      ],
      "metadata": {
        "id": "wHRByl-ua09I"
      }
    },
    {
      "cell_type": "code",
      "source": [
        "data_RCT = sample_data_RCT()\n",
        "data_RCT.describe()"
      ],
      "metadata": {
        "colab": {
          "base_uri": "https://localhost:8080/",
          "height": 300
        },
        "id": "li-QZ-IAak1V",
        "outputId": "e07f3973-8c60-4c92-cfe2-a785e7b148e3"
      },
      "execution_count": 10,
      "outputs": [
        {
          "output_type": "execute_result",
          "data": {
            "text/plain": [
              "                  AGE             SOD             SBP             PRO\n",
              "count  1000000.000000  1000000.000000  1000000.000000  1000000.000000\n",
              "mean        65.001134        0.499142      130.525985       39.358272\n",
              "std          4.993518        0.500000       10.048963        3.190841\n",
              "min         40.964418        0.000000       82.154515       24.116208\n",
              "25%         61.627703        0.000000      123.745198       37.202082\n",
              "50%         65.009236        0.000000      130.542093       39.363281\n",
              "75%         68.372794        1.000000      137.315558       41.514707\n",
              "max         87.717317        1.000000      176.477008       54.653367"
            ],
            "text/html": [
              "\n",
              "  <div id=\"df-4c18c72b-d77e-46e9-a186-3373ae04b328\" class=\"colab-df-container\">\n",
              "    <div>\n",
              "<style scoped>\n",
              "    .dataframe tbody tr th:only-of-type {\n",
              "        vertical-align: middle;\n",
              "    }\n",
              "\n",
              "    .dataframe tbody tr th {\n",
              "        vertical-align: top;\n",
              "    }\n",
              "\n",
              "    .dataframe thead th {\n",
              "        text-align: right;\n",
              "    }\n",
              "</style>\n",
              "<table border=\"1\" class=\"dataframe\">\n",
              "  <thead>\n",
              "    <tr style=\"text-align: right;\">\n",
              "      <th></th>\n",
              "      <th>AGE</th>\n",
              "      <th>SOD</th>\n",
              "      <th>SBP</th>\n",
              "      <th>PRO</th>\n",
              "    </tr>\n",
              "  </thead>\n",
              "  <tbody>\n",
              "    <tr>\n",
              "      <th>count</th>\n",
              "      <td>1000000.000000</td>\n",
              "      <td>1000000.000000</td>\n",
              "      <td>1000000.000000</td>\n",
              "      <td>1000000.000000</td>\n",
              "    </tr>\n",
              "    <tr>\n",
              "      <th>mean</th>\n",
              "      <td>65.001134</td>\n",
              "      <td>0.499142</td>\n",
              "      <td>130.525985</td>\n",
              "      <td>39.358272</td>\n",
              "    </tr>\n",
              "    <tr>\n",
              "      <th>std</th>\n",
              "      <td>4.993518</td>\n",
              "      <td>0.500000</td>\n",
              "      <td>10.048963</td>\n",
              "      <td>3.190841</td>\n",
              "    </tr>\n",
              "    <tr>\n",
              "      <th>min</th>\n",
              "      <td>40.964418</td>\n",
              "      <td>0.000000</td>\n",
              "      <td>82.154515</td>\n",
              "      <td>24.116208</td>\n",
              "    </tr>\n",
              "    <tr>\n",
              "      <th>25%</th>\n",
              "      <td>61.627703</td>\n",
              "      <td>0.000000</td>\n",
              "      <td>123.745198</td>\n",
              "      <td>37.202082</td>\n",
              "    </tr>\n",
              "    <tr>\n",
              "      <th>50%</th>\n",
              "      <td>65.009236</td>\n",
              "      <td>0.000000</td>\n",
              "      <td>130.542093</td>\n",
              "      <td>39.363281</td>\n",
              "    </tr>\n",
              "    <tr>\n",
              "      <th>75%</th>\n",
              "      <td>68.372794</td>\n",
              "      <td>1.000000</td>\n",
              "      <td>137.315558</td>\n",
              "      <td>41.514707</td>\n",
              "    </tr>\n",
              "    <tr>\n",
              "      <th>max</th>\n",
              "      <td>87.717317</td>\n",
              "      <td>1.000000</td>\n",
              "      <td>176.477008</td>\n",
              "      <td>54.653367</td>\n",
              "    </tr>\n",
              "  </tbody>\n",
              "</table>\n",
              "</div>\n",
              "    <div class=\"colab-df-buttons\">\n",
              "\n",
              "  <div class=\"colab-df-container\">\n",
              "    <button class=\"colab-df-convert\" onclick=\"convertToInteractive('df-4c18c72b-d77e-46e9-a186-3373ae04b328')\"\n",
              "            title=\"Convert this dataframe to an interactive table.\"\n",
              "            style=\"display:none;\">\n",
              "\n",
              "  <svg xmlns=\"http://www.w3.org/2000/svg\" height=\"24px\" viewBox=\"0 -960 960 960\">\n",
              "    <path d=\"M120-120v-720h720v720H120Zm60-500h600v-160H180v160Zm220 220h160v-160H400v160Zm0 220h160v-160H400v160ZM180-400h160v-160H180v160Zm440 0h160v-160H620v160ZM180-180h160v-160H180v160Zm440 0h160v-160H620v160Z\"/>\n",
              "  </svg>\n",
              "    </button>\n",
              "\n",
              "  <style>\n",
              "    .colab-df-container {\n",
              "      display:flex;\n",
              "      gap: 12px;\n",
              "    }\n",
              "\n",
              "    .colab-df-convert {\n",
              "      background-color: #E8F0FE;\n",
              "      border: none;\n",
              "      border-radius: 50%;\n",
              "      cursor: pointer;\n",
              "      display: none;\n",
              "      fill: #1967D2;\n",
              "      height: 32px;\n",
              "      padding: 0 0 0 0;\n",
              "      width: 32px;\n",
              "    }\n",
              "\n",
              "    .colab-df-convert:hover {\n",
              "      background-color: #E2EBFA;\n",
              "      box-shadow: 0px 1px 2px rgba(60, 64, 67, 0.3), 0px 1px 3px 1px rgba(60, 64, 67, 0.15);\n",
              "      fill: #174EA6;\n",
              "    }\n",
              "\n",
              "    .colab-df-buttons div {\n",
              "      margin-bottom: 4px;\n",
              "    }\n",
              "\n",
              "    [theme=dark] .colab-df-convert {\n",
              "      background-color: #3B4455;\n",
              "      fill: #D2E3FC;\n",
              "    }\n",
              "\n",
              "    [theme=dark] .colab-df-convert:hover {\n",
              "      background-color: #434B5C;\n",
              "      box-shadow: 0px 1px 3px 1px rgba(0, 0, 0, 0.15);\n",
              "      filter: drop-shadow(0px 1px 2px rgba(0, 0, 0, 0.3));\n",
              "      fill: #FFFFFF;\n",
              "    }\n",
              "  </style>\n",
              "\n",
              "    <script>\n",
              "      const buttonEl =\n",
              "        document.querySelector('#df-4c18c72b-d77e-46e9-a186-3373ae04b328 button.colab-df-convert');\n",
              "      buttonEl.style.display =\n",
              "        google.colab.kernel.accessAllowed ? 'block' : 'none';\n",
              "\n",
              "      async function convertToInteractive(key) {\n",
              "        const element = document.querySelector('#df-4c18c72b-d77e-46e9-a186-3373ae04b328');\n",
              "        const dataTable =\n",
              "          await google.colab.kernel.invokeFunction('convertToInteractive',\n",
              "                                                    [key], {});\n",
              "        if (!dataTable) return;\n",
              "\n",
              "        const docLinkHtml = 'Like what you see? Visit the ' +\n",
              "          '<a target=\"_blank\" href=https://colab.research.google.com/notebooks/data_table.ipynb>data table notebook</a>'\n",
              "          + ' to learn more about interactive tables.';\n",
              "        element.innerHTML = '';\n",
              "        dataTable['output_type'] = 'display_data';\n",
              "        await google.colab.output.renderOutput(dataTable, element);\n",
              "        const docLink = document.createElement('div');\n",
              "        docLink.innerHTML = docLinkHtml;\n",
              "        element.appendChild(docLink);\n",
              "      }\n",
              "    </script>\n",
              "  </div>\n",
              "\n",
              "\n",
              "<div id=\"df-4256dd02-9184-410b-866f-ae21237605f7\">\n",
              "  <button class=\"colab-df-quickchart\" onclick=\"quickchart('df-4256dd02-9184-410b-866f-ae21237605f7')\"\n",
              "            title=\"Suggest charts\"\n",
              "            style=\"display:none;\">\n",
              "\n",
              "<svg xmlns=\"http://www.w3.org/2000/svg\" height=\"24px\"viewBox=\"0 0 24 24\"\n",
              "     width=\"24px\">\n",
              "    <g>\n",
              "        <path d=\"M19 3H5c-1.1 0-2 .9-2 2v14c0 1.1.9 2 2 2h14c1.1 0 2-.9 2-2V5c0-1.1-.9-2-2-2zM9 17H7v-7h2v7zm4 0h-2V7h2v10zm4 0h-2v-4h2v4z\"/>\n",
              "    </g>\n",
              "</svg>\n",
              "  </button>\n",
              "\n",
              "<style>\n",
              "  .colab-df-quickchart {\n",
              "      --bg-color: #E8F0FE;\n",
              "      --fill-color: #1967D2;\n",
              "      --hover-bg-color: #E2EBFA;\n",
              "      --hover-fill-color: #174EA6;\n",
              "      --disabled-fill-color: #AAA;\n",
              "      --disabled-bg-color: #DDD;\n",
              "  }\n",
              "\n",
              "  [theme=dark] .colab-df-quickchart {\n",
              "      --bg-color: #3B4455;\n",
              "      --fill-color: #D2E3FC;\n",
              "      --hover-bg-color: #434B5C;\n",
              "      --hover-fill-color: #FFFFFF;\n",
              "      --disabled-bg-color: #3B4455;\n",
              "      --disabled-fill-color: #666;\n",
              "  }\n",
              "\n",
              "  .colab-df-quickchart {\n",
              "    background-color: var(--bg-color);\n",
              "    border: none;\n",
              "    border-radius: 50%;\n",
              "    cursor: pointer;\n",
              "    display: none;\n",
              "    fill: var(--fill-color);\n",
              "    height: 32px;\n",
              "    padding: 0;\n",
              "    width: 32px;\n",
              "  }\n",
              "\n",
              "  .colab-df-quickchart:hover {\n",
              "    background-color: var(--hover-bg-color);\n",
              "    box-shadow: 0 1px 2px rgba(60, 64, 67, 0.3), 0 1px 3px 1px rgba(60, 64, 67, 0.15);\n",
              "    fill: var(--button-hover-fill-color);\n",
              "  }\n",
              "\n",
              "  .colab-df-quickchart-complete:disabled,\n",
              "  .colab-df-quickchart-complete:disabled:hover {\n",
              "    background-color: var(--disabled-bg-color);\n",
              "    fill: var(--disabled-fill-color);\n",
              "    box-shadow: none;\n",
              "  }\n",
              "\n",
              "  .colab-df-spinner {\n",
              "    border: 2px solid var(--fill-color);\n",
              "    border-color: transparent;\n",
              "    border-bottom-color: var(--fill-color);\n",
              "    animation:\n",
              "      spin 1s steps(1) infinite;\n",
              "  }\n",
              "\n",
              "  @keyframes spin {\n",
              "    0% {\n",
              "      border-color: transparent;\n",
              "      border-bottom-color: var(--fill-color);\n",
              "      border-left-color: var(--fill-color);\n",
              "    }\n",
              "    20% {\n",
              "      border-color: transparent;\n",
              "      border-left-color: var(--fill-color);\n",
              "      border-top-color: var(--fill-color);\n",
              "    }\n",
              "    30% {\n",
              "      border-color: transparent;\n",
              "      border-left-color: var(--fill-color);\n",
              "      border-top-color: var(--fill-color);\n",
              "      border-right-color: var(--fill-color);\n",
              "    }\n",
              "    40% {\n",
              "      border-color: transparent;\n",
              "      border-right-color: var(--fill-color);\n",
              "      border-top-color: var(--fill-color);\n",
              "    }\n",
              "    60% {\n",
              "      border-color: transparent;\n",
              "      border-right-color: var(--fill-color);\n",
              "    }\n",
              "    80% {\n",
              "      border-color: transparent;\n",
              "      border-right-color: var(--fill-color);\n",
              "      border-bottom-color: var(--fill-color);\n",
              "    }\n",
              "    90% {\n",
              "      border-color: transparent;\n",
              "      border-bottom-color: var(--fill-color);\n",
              "    }\n",
              "  }\n",
              "</style>\n",
              "\n",
              "  <script>\n",
              "    async function quickchart(key) {\n",
              "      const quickchartButtonEl =\n",
              "        document.querySelector('#' + key + ' button');\n",
              "      quickchartButtonEl.disabled = true;  // To prevent multiple clicks.\n",
              "      quickchartButtonEl.classList.add('colab-df-spinner');\n",
              "      try {\n",
              "        const charts = await google.colab.kernel.invokeFunction(\n",
              "            'suggestCharts', [key], {});\n",
              "      } catch (error) {\n",
              "        console.error('Error during call to suggestCharts:', error);\n",
              "      }\n",
              "      quickchartButtonEl.classList.remove('colab-df-spinner');\n",
              "      quickchartButtonEl.classList.add('colab-df-quickchart-complete');\n",
              "    }\n",
              "    (() => {\n",
              "      let quickchartButtonEl =\n",
              "        document.querySelector('#df-4256dd02-9184-410b-866f-ae21237605f7 button');\n",
              "      quickchartButtonEl.style.display =\n",
              "        google.colab.kernel.accessAllowed ? 'block' : 'none';\n",
              "    })();\n",
              "  </script>\n",
              "</div>\n",
              "    </div>\n",
              "  </div>\n"
            ]
          },
          "metadata": {},
          "execution_count": 10
        }
      ]
    },
    {
      "cell_type": "code",
      "source": [
        "t = ACE(data_RCT, X = \"SOD\", Y = \"SBP\", Z = [])\n",
        "f\"Estimated ACE: {t:.3}, Relative Error: {(np.abs((t-ace)/ace*100)):.4}%\""
      ],
      "metadata": {
        "colab": {
          "base_uri": "https://localhost:8080/",
          "height": 35
        },
        "id": "Ly_sgU7NKhLE",
        "outputId": "d901166a-9448-417c-868f-372d4a1f2df3"
      },
      "execution_count": 11,
      "outputs": [
        {
          "output_type": "execute_result",
          "data": {
            "text/plain": [
              "'Estimated ACE: 1.02, Relative Error: 3.092%'"
            ],
            "application/vnd.google.colaboratory.intrinsic+json": {
              "type": "string"
            }
          },
          "metadata": {},
          "execution_count": 11
        }
      ]
    },
    {
      "cell_type": "markdown",
      "source": [
        "If we have enough data, it is the same as computing the difference between two means, without the need to model the expected value $\\mathbb{E}[Y|X]$:"
      ],
      "metadata": {
        "id": "-ZvIZY6pRmwA"
      }
    },
    {
      "cell_type": "code",
      "source": [
        "np.mean(data_RCT[data_RCT[\"SOD\"] == 1][\"SBP\"]) - np.mean(data_RCT[data_RCT[\"SOD\"] == 0][\"SBP\"])"
      ],
      "metadata": {
        "colab": {
          "base_uri": "https://localhost:8080/",
          "height": 37
        },
        "id": "DMCNi9RgRli5",
        "outputId": "57586179-7db0-48e3-c4b0-b0e720f0b65d"
      },
      "execution_count": 12,
      "outputs": [
        {
          "output_type": "execute_result",
          "data": {
            "text/plain": [
              "1.0175295115535619"
            ],
            "text/latex": "$\\displaystyle 1.01752951155356$"
          },
          "metadata": {},
          "execution_count": 12
        }
      ]
    },
    {
      "cell_type": "markdown",
      "source": [
        "Pay attention to the sample size: unbalanced classes may receive quite big differences in treatment assignment. In general, random assignment in low sample size may result in **no exchangeability** (or no ignorability) between case and control groups!"
      ],
      "metadata": {
        "id": "QpYM3iQtbHzW"
      }
    },
    {
      "cell_type": "code",
      "source": [
        "data_RCT = sample_data_RCT(size = 400)\n",
        "data_RCT.describe()"
      ],
      "metadata": {
        "colab": {
          "base_uri": "https://localhost:8080/",
          "height": 300
        },
        "id": "LNcoYKMrc0pS",
        "outputId": "a9ce5bc3-4c62-4c14-b6a4-4ceff5327d8c"
      },
      "execution_count": 13,
      "outputs": [
        {
          "output_type": "execute_result",
          "data": {
            "text/plain": [
              "              AGE         SOD         SBP         PRO\n",
              "count  400.000000  400.000000  400.000000  400.000000\n",
              "mean    64.591074    0.542500  129.837556   39.230748\n",
              "std      5.156526    0.498814   10.467645    3.303568\n",
              "min     52.174309    0.000000  104.690361   31.434524\n",
              "25%     61.350871    0.000000  122.923145   37.088950\n",
              "50%     64.335154    1.000000  129.237557   39.212511\n",
              "75%     68.185394    1.000000  137.182062   41.551124\n",
              "max     80.394038    1.000000  161.573823   48.686999"
            ],
            "text/html": [
              "\n",
              "  <div id=\"df-a0e47379-03a8-4461-aa0c-e8d71645cff2\" class=\"colab-df-container\">\n",
              "    <div>\n",
              "<style scoped>\n",
              "    .dataframe tbody tr th:only-of-type {\n",
              "        vertical-align: middle;\n",
              "    }\n",
              "\n",
              "    .dataframe tbody tr th {\n",
              "        vertical-align: top;\n",
              "    }\n",
              "\n",
              "    .dataframe thead th {\n",
              "        text-align: right;\n",
              "    }\n",
              "</style>\n",
              "<table border=\"1\" class=\"dataframe\">\n",
              "  <thead>\n",
              "    <tr style=\"text-align: right;\">\n",
              "      <th></th>\n",
              "      <th>AGE</th>\n",
              "      <th>SOD</th>\n",
              "      <th>SBP</th>\n",
              "      <th>PRO</th>\n",
              "    </tr>\n",
              "  </thead>\n",
              "  <tbody>\n",
              "    <tr>\n",
              "      <th>count</th>\n",
              "      <td>400.000000</td>\n",
              "      <td>400.000000</td>\n",
              "      <td>400.000000</td>\n",
              "      <td>400.000000</td>\n",
              "    </tr>\n",
              "    <tr>\n",
              "      <th>mean</th>\n",
              "      <td>64.591074</td>\n",
              "      <td>0.542500</td>\n",
              "      <td>129.837556</td>\n",
              "      <td>39.230748</td>\n",
              "    </tr>\n",
              "    <tr>\n",
              "      <th>std</th>\n",
              "      <td>5.156526</td>\n",
              "      <td>0.498814</td>\n",
              "      <td>10.467645</td>\n",
              "      <td>3.303568</td>\n",
              "    </tr>\n",
              "    <tr>\n",
              "      <th>min</th>\n",
              "      <td>52.174309</td>\n",
              "      <td>0.000000</td>\n",
              "      <td>104.690361</td>\n",
              "      <td>31.434524</td>\n",
              "    </tr>\n",
              "    <tr>\n",
              "      <th>25%</th>\n",
              "      <td>61.350871</td>\n",
              "      <td>0.000000</td>\n",
              "      <td>122.923145</td>\n",
              "      <td>37.088950</td>\n",
              "    </tr>\n",
              "    <tr>\n",
              "      <th>50%</th>\n",
              "      <td>64.335154</td>\n",
              "      <td>1.000000</td>\n",
              "      <td>129.237557</td>\n",
              "      <td>39.212511</td>\n",
              "    </tr>\n",
              "    <tr>\n",
              "      <th>75%</th>\n",
              "      <td>68.185394</td>\n",
              "      <td>1.000000</td>\n",
              "      <td>137.182062</td>\n",
              "      <td>41.551124</td>\n",
              "    </tr>\n",
              "    <tr>\n",
              "      <th>max</th>\n",
              "      <td>80.394038</td>\n",
              "      <td>1.000000</td>\n",
              "      <td>161.573823</td>\n",
              "      <td>48.686999</td>\n",
              "    </tr>\n",
              "  </tbody>\n",
              "</table>\n",
              "</div>\n",
              "    <div class=\"colab-df-buttons\">\n",
              "\n",
              "  <div class=\"colab-df-container\">\n",
              "    <button class=\"colab-df-convert\" onclick=\"convertToInteractive('df-a0e47379-03a8-4461-aa0c-e8d71645cff2')\"\n",
              "            title=\"Convert this dataframe to an interactive table.\"\n",
              "            style=\"display:none;\">\n",
              "\n",
              "  <svg xmlns=\"http://www.w3.org/2000/svg\" height=\"24px\" viewBox=\"0 -960 960 960\">\n",
              "    <path d=\"M120-120v-720h720v720H120Zm60-500h600v-160H180v160Zm220 220h160v-160H400v160Zm0 220h160v-160H400v160ZM180-400h160v-160H180v160Zm440 0h160v-160H620v160ZM180-180h160v-160H180v160Zm440 0h160v-160H620v160Z\"/>\n",
              "  </svg>\n",
              "    </button>\n",
              "\n",
              "  <style>\n",
              "    .colab-df-container {\n",
              "      display:flex;\n",
              "      gap: 12px;\n",
              "    }\n",
              "\n",
              "    .colab-df-convert {\n",
              "      background-color: #E8F0FE;\n",
              "      border: none;\n",
              "      border-radius: 50%;\n",
              "      cursor: pointer;\n",
              "      display: none;\n",
              "      fill: #1967D2;\n",
              "      height: 32px;\n",
              "      padding: 0 0 0 0;\n",
              "      width: 32px;\n",
              "    }\n",
              "\n",
              "    .colab-df-convert:hover {\n",
              "      background-color: #E2EBFA;\n",
              "      box-shadow: 0px 1px 2px rgba(60, 64, 67, 0.3), 0px 1px 3px 1px rgba(60, 64, 67, 0.15);\n",
              "      fill: #174EA6;\n",
              "    }\n",
              "\n",
              "    .colab-df-buttons div {\n",
              "      margin-bottom: 4px;\n",
              "    }\n",
              "\n",
              "    [theme=dark] .colab-df-convert {\n",
              "      background-color: #3B4455;\n",
              "      fill: #D2E3FC;\n",
              "    }\n",
              "\n",
              "    [theme=dark] .colab-df-convert:hover {\n",
              "      background-color: #434B5C;\n",
              "      box-shadow: 0px 1px 3px 1px rgba(0, 0, 0, 0.15);\n",
              "      filter: drop-shadow(0px 1px 2px rgba(0, 0, 0, 0.3));\n",
              "      fill: #FFFFFF;\n",
              "    }\n",
              "  </style>\n",
              "\n",
              "    <script>\n",
              "      const buttonEl =\n",
              "        document.querySelector('#df-a0e47379-03a8-4461-aa0c-e8d71645cff2 button.colab-df-convert');\n",
              "      buttonEl.style.display =\n",
              "        google.colab.kernel.accessAllowed ? 'block' : 'none';\n",
              "\n",
              "      async function convertToInteractive(key) {\n",
              "        const element = document.querySelector('#df-a0e47379-03a8-4461-aa0c-e8d71645cff2');\n",
              "        const dataTable =\n",
              "          await google.colab.kernel.invokeFunction('convertToInteractive',\n",
              "                                                    [key], {});\n",
              "        if (!dataTable) return;\n",
              "\n",
              "        const docLinkHtml = 'Like what you see? Visit the ' +\n",
              "          '<a target=\"_blank\" href=https://colab.research.google.com/notebooks/data_table.ipynb>data table notebook</a>'\n",
              "          + ' to learn more about interactive tables.';\n",
              "        element.innerHTML = '';\n",
              "        dataTable['output_type'] = 'display_data';\n",
              "        await google.colab.output.renderOutput(dataTable, element);\n",
              "        const docLink = document.createElement('div');\n",
              "        docLink.innerHTML = docLinkHtml;\n",
              "        element.appendChild(docLink);\n",
              "      }\n",
              "    </script>\n",
              "  </div>\n",
              "\n",
              "\n",
              "<div id=\"df-2ab177ce-8d71-41c5-80a0-8fe8317da9a9\">\n",
              "  <button class=\"colab-df-quickchart\" onclick=\"quickchart('df-2ab177ce-8d71-41c5-80a0-8fe8317da9a9')\"\n",
              "            title=\"Suggest charts\"\n",
              "            style=\"display:none;\">\n",
              "\n",
              "<svg xmlns=\"http://www.w3.org/2000/svg\" height=\"24px\"viewBox=\"0 0 24 24\"\n",
              "     width=\"24px\">\n",
              "    <g>\n",
              "        <path d=\"M19 3H5c-1.1 0-2 .9-2 2v14c0 1.1.9 2 2 2h14c1.1 0 2-.9 2-2V5c0-1.1-.9-2-2-2zM9 17H7v-7h2v7zm4 0h-2V7h2v10zm4 0h-2v-4h2v4z\"/>\n",
              "    </g>\n",
              "</svg>\n",
              "  </button>\n",
              "\n",
              "<style>\n",
              "  .colab-df-quickchart {\n",
              "      --bg-color: #E8F0FE;\n",
              "      --fill-color: #1967D2;\n",
              "      --hover-bg-color: #E2EBFA;\n",
              "      --hover-fill-color: #174EA6;\n",
              "      --disabled-fill-color: #AAA;\n",
              "      --disabled-bg-color: #DDD;\n",
              "  }\n",
              "\n",
              "  [theme=dark] .colab-df-quickchart {\n",
              "      --bg-color: #3B4455;\n",
              "      --fill-color: #D2E3FC;\n",
              "      --hover-bg-color: #434B5C;\n",
              "      --hover-fill-color: #FFFFFF;\n",
              "      --disabled-bg-color: #3B4455;\n",
              "      --disabled-fill-color: #666;\n",
              "  }\n",
              "\n",
              "  .colab-df-quickchart {\n",
              "    background-color: var(--bg-color);\n",
              "    border: none;\n",
              "    border-radius: 50%;\n",
              "    cursor: pointer;\n",
              "    display: none;\n",
              "    fill: var(--fill-color);\n",
              "    height: 32px;\n",
              "    padding: 0;\n",
              "    width: 32px;\n",
              "  }\n",
              "\n",
              "  .colab-df-quickchart:hover {\n",
              "    background-color: var(--hover-bg-color);\n",
              "    box-shadow: 0 1px 2px rgba(60, 64, 67, 0.3), 0 1px 3px 1px rgba(60, 64, 67, 0.15);\n",
              "    fill: var(--button-hover-fill-color);\n",
              "  }\n",
              "\n",
              "  .colab-df-quickchart-complete:disabled,\n",
              "  .colab-df-quickchart-complete:disabled:hover {\n",
              "    background-color: var(--disabled-bg-color);\n",
              "    fill: var(--disabled-fill-color);\n",
              "    box-shadow: none;\n",
              "  }\n",
              "\n",
              "  .colab-df-spinner {\n",
              "    border: 2px solid var(--fill-color);\n",
              "    border-color: transparent;\n",
              "    border-bottom-color: var(--fill-color);\n",
              "    animation:\n",
              "      spin 1s steps(1) infinite;\n",
              "  }\n",
              "\n",
              "  @keyframes spin {\n",
              "    0% {\n",
              "      border-color: transparent;\n",
              "      border-bottom-color: var(--fill-color);\n",
              "      border-left-color: var(--fill-color);\n",
              "    }\n",
              "    20% {\n",
              "      border-color: transparent;\n",
              "      border-left-color: var(--fill-color);\n",
              "      border-top-color: var(--fill-color);\n",
              "    }\n",
              "    30% {\n",
              "      border-color: transparent;\n",
              "      border-left-color: var(--fill-color);\n",
              "      border-top-color: var(--fill-color);\n",
              "      border-right-color: var(--fill-color);\n",
              "    }\n",
              "    40% {\n",
              "      border-color: transparent;\n",
              "      border-right-color: var(--fill-color);\n",
              "      border-top-color: var(--fill-color);\n",
              "    }\n",
              "    60% {\n",
              "      border-color: transparent;\n",
              "      border-right-color: var(--fill-color);\n",
              "    }\n",
              "    80% {\n",
              "      border-color: transparent;\n",
              "      border-right-color: var(--fill-color);\n",
              "      border-bottom-color: var(--fill-color);\n",
              "    }\n",
              "    90% {\n",
              "      border-color: transparent;\n",
              "      border-bottom-color: var(--fill-color);\n",
              "    }\n",
              "  }\n",
              "</style>\n",
              "\n",
              "  <script>\n",
              "    async function quickchart(key) {\n",
              "      const quickchartButtonEl =\n",
              "        document.querySelector('#' + key + ' button');\n",
              "      quickchartButtonEl.disabled = true;  // To prevent multiple clicks.\n",
              "      quickchartButtonEl.classList.add('colab-df-spinner');\n",
              "      try {\n",
              "        const charts = await google.colab.kernel.invokeFunction(\n",
              "            'suggestCharts', [key], {});\n",
              "      } catch (error) {\n",
              "        console.error('Error during call to suggestCharts:', error);\n",
              "      }\n",
              "      quickchartButtonEl.classList.remove('colab-df-spinner');\n",
              "      quickchartButtonEl.classList.add('colab-df-quickchart-complete');\n",
              "    }\n",
              "    (() => {\n",
              "      let quickchartButtonEl =\n",
              "        document.querySelector('#df-2ab177ce-8d71-41c5-80a0-8fe8317da9a9 button');\n",
              "      quickchartButtonEl.style.display =\n",
              "        google.colab.kernel.accessAllowed ? 'block' : 'none';\n",
              "    })();\n",
              "  </script>\n",
              "</div>\n",
              "    </div>\n",
              "  </div>\n"
            ]
          },
          "metadata": {},
          "execution_count": 13
        }
      ]
    },
    {
      "cell_type": "code",
      "source": [
        "t = np.mean(data_RCT[data_RCT[\"SOD\"] == 1][\"SBP\"]) - np.mean(data_RCT[data_RCT[\"SOD\"] == 0][\"SBP\"])\n",
        "f\"Estimated ACE: {t:.3}, Relative Error: {(np.abs((t-ace)/ace*100)):.4}%\""
      ],
      "metadata": {
        "colab": {
          "base_uri": "https://localhost:8080/",
          "height": 35
        },
        "id": "GiIM3B-XbEvy",
        "outputId": "94ac3a20-b6cb-4772-fcee-3e7f5c652a38"
      },
      "execution_count": 14,
      "outputs": [
        {
          "output_type": "execute_result",
          "data": {
            "text/plain": [
              "'Estimated ACE: 2.29, Relative Error: 118.2%'"
            ],
            "application/vnd.google.colaboratory.intrinsic+json": {
              "type": "string"
            }
          },
          "metadata": {},
          "execution_count": 14
        }
      ]
    },
    {
      "cell_type": "markdown",
      "source": [
        "## Real World Evidence (RWE) and Randomized Controlled Trials (RCT): a false dicotomy"
      ],
      "metadata": {
        "id": "nUIfKjxErEqB"
      }
    },
    {
      "cell_type": "markdown",
      "source": [
        "[This article](https://www.sciencedirect.com/science/article/pii/S0959804923001491) states the relevance of having RCT data in **clinical practice**, for their causal evidence. However, it is not true that all randomized experiments are the same. The paper gives an overview of the existing studies that combines observational and interventional (i.e. experimental) data."
      ],
      "metadata": {
        "id": "EENrlFrlLZ05"
      }
    },
    {
      "cell_type": "markdown",
      "source": [
        "## Biases in Randomization"
      ],
      "metadata": {
        "id": "M487mSRqLgls"
      }
    },
    {
      "cell_type": "markdown",
      "source": [
        "Some RCT studies may be [biased](https://jnnp.bmj.com/content/75/2/181), due to how they are conducted by humans. Moreover, RCTs are in general too **costly**, **unethical** and may require **too long** to obtain robust results as in the case of rare illnesses. In this way, it is not a one-size-fits-all solution and one must pay attention to the general RCT study pipeline when reading any article.\n",
        "\n",
        "We now show motivating example, expliciting the fact that randomization is not a panacea and even misleading if not caring about the underlying causal mechanisms. Here it is presented a famous **selection bias**: the Berkson's paradox. Selection bias generally occurs when data are collected conditionally to certain variable(s). If we block a confounding path from treatment to outcome, we should not worry about it during the estimation. Instead, if the conditioned variable **opens a collider**, then a spurious path is open."
      ],
      "metadata": {
        "id": "QsUqyl9rOwGl"
      }
    },
    {
      "cell_type": "markdown",
      "source": [
        "Let's firstly define a plot style:"
      ],
      "metadata": {
        "id": "i4NpjJc0f_24"
      }
    },
    {
      "cell_type": "code",
      "source": [
        "def draw(G, selection = []):\n",
        "  plt.figure(figsize = (5, 4))\n",
        "  pos = graphviz_layout(G, prog = \"dot\")\n",
        "\n",
        "  for v in G.nodes():\n",
        "    node_shape = \"o\"\n",
        "    node_color = \"white\"\n",
        "    if any(v in s for s in selection):\n",
        "      node_shape = \"s\"\n",
        "      node_color = \"grey\"\n",
        "    nx.draw_networkx_nodes(\n",
        "          G,\n",
        "          pos = pos,\n",
        "          nodelist = [v],\n",
        "          node_shape = node_shape,\n",
        "          node_color = node_color,\n",
        "          node_size = 4e2,\n",
        "          edgecolors = \"black\",\n",
        "          margins = 0.2\n",
        "        )\n",
        "  nx.draw_networkx_labels(G, pos = pos, font_size = 15)\n",
        "  nx.draw_networkx_edges(\n",
        "          G,\n",
        "          pos = pos,\n",
        "          width = 1,\n",
        "          arrowsize = 15,)"
      ],
      "metadata": {
        "id": "t3qcySRUfH7M"
      },
      "execution_count": 15,
      "outputs": []
    },
    {
      "cell_type": "markdown",
      "source": [
        "### Selection bias: the Berkson's paradox"
      ],
      "metadata": {
        "id": "U8jmw2YKqUfv"
      }
    },
    {
      "cell_type": "markdown",
      "source": [
        "Suppose we are interested in studying the causal effect of smoke ($S$) on lung cancer ($T$).\n",
        "\n",
        "Now, it would be impossible to interview any possible smoker and non-smoker. Not only because their union would compose the whole population, but also because we should wait for healthy people to develop or not the illness.\n",
        "\n",
        "For these reasons, **we ask a specialized Health Center** ($H$) to provide its already collected data. The center is a reference point in the smoking community, thus people go there either for stopping smoking or for being treated against cancer.\n",
        "\n",
        "Formally speaking, we could model the situation as in the following SCM:"
      ],
      "metadata": {
        "id": "10M2qRBOVn4d"
      }
    },
    {
      "cell_type": "markdown",
      "source": [
        "$$\n",
        "\\begin{cases}\n",
        "S := Bern(0.3) \\\\\n",
        "T := 0.25 \\cdot S + Bern(0.2) \\\\\n",
        "H := \\max(S, T) ~\\oplus~ Bern(0.1)\n",
        "\\end{cases}\n",
        "$$"
      ],
      "metadata": {
        "id": "TijvW1MyYErd"
      }
    },
    {
      "cell_type": "markdown",
      "source": [
        "Note we have supposed $S$ to be random, thus not depending on any other variable. This is not realistic in general, but you may think about it as a randomized experiment. The resulting causal Bayesian network is:"
      ],
      "metadata": {
        "id": "wQNGnBl7XlL6"
      }
    },
    {
      "cell_type": "code",
      "source": [
        "G = nx.DiGraph([(\"S\", \"H\"), (\"T\", \"H\"), (\"S\", \"T\")])\n",
        "nx.drawing.nx_pydot.write_dot(G, \"G.dot\")\n",
        "draw(G, [\"H\"])"
      ],
      "metadata": {
        "colab": {
          "base_uri": "https://localhost:8080/",
          "height": 345
        },
        "id": "DM3rTbkcYFAB",
        "outputId": "8c33d10a-155f-45ea-fb13-27bb21da542a"
      },
      "execution_count": 16,
      "outputs": [
        {
          "output_type": "display_data",
          "data": {
            "text/plain": [
              "<Figure size 500x400 with 1 Axes>"
            ],
            "image/png": "[encoded data removed]"
          },
          "metadata": {}
        }
      ]
    },
    {
      "cell_type": "markdown",
      "source": [
        "Now, suppose we generate all the population instancies following the SCM:"
      ],
      "metadata": {
        "id": "NGaayM0-nWXW"
      }
    },
    {
      "cell_type": "code",
      "source": [
        "def sample_data(size: int = int(1e6), seed: int = 31):\n",
        "    # Set random generator seed for results reproducibility\n",
        "    np.random.seed(seed)\n",
        "    # Sample variables according to the SCM\n",
        "    smoking = np.random.binomial(1, 0.3, size)\n",
        "    tumor = 1.05 * smoking + np.random.normal(0, 1, size)\n",
        "    tumor = (tumor > 1).astype(int)\n",
        "    hospital = (np.maximum(smoking, tumor) + np.random.binomial(1, 0.1, size)) % 2\n",
        "    return pd.DataFrame({\"S\": smoking, \"T\": tumor, \"H\": hospital})"
      ],
      "metadata": {
        "id": "9J7rHHv-YSGd"
      },
      "execution_count": 17,
      "outputs": []
    },
    {
      "cell_type": "code",
      "source": [
        "data = sample_data()\n",
        "data.head()"
      ],
      "metadata": {
        "colab": {
          "base_uri": "https://localhost:8080/",
          "height": 206
        },
        "id": "kRtkUhruYUC7",
        "outputId": "ac481f98-cc3e-430c-89fe-443d21bd30d8"
      },
      "execution_count": 18,
      "outputs": [
        {
          "output_type": "execute_result",
          "data": {
            "text/plain": [
              "   S  T  H\n",
              "0  0  0  0\n",
              "1  1  1  1\n",
              "2  1  0  1\n",
              "3  1  0  1\n",
              "4  0  0  0"
            ],
            "text/html": [
              "\n",
              "  <div id=\"df-9a8cbd98-e1a5-4811-871d-702dabb26bda\" class=\"colab-df-container\">\n",
              "    <div>\n",
              "<style scoped>\n",
              "    .dataframe tbody tr th:only-of-type {\n",
              "        vertical-align: middle;\n",
              "    }\n",
              "\n",
              "    .dataframe tbody tr th {\n",
              "        vertical-align: top;\n",
              "    }\n",
              "\n",
              "    .dataframe thead th {\n",
              "        text-align: right;\n",
              "    }\n",
              "</style>\n",
              "<table border=\"1\" class=\"dataframe\">\n",
              "  <thead>\n",
              "    <tr style=\"text-align: right;\">\n",
              "      <th></th>\n",
              "      <th>S</th>\n",
              "      <th>T</th>\n",
              "      <th>H</th>\n",
              "    </tr>\n",
              "  </thead>\n",
              "  <tbody>\n",
              "    <tr>\n",
              "      <th>0</th>\n",
              "      <td>0</td>\n",
              "      <td>0</td>\n",
              "      <td>0</td>\n",
              "    </tr>\n",
              "    <tr>\n",
              "      <th>1</th>\n",
              "      <td>1</td>\n",
              "      <td>1</td>\n",
              "      <td>1</td>\n",
              "    </tr>\n",
              "    <tr>\n",
              "      <th>2</th>\n",
              "      <td>1</td>\n",
              "      <td>0</td>\n",
              "      <td>1</td>\n",
              "    </tr>\n",
              "    <tr>\n",
              "      <th>3</th>\n",
              "      <td>1</td>\n",
              "      <td>0</td>\n",
              "      <td>1</td>\n",
              "    </tr>\n",
              "    <tr>\n",
              "      <th>4</th>\n",
              "      <td>0</td>\n",
              "      <td>0</td>\n",
              "      <td>0</td>\n",
              "    </tr>\n",
              "  </tbody>\n",
              "</table>\n",
              "</div>\n",
              "    <div class=\"colab-df-buttons\">\n",
              "\n",
              "  <div class=\"colab-df-container\">\n",
              "    <button class=\"colab-df-convert\" onclick=\"convertToInteractive('df-9a8cbd98-e1a5-4811-871d-702dabb26bda')\"\n",
              "            title=\"Convert this dataframe to an interactive table.\"\n",
              "            style=\"display:none;\">\n",
              "\n",
              "  <svg xmlns=\"http://www.w3.org/2000/svg\" height=\"24px\" viewBox=\"0 -960 960 960\">\n",
              "    <path d=\"M120-120v-720h720v720H120Zm60-500h600v-160H180v160Zm220 220h160v-160H400v160Zm0 220h160v-160H400v160ZM180-400h160v-160H180v160Zm440 0h160v-160H620v160ZM180-180h160v-160H180v160Zm440 0h160v-160H620v160Z\"/>\n",
              "  </svg>\n",
              "    </button>\n",
              "\n",
              "  <style>\n",
              "    .colab-df-container {\n",
              "      display:flex;\n",
              "      gap: 12px;\n",
              "    }\n",
              "\n",
              "    .colab-df-convert {\n",
              "      background-color: #E8F0FE;\n",
              "      border: none;\n",
              "      border-radius: 50%;\n",
              "      cursor: pointer;\n",
              "      display: none;\n",
              "      fill: #1967D2;\n",
              "      height: 32px;\n",
              "      padding: 0 0 0 0;\n",
              "      width: 32px;\n",
              "    }\n",
              "\n",
              "    .colab-df-convert:hover {\n",
              "      background-color: #E2EBFA;\n",
              "      box-shadow: 0px 1px 2px rgba(60, 64, 67, 0.3), 0px 1px 3px 1px rgba(60, 64, 67, 0.15);\n",
              "      fill: #174EA6;\n",
              "    }\n",
              "\n",
              "    .colab-df-buttons div {\n",
              "      margin-bottom: 4px;\n",
              "    }\n",
              "\n",
              "    [theme=dark] .colab-df-convert {\n",
              "      background-color: #3B4455;\n",
              "      fill: #D2E3FC;\n",
              "    }\n",
              "\n",
              "    [theme=dark] .colab-df-convert:hover {\n",
              "      background-color: #434B5C;\n",
              "      box-shadow: 0px 1px 3px 1px rgba(0, 0, 0, 0.15);\n",
              "      filter: drop-shadow(0px 1px 2px rgba(0, 0, 0, 0.3));\n",
              "      fill: #FFFFFF;\n",
              "    }\n",
              "  </style>\n",
              "\n",
              "    <script>\n",
              "      const buttonEl =\n",
              "        document.querySelector('#df-9a8cbd98-e1a5-4811-871d-702dabb26bda button.colab-df-convert');\n",
              "      buttonEl.style.display =\n",
              "        google.colab.kernel.accessAllowed ? 'block' : 'none';\n",
              "\n",
              "      async function convertToInteractive(key) {\n",
              "        const element = document.querySelector('#df-9a8cbd98-e1a5-4811-871d-702dabb26bda');\n",
              "        const dataTable =\n",
              "          await google.colab.kernel.invokeFunction('convertToInteractive',\n",
              "                                                    [key], {});\n",
              "        if (!dataTable) return;\n",
              "\n",
              "        const docLinkHtml = 'Like what you see? Visit the ' +\n",
              "          '<a target=\"_blank\" href=https://colab.research.google.com/notebooks/data_table.ipynb>data table notebook</a>'\n",
              "          + ' to learn more about interactive tables.';\n",
              "        element.innerHTML = '';\n",
              "        dataTable['output_type'] = 'display_data';\n",
              "        await google.colab.output.renderOutput(dataTable, element);\n",
              "        const docLink = document.createElement('div');\n",
              "        docLink.innerHTML = docLinkHtml;\n",
              "        element.appendChild(docLink);\n",
              "      }\n",
              "    </script>\n",
              "  </div>\n",
              "\n",
              "\n",
              "<div id=\"df-fbb4026c-9f9e-4539-abef-f7741c185cf1\">\n",
              "  <button class=\"colab-df-quickchart\" onclick=\"quickchart('df-fbb4026c-9f9e-4539-abef-f7741c185cf1')\"\n",
              "            title=\"Suggest charts\"\n",
              "            style=\"display:none;\">\n",
              "\n",
              "<svg xmlns=\"http://www.w3.org/2000/svg\" height=\"24px\"viewBox=\"0 0 24 24\"\n",
              "     width=\"24px\">\n",
              "    <g>\n",
              "        <path d=\"M19 3H5c-1.1 0-2 .9-2 2v14c0 1.1.9 2 2 2h14c1.1 0 2-.9 2-2V5c0-1.1-.9-2-2-2zM9 17H7v-7h2v7zm4 0h-2V7h2v10zm4 0h-2v-4h2v4z\"/>\n",
              "    </g>\n",
              "</svg>\n",
              "  </button>\n",
              "\n",
              "<style>\n",
              "  .colab-df-quickchart {\n",
              "      --bg-color: #E8F0FE;\n",
              "      --fill-color: #1967D2;\n",
              "      --hover-bg-color: #E2EBFA;\n",
              "      --hover-fill-color: #174EA6;\n",
              "      --disabled-fill-color: #AAA;\n",
              "      --disabled-bg-color: #DDD;\n",
              "  }\n",
              "\n",
              "  [theme=dark] .colab-df-quickchart {\n",
              "      --bg-color: #3B4455;\n",
              "      --fill-color: #D2E3FC;\n",
              "      --hover-bg-color: #434B5C;\n",
              "      --hover-fill-color: #FFFFFF;\n",
              "      --disabled-bg-color: #3B4455;\n",
              "      --disabled-fill-color: #666;\n",
              "  }\n",
              "\n",
              "  .colab-df-quickchart {\n",
              "    background-color: var(--bg-color);\n",
              "    border: none;\n",
              "    border-radius: 50%;\n",
              "    cursor: pointer;\n",
              "    display: none;\n",
              "    fill: var(--fill-color);\n",
              "    height: 32px;\n",
              "    padding: 0;\n",
              "    width: 32px;\n",
              "  }\n",
              "\n",
              "  .colab-df-quickchart:hover {\n",
              "    background-color: var(--hover-bg-color);\n",
              "    box-shadow: 0 1px 2px rgba(60, 64, 67, 0.3), 0 1px 3px 1px rgba(60, 64, 67, 0.15);\n",
              "    fill: var(--button-hover-fill-color);\n",
              "  }\n",
              "\n",
              "  .colab-df-quickchart-complete:disabled,\n",
              "  .colab-df-quickchart-complete:disabled:hover {\n",
              "    background-color: var(--disabled-bg-color);\n",
              "    fill: var(--disabled-fill-color);\n",
              "    box-shadow: none;\n",
              "  }\n",
              "\n",
              "  .colab-df-spinner {\n",
              "    border: 2px solid var(--fill-color);\n",
              "    border-color: transparent;\n",
              "    border-bottom-color: var(--fill-color);\n",
              "    animation:\n",
              "      spin 1s steps(1) infinite;\n",
              "  }\n",
              "\n",
              "  @keyframes spin {\n",
              "    0% {\n",
              "      border-color: transparent;\n",
              "      border-bottom-color: var(--fill-color);\n",
              "      border-left-color: var(--fill-color);\n",
              "    }\n",
              "    20% {\n",
              "      border-color: transparent;\n",
              "      border-left-color: var(--fill-color);\n",
              "      border-top-color: var(--fill-color);\n",
              "    }\n",
              "    30% {\n",
              "      border-color: transparent;\n",
              "      border-left-color: var(--fill-color);\n",
              "      border-top-color: var(--fill-color);\n",
              "      border-right-color: var(--fill-color);\n",
              "    }\n",
              "    40% {\n",
              "      border-color: transparent;\n",
              "      border-right-color: var(--fill-color);\n",
              "      border-top-color: var(--fill-color);\n",
              "    }\n",
              "    60% {\n",
              "      border-color: transparent;\n",
              "      border-right-color: var(--fill-color);\n",
              "    }\n",
              "    80% {\n",
              "      border-color: transparent;\n",
              "      border-right-color: var(--fill-color);\n",
              "      border-bottom-color: var(--fill-color);\n",
              "    }\n",
              "    90% {\n",
              "      border-color: transparent;\n",
              "      border-bottom-color: var(--fill-color);\n",
              "    }\n",
              "  }\n",
              "</style>\n",
              "\n",
              "  <script>\n",
              "    async function quickchart(key) {\n",
              "      const quickchartButtonEl =\n",
              "        document.querySelector('#' + key + ' button');\n",
              "      quickchartButtonEl.disabled = true;  // To prevent multiple clicks.\n",
              "      quickchartButtonEl.classList.add('colab-df-spinner');\n",
              "      try {\n",
              "        const charts = await google.colab.kernel.invokeFunction(\n",
              "            'suggestCharts', [key], {});\n",
              "      } catch (error) {\n",
              "        console.error('Error during call to suggestCharts:', error);\n",
              "      }\n",
              "      quickchartButtonEl.classList.remove('colab-df-spinner');\n",
              "      quickchartButtonEl.classList.add('colab-df-quickchart-complete');\n",
              "    }\n",
              "    (() => {\n",
              "      let quickchartButtonEl =\n",
              "        document.querySelector('#df-fbb4026c-9f9e-4539-abef-f7741c185cf1 button');\n",
              "      quickchartButtonEl.style.display =\n",
              "        google.colab.kernel.accessAllowed ? 'block' : 'none';\n",
              "    })();\n",
              "  </script>\n",
              "</div>\n",
              "    </div>\n",
              "  </div>\n"
            ]
          },
          "metadata": {},
          "execution_count": 18
        }
      ]
    },
    {
      "cell_type": "markdown",
      "source": [
        "Now we focus on the Health center patients:"
      ],
      "metadata": {
        "id": "iwV-kj-klAeD"
      }
    },
    {
      "cell_type": "code",
      "source": [
        "data_hospital = data[data[\"H\"] == 1]"
      ],
      "metadata": {
        "id": "SWVlCSgglXLb"
      },
      "execution_count": 19,
      "outputs": []
    },
    {
      "cell_type": "markdown",
      "source": [
        "Now, we may look at the data generation as being an RCT, since $S$ is randomly generated in the SCM. Therefore, we may end up in estimating the causal effect in this way:"
      ],
      "metadata": {
        "id": "96U2zQpzYWKv"
      }
    },
    {
      "cell_type": "code",
      "source": [
        "np.mean(data_hospital[data_hospital[\"S\"] == 1][\"T\"]) - np.mean(data_hospital[data_hospital[\"S\"] == 0][\"T\"])"
      ],
      "metadata": {
        "colab": {
          "base_uri": "https://localhost:8080/",
          "height": 37
        },
        "id": "Hqg1jKxSYkzk",
        "outputId": "a98b2562-6556-4710-d675-8860ab274ff4"
      },
      "execution_count": 20,
      "outputs": [
        {
          "output_type": "execute_result",
          "data": {
            "text/plain": [
              "-0.10764081482812993"
            ],
            "text/latex": "$\\displaystyle -0.10764081482813$"
          },
          "metadata": {},
          "execution_count": 20
        }
      ]
    },
    {
      "cell_type": "markdown",
      "source": [
        "The negative correlation between smoke and lung cancer is because of the open collider, and wrongly attributed to the causal effect. In fact, by selecting hospitalized patients, we are creating a non-causal association from $S$ to $T$."
      ],
      "metadata": {
        "id": "Bk3aMdyeYqxD"
      }
    },
    {
      "cell_type": "markdown",
      "source": [
        "There is no causal tool that may disentangle causal and non-causal flow here, ending up in wrong conclusions for the ATE.\n",
        "\n",
        "Do you really think that smoking has a protective role against lung cancer?"
      ],
      "metadata": {
        "id": "Zsk0KkUtE3Rj"
      }
    },
    {
      "cell_type": "code",
      "source": [
        "model = dowhy.CausalModel(\n",
        "    data = data_hospital,\n",
        "    treatment = \"S\",\n",
        "    outcome = \"T\",\n",
        "    graph = \"./G.dot\"\n",
        ")"
      ],
      "metadata": {
        "id": "rDG2Ttyklkgk"
      },
      "execution_count": 21,
      "outputs": []
    },
    {
      "cell_type": "code",
      "source": [
        "estimand = model.identify_effect(proceed_when_unidentifiable = True)\n",
        "estimator = \"backdoor.linear_regression\"\n",
        "estimate = model.estimate_effect(estimand, method_name = estimator)"
      ],
      "metadata": {
        "id": "NH6vo3sYlkgn"
      },
      "execution_count": 22,
      "outputs": []
    },
    {
      "cell_type": "code",
      "source": [
        "print(estimate)"
      ],
      "metadata": {
        "colab": {
          "base_uri": "https://localhost:8080/"
        },
        "outputId": "153730c0-b99f-4ee9-ddfb-ca64fa87136f",
        "id": "OFlj0g0Hlkgp"
      },
      "execution_count": 23,
      "outputs": [
        {
          "output_type": "stream",
          "name": "stdout",
          "text": [
            "*** Causal Estimate ***\n",
            "\n",
            "## Identified estimand\n",
            "Estimand type: EstimandType.NONPARAMETRIC_ATE\n",
            "\n",
            "### Estimand : 1\n",
            "Estimand name: backdoor\n",
            "Estimand expression:\n",
            " d        \n",
            "────(E[T])\n",
            "d[S]      \n",
            "Estimand assumption 1, Unconfoundedness: If U→{S} and U→T then P(T|S,,U) = P(T|S,)\n",
            "\n",
            "## Realized estimand\n",
            "b: T~S\n",
            "Target units: ate\n",
            "\n",
            "## Estimate\n",
            "Mean value: -0.10764081482812926\n",
            "\n"
          ]
        }
      ]
    },
    {
      "cell_type": "markdown",
      "source": [
        "However, by looking at the whole population, we do not introduce any selection bias. Notice that the selection bias is sometimes hard to identify, since it is often introduced not by purpose while carelessly collecting data at the origin."
      ],
      "metadata": {
        "id": "K-iZ_v33ZJ2-"
      }
    },
    {
      "cell_type": "code",
      "source": [
        "np.mean(data[data[\"S\"] == 1][\"T\"]) - np.mean(data[data[\"S\"] == 0][\"T\"])"
      ],
      "metadata": {
        "colab": {
          "base_uri": "https://localhost:8080/",
          "height": 37
        },
        "id": "9ygBJ0KOPctp",
        "outputId": "098f867f-190a-434b-ff8e-b6a0dff1cd03"
      },
      "execution_count": 24,
      "outputs": [
        {
          "output_type": "execute_result",
          "data": {
            "text/plain": [
              "0.3609226235928648"
            ],
            "text/latex": "$\\displaystyle 0.360922623592865$"
          },
          "metadata": {},
          "execution_count": 24
        }
      ]
    }
  ]
}