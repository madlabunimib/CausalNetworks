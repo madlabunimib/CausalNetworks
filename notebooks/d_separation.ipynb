{
 "cells": [
  {
   "cell_type": "code",
   "execution_count": null,
   "metadata": {
    "id": "QDHqa94yiJES"
   },
   "outputs": [],
   "source": [
    "%%capture\n",
    "!apt install python3-dev graphviz libgraphviz-dev pkg-config\n",
    "!pip install networkx pygraphviz matplotlib"
   ]
  },
  {
   "cell_type": "code",
   "execution_count": null,
   "metadata": {
    "id": "Cfgi1FfyiQ7D"
   },
   "outputs": [],
   "source": [
    "import networkx as nx\n",
    "import matplotlib.pyplot as plt\n",
    "\n",
    "from itertools import combinations\n",
    "from networkx import Graph, DiGraph\n",
    "from networkx.drawing.nx_agraph import graphviz_layout\n",
    "from typing import List, Set"
   ]
  },
  {
   "cell_type": "markdown",
   "metadata": {
    "id": "Gmp_KjvFiPE1"
   },
   "source": [
    "# An Implementaion of the D-Separation Algorithm\n",
    "\n"
   ]
  },
  {
   "cell_type": "markdown",
   "metadata": {
    "id": "O944fUfTiPE2"
   },
   "source": [
    "By Alessio Zanga and Fabio Stella"
   ]
  },
  {
   "cell_type": "markdown",
   "metadata": {
    "id": "tuZnQpzUiiVM"
   },
   "source": [
    "## Abstract"
   ]
  },
  {
   "cell_type": "markdown",
   "metadata": {
    "id": "9BdfMInQisoE"
   },
   "source": [
    "The d-separation is usually defined as:\n",
    "\n",
    "A path $p$ is blocked by a set of nodes $\\mathbf{S}$ if and only if:\n",
    "\n",
    "1. $p$ contains a chain of nodes $A \\rightarrow B \\rightarrow C$ or a fork $A \\leftarrow B \\rightarrow C$ such that the middle node $B$ is in $\\mathbf{S}$,\n",
    "2. or $p$ contains a collider $A \\rightarrow B \\leftarrow C$ such that the collision node $B$ is not in $\\mathbf{S}$, and no descendant of is in $\\mathbf{S}$.\n",
    "\n",
    "If $\\mathbf{S}$ blocks every path between two nodes $X$ and $Y$, then $X$ and $Y$ are d-separated, and thus are independent conditional on $\\mathbf{S}$."
   ]
  },
  {
   "cell_type": "markdown",
   "metadata": {
    "id": "oSqNLbxDJhEY"
   },
   "source": [
    "While this definition is correct, it cannot be directly translated in a functional form."
   ]
  },
  {
   "cell_type": "markdown",
   "metadata": {
    "id": "dZhfSUy4iuVb"
   },
   "source": [
    "## Introduction"
   ]
  },
  {
   "cell_type": "markdown",
   "metadata": {
    "id": "tHr3so6xHz0v"
   },
   "source": [
    "An algorithmic definition of d-separation can be found in \"Probabilistic Graphical Models: Principles and Techniques\" by D. Koller and N. Friedman, page 136."
   ]
  },
  {
   "cell_type": "markdown",
   "metadata": {
    "id": "jy8DTwdPiyhz"
   },
   "source": [
    "Let $\\mathbf{X}$, $\\mathbf{Y}$ and $\\mathbf{Z}$ be three disjoint sets of $\\mathbf{V}$ in the graph $G$. Let $\\mathbf{S} = \\mathbf{X} \\cup \\mathbf{Y} \\cup \\mathbf{Z}$ and $G^{[\\mathbf{S}]}$ be the *upward closure* of $G$ over $\\mathbf{S} \\cup Ancestors(\\mathbf{S})$. Let $H$ be the *moralized graph* of $G^{[\\mathbf{S}]}$. Then *d-sep*$_G$($\\mathbf{X}$, $\\mathbf{Y}$, $\\mathbf{Z}$) if and only if *u-sep*$_H$($\\mathbf{X}, \\mathbf{Y}, \\mathbf{Z}$)."
   ]
  },
  {
   "cell_type": "markdown",
   "metadata": {
    "id": "fQOzSiPtsmfo"
   },
   "source": [
    "Let's split the definition step-by-step:"
   ]
  },
  {
   "cell_type": "markdown",
   "metadata": {
    "id": "SSQO5GQEsaPU"
   },
   "source": [
    "\n",
    "\n",
    "* Let $\\mathbf{X}$, $\\mathbf{Y}$ and $\\mathbf{Z}$ be three disjoint sets of $\\mathbf{V}$ in the graph $G$.\n",
    "* Let $\\mathbf{S} = \\mathbf{X} \\cup \\mathbf{Y} \\cup \\mathbf{Z}$ and $G^{[\\mathbf{S}]}$ be the *upward closure* of $G$ over $\\mathbf{S} \\cup Ancestors(\\mathbf{S})$.\n",
    "* Let $H$ be the *moralized graph* of $G^{[\\mathbf{S}]}$.\n",
    "* Then *d-sep*$_G$($\\mathbf{X}, \\mathbf{Y}, \\mathbf{Z}$) if and only if *u-sep*$_H$($\\mathbf{X}, \\mathbf{Y}, \\mathbf{Z}$).\n",
    "\n"
   ]
  },
  {
   "cell_type": "markdown",
   "metadata": {
    "id": "RYDJnSRfjUZJ"
   },
   "source": [
    "## Implementation"
   ]
  },
  {
   "cell_type": "markdown",
   "metadata": {
    "id": "m6jbJ0qupiY4"
   },
   "source": [
    "### [Set Operators](https://docs.python.org/3/library/stdtypes.html#set) in Python"
   ]
  },
  {
   "cell_type": "code",
   "execution_count": null,
   "metadata": {
    "colab": {
     "base_uri": "https://localhost:8080/"
    },
    "id": "Hj0j8vPjppZg",
    "outputId": "f5f336bb-05d7-464d-f10b-9fdeeb28bbd8"
   },
   "outputs": [
    {
     "name": "stdout",
     "output_type": "stream",
     "text": [
      "Boolean({}):  False\n",
      "Boolean({'X', 'Y', 'Z'}):  True\n",
      "{'X', 'Y'}  ∪  {'Y', 'Z'} == {'X', 'Y', 'Z'}:  True\n",
      "{'X', 'Y'}  ∩  {'Y', 'Z'} == {'Y'}:  True\n",
      "{'X', 'Y'}  \\  {'Y', 'Z'} == {'X'}:  True\n",
      "{'X', 'Y'}  ⊆  {'Y', 'Z'}:  False\n"
     ]
    }
   ],
   "source": [
    "# The boolean evaluation of an empty set is False.\n",
    "print(\"Boolean({}): \", bool(set()))\n",
    "# The boolean evaluation of a non-empty set is True.\n",
    "print(\"Boolean({'X', 'Y', 'Z'}): \", bool({\"X\", \"Y\", \"Z\"}))\n",
    "# The union operator is '|'.\n",
    "print(\n",
    "  \"{'X', 'Y'}  ∪  {'Y', 'Z'} == {'X', 'Y', 'Z'}: \",\n",
    "   {\"X\", \"Y\"}  |  {\"Y\", \"Z\"} == {\"X\", \"Y\", \"Z\"}\n",
    ")\n",
    "# The intersection operator is '&'.\n",
    "print(\n",
    "  \"{'X', 'Y'}  ∩  {'Y', 'Z'} == {'Y'}: \",\n",
    "   {\"X\", \"Y\"}  &  {\"Y\", \"Z\"} == {\"Y\"}\n",
    ")\n",
    "# The difference operator is '-'.\n",
    "print(\n",
    "  \"{'X', 'Y'}  \\  {'Y', 'Z'} == {'X'}: \",\n",
    "   {\"X\", \"Y\"}  -  {\"Y\", \"Z\"} == {\"X\"}\n",
    ")\n",
    "# The \"subset or equal\" operator is '<='.\n",
    "print(\n",
    "  \"{'X', 'Y'}  ⊆  {'Y', 'Z'}: \",\n",
    "   {\"X\", \"Y\"}  <= {\"Y\", \"Z\"}\n",
    ")"
   ]
  },
  {
   "cell_type": "markdown",
   "metadata": {
    "id": "iEYUlpA_J5Lo"
   },
   "source": [
    "### Implementing the Graphical Separation for Undirected Graphs"
   ]
  },
  {
   "cell_type": "markdown",
   "metadata": {
    "id": "QriI55xbUvXo"
   },
   "source": [
    "Graphical separation in undirected graphs reduces to **check whether a path between nodes exsits**. Specifically, two nodes $X$ and $Y$ are separated if there is no path that connects them. Since graphical separation **depends on the definition of path**, in undirected graphs it is often referred as *u(ndirected)*-separation, while in directed graphs is called *d(irected)*-separation."
   ]
  },
  {
   "cell_type": "markdown",
   "metadata": {
    "id": "nIqQstt2XYot"
   },
   "source": [
    "Let's make an example:"
   ]
  },
  {
   "cell_type": "code",
   "execution_count": null,
   "metadata": {
    "id": "j0HPsXKlP5D1"
   },
   "outputs": [],
   "source": [
    "H = Graph([(\"A\", \"B\"), (\"A\", \"C\"), (\"B\", \"C\"), (\"C\", \"D\"), (\"D\", \"E\"), (\"C\", \"F\")])"
   ]
  },
  {
   "cell_type": "markdown",
   "metadata": {
    "id": "k2RkY9kXXcHA"
   },
   "source": [
    "Let's define a plot style:"
   ]
  },
  {
   "cell_type": "code",
   "execution_count": null,
   "metadata": {
    "id": "IcZ88tYSX8B7"
   },
   "outputs": [],
   "source": [
    "def draw(G, path: List[str] = []):\n",
    "  plt.figure()\n",
    "  pos = graphviz_layout(G, prog = \"dot\")\n",
    "  for v in G.nodes():\n",
    "    node_color = \"white\"\n",
    "    if any(v in e for e in path):\n",
    "      node_color = \"orange\"\n",
    "    nx.draw_networkx_nodes(\n",
    "        G,\n",
    "        pos = pos,\n",
    "        nodelist = [v],\n",
    "        node_color = node_color,\n",
    "        node_shape = \"s\"\n",
    "      )\n",
    "  nx.draw_networkx_labels(G, pos = pos, font_size = 15)\n",
    "  for e in G.edges():\n",
    "    width = 1.0\n",
    "    edge_color = \"black\"\n",
    "    if e in path:\n",
    "      width = 1.5\n",
    "      edge_color = \"orange\"\n",
    "    nx.draw_networkx_edges(\n",
    "        G,\n",
    "        pos = pos,\n",
    "        edgelist = [e],\n",
    "        edge_color = edge_color,\n",
    "        width = width\n",
    "    )"
   ]
  },
  {
   "cell_type": "code",
   "execution_count": null,
   "metadata": {
    "colab": {
     "base_uri": "https://localhost:8080/",
     "height": 248
    },
    "id": "YiGaDt5DRlpd",
    "outputId": "009ea27e-a1b6-4bba-8883-421103f9b976"
   },
   "outputs": [
    {
     "data": {
      "image/png": "[encoded data removed]",
      "text/plain": [
       "<Figure size 432x288 with 1 Axes>"
      ]
     },
     "metadata": {},
     "output_type": "display_data"
    }
   ],
   "source": [
    "draw(H)"
   ]
  },
  {
   "cell_type": "markdown",
   "metadata": {
    "id": "H7NwIYjsV9aA"
   },
   "source": [
    "To check for **unconditional** separation one must **check for the existence of a path in the original graph**."
   ]
  },
  {
   "cell_type": "code",
   "execution_count": null,
   "metadata": {
    "colab": {
     "base_uri": "https://localhost:8080/"
    },
    "id": "DhA2nunMRxTJ",
    "outputId": "260a9d1a-b087-4e53-fe84-c0099669fc53"
   },
   "outputs": [
    {
     "name": "stdout",
     "output_type": "stream",
     "text": [
      "Is 'A' u-separated from 'E'?  False\n"
     ]
    }
   ],
   "source": [
    "print(\"Is 'A' u-separated from 'E'? \", not nx.has_path(H, \"A\", \"E\"))"
   ]
  },
  {
   "cell_type": "markdown",
   "metadata": {
    "id": "uQd5iCxjcN1d"
   },
   "source": [
    "Indeed, **a path exists**:"
   ]
  },
  {
   "cell_type": "code",
   "execution_count": null,
   "metadata": {
    "colab": {
     "base_uri": "https://localhost:8080/",
     "height": 248
    },
    "id": "CfPRKpM7cP1l",
    "outputId": "48420cfc-9129-411c-c07d-25033c134040"
   },
   "outputs": [
    {
     "data": {
      "image/png": "[encoded data removed]",
      "text/plain": [
       "<Figure size 432x288 with 1 Axes>"
      ]
     },
     "metadata": {},
     "output_type": "display_data"
    }
   ],
   "source": [
    "path = next(nx.all_simple_edge_paths(H, \"A\", \"E\"))  # Get the first path.\n",
    "draw(H, path)"
   ]
  },
  {
   "cell_type": "markdown",
   "metadata": {
    "id": "S0jodulnWFZY"
   },
   "source": [
    "To check for **conditional** separation one must **block**, i.e. disrupt, the paths dependant on the conditioning node. Therefore, we reduce this problem to checking for **unconditional** separation in a **modified graph** where the **conditioning nodes are removed**."
   ]
  },
  {
   "cell_type": "code",
   "execution_count": null,
   "metadata": {
    "colab": {
     "base_uri": "https://localhost:8080/",
     "height": 248
    },
    "id": "ez2nyI-VW4Vn",
    "outputId": "bd565627-7853-40fc-c2ae-48afddcf3ee8"
   },
   "outputs": [
    {
     "data": {
      "image/png": "[encoded data removed]",
      "text/plain": [
       "<Figure size 432x288 with 1 Axes>"
      ]
     },
     "metadata": {},
     "output_type": "display_data"
    }
   ],
   "source": [
    "# Remove the conditioning nodes.\n",
    "H_prime = H.copy()\n",
    "H_prime.remove_node(\"D\")\n",
    "# Draw the conditioned graph.\n",
    "draw(H_prime)"
   ]
  },
  {
   "cell_type": "code",
   "execution_count": null,
   "metadata": {
    "colab": {
     "base_uri": "https://localhost:8080/"
    },
    "id": "xdyZItiCXiKB",
    "outputId": "32240fc2-508a-4e2b-ae4d-340b29046a76"
   },
   "outputs": [
    {
     "name": "stdout",
     "output_type": "stream",
     "text": [
      "Is 'A' u-separated from 'E' given 'D'?  True\n"
     ]
    }
   ],
   "source": [
    "print(\"Is 'A' u-separated from 'E' given 'D'? \", not nx.has_path(H_prime, \"A\", \"E\"))"
   ]
  },
  {
   "cell_type": "markdown",
   "metadata": {
    "id": "4eoI8NmZdIN7"
   },
   "source": [
    "If we want to generalize this algorithm to sets instead of just nodes, we can rely on **connected components** instead of just paths. In this case, two disjoint sets of nodes $\\mathbf{X}$ and $\\mathbf{Y}$ are u-separated if every node in $\\mathbf{X}$ is not in a connected component with a node in $\\mathbf{Y}$."
   ]
  },
  {
   "cell_type": "code",
   "execution_count": null,
   "metadata": {
    "colab": {
     "base_uri": "https://localhost:8080/"
    },
    "id": "6exKOU50fvN-",
    "outputId": "6fb35b93-39d2-4f5e-bd5d-5cc5b87dd55c"
   },
   "outputs": [
    {
     "name": "stdout",
     "output_type": "stream",
     "text": [
      "Is {'A'} u-separated from {'E'} given {'D'}?  True\n"
     ]
    }
   ],
   "source": [
    "print(\n",
    "  \"Is {'A'} u-separated from {'E'} given {'D'}? \",\n",
    "  not(any((bool(C & {\"A\"})) and bool(C & {\"E\"}) for C in nx.connected_components(H_prime)))\n",
    ")"
   ]
  },
  {
   "cell_type": "code",
   "execution_count": null,
   "metadata": {
    "colab": {
     "base_uri": "https://localhost:8080/",
     "height": 479
    },
    "id": "D-weE8XieUqa",
    "outputId": "3ebdce4b-0d16-452e-dbcb-1a679c51eb56"
   },
   "outputs": [
    {
     "data": {
      "image/png": "[encoded data removed]",
      "text/plain": [
       "<Figure size 432x288 with 1 Axes>"
      ]
     },
     "metadata": {},
     "output_type": "display_data"
    },
    {
     "data": {
      "image/png": "[encoded data removed]",
      "text/plain": [
       "<Figure size 432x288 with 1 Axes>"
      ]
     },
     "metadata": {},
     "output_type": "display_data"
    }
   ],
   "source": [
    "# Connected components are computed as sets of nodes.\n",
    "Cs = list(nx.connected_components(H_prime))\n",
    "for C in Cs:\n",
    "  draw(H_prime.subgraph(C))"
   ]
  },
  {
   "cell_type": "code",
   "execution_count": null,
   "metadata": {
    "colab": {
     "base_uri": "https://localhost:8080/"
    },
    "id": "f2_5WHEngGQ1",
    "outputId": "6f7a12f5-6261-4a05-f64d-c97f892df3b6"
   },
   "outputs": [
    {
     "name": "stdout",
     "output_type": "stream",
     "text": [
      "Is {'A'} u-separated from {'B'} given {'D'}?  False\n"
     ]
    }
   ],
   "source": [
    "print(\n",
    "  \"Is {'A'} u-separated from {'B'} given {'D'}? \",\n",
    "  not(any((bool(C & {\"A\"})) and bool(C & {\"B\"}) for C in nx.connected_components(H_prime)))\n",
    ")"
   ]
  },
  {
   "cell_type": "code",
   "execution_count": null,
   "metadata": {
    "colab": {
     "base_uri": "https://localhost:8080/",
     "height": 248
    },
    "id": "nbyE6_KhgJMd",
    "outputId": "1cde37dc-0821-4e5d-ec7a-d568b54a0a16"
   },
   "outputs": [
    {
     "data": {
      "image/png": "[encoded data removed]",
      "text/plain": [
       "<Figure size 432x288 with 1 Axes>"
      ]
     },
     "metadata": {},
     "output_type": "display_data"
    }
   ],
   "source": [
    "path = next(nx.all_simple_edge_paths(H_prime.subgraph(Cs[0]), \"A\", \"B\"))\n",
    "draw(H_prime.subgraph(Cs[0]), path)"
   ]
  },
  {
   "cell_type": "code",
   "execution_count": null,
   "metadata": {
    "colab": {
     "base_uri": "https://localhost:8080/",
     "height": 248
    },
    "id": "zQj6IcBAhrFv",
    "outputId": "76d615b6-d701-4feb-ac53-88a398ff5b4c"
   },
   "outputs": [
    {
     "data": {
      "image/png": "[encoded data removed]",
      "text/plain": [
       "<Figure size 432x288 with 1 Axes>"
      ]
     },
     "metadata": {},
     "output_type": "display_data"
    }
   ],
   "source": [
    "draw(H_prime, path)"
   ]
  },
  {
   "cell_type": "markdown",
   "metadata": {
    "id": "v5UzW-W7P56E"
   },
   "source": [
    "Now we can implement the u-separation over set of nodes:"
   ]
  },
  {
   "cell_type": "code",
   "execution_count": null,
   "metadata": {
    "id": "sROCkI20t4F6"
   },
   "outputs": [],
   "source": [
    "def are_u_separated(H: Graph, X: Set[str], Y: Set[str], Z: Set[str]) -> bool:\n",
    "  \"\"\"Check the u-separation in H of X, Y and Z.\"\"\"\n",
    "  # Remove the nodes in Z from H to disrupt potential paths from X to Y.\n",
    "  H_Z = H.subgraph(set(H.nodes()) - Z)\n",
    "  # Check if there exists at least one path between a node in X and a node in Y.\n",
    "  are_separated = not(any((bool(C & X) and bool(C & Y)) for C in nx.connected_components(H_Z)))\n",
    "  #\n",
    "  # Which is equivalent to:\n",
    "  #\n",
    "  # for C in nx.connected_components(H_Z):\n",
    "  #   if bool(C & X) and bool(C & Y):\n",
    "  #     return False\n",
    "  # return True\n",
    "  #\n",
    "  return are_separated"
   ]
  },
  {
   "cell_type": "markdown",
   "metadata": {
    "id": "MwtdmXQFJ1UA"
   },
   "source": [
    "### Implementing the Moral Graph of Directed Graphs"
   ]
  },
  {
   "cell_type": "markdown",
   "metadata": {
    "id": "gZDYf9SRmGit"
   },
   "source": [
    "If directed graphs where equivalent to undirected graphs, then d-separation could be achieved by turning a directed graph into an undirecte graph. Unfortunately, this is not the case. Or, at least, the step to **map a directed graph into an undirected one** is not that... direct."
   ]
  },
  {
   "cell_type": "markdown",
   "metadata": {
    "id": "pb9Vvi_Tp_5w"
   },
   "source": [
    "A **moral graph** H is an **undirected copy** of a directed graph G, where **each pair of parents** of each node in G is connected by an undirected edge."
   ]
  },
  {
   "cell_type": "markdown",
   "metadata": {
    "id": "Ykxh-LAWqiHT"
   },
   "source": [
    "The difficult step here is not to implement the algorithm, but to **undestand why we need to connect the parents** of each node."
   ]
  },
  {
   "cell_type": "markdown",
   "metadata": {
    "id": "TyJWt2fgdCf9"
   },
   "source": [
    "Recall that a DAG $G$ induces a **factorization** of the probability distribution $P(\\mathbf{X}) = \\Pi_{X \\in \\mathbf{X}} \\, P(X | Pa(X))$, with the given assumptions."
   ]
  },
  {
   "cell_type": "markdown",
   "metadata": {
    "id": "HmqUjAv1ezCr"
   },
   "source": [
    "If you isolate each term, i.e. $P(X|Pa(X))$, you can clearly see the involved nodes, namely $\\{ X \\} \\cup Pa(X)$, called **family** $Fm(X)$."
   ]
  },
  {
   "cell_type": "markdown",
   "metadata": {
    "id": "2eH117ZOgXbn"
   },
   "source": [
    "Intuitively, each node in $Fm(X)$ contributes to the relationships that describe $P(X | Pa(X))$, and, therefore, must be preserved during the translation to the undirected graph."
   ]
  },
  {
   "cell_type": "markdown",
   "metadata": {
    "id": "nN03vx7miPH0"
   },
   "source": [
    "If you want full story, please, refer to [Markov Networks](https://en.wikipedia.org/wiki/Markov_random_field), and ask a Master Thesis to us."
   ]
  },
  {
   "cell_type": "code",
   "execution_count": null,
   "metadata": {
    "colab": {
     "base_uri": "https://localhost:8080/",
     "height": 248
    },
    "id": "BliYCW2NAebJ",
    "outputId": "8bef7bed-3e57-47e5-8e0c-9fbdcaa971f2"
   },
   "outputs": [
    {
     "data": {
      "image/png": "[encoded data removed]",
      "text/plain": [
       "<Figure size 432x288 with 1 Axes>"
      ]
     },
     "metadata": {},
     "output_type": "display_data"
    }
   ],
   "source": [
    "G = DiGraph([(\"A\", \"C\"), (\"B\", \"C\"), (\"C\", \"D\"), (\"D\", \"E\"), (\"C\", \"F\")])\n",
    "\n",
    "draw(G)"
   ]
  },
  {
   "cell_type": "code",
   "execution_count": null,
   "metadata": {
    "colab": {
     "base_uri": "https://localhost:8080/",
     "height": 248
    },
    "id": "7zyfDIWHBykb",
    "outputId": "05d3b328-0624-4ef2-a71f-7425aef0bd8d"
   },
   "outputs": [
    {
     "data": {
      "image/png": "[encoded data removed]",
      "text/plain": [
       "<Figure size 432x288 with 1 Axes>"
      ]
     },
     "metadata": {},
     "output_type": "display_data"
    }
   ],
   "source": [
    "# Build an undirected copy.\n",
    "H = G.to_undirected()\n",
    "# Compute the edge to add.\n",
    "E = set()\n",
    "for v in G.nodes():\n",
    "  Pa_v = G.predecessors(v)\n",
    "  for (u, w) in combinations(Pa_v, 2):\n",
    "    E = E | {(u, w)}\n",
    "# Add the required edges.\n",
    "H.add_edges_from(E)\n",
    "# Draw the moralized graph.\n",
    "draw(H, E)"
   ]
  },
  {
   "cell_type": "code",
   "execution_count": null,
   "metadata": {
    "id": "kzSpl3C8t4ND"
   },
   "outputs": [],
   "source": [
    "def moral(G: DiGraph) -> Graph:\n",
    "  \"\"\"Compute the moral graph of G.\"\"\"\n",
    "  # Build an undirected copy of G.\n",
    "  H = G.to_undirected()\n",
    "  # For each node, for each *pair* of parents, add an edge into H.\n",
    "  H.add_edges_from(e for v in G.nodes() for e in combinations(G.predecessors(v), 2))\n",
    "  #\n",
    "  # Which is equivalent to:\n",
    "  #\n",
    "  # for v in G.nodes():\n",
    "  #   Pa_v = G.predecessors(v)\n",
    "  #   for (u, w) in combinations(Pa_v, 2):\n",
    "  #     H.add_edge(u, w)\n",
    "  #\n",
    "  return H"
   ]
  },
  {
   "cell_type": "markdown",
   "metadata": {
    "id": "ZXF1QJdWJsqa"
   },
   "source": [
    "### Implementing the Upward Clousure of Directed Graphs\n"
   ]
  },
  {
   "cell_type": "markdown",
   "metadata": {
    "id": "odzHJXGcrkAy"
   },
   "source": [
    "A collider $X \\rightarrow Z \\leftarrow Y$ is said to be an **immorality** if there is no direct edge between $X$ and $Y$."
   ]
  },
  {
   "cell_type": "markdown",
   "metadata": {
    "id": "5luMf2LAu0BT"
   },
   "source": [
    "Intuitively, moralization causes **loss of information** about independencies **only when it introduces new edges** into the graph."
   ]
  },
  {
   "cell_type": "markdown",
   "metadata": {
    "id": "AEcV67Mvtw1N"
   },
   "source": [
    "Thefore, the moralized graph $H$ itself is not the right construct, because **there are paths in the undirected graph that correspond to colliders in $G$ that may or may not be blocked**."
   ]
  },
  {
   "cell_type": "markdown",
   "metadata": {
    "id": "sjO9QI5gu9Ks"
   },
   "source": [
    "For example, if our graph $G$ is $X \\rightarrow Z \\leftarrow Y$ and $Z$ is not observed, d-separation tells us that $X$ and $Y$ are independent, but the moralized graph for $G$ is the complete undirected graph, which does not have the same independence."
   ]
  },
  {
   "cell_type": "markdown",
   "metadata": {
    "id": "bvLkyTgGuHjA"
   },
   "source": [
    "We first want to eliminate immoralities that are not open (i.e. blocked), so as to remove such cases."
   ]
  },
  {
   "cell_type": "markdown",
   "metadata": {
    "id": "b4yz-ZnRvDbd"
   },
   "source": [
    "To do so, we first construct a subgraph where **remove all immoralities that do not have an observed descendant**. The elimination of such nodes does not change the independence properties of the distribution over the remaining variables, but does eliminate paths in the graph involving immoralities that are not open."
   ]
  },
  {
   "cell_type": "markdown",
   "metadata": {
    "id": "8bbOh3e-vHkF"
   },
   "source": [
    "This process is called the **upward closure**, which consists in building the subgraph given a set of nodes and thier ancestors."
   ]
  },
  {
   "cell_type": "code",
   "execution_count": null,
   "metadata": {
    "id": "s0ooAUufuCcm"
   },
   "outputs": [],
   "source": [
    "def ancestors(G: DiGraph, S: Set[str]) -> Set[str]:\n",
    "  \"\"\"Compute the set of ancestors in G for a given set of nodes S.\"\"\"\n",
    "  An_S = {an_s for s in S for an_s in nx.ancestors(G, s)}\n",
    "  #\n",
    "  # Which is equivalent to:\n",
    "  #\n",
    "  # An_S = set()\n",
    "  # for s in S:\n",
    "  #   for an_s in nx.ancestors(G, s):\n",
    "  #     An_S = An_S | {an_s}\n",
    "  #\n",
    "  return An_S"
   ]
  },
  {
   "cell_type": "code",
   "execution_count": null,
   "metadata": {
    "id": "WuhNL9tAt4Tz"
   },
   "outputs": [],
   "source": [
    "def upward_closure(G: DiGraph, S: Set[str]) -> DiGraph:\n",
    "  \"\"\"Compute the upward closure of G for a given set of nodes S.\"\"\"\n",
    "  return G.subgraph(S | ancestors(G, S))"
   ]
  },
  {
   "cell_type": "markdown",
   "metadata": {
    "id": "6iZldGT-KAg5"
   },
   "source": [
    "### Implementing the Graphical Separation for Directed Graphs"
   ]
  },
  {
   "cell_type": "markdown",
   "metadata": {
    "id": "vx_SHpBxxqAt"
   },
   "source": [
    "Now we can implement the d-separation by assembling the previous algorithms."
   ]
  },
  {
   "cell_type": "code",
   "execution_count": null,
   "metadata": {
    "colab": {
     "base_uri": "https://localhost:8080/"
    },
    "id": "gLRtL0mxDHCj",
    "outputId": "d1a1f71a-261e-4891-ef46-40927c1b1519"
   },
   "outputs": [
    {
     "name": "stdout",
     "output_type": "stream",
     "text": [
      "Is {'A'} d-separated from {'E'} given {'D'}?  True\n"
     ]
    }
   ],
   "source": [
    "X = {\"A\"}\n",
    "Y = {\"E\"}\n",
    "Z = {\"D\"}\n",
    "# Compute the upper closure.\n",
    "S = X | Y | Z\n",
    "G_S = upward_closure(G, S)\n",
    "# Moralize the upper closure.\n",
    "H = moral(G_S)\n",
    "# Check for u-separation in the moralized graph.\n",
    "print(\"Is {'A'} d-separated from {'E'} given {'D'}? \", are_u_separated(H, X, Y, Z))"
   ]
  },
  {
   "cell_type": "markdown",
   "metadata": {
    "id": "6f07yxz_EJ5R"
   },
   "source": [
    "Tying it all together:"
   ]
  },
  {
   "cell_type": "code",
   "execution_count": null,
   "metadata": {
    "id": "dLbRaQect36T"
   },
   "outputs": [],
   "source": [
    "def are_d_separated(G: DiGraph, X: Set[str], Y: Set[str], Z: Set[str]) -> bool:\n",
    "  \"\"\"Check the d-separation in G of X, Y and Z.\"\"\"\n",
    "  # *We also require that X and Y are non-empty.*\n",
    "  assert bool(X) and bool(Y)\n",
    "  # Let S = X U Y U Z ...\n",
    "  S = X | Y | Z\n",
    "  # Let X, Y and Z be three disjoint sets of V in the graph G.\n",
    "  assert not(bool(X & Y | Y & Z | X & Z)) and (S <= set(G.nodes()))\n",
    "  # ... and G[S] be the upward closure of G over S U Ancestors(S).\n",
    "  G_S = upward_closure(G, S)\n",
    "  # Let H be the moralized graph of G[S].\n",
    "  H = moral(G_S)\n",
    "  # Then d-sep_G(X, Y, Z) if and only if u-sep_H(X, Y, Z).\n",
    "  are_separated = are_u_separated(H, X, Y, Z)\n",
    "  # Return result.\n",
    "  return are_separated"
   ]
  },
  {
   "cell_type": "markdown",
   "metadata": {
    "id": "5C-NxRe8EVLu"
   },
   "source": [
    "Then *are_d_separated(G, X, Y, Z)* if and only if *are_u_separated(H, X, Y, Z)*:"
   ]
  },
  {
   "cell_type": "code",
   "execution_count": null,
   "metadata": {
    "colab": {
     "base_uri": "https://localhost:8080/"
    },
    "id": "AKpHr10gEQ3h",
    "outputId": "cb979be6-8119-4f58-8897-1d411f17869f"
   },
   "outputs": [
    {
     "name": "stdout",
     "output_type": "stream",
     "text": [
      "Is {'A'} d-separated from {'E'} given {'D'}?  True\n"
     ]
    }
   ],
   "source": [
    "print(\"Is {'A'} d-separated from {'E'} given {'D'}? \", are_d_separated(G, X, Y, Z))"
   ]
  },
  {
   "cell_type": "markdown",
   "metadata": {
    "id": "YjWPdvHbjfjD"
   },
   "source": [
    "## Tests"
   ]
  },
  {
   "cell_type": "markdown",
   "metadata": {
    "id": "rc2p-2OylR2y"
   },
   "source": [
    "Let's test it on a new example:"
   ]
  },
  {
   "cell_type": "code",
   "execution_count": null,
   "metadata": {
    "colab": {
     "base_uri": "https://localhost:8080/",
     "height": 248
    },
    "id": "d8SgtIIhlUmB",
    "outputId": "38ad79e5-6962-4bad-9125-793d5d2e99db"
   },
   "outputs": [
    {
     "data": {
      "image/png": "[encoded data removed]",
      "text/plain": [
       "<Figure size 432x288 with 1 Axes>"
      ]
     },
     "metadata": {},
     "output_type": "display_data"
    }
   ],
   "source": [
    "G = DiGraph([(\"A\", \"C\"), (\"B\", \"C\"), (\"C\", \"D\"), (\"A\", \"E\"), (\"B\", \"F\")])\n",
    "\n",
    "draw(G)"
   ]
  },
  {
   "cell_type": "code",
   "execution_count": null,
   "metadata": {
    "id": "Bdwass73lv6R"
   },
   "outputs": [],
   "source": [
    "assert are_d_separated(G, {\"E\"}, {\"F\"}, set())"
   ]
  },
  {
   "cell_type": "code",
   "execution_count": null,
   "metadata": {
    "id": "9d_WUm8QmqXl"
   },
   "outputs": [],
   "source": [
    "assert are_d_separated(G, {\"E\"}, {\"B\"}, set())"
   ]
  },
  {
   "cell_type": "code",
   "execution_count": null,
   "metadata": {
    "id": "0APZrZ3LmqVb"
   },
   "outputs": [],
   "source": [
    "assert are_d_separated(G, {\"E\"}, {\"F\"}, {\"B\"})"
   ]
  },
  {
   "cell_type": "code",
   "execution_count": null,
   "metadata": {
    "id": "vqnLGPTNmqS2"
   },
   "outputs": [],
   "source": [
    "assert are_d_separated(G, {\"E\"}, {\"B\"}, {\"F\"})"
   ]
  },
  {
   "cell_type": "code",
   "execution_count": null,
   "metadata": {
    "id": "GSD0nDXYmqQ2"
   },
   "outputs": [],
   "source": [
    "assert are_d_separated(G, {\"E\"}, {\"F\"}, {\"A\", \"C\"})"
   ]
  },
  {
   "cell_type": "code",
   "execution_count": null,
   "metadata": {
    "id": "o_NnJwCWmqO9"
   },
   "outputs": [],
   "source": [
    "assert are_d_separated(G, {\"E\"}, {\"F\"}, {\"B\", \"D\"})"
   ]
  },
  {
   "cell_type": "code",
   "execution_count": null,
   "metadata": {
    "id": "nRTBOIFLmqM_"
   },
   "outputs": [],
   "source": [
    "assert are_d_separated(G, {\"A\"}, {\"B\"}, set())"
   ]
  },
  {
   "cell_type": "code",
   "execution_count": null,
   "metadata": {
    "id": "JJ8kPcTGmqK2"
   },
   "outputs": [],
   "source": [
    "assert are_d_separated(G, {\"A\"}, {\"F\"}, set())"
   ]
  },
  {
   "cell_type": "code",
   "execution_count": null,
   "metadata": {
    "id": "tmVLMvbEmqAz"
   },
   "outputs": [],
   "source": [
    "assert are_d_separated(G, {\"A\"}, {\"F\"}, {\"E\"})"
   ]
  },
  {
   "cell_type": "code",
   "execution_count": null,
   "metadata": {
    "id": "fRrt83Tjoq3_"
   },
   "outputs": [],
   "source": [
    "assert are_d_separated(G, {\"D\"}, {\"F\"}, {\"C\"})"
   ]
  },
  {
   "cell_type": "code",
   "execution_count": null,
   "metadata": {
    "id": "OYxvNKizpKAN"
   },
   "outputs": [],
   "source": [
    "assert not are_d_separated(G, {\"E\"}, {\"A\"}, set())"
   ]
  },
  {
   "cell_type": "code",
   "execution_count": null,
   "metadata": {
    "id": "jsc2jI5OpR7l"
   },
   "outputs": [],
   "source": [
    "assert not are_d_separated(G, {\"E\"}, {\"C\"}, set())"
   ]
  },
  {
   "cell_type": "code",
   "execution_count": null,
   "metadata": {
    "id": "_Wx0l0ESpSZ-"
   },
   "outputs": [],
   "source": [
    "assert not are_d_separated(G, {\"E\"}, {\"F\"}, {\"C\"})"
   ]
  },
  {
   "cell_type": "code",
   "execution_count": null,
   "metadata": {
    "id": "fD1TPiHUpSi1"
   },
   "outputs": [],
   "source": [
    "assert not are_d_separated(G, {\"E\"}, {\"F\"}, {\"D\"})"
   ]
  },
  {
   "cell_type": "code",
   "execution_count": null,
   "metadata": {
    "id": "Rp1SMGnRpSq4"
   },
   "outputs": [],
   "source": [
    "assert not are_d_separated(G, {\"E\"}, {\"A\"}, {\"C\", \"D\"})"
   ]
  },
  {
   "cell_type": "code",
   "execution_count": null,
   "metadata": {
    "id": "4sASCKikpS0A"
   },
   "outputs": [],
   "source": [
    "assert not are_d_separated(G, {\"A\"}, {\"C\"}, set())"
   ]
  },
  {
   "cell_type": "code",
   "execution_count": null,
   "metadata": {
    "id": "EyBnnDubpS8v"
   },
   "outputs": [],
   "source": [
    "assert not are_d_separated(G, {\"A\"}, {\"D\"}, set())"
   ]
  },
  {
   "cell_type": "code",
   "execution_count": null,
   "metadata": {
    "id": "C_5OiILOpTFZ"
   },
   "outputs": [],
   "source": [
    "assert not are_d_separated(G, {\"A\"}, {\"B\"}, {\"C\"})"
   ]
  },
  {
   "cell_type": "code",
   "execution_count": null,
   "metadata": {
    "id": "AYc8A9cspTNW"
   },
   "outputs": [],
   "source": [
    "assert not are_d_separated(G, {\"A\"}, {\"B\"}, {\"C\", \"D\"})"
   ]
  },
  {
   "cell_type": "code",
   "execution_count": null,
   "metadata": {
    "id": "BJUbTC1ppTVU"
   },
   "outputs": [],
   "source": [
    "assert not are_d_separated(G, {\"B\"}, {\"F\"}, set())"
   ]
  }
 ],
 "metadata": {
  "colab": {
   "collapsed_sections": [],
   "provenance": []
  },
  "kernelspec": {
   "display_name": "Python 3 (ipykernel)",
   "language": "python",
   "name": "python3"
  },
  "language_info": {
   "codemirror_mode": {
    "name": "ipython",
    "version": 3
   },
   "file_extension": ".py",
   "mimetype": "text/x-python",
   "name": "python",
   "nbconvert_exporter": "python",
   "pygments_lexer": "ipython3",
   "version": "3.10.6"
  }
 },
 "nbformat": 4,
 "nbformat_minor": 4
}
