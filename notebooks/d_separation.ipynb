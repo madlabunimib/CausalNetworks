{
  "cells": [
    {
      "cell_type": "code",
      "execution_count": 1,
      "metadata": {
        "id": "QDHqa94yiJES"
      },
      "outputs": [],
      "source": [
        "%%capture\n",
        "!apt install python3-dev graphviz libgraphviz-dev pkg-config\n",
        "!pip install networkx pygraphviz matplotlib"
      ]
    },
    {
      "cell_type": "code",
      "execution_count": 2,
      "metadata": {
        "id": "Cfgi1FfyiQ7D"
      },
      "outputs": [],
      "source": [
        "# Plots\n",
        "import networkx as nx\n",
        "from networkx import Graph, DiGraph\n",
        "from networkx.drawing.nx_agraph import graphviz_layout\n",
        "\n",
        "import matplotlib.pyplot as plt\n",
        "\n",
        "import warnings\n",
        "warnings.filterwarnings(\"ignore\")\n",
        "\n",
        "# Data\n",
        "from itertools import combinations\n",
        "from typing import List, Set\n",
        "import random"
      ]
    },
    {
      "cell_type": "markdown",
      "metadata": {
        "id": "Gmp_KjvFiPE1"
      },
      "source": [
        "# An Implementation of the D-Separation Algorithm\n",
        "\n"
      ]
    },
    {
      "cell_type": "markdown",
      "metadata": {
        "id": "O944fUfTiPE2"
      },
      "source": [
        "By Alessio Zanga, Niccolò Rocchi and Fabio Stella"
      ]
    },
    {
      "cell_type": "markdown",
      "metadata": {
        "id": "tuZnQpzUiiVM"
      },
      "source": [
        "## Abstract"
      ]
    },
    {
      "cell_type": "markdown",
      "metadata": {
        "id": "9BdfMInQisoE"
      },
      "source": [
        "Let us give some essential definitions:\n",
        "\n",
        "* We say that a path $p$ is **blocked** by a set of nodes $\\mathbf{S}$ if at least one of these two conditions holds:\n",
        "\n",
        "  1. $p$ contains a **chain** $A \\rightarrow B \\rightarrow C$ or a **fork** $A \\leftarrow B \\rightarrow C$ and $B \\in \\mathbf{S}$\n",
        "  2. $p$ contains a collider $A \\rightarrow B \\leftarrow C$ such that the collision node $B \\notin \\mathbf{S}$ and also $De(B) \\cap \\mathbf{S} = \\emptyset$.\n",
        "\n",
        "* We say that two nodes $X$ and $Y$ are **d-separated** by $\\mathbf{S}$ if every path between $X$ and $Y$ is blocked by $\\mathbf{S}$.\n",
        "\n",
        "* We say that two sets of nodes $\\mathbf{X}$ and $\\mathbf{Y}$ are **d-separated** by $\\mathbf{S}$ if, for every couple of nodes $X_i \\in \\mathbf{X}$ and $Y_i \\in \\mathbf{Y}$, $X_i$ and $Y_i$ are d-separated by $\\mathbf{S}$.\n",
        "\n",
        "* The **Global Markov assumption** allows us to read d-separation statements among nodes as conditional independence statements:\n",
        "$$\n",
        "X \\perp \\!\\! \\perp_G Y | \\mathbf{S} \\implies X \\perp \\!\\! \\perp_P Y | \\mathbf{S}\n",
        "$$\n",
        "\n",
        "  where the LHS speaks about graphical properties, while the RHS regards probability properties among random variables."
      ]
    },
    {
      "cell_type": "markdown",
      "metadata": {
        "id": "oSqNLbxDJhEY"
      },
      "source": [
        "While the definition  d-separation is correct, it cannot be directly translated into a functional form. The aim of this notebook is to exploit a different version of d-separation for providing a possible implementation."
      ]
    },
    {
      "cell_type": "markdown",
      "metadata": {
        "id": "dZhfSUy4iuVb"
      },
      "source": [
        "## Introduction"
      ]
    },
    {
      "cell_type": "markdown",
      "metadata": {
        "id": "tHr3so6xHz0v"
      },
      "source": [
        "An algorithmic definition of d-separation can be found in \"Probabilistic Graphical Models: Principles and Techniques\" by D. Koller and N. Friedman, page 136."
      ]
    },
    {
      "cell_type": "markdown",
      "metadata": {
        "id": "jy8DTwdPiyhz"
      },
      "source": [
        "Let $\\mathbf{X}$, $\\mathbf{Y}$ and $\\mathbf{Z}$ be three disjoint sets of $\\mathbf{V}$ in the graph $G$. Let $\\mathbf{S} = \\mathbf{X} \\cup \\mathbf{Y} \\cup \\mathbf{Z}$ and $G^{[\\mathbf{S}]}$ be the *upward closure* of $G$ over $\\mathbf{S} \\cup An(\\mathbf{S})$. Let $H$ be the *moralized graph* of $G^{[\\mathbf{S}]}$. Then *d-sep*$_G$($\\mathbf{X}$, $\\mathbf{Y}$, $\\mathbf{Z}$) if and only if *u-sep*$_H$($\\mathbf{X}, \\mathbf{Y}, \\mathbf{Z}$)."
      ]
    },
    {
      "cell_type": "markdown",
      "metadata": {
        "id": "fQOzSiPtsmfo"
      },
      "source": [
        "Let's split the definition step-by-step:"
      ]
    },
    {
      "cell_type": "markdown",
      "metadata": {
        "id": "SSQO5GQEsaPU"
      },
      "source": [
        "\n",
        "\n",
        "* Let $\\mathbf{X}$, $\\mathbf{Y}$ and $\\mathbf{Z}$ be three disjoint sets of $\\mathbf{V}$ in the graph $G$.\n",
        "* Let $\\mathbf{S} = \\mathbf{X} \\cup \\mathbf{Y} \\cup \\mathbf{Z}$ and $G^{[\\mathbf{S}]}$ be the *upward closure* of $G$ over $\\mathbf{S} \\cup An(\\mathbf{S})$.\n",
        "* Let $H$ be the *moralized graph* of $G^{[\\mathbf{S}]}$.\n",
        "* Then *d-sep*$_G$($\\mathbf{X}, \\mathbf{Y}, \\mathbf{Z}$) if and only if *u-sep*$_H$($\\mathbf{X}, \\mathbf{Y}, \\mathbf{Z}$).\n",
        "\n"
      ]
    },
    {
      "cell_type": "markdown",
      "source": [
        "Here it is an example of the whole process:"
      ],
      "metadata": {
        "id": "9dYjscgIaEkB"
      }
    },
    {
      "cell_type": "code",
      "source": [
        "plt.figure(figsize = (15, 5))\n",
        "\n",
        "# Initial graph\n",
        "plt.subplot(1, 4, 1)\n",
        "plt.gca().set_title(\"Initial graph\")\n",
        "G = DiGraph([(\"A\", \"T\"), (\"T\", \"E\"), (\"E\", \"X\"), (\"E\", \"D\"), (\"S\", \"L\"), (\"L\", \"E\"), (\"S\", \"B\"), (\"B\", \"D\")])\n",
        "nx.drawing.nx_agraph.write_dot(G,'G.dot')\n",
        "pos = graphviz_layout(G, prog='dot')\n",
        "nx.draw(G, pos = pos, node_color=\"white\", with_labels=True)\n",
        "nx.draw(G.subgraph([\"A\", \"B\"]), pos = pos, node_color=\"#005AB5\", with_labels=True)\n",
        "nx.draw(G.subgraph([\"E\"]), pos = pos, node_color=\"#DC3220\", with_labels=True)\n",
        "\n",
        "# Upward closure\n",
        "plt.subplot(1, 4, 2)\n",
        "plt.gca().set_title(\"Upward closure over $\\{A, B, E\\}$\")\n",
        "G = DiGraph([(\"A\", \"T\"), (\"T\", \"E\"), (\"S\", \"L\"), (\"L\", \"E\"), (\"S\", \"B\")])\n",
        "nx.drawing.nx_agraph.write_dot(G,'G.dot')\n",
        "nx.draw(G, pos = pos, node_color=\"white\", with_labels=True)\n",
        "nx.draw(G.subgraph([\"A\", \"B\"]), pos = pos, node_color=\"#005AB5\", with_labels=True)\n",
        "nx.draw(G.subgraph([\"E\"]), pos = pos, node_color=\"#DC3220\", with_labels=True)\n",
        "\n",
        "# Moralization\n",
        "plt.subplot(1, 4, 3)\n",
        "plt.gca().set_title(\"Moralization\")\n",
        "G = Graph([(\"A\", \"T\"), (\"T\", \"E\"), (\"S\", \"L\"), (\"L\", \"E\"), (\"S\", \"B\"), (\"T\", \"L\")])\n",
        "nx.drawing.nx_agraph.write_dot(G,'G.dot')\n",
        "nx.draw(G, pos = pos, node_color=\"white\", with_labels=True)\n",
        "nx.draw(G.subgraph([\"A\", \"B\"]), pos = pos, node_color=\"#005AB5\", with_labels=True)\n",
        "nx.draw(G.subgraph([\"E\"]), pos = pos, node_color=\"#DC3220\", with_labels=True)\n",
        "\n",
        "# u-separation\n",
        "plt.subplot(1, 4, 4)\n",
        "plt.gca().set_title(\"Test u-separation\")\n",
        "G = Graph([(\"A\", \"T\"), (\"S\", \"L\"),  (\"S\", \"B\"), (\"T\", \"L\")])\n",
        "nx.drawing.nx_agraph.write_dot(G,'G.dot')\n",
        "nx.draw(G, pos = pos, node_color=\"white\", with_labels=True)\n",
        "nx.draw(G.subgraph([\"A\", \"B\"]), pos = pos, node_color=\"#005AB5\", with_labels=True)\n"
      ],
      "metadata": {
        "colab": {
          "base_uri": "https://localhost:8080/",
          "height": 446
        },
        "id": "4-cvWIPtTvp7",
        "outputId": "c5872708-e667-4f0c-9353-cf98ea324574"
      },
      "execution_count": 3,
      "outputs": [
        {
          "output_type": "display_data",
          "data": {
            "text/plain": [
              "<Figure size 1500x500 with 4 Axes>"
            ],
            "image/png": "[encoded data removed]"
          },
          "metadata": {}
        }
      ]
    },
    {
      "cell_type": "markdown",
      "metadata": {
        "id": "RYDJnSRfjUZJ"
      },
      "source": [
        "## Implementation"
      ]
    },
    {
      "cell_type": "markdown",
      "source": [
        " ### Plot style"
      ],
      "metadata": {
        "id": "KUqhAkb8dR_o"
      }
    },
    {
      "cell_type": "markdown",
      "metadata": {
        "id": "k2RkY9kXXcHA"
      },
      "source": [
        "Let's define a prettier plot style:"
      ]
    },
    {
      "cell_type": "code",
      "execution_count": 4,
      "metadata": {
        "id": "IcZ88tYSX8B7"
      },
      "outputs": [],
      "source": [
        "def draw(G, path: List[str] = []):\n",
        "  plt.figure()\n",
        "  pos = graphviz_layout(G, prog = \"dot\")\n",
        "  for v in G.nodes():\n",
        "    node_color = \"white\"\n",
        "    if any(v in e for e in path):\n",
        "      node_color = \"orange\"\n",
        "    nx.draw_networkx_nodes(\n",
        "        G,\n",
        "        pos = pos,\n",
        "        nodelist = [v],\n",
        "        node_color = node_color,\n",
        "        node_shape = \"o\",\n",
        "        node_size = 4e2,\n",
        "        edgecolors = \"black\",\n",
        "        margins = 0.2\n",
        "      )\n",
        "  nx.draw_networkx_labels(G, pos = pos, font_size = 15)\n",
        "  for e in G.edges():\n",
        "    width = 1.0\n",
        "    edge_color = \"black\"\n",
        "    if e in path:\n",
        "      width = 2\n",
        "      edge_color = \"orange\"\n",
        "    nx.draw_networkx_edges(\n",
        "        G,\n",
        "        pos = pos,\n",
        "        edgelist = [e],\n",
        "        edge_color = edge_color,\n",
        "        width = width,\n",
        "        arrowsize = 15,\n",
        "    )"
      ]
    },
    {
      "cell_type": "markdown",
      "metadata": {
        "id": "m6jbJ0qupiY4"
      },
      "source": [
        "### A focus on [set operators](https://docs.python.org/3/library/stdtypes.html#set) in Python"
      ]
    },
    {
      "cell_type": "code",
      "execution_count": 5,
      "metadata": {
        "colab": {
          "base_uri": "https://localhost:8080/"
        },
        "id": "Hj0j8vPjppZg",
        "outputId": "ed42bb93-9870-4099-83f6-ee4e8ec3a3d1"
      },
      "outputs": [
        {
          "output_type": "stream",
          "name": "stdout",
          "text": [
            "Boolean({}):  False\n",
            "Boolean({'X', 'Y', 'Z'}):  True\n",
            "{'X', 'Y'}  ∪  {'Y', 'Z'} == {'X', 'Y', 'Z'}:  True\n",
            "{'X', 'Y'}  ∩  {'Y', 'Z'} == {'Y'}:  True\n",
            "{'X', 'Y'}  \\  {'Y', 'Z'} == {'X'}:  True\n",
            "{'X', 'Y'}  ⊆  {'Y', 'Z'}:  False\n"
          ]
        }
      ],
      "source": [
        "# The boolean evaluation of an empty set is False.\n",
        "print(\"Boolean({}): \", bool(set()))\n",
        "# The boolean evaluation of a non-empty set is True.\n",
        "print(\"Boolean({'X', 'Y', 'Z'}): \", bool({\"X\", \"Y\", \"Z\"}))\n",
        "# The union operator is '|'.\n",
        "print(\n",
        "  \"{'X', 'Y'}  ∪  {'Y', 'Z'} == {'X', 'Y', 'Z'}: \",\n",
        "   {\"X\", \"Y\"}  |  {\"Y\", \"Z\"} == {\"X\", \"Y\", \"Z\"}\n",
        ")\n",
        "# The intersection operator is '&'.\n",
        "print(\n",
        "  \"{'X', 'Y'}  ∩  {'Y', 'Z'} == {'Y'}: \",\n",
        "   {\"X\", \"Y\"}  &  {\"Y\", \"Z\"} == {\"Y\"}\n",
        ")\n",
        "# The difference operator is '-'.\n",
        "print(\n",
        "  \"{'X', 'Y'}  \\  {'Y', 'Z'} == {'X'}: \",\n",
        "   {\"X\", \"Y\"}  -  {\"Y\", \"Z\"} == {\"X\"}\n",
        ")\n",
        "# The \"subset or equal\" operator is '<='.\n",
        "print(\n",
        "  \"{'X', 'Y'}  ⊆  {'Y', 'Z'}: \",\n",
        "   {\"X\", \"Y\"}  <= {\"Y\", \"Z\"}\n",
        ")"
      ]
    },
    {
      "cell_type": "markdown",
      "metadata": {
        "id": "ZXF1QJdWJsqa"
      },
      "source": [
        "### Implementing the Upward Closure of Directed Graphs\n"
      ]
    },
    {
      "cell_type": "markdown",
      "metadata": {
        "id": "odzHJXGcrkAy"
      },
      "source": [
        "A collider $X \\rightarrow Z \\leftarrow Y$ is said to be an **immorality** (or **v-structure**) if there isn't any edge between $X$ and $Y$."
      ]
    },
    {
      "cell_type": "markdown",
      "metadata": {
        "id": "AEcV67Mvtw1N"
      },
      "source": [
        "The moral graph of $G$ itself is not the right construct, because **there are paths in the undirected graph that correspond to colliders in $G$ that may or may not be blocked**."
      ]
    },
    {
      "cell_type": "markdown",
      "metadata": {
        "id": "sjO9QI5gu9Ks"
      },
      "source": [
        "For example, if our graph $G$ is $X \\rightarrow Z \\leftarrow Y$ and $Z$ is not observed, d-separation tells us that $X$ and $Y$ are independent, but the moralized graph for $G$ is the complete undirected graph, which does not have the same independence."
      ]
    },
    {
      "cell_type": "markdown",
      "metadata": {
        "id": "bvLkyTgGuHjA"
      },
      "source": [
        "We first want to eliminate immoralities that are **not open** (i.e. blocked), so as to remove such cases."
      ]
    },
    {
      "cell_type": "markdown",
      "metadata": {
        "id": "b4yz-ZnRvDbd"
      },
      "source": [
        "To do so, we first construct a subgraph where we **remove all immoralities that do not have an observed descendant**. The elimination of such nodes does not change the independence properties of the distribution over the remaining variables, but does eliminate paths in the graph involving immoralities that are not open."
      ]
    },
    {
      "cell_type": "markdown",
      "metadata": {
        "id": "8bbOh3e-vHkF"
      },
      "source": [
        "This process is called the **upward closure**, which consists in building the subgraph given a set of nodes and their ancestors."
      ]
    },
    {
      "cell_type": "code",
      "execution_count": 6,
      "metadata": {
        "id": "s0ooAUufuCcm"
      },
      "outputs": [],
      "source": [
        "def ancestors(G: DiGraph, S: Set[str]) -> Set[str]:\n",
        "  \"\"\"Compute the set of ancestors in G for a given set of nodes S.\"\"\"\n",
        "  An_S = {an_s for s in S for an_s in nx.ancestors(G, s)}\n",
        "  #\n",
        "  # Which is equivalent to:\n",
        "  #\n",
        "  # An_S = set()\n",
        "  # for s in S:\n",
        "  #   for an_s in nx.ancestors(G, s):\n",
        "  #     An_S = An_S | {an_s}\n",
        "  #\n",
        "  return An_S"
      ]
    },
    {
      "cell_type": "code",
      "execution_count": 7,
      "metadata": {
        "id": "WuhNL9tAt4Tz"
      },
      "outputs": [],
      "source": [
        "def upward_closure(G: DiGraph, S: Set[str]) -> DiGraph:\n",
        "  \"\"\"Compute the upward closure of G for a given set of nodes S.\"\"\"\n",
        "  return G.subgraph(S | ancestors(G, S))"
      ]
    },
    {
      "cell_type": "markdown",
      "metadata": {
        "id": "MwtdmXQFJ1UA"
      },
      "source": [
        "### Implementing the Moral Graph of Directed Graphs"
      ]
    },
    {
      "cell_type": "markdown",
      "metadata": {
        "id": "gZDYf9SRmGit"
      },
      "source": [
        "If directed graphs where equivalent to undirected graphs, then d-separation could be achieved by turning a directed graph into an undirected graph. Unfortunately, this is not the case. Or, at least, the **mapping** step is not that... direct."
      ]
    },
    {
      "cell_type": "markdown",
      "metadata": {
        "id": "pb9Vvi_Tp_5w"
      },
      "source": [
        "A **moral graph** $H$ is an **undirected copy** of a directed graph $G$, where **each pair of parents** of each node in $G$ is connected by an undirected edge."
      ]
    },
    {
      "cell_type": "markdown",
      "metadata": {
        "id": "Ykxh-LAWqiHT"
      },
      "source": [
        "The difficult step here is not to implement the algorithm, but to **undestand why we need to connect the parents** of each node. We try now to catch the point, but if you want the full story, please, refer to [Markov Networks](https://en.wikipedia.org/wiki/Markov_random_field) and ask a Master Thesis to us."
      ]
    },
    {
      "cell_type": "markdown",
      "source": [
        "For each immorality $X \\rightarrow W \\leftarrow Y$ in $G^{[\\mathbf{S}]}$, we have that either $W$ belongs to the ancestors of $\\mathbf{Z}$, or it belongs to the ancestors of $A$ (or $B$). In the first case, the immorality path is open and association flows between $X$ and $Y$. In the second case, it doesn't really matter if the association flows across the immorality, because it is enough that it flows between $A$ (or $B$) and $X$, $Y$."
      ],
      "metadata": {
        "id": "tqZWeZMVbyfG"
      }
    },
    {
      "cell_type": "markdown",
      "source": [
        "However, in case of $W$ belongs to $\\mathbf{Z}$, it will block any undirected path passing through it in the undirected graph $H$. So, we cannot just turn $G$ to be undirected. In order to preserve the associational behaviour we mentioned before, we connect any couple of parents, in case they are not already connected."
      ],
      "metadata": {
        "id": "x-DRSZuPcWvv"
      }
    },
    {
      "cell_type": "code",
      "execution_count": 8,
      "metadata": {
        "id": "BliYCW2NAebJ",
        "colab": {
          "base_uri": "https://localhost:8080/",
          "height": 406
        },
        "outputId": "8fa4891e-b0dc-49f4-e3a5-3769c2d8638e"
      },
      "outputs": [
        {
          "output_type": "display_data",
          "data": {
            "text/plain": [
              "<Figure size 640x480 with 1 Axes>"
            ],
            "image/png": "[encoded data removed]"
          },
          "metadata": {}
        }
      ],
      "source": [
        "G = DiGraph([(\"A\", \"C\"), (\"B\", \"C\"), (\"C\", \"D\"), (\"D\", \"E\"), (\"C\", \"F\")])\n",
        "\n",
        "draw(G)"
      ]
    },
    {
      "cell_type": "code",
      "execution_count": 9,
      "metadata": {
        "id": "7zyfDIWHBykb",
        "colab": {
          "base_uri": "https://localhost:8080/",
          "height": 406
        },
        "outputId": "5d7302b6-2018-4826-e878-627b8e8bf75f"
      },
      "outputs": [
        {
          "output_type": "display_data",
          "data": {
            "text/plain": [
              "<Figure size 640x480 with 1 Axes>"
            ],
            "image/png": "[encoded data removed]"
          },
          "metadata": {}
        }
      ],
      "source": [
        "# Build an undirected copy.\n",
        "H = G.to_undirected()\n",
        "# Compute the edge to add.\n",
        "E = set()\n",
        "for v in G.nodes():\n",
        "  Pa_v = G.predecessors(v)\n",
        "  for (u, w) in combinations(Pa_v, 2):\n",
        "    E = E | {(u, w)}\n",
        "# Add the required edges.\n",
        "H.add_edges_from(E)\n",
        "# Draw the moralized graph.\n",
        "draw(H, E)"
      ]
    },
    {
      "cell_type": "code",
      "execution_count": 10,
      "metadata": {
        "id": "kzSpl3C8t4ND"
      },
      "outputs": [],
      "source": [
        "def moral(G: DiGraph) -> Graph:\n",
        "  \"\"\"Compute the moral graph of G.\"\"\"\n",
        "  # Build an undirected copy of G.\n",
        "  H = G.to_undirected()\n",
        "  # For each node, for each *pair* of parents, add an edge into H.\n",
        "  H.add_edges_from(e for v in G.nodes() for e in combinations(G.predecessors(v), 2))\n",
        "  #\n",
        "  # Which is equivalent to:\n",
        "  #\n",
        "  # for v in G.nodes():\n",
        "  #   Pa_v = G.predecessors(v)\n",
        "  #   for (u, w) in combinations(Pa_v, 2):\n",
        "  #     H.add_edge(u, w)\n",
        "  #\n",
        "  return H"
      ]
    },
    {
      "cell_type": "markdown",
      "metadata": {
        "id": "iEYUlpA_J5Lo"
      },
      "source": [
        "### Implementing the Graphical Separation for Undirected Graphs"
      ]
    },
    {
      "cell_type": "markdown",
      "metadata": {
        "id": "QriI55xbUvXo"
      },
      "source": [
        "Graphical separation in undirected graphs reduces to **check whether a path between nodes exists**. Specifically, two nodes $X$ and $Y$ are separated if there is no path that connects them. Since graphical separation **depends on the definition of path**, in undirected graphs it is often referred as *u(ndirected)*-separation, while in directed graphs is called *d(irected)*-separation."
      ]
    },
    {
      "cell_type": "markdown",
      "metadata": {
        "id": "nIqQstt2XYot"
      },
      "source": [
        "Let's make an example:"
      ]
    },
    {
      "cell_type": "code",
      "execution_count": 11,
      "metadata": {
        "id": "j0HPsXKlP5D1",
        "colab": {
          "base_uri": "https://localhost:8080/",
          "height": 406
        },
        "outputId": "9f958c1c-6396-4264-e2f6-d0ed24924ba9"
      },
      "outputs": [
        {
          "output_type": "display_data",
          "data": {
            "text/plain": [
              "<Figure size 640x480 with 1 Axes>"
            ],
            "image/png": "[encoded data removed]"
          },
          "metadata": {}
        }
      ],
      "source": [
        "H = Graph([(\"A\", \"B\"), (\"A\", \"C\"), (\"B\", \"C\"), (\"C\", \"D\"), (\"D\", \"E\"), (\"C\", \"F\")])\n",
        "draw(H)"
      ]
    },
    {
      "cell_type": "markdown",
      "metadata": {
        "id": "H7NwIYjsV9aA"
      },
      "source": [
        "To check for **unconditional** separation one must **check for the existence of a path in the original graph**."
      ]
    },
    {
      "cell_type": "code",
      "execution_count": 12,
      "metadata": {
        "colab": {
          "base_uri": "https://localhost:8080/"
        },
        "id": "DhA2nunMRxTJ",
        "outputId": "b445596f-512e-453f-a7f6-5b0e13db1cd4"
      },
      "outputs": [
        {
          "output_type": "stream",
          "name": "stdout",
          "text": [
            "Is 'A' u-separated from 'E'?  False\n"
          ]
        }
      ],
      "source": [
        "print(\"Is 'A' u-separated from 'E'? \", not nx.has_path(H, \"A\", \"E\"))"
      ]
    },
    {
      "cell_type": "markdown",
      "metadata": {
        "id": "uQd5iCxjcN1d"
      },
      "source": [
        "Indeed, **a path exists**:"
      ]
    },
    {
      "cell_type": "code",
      "execution_count": 13,
      "metadata": {
        "colab": {
          "base_uri": "https://localhost:8080/",
          "height": 406
        },
        "id": "CfPRKpM7cP1l",
        "outputId": "1045d2e9-51e1-4f55-a80d-b91cf0d9273a"
      },
      "outputs": [
        {
          "output_type": "display_data",
          "data": {
            "text/plain": [
              "<Figure size 640x480 with 1 Axes>"
            ],
            "image/png": "[encoded data removed]"
          },
          "metadata": {}
        }
      ],
      "source": [
        "path = next(nx.all_simple_edge_paths(H, \"A\", \"E\"))  # Get the first path.\n",
        "draw(H, path)"
      ]
    },
    {
      "cell_type": "markdown",
      "metadata": {
        "id": "S0jodulnWFZY"
      },
      "source": [
        "To check for **conditional** separation one must **block**, i.e. disrupt, the paths dependant on the conditioning node. Therefore, we reduce this problem to checking for **unconditional** separation in a **modified graph** where the **conditioning nodes are removed**."
      ]
    },
    {
      "cell_type": "code",
      "execution_count": 14,
      "metadata": {
        "colab": {
          "base_uri": "https://localhost:8080/",
          "height": 406
        },
        "id": "ez2nyI-VW4Vn",
        "outputId": "b8401233-7186-48a4-cdd8-7454fb4ddf2b"
      },
      "outputs": [
        {
          "output_type": "display_data",
          "data": {
            "text/plain": [
              "<Figure size 640x480 with 1 Axes>"
            ],
            "image/png": "[encoded data removed]"
          },
          "metadata": {}
        }
      ],
      "source": [
        "# Remove the conditioning nodes.\n",
        "H_prime = H.copy()\n",
        "H_prime.remove_node(\"D\")\n",
        "# Draw the conditioned graph.\n",
        "draw(H_prime)"
      ]
    },
    {
      "cell_type": "code",
      "execution_count": 15,
      "metadata": {
        "colab": {
          "base_uri": "https://localhost:8080/"
        },
        "id": "xdyZItiCXiKB",
        "outputId": "9320f021-5c1d-40cb-fcc7-53f8928d19d1"
      },
      "outputs": [
        {
          "output_type": "stream",
          "name": "stdout",
          "text": [
            "Is 'A' u-separated from 'E' given 'D'?  True\n"
          ]
        }
      ],
      "source": [
        "print(\"Is 'A' u-separated from 'E' given 'D'? \", not nx.has_path(H_prime, \"A\", \"E\"))"
      ]
    },
    {
      "cell_type": "markdown",
      "metadata": {
        "id": "4eoI8NmZdIN7"
      },
      "source": [
        "If we want to generalize this algorithm to sets instead of just nodes, we can rely on **connected components** instead of just paths. In this case, two disjoint sets of nodes $\\mathbf{X}$ and $\\mathbf{Y}$ are u-separated if every node in $\\mathbf{X}$ is not in a connected component with a node in $\\mathbf{Y}$."
      ]
    },
    {
      "cell_type": "code",
      "execution_count": 16,
      "metadata": {
        "colab": {
          "base_uri": "https://localhost:8080/"
        },
        "id": "6exKOU50fvN-",
        "outputId": "b2652864-4062-4836-d2f4-d525908bdba7"
      },
      "outputs": [
        {
          "output_type": "stream",
          "name": "stdout",
          "text": [
            "{'A', 'B', 'C', 'F'}\n",
            "{'E'}\n"
          ]
        }
      ],
      "source": [
        "Cs = list(nx.connected_components(H_prime))\n",
        "for c in Cs:\n",
        "  print(c)"
      ]
    },
    {
      "cell_type": "markdown",
      "source": [
        "Let's make another example, this time by exploiting connected components:"
      ],
      "metadata": {
        "id": "cOIzNzTEfKHs"
      }
    },
    {
      "cell_type": "code",
      "execution_count": 17,
      "metadata": {
        "id": "f2_5WHEngGQ1",
        "colab": {
          "base_uri": "https://localhost:8080/"
        },
        "outputId": "eb6eb385-cdef-4226-f04a-ebba6dfd7a9c"
      },
      "outputs": [
        {
          "output_type": "stream",
          "name": "stdout",
          "text": [
            "Is {'A'} u-separated from {'B'} given {'D'}?  False\n"
          ]
        }
      ],
      "source": [
        "print(\n",
        "  \"Is {'A'} u-separated from {'B'} given {'D'}? \",\n",
        "  not(any((bool(C & {\"A\"})) and bool(C & {\"B\"}) for C in nx.connected_components(H_prime)))\n",
        ")"
      ]
    },
    {
      "cell_type": "markdown",
      "source": [
        "In fact, a path between $A$ and $B$ exists in the same connected component:"
      ],
      "metadata": {
        "id": "LwXB1-SCfr3E"
      }
    },
    {
      "cell_type": "code",
      "execution_count": 18,
      "metadata": {
        "id": "nbyE6_KhgJMd",
        "colab": {
          "base_uri": "https://localhost:8080/",
          "height": 406
        },
        "outputId": "ae0aafd7-638f-480d-84af-ad39efbd7176"
      },
      "outputs": [
        {
          "output_type": "display_data",
          "data": {
            "text/plain": [
              "<Figure size 640x480 with 1 Axes>"
            ],
            "image/png": "[encoded data removed]"
          },
          "metadata": {}
        }
      ],
      "source": [
        "path = next(nx.all_simple_edge_paths(H_prime.subgraph(Cs[0]), \"A\", \"B\"))\n",
        "draw(H_prime, path)"
      ]
    },
    {
      "cell_type": "markdown",
      "metadata": {
        "id": "v5UzW-W7P56E"
      },
      "source": [
        "Now we can implement the u-separation over set of nodes:"
      ]
    },
    {
      "cell_type": "code",
      "execution_count": 19,
      "metadata": {
        "id": "sROCkI20t4F6"
      },
      "outputs": [],
      "source": [
        "def are_u_separated(H: Graph, X: Set[str], Y: Set[str], Z: Set[str]) -> bool:\n",
        "  \"\"\"Check the u-separation in H of X, Y and Z.\"\"\"\n",
        "  # Remove the nodes in Z from H to disrupt potential paths from X to Y.\n",
        "  H_Z = H.subgraph(set(H.nodes()) - Z)\n",
        "  # Check if there exists at least one path between a node in X and a node in Y.\n",
        "  are_separated = not(any((bool(C & X) and bool(C & Y)) for C in nx.connected_components(H_Z)))\n",
        "  #\n",
        "  # Which is equivalent to:\n",
        "  #\n",
        "  # for C in nx.connected_components(H_Z):\n",
        "  #   if bool(C & X) and bool(C & Y):\n",
        "  #     return False\n",
        "  # return True\n",
        "  #\n",
        "  return are_separated"
      ]
    },
    {
      "cell_type": "markdown",
      "metadata": {
        "id": "6iZldGT-KAg5"
      },
      "source": [
        "### Implementing the Graphical Separation for Directed Graphs"
      ]
    },
    {
      "cell_type": "markdown",
      "metadata": {
        "id": "vx_SHpBxxqAt"
      },
      "source": [
        "Now we can implement the d-separation by assembling the previous algorithms."
      ]
    },
    {
      "cell_type": "code",
      "execution_count": 20,
      "metadata": {
        "id": "gLRtL0mxDHCj",
        "colab": {
          "base_uri": "https://localhost:8080/"
        },
        "outputId": "fa4b1a8b-9b84-4ab7-8684-f4fe84def481"
      },
      "outputs": [
        {
          "output_type": "stream",
          "name": "stdout",
          "text": [
            "Is {'A'} d-separated from {'E'} given {'D'}?  True\n"
          ]
        }
      ],
      "source": [
        "X = {\"A\"}\n",
        "Y = {\"E\"}\n",
        "Z = {\"D\"}\n",
        "# Compute the upward closure.\n",
        "S = X | Y | Z\n",
        "G_S = upward_closure(G, S)\n",
        "# Moralize the upward closure.\n",
        "H = moral(G_S)\n",
        "# Check for u-separation in the moralized graph.\n",
        "print(\"Is {'A'} d-separated from {'E'} given {'D'}? \", are_u_separated(H, X, Y, Z))"
      ]
    },
    {
      "cell_type": "markdown",
      "metadata": {
        "id": "6f07yxz_EJ5R"
      },
      "source": [
        "Tying it all together:"
      ]
    },
    {
      "cell_type": "code",
      "execution_count": 21,
      "metadata": {
        "id": "dLbRaQect36T"
      },
      "outputs": [],
      "source": [
        "def are_d_separated(G: DiGraph, X: Set[str], Y: Set[str], Z: Set[str]) -> bool:\n",
        "  \"\"\"Check the d-separation in G of X, Y and Z.\"\"\"\n",
        "  # *We also require that X and Y are non-empty.*\n",
        "  assert bool(X) and bool(Y)\n",
        "  # Let S = X U Y U Z ...\n",
        "  S = X | Y | Z\n",
        "  # Let X, Y and Z be three disjoint sets of V in the graph G.\n",
        "  assert not(bool(X & Y | Y & Z | X & Z)) and (S <= set(G.nodes()))\n",
        "  # ... and G[S] be the upward closure of G over S U An(S).\n",
        "  G_S = upward_closure(G, S)\n",
        "  # Let H be the moralized graph of G[S].\n",
        "  H = moral(G_S)\n",
        "  # Then d-sep_G(X, Y, Z) if and only if u-sep_H(X, Y, Z).\n",
        "  are_separated = are_u_separated(H, X, Y, Z)\n",
        "  # Return result.\n",
        "  return are_separated"
      ]
    },
    {
      "cell_type": "markdown",
      "metadata": {
        "id": "5C-NxRe8EVLu"
      },
      "source": [
        "Then we have: `are_d_separated(G, X, Y, Z)` if and only if `are_u_separated(H, X, Y, Z)`:"
      ]
    },
    {
      "cell_type": "code",
      "execution_count": 22,
      "metadata": {
        "id": "AKpHr10gEQ3h",
        "colab": {
          "base_uri": "https://localhost:8080/"
        },
        "outputId": "24b74622-fe7d-4c7e-be4b-ab50be9857d6"
      },
      "outputs": [
        {
          "output_type": "stream",
          "name": "stdout",
          "text": [
            "Is {'A'} d-separated from {'E'} given {'D'}?  True\n"
          ]
        }
      ],
      "source": [
        "print(\"Is {'A'} d-separated from {'E'} given {'D'}? \", are_d_separated(G, X, Y, Z))"
      ]
    },
    {
      "cell_type": "markdown",
      "metadata": {
        "id": "YjWPdvHbjfjD"
      },
      "source": [
        "## Tests"
      ]
    },
    {
      "cell_type": "markdown",
      "metadata": {
        "id": "rc2p-2OylR2y"
      },
      "source": [
        "Let's test it on a new example:"
      ]
    },
    {
      "cell_type": "code",
      "execution_count": 23,
      "metadata": {
        "id": "d8SgtIIhlUmB",
        "colab": {
          "base_uri": "https://localhost:8080/",
          "height": 406
        },
        "outputId": "f1242234-2750-41e3-9c8b-ae1797832f91"
      },
      "outputs": [
        {
          "output_type": "display_data",
          "data": {
            "text/plain": [
              "<Figure size 640x480 with 1 Axes>"
            ],
            "image/png": "[encoded data removed]"
          },
          "metadata": {}
        }
      ],
      "source": [
        "G = DiGraph([(\"A\", \"C\"), (\"B\", \"C\"), (\"C\", \"D\"), (\"A\", \"E\"), (\"B\", \"F\")])\n",
        "draw(G)"
      ]
    },
    {
      "cell_type": "code",
      "execution_count": 24,
      "metadata": {
        "id": "Bdwass73lv6R"
      },
      "outputs": [],
      "source": [
        "assert are_d_separated(G, {\"E\"}, {\"F\"}, set())"
      ]
    },
    {
      "cell_type": "code",
      "execution_count": 25,
      "metadata": {
        "id": "9d_WUm8QmqXl"
      },
      "outputs": [],
      "source": [
        "assert are_d_separated(G, {\"E\"}, {\"B\"}, set())"
      ]
    },
    {
      "cell_type": "code",
      "execution_count": 26,
      "metadata": {
        "id": "0APZrZ3LmqVb"
      },
      "outputs": [],
      "source": [
        "assert are_d_separated(G, {\"E\"}, {\"F\"}, {\"B\"})"
      ]
    },
    {
      "cell_type": "code",
      "execution_count": 27,
      "metadata": {
        "id": "vqnLGPTNmqS2"
      },
      "outputs": [],
      "source": [
        "assert are_d_separated(G, {\"E\"}, {\"B\"}, {\"F\"})"
      ]
    },
    {
      "cell_type": "code",
      "execution_count": 28,
      "metadata": {
        "id": "GSD0nDXYmqQ2"
      },
      "outputs": [],
      "source": [
        "assert are_d_separated(G, {\"E\"}, {\"F\"}, {\"A\", \"C\"})"
      ]
    },
    {
      "cell_type": "code",
      "execution_count": 29,
      "metadata": {
        "id": "o_NnJwCWmqO9"
      },
      "outputs": [],
      "source": [
        "assert are_d_separated(G, {\"E\"}, {\"F\"}, {\"B\", \"D\"})"
      ]
    },
    {
      "cell_type": "code",
      "execution_count": 30,
      "metadata": {
        "id": "nRTBOIFLmqM_"
      },
      "outputs": [],
      "source": [
        "assert are_d_separated(G, {\"A\"}, {\"B\"}, set())"
      ]
    },
    {
      "cell_type": "code",
      "execution_count": 31,
      "metadata": {
        "id": "JJ8kPcTGmqK2"
      },
      "outputs": [],
      "source": [
        "assert are_d_separated(G, {\"A\"}, {\"F\"}, set())"
      ]
    },
    {
      "cell_type": "code",
      "execution_count": 32,
      "metadata": {
        "id": "tmVLMvbEmqAz"
      },
      "outputs": [],
      "source": [
        "assert are_d_separated(G, {\"A\"}, {\"F\"}, {\"E\"})"
      ]
    },
    {
      "cell_type": "code",
      "execution_count": 33,
      "metadata": {
        "id": "fRrt83Tjoq3_"
      },
      "outputs": [],
      "source": [
        "assert are_d_separated(G, {\"D\"}, {\"F\"}, {\"C\"})"
      ]
    },
    {
      "cell_type": "code",
      "execution_count": 34,
      "metadata": {
        "id": "OYxvNKizpKAN"
      },
      "outputs": [],
      "source": [
        "assert not are_d_separated(G, {\"E\"}, {\"A\"}, set())"
      ]
    },
    {
      "cell_type": "code",
      "execution_count": 35,
      "metadata": {
        "id": "jsc2jI5OpR7l"
      },
      "outputs": [],
      "source": [
        "assert not are_d_separated(G, {\"E\"}, {\"C\"}, set())"
      ]
    },
    {
      "cell_type": "code",
      "execution_count": 36,
      "metadata": {
        "id": "_Wx0l0ESpSZ-"
      },
      "outputs": [],
      "source": [
        "assert not are_d_separated(G, {\"E\"}, {\"F\"}, {\"C\"})"
      ]
    },
    {
      "cell_type": "code",
      "execution_count": 37,
      "metadata": {
        "id": "fD1TPiHUpSi1"
      },
      "outputs": [],
      "source": [
        "assert not are_d_separated(G, {\"E\"}, {\"F\"}, {\"D\"})"
      ]
    },
    {
      "cell_type": "code",
      "execution_count": 38,
      "metadata": {
        "id": "Rp1SMGnRpSq4"
      },
      "outputs": [],
      "source": [
        "assert not are_d_separated(G, {\"E\"}, {\"A\"}, {\"C\", \"D\"})"
      ]
    },
    {
      "cell_type": "code",
      "execution_count": 39,
      "metadata": {
        "id": "4sASCKikpS0A"
      },
      "outputs": [],
      "source": [
        "assert not are_d_separated(G, {\"A\"}, {\"C\"}, set())"
      ]
    },
    {
      "cell_type": "code",
      "execution_count": 40,
      "metadata": {
        "id": "EyBnnDubpS8v"
      },
      "outputs": [],
      "source": [
        "assert not are_d_separated(G, {\"A\"}, {\"D\"}, set())"
      ]
    },
    {
      "cell_type": "code",
      "execution_count": 41,
      "metadata": {
        "id": "C_5OiILOpTFZ"
      },
      "outputs": [],
      "source": [
        "assert not are_d_separated(G, {\"A\"}, {\"B\"}, {\"C\"})"
      ]
    },
    {
      "cell_type": "code",
      "execution_count": 42,
      "metadata": {
        "id": "AYc8A9cspTNW"
      },
      "outputs": [],
      "source": [
        "assert not are_d_separated(G, {\"A\"}, {\"B\"}, {\"C\", \"D\"})"
      ]
    },
    {
      "cell_type": "code",
      "execution_count": 43,
      "metadata": {
        "id": "BJUbTC1ppTVU"
      },
      "outputs": [],
      "source": [
        "assert not are_d_separated(G, {\"B\"}, {\"F\"}, set())"
      ]
    }
  ],
  "metadata": {
    "colab": {
      "provenance": [],
      "collapsed_sections": [
        "tuZnQpzUiiVM",
        "dZhfSUy4iuVb",
        "RYDJnSRfjUZJ",
        "KUqhAkb8dR_o",
        "m6jbJ0qupiY4",
        "ZXF1QJdWJsqa",
        "MwtdmXQFJ1UA",
        "iEYUlpA_J5Lo",
        "6iZldGT-KAg5",
        "YjWPdvHbjfjD"
      ]
    },
    "kernelspec": {
      "display_name": "Python 3 (ipykernel)",
      "language": "python",
      "name": "python3"
    },
    "language_info": {
      "codemirror_mode": {
        "name": "ipython",
        "version": 3
      },
      "file_extension": ".py",
      "mimetype": "text/x-python",
      "name": "python",
      "nbconvert_exporter": "python",
      "pygments_lexer": "ipython3",
      "version": "3.10.6"
    }
  },
  "nbformat": 4,
  "nbformat_minor": 0
}