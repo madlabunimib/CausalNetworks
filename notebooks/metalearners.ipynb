{
  "nbformat": 4,
  "nbformat_minor": 0,
  "metadata": {
    "colab": {
      "provenance": [],
      "collapsed_sections": [
        "CxdZxxOQv8Wc",
        "pox_-8Uav-Jd",
        "kXV81L1bQFN-",
        "Po9tpZgXQJhg",
        "TQFB0nIiR5Iv"
      ]
    },
    "kernelspec": {
      "name": "python3",
      "display_name": "Python 3"
    },
    "language_info": {
      "name": "python"
    }
  },
  "cells": [
    {
      "cell_type": "code",
      "execution_count": 1,
      "metadata": {
        "id": "9WEc4_PloVp5"
      },
      "outputs": [],
      "source": [
        "%%capture\n",
        "!pip install numpy pandas statmodels scipy"
      ]
    },
    {
      "cell_type": "code",
      "source": [
        "import numpy as np\n",
        "from numpy.random import binomial, multivariate_normal, normal, uniform\n",
        "import pandas as pd\n",
        "\n",
        "from random import choices\n",
        "from scipy import stats\n",
        "from statsmodels.api import OLS\n",
        "from sklearn.ensemble import RandomForestRegressor, GradientBoostingRegressor\n",
        "\n",
        "import matplotlib.pyplot as plt"
      ],
      "metadata": {
        "id": "5922ncOUowTs"
      },
      "execution_count": 2,
      "outputs": []
    },
    {
      "cell_type": "markdown",
      "source": [
        "# Metalearners Estimators"
      ],
      "metadata": {
        "id": "oWMmR6_Fo00j"
      }
    },
    {
      "cell_type": "markdown",
      "source": [
        "By Niccolò Rocchi, Alessio Zanga and Fabio Stella."
      ],
      "metadata": {
        "id": "Bq7zTr1VZ3U4"
      }
    },
    {
      "cell_type": "markdown",
      "source": [
        "## Abstract"
      ],
      "metadata": {
        "id": "CxdZxxOQv8Wc"
      }
    },
    {
      "cell_type": "markdown",
      "source": [
        "The focus on this notebook will be on the **CATE estimation**."
      ],
      "metadata": {
        "id": "OOfmZHKzpdYc"
      }
    },
    {
      "cell_type": "markdown",
      "source": [
        "The CATE (Conditional Average Treatment Effect) generalizes the ATE. We are in the setting of binary treatment $W\\in\\{0,1\\}$, with response variable $Y$ and some covariates $\\mathbf{X}=\\{X_1, X_2, \\cdots, X_n\\}$."
      ],
      "metadata": {
        "id": "Fhlm29HRptD0"
      }
    },
    {
      "cell_type": "markdown",
      "source": [
        "Recall the CATE definition:\n",
        "$$\n",
        "\\tau(\\textbf{x}):=\\mathbb{E}\\left[Y(1)-Y(0)|\\mathbf{X}=\\mathbf{x}\\right]\n",
        "$$"
      ],
      "metadata": {
        "id": "ESYggSG5q_iv"
      }
    },
    {
      "cell_type": "markdown",
      "source": [
        "If $\\mathbf{X}$ consists of all observed covariates, we talk about **IATE** (Individualized Average Treatment Effect). In the current notebook we are concerned about CATE estimation, thus we assume from now that the set $\\mathbf{X}$ also contains a **sufficient adjustment set**, that is we already achieved the **identification** of the effect."
      ],
      "metadata": {
        "id": "ED-oA6fOrAKb"
      }
    },
    {
      "cell_type": "markdown",
      "source": [
        "**Metalearners** are binary treatment CATE estimators. The name *metalearners* stems from being agnostic with respect to the specific model(s) that is used inside them for regression purposes. They differ among each other in the way they exploit data and account for the heterogeneous propensity score of being treated: $P(W=1|\\mathbf{X})$."
      ],
      "metadata": {
        "id": "pEdSpr_hpb1Y"
      }
    },
    {
      "cell_type": "markdown",
      "source": [
        "The methods presented here are:\n",
        "\n",
        "1. **S-learner**: for COM estimation\n",
        "2. **T-learner**: for GCOM estimation\n",
        "3. **X-learner**: improved version of GCOM"
      ],
      "metadata": {
        "id": "I6ZRAMKVsXy0"
      }
    },
    {
      "cell_type": "markdown",
      "source": [
        "The methods will be implemented and evaluated on synthetic data, in both their accuracy and bias variance. Some parts of code are taken from the [EconML](https://github.com/py-why/EconML) example notebooks."
      ],
      "metadata": {
        "id": "TScKuGmvvfSu"
      }
    },
    {
      "cell_type": "markdown",
      "source": [
        "## Data"
      ],
      "metadata": {
        "id": "pox_-8Uav-Jd"
      }
    },
    {
      "cell_type": "markdown",
      "source": [
        "We use the data generating process from [Kunzel et al.](https://arxiv.org/abs/1706.03461). The outcome $Y$ is generated as a function of the treatment $W$ and $d$ covariates $\\mathbf{X}$ by means of the following equation:\n",
        "\n",
        "$$\n",
        "Y = \\mu_1(\\mathbf{x}) \\cdot W + \\mu_0(\\mathbf{x}) \\cdot (1-W) + \\epsilon\n",
        "$$\n",
        "\n",
        "where:\n",
        "* $\\mathbf{X} \\sim N(0, \\mathbf{\\Sigma})$, $~W \\sim Bern(e(\\mathbf{x}))$ are the distributions of the observed variables\n",
        "* $e(\\mathbf{x}) = P(W=1|\\mathbf{X}=\\mathbf{x})$ is the propensity score\n",
        "* $\\mu_0(\\mathbf{x}) = \\mathbf{x}^T\\beta$ with $\\beta\\sim Unif([-3, 3]^d)$\n",
        "* $\\mu_1(\\mathbf{x}) = \\mu_0(\\mathbf{x}) + 8\\cdot\\mathbf{I}(x_2>0.1)$\n",
        "\n"
      ],
      "metadata": {
        "id": "N-ebjHBV-SmW"
      }
    },
    {
      "cell_type": "markdown",
      "source": [
        "The CATE definition is the same as depicted above. With this data generation mechanism, it ends up that the true CATE is:\n",
        "$$\n",
        "\\mathbf{\\tau}(\\mathbf{x}) = 8\\cdot\\mathbf{I}(x_2>0.1)\n",
        "$$"
      ],
      "metadata": {
        "id": "MDQsSuCENn5p"
      }
    },
    {
      "cell_type": "markdown",
      "source": [
        "We implement the data generation mechanism with a custom propensity score $e(\\mathbf{x})$ and $\\mathbf{\\Sigma}=\\mathbf{I}$, the identity matrix."
      ],
      "metadata": {
        "id": "LDf9KT11NoWm"
      }
    },
    {
      "cell_type": "code",
      "source": [
        "# Define DGP\n",
        "def generate_data(n, d):\n",
        "\n",
        "    \"\"\"\n",
        "    Parameters.\n",
        "        n (int): population size\n",
        "        d (int): number of covariates\n",
        "    \"\"\"\n",
        "\n",
        "    # Generate covariates\n",
        "    X = multivariate_normal(np.zeros(d), np.diag(np.ones(d)), n)\n",
        "    X_dict = {f\"X_{k}\":X[:, k] for k in range(X.shape[1])}\n",
        "\n",
        "    # Define propensity function\n",
        "    propensity = lambda x: (0.8 if (x[2]>-0.5 and x[2]<0.5) else 0.2)\n",
        "\n",
        "    # Generate treatment\n",
        "    T = np.apply_along_axis(lambda x: binomial(1, propensity(x), 1)[0], 1, X)\n",
        "\n",
        "    # Define mu_0\n",
        "    beta = uniform(-3, 3, d)\n",
        "    mu_0 = np.apply_along_axis(lambda x: np.dot(x, beta), 1, X)\n",
        "\n",
        "    # Define treatment effect\n",
        "    treatment_effect = lambda x: (1 if x[1] > 0.1 else 0)*8\n",
        "\n",
        "    # Generate outcome Y\n",
        "    treat_effect = np.apply_along_axis(lambda x: treatment_effect(x), 1, X)\n",
        "    Y = treat_effect * T + mu_0 + normal(0, 1)\n",
        "\n",
        "    return pd.DataFrame({\"y\": Y, \"w\": T, **X_dict, \"CATE\": treat_effect})"
      ],
      "metadata": {
        "id": "eef0hVXq-U7z"
      },
      "execution_count": 3,
      "outputs": []
    },
    {
      "cell_type": "code",
      "source": [
        "# Generate train and test data\n",
        "d = 5\n",
        "n = 1000\n",
        "\n",
        "data = generate_data(n, d)\n",
        "train_data = data.sample(frac=0.8,random_state = 42)\n",
        "test_data = data.drop(train_data.index).sort_values(by = \"X_1\")\n",
        "\n",
        "train_y, train_w, train_X, train_true_cate = train_data[\"y\"], train_data[\"w\"], train_data.iloc[:, 2:-1], train_data.iloc[:, -1]\n",
        "test_y, test_w, test_X, test_true_cate = test_data[\"y\"], test_data[\"w\"], test_data.iloc[:, 2:-1], test_data.iloc[:, -1]"
      ],
      "metadata": {
        "id": "NfhEFoAQ-mgx"
      },
      "execution_count": 4,
      "outputs": []
    },
    {
      "cell_type": "code",
      "source": [
        "train_data.head()"
      ],
      "metadata": {
        "colab": {
          "base_uri": "https://localhost:8080/",
          "height": 206
        },
        "id": "Wk4_Y_gpWAcb",
        "outputId": "1dbe366e-71f8-4a81-bf2f-90145b60ad9b"
      },
      "execution_count": 5,
      "outputs": [
        {
          "output_type": "execute_result",
          "data": {
            "text/plain": [
              "            y  w       X_0       X_1       X_2       X_3       X_4  CATE\n",
              "521  3.826211  1  0.653345 -1.619501 -0.463704  0.238187  0.295166     0\n",
              "737 -3.889430  0 -1.167332 -1.002809 -1.008116  0.563935  1.172347     0\n",
              "740  2.187243  1  1.028217 -0.778522  0.325408 -0.044973  1.291936     0\n",
              "660  0.900877  0 -0.136673 -1.111261  0.785260 -0.977085 -1.143490     0\n",
              "411 -2.592401  0  1.573622  2.419188  0.779216 -0.042372  0.502547     8"
            ],
            "text/html": [
              "\n",
              "  <div id=\"df-7ad62c15-6aaf-4ba6-b0ee-b654cd9f26d2\" class=\"colab-df-container\">\n",
              "    <div>\n",
              "<style scoped>\n",
              "    .dataframe tbody tr th:only-of-type {\n",
              "        vertical-align: middle;\n",
              "    }\n",
              "\n",
              "    .dataframe tbody tr th {\n",
              "        vertical-align: top;\n",
              "    }\n",
              "\n",
              "    .dataframe thead th {\n",
              "        text-align: right;\n",
              "    }\n",
              "</style>\n",
              "<table border=\"1\" class=\"dataframe\">\n",
              "  <thead>\n",
              "    <tr style=\"text-align: right;\">\n",
              "      <th></th>\n",
              "      <th>y</th>\n",
              "      <th>w</th>\n",
              "      <th>X_0</th>\n",
              "      <th>X_1</th>\n",
              "      <th>X_2</th>\n",
              "      <th>X_3</th>\n",
              "      <th>X_4</th>\n",
              "      <th>CATE</th>\n",
              "    </tr>\n",
              "  </thead>\n",
              "  <tbody>\n",
              "    <tr>\n",
              "      <th>521</th>\n",
              "      <td>3.826211</td>\n",
              "      <td>1</td>\n",
              "      <td>0.653345</td>\n",
              "      <td>-1.619501</td>\n",
              "      <td>-0.463704</td>\n",
              "      <td>0.238187</td>\n",
              "      <td>0.295166</td>\n",
              "      <td>0</td>\n",
              "    </tr>\n",
              "    <tr>\n",
              "      <th>737</th>\n",
              "      <td>-3.889430</td>\n",
              "      <td>0</td>\n",
              "      <td>-1.167332</td>\n",
              "      <td>-1.002809</td>\n",
              "      <td>-1.008116</td>\n",
              "      <td>0.563935</td>\n",
              "      <td>1.172347</td>\n",
              "      <td>0</td>\n",
              "    </tr>\n",
              "    <tr>\n",
              "      <th>740</th>\n",
              "      <td>2.187243</td>\n",
              "      <td>1</td>\n",
              "      <td>1.028217</td>\n",
              "      <td>-0.778522</td>\n",
              "      <td>0.325408</td>\n",
              "      <td>-0.044973</td>\n",
              "      <td>1.291936</td>\n",
              "      <td>0</td>\n",
              "    </tr>\n",
              "    <tr>\n",
              "      <th>660</th>\n",
              "      <td>0.900877</td>\n",
              "      <td>0</td>\n",
              "      <td>-0.136673</td>\n",
              "      <td>-1.111261</td>\n",
              "      <td>0.785260</td>\n",
              "      <td>-0.977085</td>\n",
              "      <td>-1.143490</td>\n",
              "      <td>0</td>\n",
              "    </tr>\n",
              "    <tr>\n",
              "      <th>411</th>\n",
              "      <td>-2.592401</td>\n",
              "      <td>0</td>\n",
              "      <td>1.573622</td>\n",
              "      <td>2.419188</td>\n",
              "      <td>0.779216</td>\n",
              "      <td>-0.042372</td>\n",
              "      <td>0.502547</td>\n",
              "      <td>8</td>\n",
              "    </tr>\n",
              "  </tbody>\n",
              "</table>\n",
              "</div>\n",
              "    <div class=\"colab-df-buttons\">\n",
              "\n",
              "  <div class=\"colab-df-container\">\n",
              "    <button class=\"colab-df-convert\" onclick=\"convertToInteractive('df-7ad62c15-6aaf-4ba6-b0ee-b654cd9f26d2')\"\n",
              "            title=\"Convert this dataframe to an interactive table.\"\n",
              "            style=\"display:none;\">\n",
              "\n",
              "  <svg xmlns=\"http://www.w3.org/2000/svg\" height=\"24px\" viewBox=\"0 -960 960 960\">\n",
              "    <path d=\"M120-120v-720h720v720H120Zm60-500h600v-160H180v160Zm220 220h160v-160H400v160Zm0 220h160v-160H400v160ZM180-400h160v-160H180v160Zm440 0h160v-160H620v160ZM180-180h160v-160H180v160Zm440 0h160v-160H620v160Z\"/>\n",
              "  </svg>\n",
              "    </button>\n",
              "\n",
              "  <style>\n",
              "    .colab-df-container {\n",
              "      display:flex;\n",
              "      gap: 12px;\n",
              "    }\n",
              "\n",
              "    .colab-df-convert {\n",
              "      background-color: #E8F0FE;\n",
              "      border: none;\n",
              "      border-radius: 50%;\n",
              "      cursor: pointer;\n",
              "      display: none;\n",
              "      fill: #1967D2;\n",
              "      height: 32px;\n",
              "      padding: 0 0 0 0;\n",
              "      width: 32px;\n",
              "    }\n",
              "\n",
              "    .colab-df-convert:hover {\n",
              "      background-color: #E2EBFA;\n",
              "      box-shadow: 0px 1px 2px rgba(60, 64, 67, 0.3), 0px 1px 3px 1px rgba(60, 64, 67, 0.15);\n",
              "      fill: #174EA6;\n",
              "    }\n",
              "\n",
              "    .colab-df-buttons div {\n",
              "      margin-bottom: 4px;\n",
              "    }\n",
              "\n",
              "    [theme=dark] .colab-df-convert {\n",
              "      background-color: #3B4455;\n",
              "      fill: #D2E3FC;\n",
              "    }\n",
              "\n",
              "    [theme=dark] .colab-df-convert:hover {\n",
              "      background-color: #434B5C;\n",
              "      box-shadow: 0px 1px 3px 1px rgba(0, 0, 0, 0.15);\n",
              "      filter: drop-shadow(0px 1px 2px rgba(0, 0, 0, 0.3));\n",
              "      fill: #FFFFFF;\n",
              "    }\n",
              "  </style>\n",
              "\n",
              "    <script>\n",
              "      const buttonEl =\n",
              "        document.querySelector('#df-7ad62c15-6aaf-4ba6-b0ee-b654cd9f26d2 button.colab-df-convert');\n",
              "      buttonEl.style.display =\n",
              "        google.colab.kernel.accessAllowed ? 'block' : 'none';\n",
              "\n",
              "      async function convertToInteractive(key) {\n",
              "        const element = document.querySelector('#df-7ad62c15-6aaf-4ba6-b0ee-b654cd9f26d2');\n",
              "        const dataTable =\n",
              "          await google.colab.kernel.invokeFunction('convertToInteractive',\n",
              "                                                    [key], {});\n",
              "        if (!dataTable) return;\n",
              "\n",
              "        const docLinkHtml = 'Like what you see? Visit the ' +\n",
              "          '<a target=\"_blank\" href=https://colab.research.google.com/notebooks/data_table.ipynb>data table notebook</a>'\n",
              "          + ' to learn more about interactive tables.';\n",
              "        element.innerHTML = '';\n",
              "        dataTable['output_type'] = 'display_data';\n",
              "        await google.colab.output.renderOutput(dataTable, element);\n",
              "        const docLink = document.createElement('div');\n",
              "        docLink.innerHTML = docLinkHtml;\n",
              "        element.appendChild(docLink);\n",
              "      }\n",
              "    </script>\n",
              "  </div>\n",
              "\n",
              "\n",
              "<div id=\"df-bb658e1d-99bd-4a7b-879a-edd75c0674d5\">\n",
              "  <button class=\"colab-df-quickchart\" onclick=\"quickchart('df-bb658e1d-99bd-4a7b-879a-edd75c0674d5')\"\n",
              "            title=\"Suggest charts\"\n",
              "            style=\"display:none;\">\n",
              "\n",
              "<svg xmlns=\"http://www.w3.org/2000/svg\" height=\"24px\"viewBox=\"0 0 24 24\"\n",
              "     width=\"24px\">\n",
              "    <g>\n",
              "        <path d=\"M19 3H5c-1.1 0-2 .9-2 2v14c0 1.1.9 2 2 2h14c1.1 0 2-.9 2-2V5c0-1.1-.9-2-2-2zM9 17H7v-7h2v7zm4 0h-2V7h2v10zm4 0h-2v-4h2v4z\"/>\n",
              "    </g>\n",
              "</svg>\n",
              "  </button>\n",
              "\n",
              "<style>\n",
              "  .colab-df-quickchart {\n",
              "      --bg-color: #E8F0FE;\n",
              "      --fill-color: #1967D2;\n",
              "      --hover-bg-color: #E2EBFA;\n",
              "      --hover-fill-color: #174EA6;\n",
              "      --disabled-fill-color: #AAA;\n",
              "      --disabled-bg-color: #DDD;\n",
              "  }\n",
              "\n",
              "  [theme=dark] .colab-df-quickchart {\n",
              "      --bg-color: #3B4455;\n",
              "      --fill-color: #D2E3FC;\n",
              "      --hover-bg-color: #434B5C;\n",
              "      --hover-fill-color: #FFFFFF;\n",
              "      --disabled-bg-color: #3B4455;\n",
              "      --disabled-fill-color: #666;\n",
              "  }\n",
              "\n",
              "  .colab-df-quickchart {\n",
              "    background-color: var(--bg-color);\n",
              "    border: none;\n",
              "    border-radius: 50%;\n",
              "    cursor: pointer;\n",
              "    display: none;\n",
              "    fill: var(--fill-color);\n",
              "    height: 32px;\n",
              "    padding: 0;\n",
              "    width: 32px;\n",
              "  }\n",
              "\n",
              "  .colab-df-quickchart:hover {\n",
              "    background-color: var(--hover-bg-color);\n",
              "    box-shadow: 0 1px 2px rgba(60, 64, 67, 0.3), 0 1px 3px 1px rgba(60, 64, 67, 0.15);\n",
              "    fill: var(--button-hover-fill-color);\n",
              "  }\n",
              "\n",
              "  .colab-df-quickchart-complete:disabled,\n",
              "  .colab-df-quickchart-complete:disabled:hover {\n",
              "    background-color: var(--disabled-bg-color);\n",
              "    fill: var(--disabled-fill-color);\n",
              "    box-shadow: none;\n",
              "  }\n",
              "\n",
              "  .colab-df-spinner {\n",
              "    border: 2px solid var(--fill-color);\n",
              "    border-color: transparent;\n",
              "    border-bottom-color: var(--fill-color);\n",
              "    animation:\n",
              "      spin 1s steps(1) infinite;\n",
              "  }\n",
              "\n",
              "  @keyframes spin {\n",
              "    0% {\n",
              "      border-color: transparent;\n",
              "      border-bottom-color: var(--fill-color);\n",
              "      border-left-color: var(--fill-color);\n",
              "    }\n",
              "    20% {\n",
              "      border-color: transparent;\n",
              "      border-left-color: var(--fill-color);\n",
              "      border-top-color: var(--fill-color);\n",
              "    }\n",
              "    30% {\n",
              "      border-color: transparent;\n",
              "      border-left-color: var(--fill-color);\n",
              "      border-top-color: var(--fill-color);\n",
              "      border-right-color: var(--fill-color);\n",
              "    }\n",
              "    40% {\n",
              "      border-color: transparent;\n",
              "      border-right-color: var(--fill-color);\n",
              "      border-top-color: var(--fill-color);\n",
              "    }\n",
              "    60% {\n",
              "      border-color: transparent;\n",
              "      border-right-color: var(--fill-color);\n",
              "    }\n",
              "    80% {\n",
              "      border-color: transparent;\n",
              "      border-right-color: var(--fill-color);\n",
              "      border-bottom-color: var(--fill-color);\n",
              "    }\n",
              "    90% {\n",
              "      border-color: transparent;\n",
              "      border-bottom-color: var(--fill-color);\n",
              "    }\n",
              "  }\n",
              "</style>\n",
              "\n",
              "  <script>\n",
              "    async function quickchart(key) {\n",
              "      const quickchartButtonEl =\n",
              "        document.querySelector('#' + key + ' button');\n",
              "      quickchartButtonEl.disabled = true;  // To prevent multiple clicks.\n",
              "      quickchartButtonEl.classList.add('colab-df-spinner');\n",
              "      try {\n",
              "        const charts = await google.colab.kernel.invokeFunction(\n",
              "            'suggestCharts', [key], {});\n",
              "      } catch (error) {\n",
              "        console.error('Error during call to suggestCharts:', error);\n",
              "      }\n",
              "      quickchartButtonEl.classList.remove('colab-df-spinner');\n",
              "      quickchartButtonEl.classList.add('colab-df-quickchart-complete');\n",
              "    }\n",
              "    (() => {\n",
              "      let quickchartButtonEl =\n",
              "        document.querySelector('#df-bb658e1d-99bd-4a7b-879a-edd75c0674d5 button');\n",
              "      quickchartButtonEl.style.display =\n",
              "        google.colab.kernel.accessAllowed ? 'block' : 'none';\n",
              "    })();\n",
              "  </script>\n",
              "</div>\n",
              "    </div>\n",
              "  </div>\n"
            ]
          },
          "metadata": {},
          "execution_count": 5
        }
      ]
    },
    {
      "cell_type": "markdown",
      "source": [
        "## S-learner, T-learner, X-learner"
      ],
      "metadata": {
        "id": "n5AUL6kYv_eT"
      }
    },
    {
      "cell_type": "markdown",
      "source": [
        "### Implementation"
      ],
      "metadata": {
        "id": "kXV81L1bQFN-"
      }
    },
    {
      "cell_type": "markdown",
      "source": [
        "The following implementations are based on the pseudocode available in [Kunzel et al. (2019), pp.40-41](https://arxiv.org/pdf/1706.03461)."
      ],
      "metadata": {
        "id": "s-RaaE-UPjY4"
      }
    },
    {
      "cell_type": "code",
      "source": [
        "class SLearner:\n",
        "\n",
        "    def __init__(self, model):\n",
        "      self.model = model\n",
        "\n",
        "    def fit(self, X: pd.DataFrame, y: pd.DataFrame, w: pd.DataFrame):\n",
        "        # Estimator for Y ~ (X, W).\n",
        "        self.mu = self.model().fit(pd.concat([X, w], axis = 1), y)\n",
        "        return self\n",
        "\n",
        "    def predict(self, X: pd.DataFrame) -> pd.DataFrame:\n",
        "        w_1 = np.ones((len(X), 1))\n",
        "        w_0 = np.zeros((len(X), 1))\n",
        "        # Compute the CATE.\n",
        "        tau_hat =  self.mu.predict(np.concatenate((X, w_1), axis = 1)) - self.mu.predict(np.concatenate((X, w_0), axis = 1))\n",
        "        return pd.DataFrame(tau_hat, columns = [\"tau\"])"
      ],
      "metadata": {
        "id": "povXnm9HC-1-"
      },
      "execution_count": 6,
      "outputs": []
    },
    {
      "cell_type": "code",
      "source": [
        "class TLearner:\n",
        "\n",
        "    def __init__(self, model):\n",
        "      self.model = model\n",
        "\n",
        "    def fit(self, X: pd.DataFrame, y: pd.DataFrame, w: pd.DataFrame):\n",
        "        # Compute the subset indicator.\n",
        "        I0, I1 = (w == 0), (w == 1)\n",
        "        # Subset the dataset.\n",
        "        X0, y0, X1, y1 = X[I0], y[I0], X[I1], y[I1]\n",
        "        # Estimator for Y0 ~ X0.\n",
        "        self.mu_0 = self.model().fit(X0, y0)\n",
        "        # Estimator for Y1 ~ X1.\n",
        "        self.mu_1 = self.model().fit(X1, y1)\n",
        "\n",
        "        return self\n",
        "\n",
        "    def predict(self, X: pd.DataFrame) -> pd.DataFrame:\n",
        "        # Compute the CATE.\n",
        "        tau_hat =  self.mu_1.predict(X) - self.mu_0.predict(X)\n",
        "\n",
        "        return pd.DataFrame(tau_hat, columns = [\"tau\"])"
      ],
      "metadata": {
        "id": "N3MD1ptO4soD"
      },
      "execution_count": 7,
      "outputs": []
    },
    {
      "cell_type": "code",
      "source": [
        "class XLearner:\n",
        "\n",
        "    def __init__(self, model, propensity_model):\n",
        "      self.model = model\n",
        "      self.propensity_model = propensity_model\n",
        "\n",
        "    def fit(self, X: pd.DataFrame, y: pd.DataFrame, w: pd.DataFrame):\n",
        "        # Fit the propensity score estimator.\n",
        "        self.g = self.propensity_model().fit(X, w)\n",
        "\n",
        "        # Compute the subset indicator.\n",
        "        I0, I1 = (w == 0), (w == 1)\n",
        "        # Subset the dataset.\n",
        "        X0, y0, X1, y1 = X[I0], y[I0], X[I1], y[I1]\n",
        "        # Estimator for Y0 ~ X0.\n",
        "        self.mu_0 = self.model().fit(X0, y0)\n",
        "        # Estimator for Y1 ~ X1.\n",
        "        self.mu_1 = self.model().fit(X1, y1)\n",
        "        # Compute the treatment effects.\n",
        "        D0 = self.mu_1.predict(X0) - y0\n",
        "        D1 = y1 - self.mu_0.predict(X1)\n",
        "        # Estimate CATE in two ways.\n",
        "        self.tau_0 = self.model().fit(X0, D0)\n",
        "        self.tau_1 = self.model().fit(X1, D1)\n",
        "\n",
        "        return self\n",
        "\n",
        "    def predict(self, X: pd.DataFrame) -> pd.DataFrame:\n",
        "        # Estimate the propensity score.\n",
        "        g_hat = self.g.predict(X)\n",
        "\n",
        "        # Average the estimates.\n",
        "        tau_hat =  g_hat * self.tau_0.predict(X) + (1 - g_hat) * self.tau_1.predict(X)\n",
        "\n",
        "        return pd.DataFrame(tau_hat, columns = [\"tau\"])"
      ],
      "metadata": {
        "id": "1NQyV3oipWhf"
      },
      "execution_count": 8,
      "outputs": []
    },
    {
      "cell_type": "markdown",
      "source": [
        "### Evaluation"
      ],
      "metadata": {
        "id": "Po9tpZgXQJhg"
      }
    },
    {
      "cell_type": "markdown",
      "source": [
        "We set a **model** for regressing $Y$ and a model for the propensity score. Notice that, by using a model for $e(\\mathbf{x})$ in the X-learner, we are estimating the CATE in a **doubly-robust** fashion, as indeed suggested by Kunzel et al."
      ],
      "metadata": {
        "id": "FYeyNbllPlhP"
      }
    },
    {
      "cell_type": "code",
      "source": [
        "# Choose models\n",
        "model = GradientBoostingRegressor\n",
        "propensity_model = RandomForestRegressor\n",
        "\n",
        "train_true_cate = train_data[\"CATE\"]\n",
        "test_true_cate = test_data[\"CATE\"]"
      ],
      "metadata": {
        "id": "D2JFA7uA1jwD"
      },
      "execution_count": 9,
      "outputs": []
    },
    {
      "cell_type": "code",
      "source": [
        "# Fit a new S-Learner estimator.\n",
        "s_learner = SLearner(model).fit(train_X, train_y, train_w)"
      ],
      "metadata": {
        "id": "xlazCQvO1ken"
      },
      "execution_count": 10,
      "outputs": []
    },
    {
      "cell_type": "code",
      "source": [
        "# Estimate CATE over the train set.\n",
        "train_pred_cate_s = s_learner.predict(train_X)\n",
        "# Estimate CATE over the test set.\n",
        "test_pred_cate_s = s_learner.predict(test_X)"
      ],
      "metadata": {
        "colab": {
          "base_uri": "https://localhost:8080/"
        },
        "id": "xESaKaqf1keu",
        "outputId": "981e685b-4947-497a-e9dc-3eb3bea1cba0"
      },
      "execution_count": 11,
      "outputs": [
        {
          "output_type": "stream",
          "name": "stderr",
          "text": [
            "/usr/local/lib/python3.10/dist-packages/sklearn/base.py:439: UserWarning: X does not have valid feature names, but GradientBoostingRegressor was fitted with feature names\n",
            "  warnings.warn(\n",
            "/usr/local/lib/python3.10/dist-packages/sklearn/base.py:439: UserWarning: X does not have valid feature names, but GradientBoostingRegressor was fitted with feature names\n",
            "  warnings.warn(\n",
            "/usr/local/lib/python3.10/dist-packages/sklearn/base.py:439: UserWarning: X does not have valid feature names, but GradientBoostingRegressor was fitted with feature names\n",
            "  warnings.warn(\n",
            "/usr/local/lib/python3.10/dist-packages/sklearn/base.py:439: UserWarning: X does not have valid feature names, but GradientBoostingRegressor was fitted with feature names\n",
            "  warnings.warn(\n"
          ]
        }
      ]
    },
    {
      "cell_type": "code",
      "source": [
        "# Fit a new T-Learner estimator.\n",
        "t_learner = TLearner(model).fit(train_X, train_y, train_w)"
      ],
      "metadata": {
        "id": "kTJ2MAsf5FrR"
      },
      "execution_count": 12,
      "outputs": []
    },
    {
      "cell_type": "code",
      "source": [
        "# Estimate CATE over the train set.\n",
        "train_pred_cate_t = t_learner.predict(train_X)\n",
        "# Estimate CATE over the test set.\n",
        "test_pred_cate_t = t_learner.predict(test_X)"
      ],
      "metadata": {
        "id": "gZ3w0mZB5FrT"
      },
      "execution_count": 13,
      "outputs": []
    },
    {
      "cell_type": "code",
      "source": [
        "# Fit a new X-Learner estimator.\n",
        "x_learner = XLearner(model, propensity_model).fit(train_X, train_y, train_w)"
      ],
      "metadata": {
        "id": "2wZsbQ-CzXBr"
      },
      "execution_count": 14,
      "outputs": []
    },
    {
      "cell_type": "code",
      "source": [
        "# Estimate CATE over the train set.\n",
        "train_pred_cate_x = x_learner.predict(train_X)\n",
        "# Estimate CATE over the test set.\n",
        "test_pred_cate_x = x_learner.predict(test_X)"
      ],
      "metadata": {
        "id": "hoVdGaiAzXxK"
      },
      "execution_count": 15,
      "outputs": []
    },
    {
      "cell_type": "markdown",
      "source": [
        "We compare these three metalearners in their point-wise accuracy and bias variance."
      ],
      "metadata": {
        "id": "lnfktu8fQNrw"
      }
    },
    {
      "cell_type": "code",
      "source": [
        "plt.figure(figsize=(7, 5))\n",
        "plt.plot(test_X.iloc[:, 1], test_true_cate, color='black', ls='--', label='True CATE')\n",
        "plt.scatter(test_X.iloc[:, 1], test_pred_cate_s, label=\"S-learner\")\n",
        "plt.scatter(test_X.iloc[:, 1], test_pred_cate_t, label=\"T-learner\")\n",
        "plt.scatter(test_X.iloc[:, 1], test_pred_cate_x, label=\"X-learner\")\n",
        "plt.xlabel('$x_1$')\n",
        "plt.ylabel('Treatment Effect')\n",
        "plt.legend()\n",
        "plt.show()"
      ],
      "metadata": {
        "colab": {
          "base_uri": "https://localhost:8080/",
          "height": 465
        },
        "id": "3cr6OaqY5tz6",
        "outputId": "f70723fc-84be-41ba-e1f1-d0a8dbc04946"
      },
      "execution_count": 16,
      "outputs": [
        {
          "output_type": "display_data",
          "data": {
            "text/plain": [
              "<Figure size 700x500 with 1 Axes>"
            ],
            "image/png": "[encoded data removed]"
          },
          "metadata": {}
        }
      ]
    },
    {
      "cell_type": "code",
      "source": [
        "# Visualization of bias distribution\n",
        "plt.violinplot([np.abs(test_pred_cate_s.values[:,0] - test_true_cate),\n",
        "                np.abs(test_pred_cate_t.values[:,0] - test_true_cate),\n",
        "                np.abs(test_pred_cate_x.values[:,0] - test_true_cate)],\n",
        "               showmeans=True)\n",
        "plt.ylabel(\"Bias distribution\")\n",
        "plt.xticks([1, 2, 3], ['S-learner', 'T-learner', 'X-learner'])\n",
        "plt.show()"
      ],
      "metadata": {
        "colab": {
          "base_uri": "https://localhost:8080/",
          "height": 430
        },
        "id": "hQ-uxcdjQZom",
        "outputId": "84223fb7-2a0c-452a-c431-4b81f27c8b08"
      },
      "execution_count": 17,
      "outputs": [
        {
          "output_type": "display_data",
          "data": {
            "text/plain": [
              "<Figure size 640x480 with 1 Axes>"
            ],
            "image/png": "[encoded data removed]"
          },
          "metadata": {}
        }
      ]
    },
    {
      "cell_type": "markdown",
      "source": [
        "### Confidence intervals"
      ],
      "metadata": {
        "id": "TQFB0nIiR5Iv"
      }
    },
    {
      "cell_type": "markdown",
      "source": [
        "Following Kunzel et al., we may also want to give the estimate a confidence interval. This is performed in a bootstrapping fashion. We choose to compute the interval for the first test set record, using the Xlearning procedure."
      ],
      "metadata": {
        "id": "JNhnjNjNSNom"
      }
    },
    {
      "cell_type": "code",
      "source": [
        "def compute_ci(\n",
        "    X: pd.DataFrame,\n",
        "    y: pd.DataFrame,\n",
        "    w: pd.DataFrame,\n",
        "    p: pd.DataFrame,\n",
        "    B: int,\n",
        "    alpha: float\n",
        "):\n",
        "    # Get indices stratified on treatment.\n",
        "    S0, S1 = w.index[w == 0].tolist(), w.index[w == 1].tolist()\n",
        "    # Get numbers of samples per strata.\n",
        "    n0, n1 = len(S0), len(S1)\n",
        "    # List of bootstrap estimates.\n",
        "    tau_hat_b = []\n",
        "    # Perform the bootstrap.\n",
        "    for b in range(B):\n",
        "        # Resample dataset with replacement.\n",
        "        s_b = choices(S0, k = n0) + choices(S1, k = n1)\n",
        "        X_b, y_b, w_b = X.loc[s_b, :], y.loc[s_b], w.loc[s_b]\n",
        "        # Fit the estimator on the bootstrap.\n",
        "        tau_hat_b.append(XLearner(model, propensity_model).fit(X_b, y_b, w_b).predict(p))\n",
        "    # Fit the estimator on the data set.\n",
        "    tau_hat = XLearner(model, propensity_model).fit(X, y, w).predict(p)\n",
        "    # Compute the standard deviation of the boostrap estimates.\n",
        "    sigma = np.std(pd.concat(tau_hat_b))\n",
        "    # Compute the confidence interval with the given signficance level alpha.\n",
        "    lower, upper = stats.norm.interval(1 - alpha, loc = tau_hat, scale = sigma)\n",
        "\n",
        "    return (float(tau_hat.to_numpy()), (float(lower), float(upper)))"
      ],
      "metadata": {
        "id": "qhvnMiMUR6yc"
      },
      "execution_count": 18,
      "outputs": []
    },
    {
      "cell_type": "code",
      "source": [
        "%%time\n",
        "compute_ci(\n",
        "    X = train_X,\n",
        "    y = train_y,\n",
        "    w = train_w,\n",
        "    p = test_data.iloc[[0], 2:-1],\n",
        "    B = 100,\n",
        "    alpha = 0.05\n",
        ")"
      ],
      "metadata": {
        "colab": {
          "base_uri": "https://localhost:8080/"
        },
        "id": "sJu-vI-sSW70",
        "outputId": "0de78706-4977-4bfd-e4c6-0222c605f617"
      },
      "execution_count": 19,
      "outputs": [
        {
          "output_type": "stream",
          "name": "stdout",
          "text": [
            "CPU times: user 1min 30s, sys: 267 ms, total: 1min 30s\n",
            "Wall time: 1min 43s\n"
          ]
        },
        {
          "output_type": "execute_result",
          "data": {
            "text/plain": [
              "(0.09625859587612681, (-0.983569849626581, 1.1760870413788347))"
            ]
          },
          "metadata": {},
          "execution_count": 19
        }
      ]
    },
    {
      "cell_type": "markdown",
      "source": [
        "## Additional material"
      ],
      "metadata": {
        "id": "a-_OhlSSb_-2"
      }
    },
    {
      "cell_type": "markdown",
      "source": [
        "The [EconML](https://github.com/py-why/EconML) package provides the same, plus others, pre-built metalearners, such as the DomainAdaptation-Learner.\n",
        "\n",
        "1. [Here](https://github.com/py-why/EconML/blob/main/notebooks/Metalearners%20Examples.ipynb) you can find a comprehensive notebook on how to use them and compare the predictions\n",
        "2. Another useful notebook, to be kept as a reference, is the one regarding [Double Machine Learning](https://github.com/py-why/EconML/blob/main/notebooks/Double%20Machine%20Learning%20Examples.ipynb) algorithms."
      ],
      "metadata": {
        "id": "V0y2dlLLcB1x"
      }
    }
  ]
}