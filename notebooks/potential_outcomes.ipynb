{
  "cells": [
    {
      "cell_type": "code",
      "execution_count": 1,
      "metadata": {
        "id": "8es0gf-bYz2s"
      },
      "outputs": [],
      "source": [
        "%%capture\n",
        "!pip install numpy pandas typing statsmodels networkx plotly seaborn"
      ]
    },
    {
      "cell_type": "code",
      "execution_count": 2,
      "metadata": {
        "id": "tin0gYzHYz2u"
      },
      "outputs": [],
      "source": [
        "# Data\n",
        "import numpy as np\n",
        "import pandas as pd\n",
        "from typing import Set\n",
        "# Statistical models\n",
        "import statsmodels.api as sm\n",
        "# Plots\n",
        "import networkx as nx\n",
        "import plotly.graph_objs as go\n",
        "import seaborn as sns"
      ]
    },
    {
      "cell_type": "markdown",
      "metadata": {
        "id": "9MF30rs5Yz2v"
      },
      "source": [
        "# Potential Outcomes"
      ]
    },
    {
      "cell_type": "markdown",
      "metadata": {
        "id": "wsSqFW-dYz2x"
      },
      "source": [
        "By Alessio Zanga, Niccolò Rocchi and Fabio Stella"
      ]
    },
    {
      "cell_type": "markdown",
      "metadata": {
        "id": "EVbVpuGOYz2y"
      },
      "source": [
        "## Abstract"
      ]
    },
    {
      "cell_type": "markdown",
      "metadata": {
        "id": "1o5tbqGhYz2y"
      },
      "source": [
        "This notebook illustrates a step-by-step example on estimating the average causal effect (ACE) of sodium on blood pressure following [Luque-Fernandez et al. (2018)](https://academic.oup.com/ije/article/48/2/640/5248195). The main focus of this work is to highlight the differences between a naive estimate and the adjusted estimate."
      ]
    },
    {
      "cell_type": "markdown",
      "metadata": {
        "id": "k_CMkwszYz2z"
      },
      "source": [
        "## Introduction"
      ]
    },
    {
      "cell_type": "markdown",
      "metadata": {
        "id": "gxwQGyrQYz20"
      },
      "source": [
        "Exceeding the recommendations for 24-h dietary **sodium** (SOD) intake is associated with increased levels of **systolic blood pressure** (SBP). Furthermore, with advancing **age**, the adaptive mechanism responsible for maintaining the composition and volume of the extracellular fluid is compromised. Age is a common cause of both high systolic blood pressure and impaired sodium homeostasis, acting as a confounder. However, high levels of 24-h excretion of **urinary protein** (PRO) are caused by sustained high SBP and increased dietary SOD, acting as a collider."
      ]
    },
    {
      "cell_type": "code",
      "execution_count": 3,
      "metadata": {
        "colab": {
          "base_uri": "https://localhost:8080/",
          "height": 516
        },
        "id": "xNmqS2mBYz21",
        "outputId": "8246b959-2135-41b5-ff00-457431064f19"
      },
      "outputs": [
        {
          "output_type": "display_data",
          "data": {
            "text/plain": [
              "<Figure size 640x480 with 1 Axes>"
            ],
            "image/png": "[encoded data removed]"
          },
          "metadata": {}
        }
      ],
      "source": [
        "G = nx.DiGraph()\n",
        "G.add_edges_from([(\"SOD\", \"SBP\"), (\"AGE\", \"SOD\"), (\"AGE\", \"SBP\"), (\"SOD\", \"PRO\"), (\"SBP\", \"PRO\")])\n",
        "nx.draw_circular(G, node_size=1000, node_color=\"white\", with_labels=True)"
      ]
    },
    {
      "cell_type": "markdown",
      "metadata": {
        "id": "e4vDf_HdYz22"
      },
      "source": [
        "Assuming **linear relationships** between the variables and **gaussian noise**, a data generation process that is consistent with the represented causal graph follows directly."
      ]
    },
    {
      "cell_type": "code",
      "execution_count": 4,
      "metadata": {
        "id": "WkFIxIOYYz22"
      },
      "outputs": [],
      "source": [
        "def sample_data(size: int = int(1e6), seed: int = 31):\n",
        "    # Set random generator seed for results reproducibility\n",
        "    np.random.seed(seed)\n",
        "    # Sample age with mean 65 and std 5\n",
        "    age = np.random.normal(65, 5, size)\n",
        "    # Sample sodium with additive noise\n",
        "    sod = 0.056 * age + np.random.normal(0, 1, size)\n",
        "    # Binarize sodium following cutoff\n",
        "    sod = (sod > 3.5).astype(int)\n",
        "    # Sample systolic blood pressure\n",
        "    sbp = 1.05 * sod + 2 * age + np.random.normal(0, 1, size)\n",
        "    # Sample urinary protein\n",
        "    pro = 0.4 * sod + 0.3 * sbp + np.random.normal(0, 1, size)\n",
        "    # Create a dataframe from sampled variables\n",
        "    return pd.DataFrame({\"AGE\": age, \"SOD\": sod, \"SBP\": sbp, \"PRO\": pro})"
      ]
    },
    {
      "cell_type": "markdown",
      "metadata": {
        "id": "QBZXKmdjYz23"
      },
      "source": [
        "Here, the true ACE is given by the coefficient 1.05 that assign SBP a value given SOD."
      ]
    },
    {
      "cell_type": "code",
      "execution_count": 5,
      "metadata": {
        "colab": {
          "base_uri": "https://localhost:8080/",
          "height": 300
        },
        "id": "rPEsqs-pYz23",
        "outputId": "54d9e914-49ed-47a3-fc5b-e81229cc8220"
      },
      "outputs": [
        {
          "output_type": "execute_result",
          "data": {
            "text/plain": [
              "                  AGE             SOD             SBP             PRO\n",
              "count  1000000.000000  1000000.000000  1000000.000000  1000000.000000\n",
              "mean        65.001134        0.552995      130.583161       39.396720\n",
              "std          4.993518        0.497184       10.161539        3.263477\n",
              "min         40.964418        0.000000       82.816817       24.421988\n",
              "25%         61.627703        0.000000      123.720103       37.190745\n",
              "50%         65.009236        1.000000      130.597297       39.402344\n",
              "75%         68.372794        1.000000      137.445514       41.602773\n",
              "max         87.717317        1.000000      176.708462       54.573313"
            ],
            "text/html": [
              "\n",
              "  <div id=\"df-ec4918c3-dfd9-4087-a910-c32d8efabcaa\" class=\"colab-df-container\">\n",
              "    <div>\n",
              "<style scoped>\n",
              "    .dataframe tbody tr th:only-of-type {\n",
              "        vertical-align: middle;\n",
              "    }\n",
              "\n",
              "    .dataframe tbody tr th {\n",
              "        vertical-align: top;\n",
              "    }\n",
              "\n",
              "    .dataframe thead th {\n",
              "        text-align: right;\n",
              "    }\n",
              "</style>\n",
              "<table border=\"1\" class=\"dataframe\">\n",
              "  <thead>\n",
              "    <tr style=\"text-align: right;\">\n",
              "      <th></th>\n",
              "      <th>AGE</th>\n",
              "      <th>SOD</th>\n",
              "      <th>SBP</th>\n",
              "      <th>PRO</th>\n",
              "    </tr>\n",
              "  </thead>\n",
              "  <tbody>\n",
              "    <tr>\n",
              "      <th>count</th>\n",
              "      <td>1000000.000000</td>\n",
              "      <td>1000000.000000</td>\n",
              "      <td>1000000.000000</td>\n",
              "      <td>1000000.000000</td>\n",
              "    </tr>\n",
              "    <tr>\n",
              "      <th>mean</th>\n",
              "      <td>65.001134</td>\n",
              "      <td>0.552995</td>\n",
              "      <td>130.583161</td>\n",
              "      <td>39.396720</td>\n",
              "    </tr>\n",
              "    <tr>\n",
              "      <th>std</th>\n",
              "      <td>4.993518</td>\n",
              "      <td>0.497184</td>\n",
              "      <td>10.161539</td>\n",
              "      <td>3.263477</td>\n",
              "    </tr>\n",
              "    <tr>\n",
              "      <th>min</th>\n",
              "      <td>40.964418</td>\n",
              "      <td>0.000000</td>\n",
              "      <td>82.816817</td>\n",
              "      <td>24.421988</td>\n",
              "    </tr>\n",
              "    <tr>\n",
              "      <th>25%</th>\n",
              "      <td>61.627703</td>\n",
              "      <td>0.000000</td>\n",
              "      <td>123.720103</td>\n",
              "      <td>37.190745</td>\n",
              "    </tr>\n",
              "    <tr>\n",
              "      <th>50%</th>\n",
              "      <td>65.009236</td>\n",
              "      <td>1.000000</td>\n",
              "      <td>130.597297</td>\n",
              "      <td>39.402344</td>\n",
              "    </tr>\n",
              "    <tr>\n",
              "      <th>75%</th>\n",
              "      <td>68.372794</td>\n",
              "      <td>1.000000</td>\n",
              "      <td>137.445514</td>\n",
              "      <td>41.602773</td>\n",
              "    </tr>\n",
              "    <tr>\n",
              "      <th>max</th>\n",
              "      <td>87.717317</td>\n",
              "      <td>1.000000</td>\n",
              "      <td>176.708462</td>\n",
              "      <td>54.573313</td>\n",
              "    </tr>\n",
              "  </tbody>\n",
              "</table>\n",
              "</div>\n",
              "    <div class=\"colab-df-buttons\">\n",
              "\n",
              "  <div class=\"colab-df-container\">\n",
              "    <button class=\"colab-df-convert\" onclick=\"convertToInteractive('df-ec4918c3-dfd9-4087-a910-c32d8efabcaa')\"\n",
              "            title=\"Convert this dataframe to an interactive table.\"\n",
              "            style=\"display:none;\">\n",
              "\n",
              "  <svg xmlns=\"http://www.w3.org/2000/svg\" height=\"24px\" viewBox=\"0 -960 960 960\">\n",
              "    <path d=\"M120-120v-720h720v720H120Zm60-500h600v-160H180v160Zm220 220h160v-160H400v160Zm0 220h160v-160H400v160ZM180-400h160v-160H180v160Zm440 0h160v-160H620v160ZM180-180h160v-160H180v160Zm440 0h160v-160H620v160Z\"/>\n",
              "  </svg>\n",
              "    </button>\n",
              "\n",
              "  <style>\n",
              "    .colab-df-container {\n",
              "      display:flex;\n",
              "      gap: 12px;\n",
              "    }\n",
              "\n",
              "    .colab-df-convert {\n",
              "      background-color: #E8F0FE;\n",
              "      border: none;\n",
              "      border-radius: 50%;\n",
              "      cursor: pointer;\n",
              "      display: none;\n",
              "      fill: #1967D2;\n",
              "      height: 32px;\n",
              "      padding: 0 0 0 0;\n",
              "      width: 32px;\n",
              "    }\n",
              "\n",
              "    .colab-df-convert:hover {\n",
              "      background-color: #E2EBFA;\n",
              "      box-shadow: 0px 1px 2px rgba(60, 64, 67, 0.3), 0px 1px 3px 1px rgba(60, 64, 67, 0.15);\n",
              "      fill: #174EA6;\n",
              "    }\n",
              "\n",
              "    .colab-df-buttons div {\n",
              "      margin-bottom: 4px;\n",
              "    }\n",
              "\n",
              "    [theme=dark] .colab-df-convert {\n",
              "      background-color: #3B4455;\n",
              "      fill: #D2E3FC;\n",
              "    }\n",
              "\n",
              "    [theme=dark] .colab-df-convert:hover {\n",
              "      background-color: #434B5C;\n",
              "      box-shadow: 0px 1px 3px 1px rgba(0, 0, 0, 0.15);\n",
              "      filter: drop-shadow(0px 1px 2px rgba(0, 0, 0, 0.3));\n",
              "      fill: #FFFFFF;\n",
              "    }\n",
              "  </style>\n",
              "\n",
              "    <script>\n",
              "      const buttonEl =\n",
              "        document.querySelector('#df-ec4918c3-dfd9-4087-a910-c32d8efabcaa button.colab-df-convert');\n",
              "      buttonEl.style.display =\n",
              "        google.colab.kernel.accessAllowed ? 'block' : 'none';\n",
              "\n",
              "      async function convertToInteractive(key) {\n",
              "        const element = document.querySelector('#df-ec4918c3-dfd9-4087-a910-c32d8efabcaa');\n",
              "        const dataTable =\n",
              "          await google.colab.kernel.invokeFunction('convertToInteractive',\n",
              "                                                    [key], {});\n",
              "        if (!dataTable) return;\n",
              "\n",
              "        const docLinkHtml = 'Like what you see? Visit the ' +\n",
              "          '<a target=\"_blank\" href=https://colab.research.google.com/notebooks/data_table.ipynb>data table notebook</a>'\n",
              "          + ' to learn more about interactive tables.';\n",
              "        element.innerHTML = '';\n",
              "        dataTable['output_type'] = 'display_data';\n",
              "        await google.colab.output.renderOutput(dataTable, element);\n",
              "        const docLink = document.createElement('div');\n",
              "        docLink.innerHTML = docLinkHtml;\n",
              "        element.appendChild(docLink);\n",
              "      }\n",
              "    </script>\n",
              "  </div>\n",
              "\n",
              "\n",
              "<div id=\"df-0169bbef-73f5-4a55-a992-cda124f225e5\">\n",
              "  <button class=\"colab-df-quickchart\" onclick=\"quickchart('df-0169bbef-73f5-4a55-a992-cda124f225e5')\"\n",
              "            title=\"Suggest charts.\"\n",
              "            style=\"display:none;\">\n",
              "\n",
              "<svg xmlns=\"http://www.w3.org/2000/svg\" height=\"24px\"viewBox=\"0 0 24 24\"\n",
              "     width=\"24px\">\n",
              "    <g>\n",
              "        <path d=\"M19 3H5c-1.1 0-2 .9-2 2v14c0 1.1.9 2 2 2h14c1.1 0 2-.9 2-2V5c0-1.1-.9-2-2-2zM9 17H7v-7h2v7zm4 0h-2V7h2v10zm4 0h-2v-4h2v4z\"/>\n",
              "    </g>\n",
              "</svg>\n",
              "  </button>\n",
              "\n",
              "<style>\n",
              "  .colab-df-quickchart {\n",
              "      --bg-color: #E8F0FE;\n",
              "      --fill-color: #1967D2;\n",
              "      --hover-bg-color: #E2EBFA;\n",
              "      --hover-fill-color: #174EA6;\n",
              "      --disabled-fill-color: #AAA;\n",
              "      --disabled-bg-color: #DDD;\n",
              "  }\n",
              "\n",
              "  [theme=dark] .colab-df-quickchart {\n",
              "      --bg-color: #3B4455;\n",
              "      --fill-color: #D2E3FC;\n",
              "      --hover-bg-color: #434B5C;\n",
              "      --hover-fill-color: #FFFFFF;\n",
              "      --disabled-bg-color: #3B4455;\n",
              "      --disabled-fill-color: #666;\n",
              "  }\n",
              "\n",
              "  .colab-df-quickchart {\n",
              "    background-color: var(--bg-color);\n",
              "    border: none;\n",
              "    border-radius: 50%;\n",
              "    cursor: pointer;\n",
              "    display: none;\n",
              "    fill: var(--fill-color);\n",
              "    height: 32px;\n",
              "    padding: 0;\n",
              "    width: 32px;\n",
              "  }\n",
              "\n",
              "  .colab-df-quickchart:hover {\n",
              "    background-color: var(--hover-bg-color);\n",
              "    box-shadow: 0 1px 2px rgba(60, 64, 67, 0.3), 0 1px 3px 1px rgba(60, 64, 67, 0.15);\n",
              "    fill: var(--button-hover-fill-color);\n",
              "  }\n",
              "\n",
              "  .colab-df-quickchart-complete:disabled,\n",
              "  .colab-df-quickchart-complete:disabled:hover {\n",
              "    background-color: var(--disabled-bg-color);\n",
              "    fill: var(--disabled-fill-color);\n",
              "    box-shadow: none;\n",
              "  }\n",
              "\n",
              "  .colab-df-spinner {\n",
              "    border: 2px solid var(--fill-color);\n",
              "    border-color: transparent;\n",
              "    border-bottom-color: var(--fill-color);\n",
              "    animation:\n",
              "      spin 1s steps(1) infinite;\n",
              "  }\n",
              "\n",
              "  @keyframes spin {\n",
              "    0% {\n",
              "      border-color: transparent;\n",
              "      border-bottom-color: var(--fill-color);\n",
              "      border-left-color: var(--fill-color);\n",
              "    }\n",
              "    20% {\n",
              "      border-color: transparent;\n",
              "      border-left-color: var(--fill-color);\n",
              "      border-top-color: var(--fill-color);\n",
              "    }\n",
              "    30% {\n",
              "      border-color: transparent;\n",
              "      border-left-color: var(--fill-color);\n",
              "      border-top-color: var(--fill-color);\n",
              "      border-right-color: var(--fill-color);\n",
              "    }\n",
              "    40% {\n",
              "      border-color: transparent;\n",
              "      border-right-color: var(--fill-color);\n",
              "      border-top-color: var(--fill-color);\n",
              "    }\n",
              "    60% {\n",
              "      border-color: transparent;\n",
              "      border-right-color: var(--fill-color);\n",
              "    }\n",
              "    80% {\n",
              "      border-color: transparent;\n",
              "      border-right-color: var(--fill-color);\n",
              "      border-bottom-color: var(--fill-color);\n",
              "    }\n",
              "    90% {\n",
              "      border-color: transparent;\n",
              "      border-bottom-color: var(--fill-color);\n",
              "    }\n",
              "  }\n",
              "</style>\n",
              "\n",
              "  <script>\n",
              "    async function quickchart(key) {\n",
              "      const quickchartButtonEl =\n",
              "        document.querySelector('#' + key + ' button');\n",
              "      quickchartButtonEl.disabled = true;  // To prevent multiple clicks.\n",
              "      quickchartButtonEl.classList.add('colab-df-spinner');\n",
              "      try {\n",
              "        const charts = await google.colab.kernel.invokeFunction(\n",
              "            'suggestCharts', [key], {});\n",
              "      } catch (error) {\n",
              "        console.error('Error during call to suggestCharts:', error);\n",
              "      }\n",
              "      quickchartButtonEl.classList.remove('colab-df-spinner');\n",
              "      quickchartButtonEl.classList.add('colab-df-quickchart-complete');\n",
              "    }\n",
              "    (() => {\n",
              "      let quickchartButtonEl =\n",
              "        document.querySelector('#df-0169bbef-73f5-4a55-a992-cda124f225e5 button');\n",
              "      quickchartButtonEl.style.display =\n",
              "        google.colab.kernel.accessAllowed ? 'block' : 'none';\n",
              "    })();\n",
              "  </script>\n",
              "</div>\n",
              "    </div>\n",
              "  </div>\n"
            ]
          },
          "metadata": {},
          "execution_count": 5
        }
      ],
      "source": [
        "data = sample_data()\n",
        "data.describe()"
      ]
    },
    {
      "cell_type": "markdown",
      "metadata": {
        "id": "SuBAKfG0Yz24"
      },
      "source": [
        "## Methods"
      ]
    },
    {
      "cell_type": "markdown",
      "source": [
        "The average causal effect (ACE), also called average treatment effect (ATE), from $X$ to $Y$ is defined as:"
      ],
      "metadata": {
        "id": "g8TXqWER6SDj"
      }
    },
    {
      "cell_type": "markdown",
      "source": [
        "$$ \\tau = \\mathbb{E}[Y(1) - Y(0)]$$"
      ],
      "metadata": {
        "id": "H88auuM26SYv"
      }
    },
    {
      "cell_type": "markdown",
      "metadata": {
        "id": "8a9IBScyYz24"
      },
      "source": [
        "Assuming SUTVA, positivity and unconfoundedness, the ACE can be identified by the use of the **adjustment formula** and a valid adjustment set $\\mathbf{Z}$:"
      ]
    },
    {
      "cell_type": "markdown",
      "metadata": {
        "id": "Vdqj6ip7Yz24"
      },
      "source": [
        "$$ \\tau = \\mathbb{E}[Y(1) - Y(0)] = \\mathbb{E}_\\textbf{Z}[\\mathbb{E}[Y(1) - Y(0)|\\textbf{Z}]] = \\mathbb{E}_\\textbf{Z}[\\mathbb{E}[Y|X=1,\\textbf{Z}] - \\mathbb{E}[Y|X=0,\\textbf{Z}]] $$"
      ]
    },
    {
      "cell_type": "markdown",
      "source": [
        "Remember how the expected value of a discrete random variable $Z$ is defined:"
      ],
      "metadata": {
        "id": "9oJ2xAlK1uAs"
      }
    },
    {
      "cell_type": "markdown",
      "source": [
        "$$ \\mathbb{E}[Z] = \\sum_{\\text{Dom}(Z)} z P(z) $$"
      ],
      "metadata": {
        "id": "oDlHXsbE2Dms"
      }
    },
    {
      "cell_type": "markdown",
      "source": [
        "Now, let's indicate $n$ the size of the data set and $n_z$ the raw frequency of a level $z \\in \\text{Dom}(Z)$ into the data. We can then estimate $\\mathbb{E}[Z]$ from data by simply use these frequencies:"
      ],
      "metadata": {
        "id": "0K4b9-Xa3o8y"
      }
    },
    {
      "cell_type": "markdown",
      "source": [
        "$$ \\mathbb{E}[Z] = \\sum_{\\text{Dom}(Z)} z P(z) \\approx \\sum_{\\text{Dom}(Z)} z \\frac{n_z}{n} = \\frac{1}{n}\\sum_{\\text{Dom}(Z)}z n_z = \\frac{1}{n} \\sum_{i=1}^n z_i $$"
      ],
      "metadata": {
        "id": "kpH8KHI03zss"
      }
    },
    {
      "cell_type": "markdown",
      "metadata": {
        "id": "1QJffja1Yz25"
      },
      "source": [
        "We are finally able to give $\\tau$ an estimation through our data, that is replacing $\\mathbb{E}_{\\mathbf{Z}}[\\cdots]$ with the empirical mean:"
      ]
    },
    {
      "cell_type": "markdown",
      "metadata": {
        "id": "y5-uIG1oYz25"
      },
      "source": [
        "$$ \\hat{\\tau} = \\frac{1}{n} \\sum_{i=1}^{n} [\\mathbb{E}[Y|X=1,\\textbf{Z}=\\mathbf{z_{i}}] - \\mathbb{E}[Y|X=0,\\textbf{Z}=\\mathbf{z_{i}}]] $$"
      ]
    },
    {
      "cell_type": "markdown",
      "metadata": {
        "id": "1TuiX1gEYz25"
      },
      "source": [
        "However, instead of computing $\\mathbb{E}[Y|X, \\mathbf{Z}]$ as averages from data, it is possible to choose any machine learning model for $\\mathbb{E}[Y|X,\\textbf{Z}]$, such as a linear regression model. Such model works out nicely since blood pressure is generated as a linear combination of other variables."
      ]
    },
    {
      "cell_type": "code",
      "execution_count": null,
      "metadata": {
        "id": "RMBO76UGYz25"
      },
      "outputs": [],
      "source": [
        "def ACE(data: pd.DataFrame, X: str, Y: str, Z: Set[str]):\n",
        "    # Define the regresion model formula\n",
        "    formula = f\"{Y} ~ {X}\"\n",
        "    if len(Z) != 0: formula += \"+\" + \"+\".join(Z)\n",
        "    # Fit Ordinary Least Square regression model\n",
        "    estimator = sm.OLS.from_formula(formula, data).fit()\n",
        "    # Compute potential outcomes by fixing X\n",
        "    Y1 = estimator.predict(data.assign(**{X: 1}))\n",
        "    Y0 = estimator.predict(data.assign(**{X: 0}))\n",
        "    # Compute average causal effect\n",
        "    return np.mean(Y1 - Y0)"
      ]
    },
    {
      "cell_type": "markdown",
      "metadata": {
        "id": "dLLyQlKuYz26"
      },
      "source": [
        "## Results"
      ]
    },
    {
      "cell_type": "markdown",
      "metadata": {
        "id": "5ku_DBlWYz26"
      },
      "source": [
        "The true ACE is:"
      ]
    },
    {
      "cell_type": "code",
      "execution_count": null,
      "metadata": {
        "id": "ctDxf_S0Yz26"
      },
      "outputs": [],
      "source": [
        "ace = 1.05"
      ]
    },
    {
      "cell_type": "markdown",
      "source": [
        "The naive estimated ACE without adjustment is:"
      ],
      "metadata": {
        "id": "ZOBVXz1QM5TP"
      }
    },
    {
      "cell_type": "code",
      "source": [
        "t = ACE(data, X = \"SOD\", Y = \"SBP\", Z = [])\n",
        "f\"Estimated ACE: {t:.3}, Relative Error: {(np.abs((t-ace)/ace*100)):.4}%\""
      ],
      "metadata": {
        "colab": {
          "base_uri": "https://localhost:8080/",
          "height": 35
        },
        "id": "VTe46IpaM-rB",
        "outputId": "8fc498f8-7aa8-417e-e7ea-2fc05504acfa"
      },
      "execution_count": null,
      "outputs": [
        {
          "output_type": "execute_result",
          "data": {
            "text/plain": [
              "'Estimated ACE: 5.37, Relative Error: 411.5%'"
            ],
            "application/vnd.google.colaboratory.intrinsic+json": {
              "type": "string"
            }
          },
          "metadata": {},
          "execution_count": 8
        }
      ]
    },
    {
      "cell_type": "markdown",
      "metadata": {
        "id": "r-HgOTxHYz28"
      },
      "source": [
        "The estimated ACE adjusting for AGE and PRO is:"
      ]
    },
    {
      "cell_type": "code",
      "execution_count": null,
      "metadata": {
        "colab": {
          "base_uri": "https://localhost:8080/",
          "height": 35
        },
        "id": "C7rzLQ2DYz28",
        "outputId": "7e33daaa-b05f-423a-d26a-fddb9189616f"
      },
      "outputs": [
        {
          "output_type": "execute_result",
          "data": {
            "text/plain": [
              "'Estimated ACE: 0.856, Relative Error: 18.46%'"
            ],
            "application/vnd.google.colaboratory.intrinsic+json": {
              "type": "string"
            }
          },
          "metadata": {},
          "execution_count": 9
        }
      ],
      "source": [
        "t = ACE(data, X = \"SOD\", Y = \"SBP\", Z = [\"AGE\", \"PRO\"])\n",
        "f\"Estimated ACE: {t:.3}, Relative Error: {(np.abs((t-ace)/ace*100)):.4}%\""
      ]
    },
    {
      "cell_type": "markdown",
      "metadata": {
        "id": "cGsHVFPPYz28"
      },
      "source": [
        "The estimated ACE adjusting for AGE is:"
      ]
    },
    {
      "cell_type": "code",
      "execution_count": null,
      "metadata": {
        "colab": {
          "base_uri": "https://localhost:8080/",
          "height": 35
        },
        "id": "_ZmhbfGNYz29",
        "outputId": "599fe270-e41a-42ec-a008-67a04ca2c123"
      },
      "outputs": [
        {
          "output_type": "execute_result",
          "data": {
            "text/plain": [
              "'Estimated ACE: 1.05, Relative Error: 0.2269%'"
            ],
            "application/vnd.google.colaboratory.intrinsic+json": {
              "type": "string"
            }
          },
          "metadata": {},
          "execution_count": 10
        }
      ],
      "source": [
        "t = ACE(data, X = \"SOD\", Y = \"SBP\", Z = [\"AGE\"])\n",
        "f\"Estimated ACE: {t:.3}, Relative Error: {(np.abs((t-ace)/ace*100)):.4}%\""
      ]
    },
    {
      "cell_type": "markdown",
      "source": [
        "So {AGE} is a valid adjustment set. Note that the relative error is not 0 even in this case, because of the noise into the system."
      ],
      "metadata": {
        "id": "T5HlrobeUO6B"
      }
    },
    {
      "cell_type": "markdown",
      "source": [
        "## Adjustment in graphical terms"
      ],
      "metadata": {
        "id": "sJW-6a1COdk_"
      }
    },
    {
      "cell_type": "markdown",
      "source": [
        "The naive estimated ACE represents the correlation between SOD and SBP, that is the increase in SBP due to SOD, in average."
      ],
      "metadata": {
        "id": "ITetdYFOOhhS"
      }
    },
    {
      "cell_type": "code",
      "source": [
        "# Generate data\n",
        "data = sample_data(size = 1000)\n",
        "# Create base trace\n",
        "trace = go.Scatter(\n",
        "    x=data['SOD'],\n",
        "    y=data['SBP'],\n",
        "    mode='markers',\n",
        "    marker=dict(\n",
        "        size=5,\n",
        "        color=data['SBP'],\n",
        "        colorscale='Viridis',\n",
        "        opacity=0.8\n",
        "    ),\n",
        "    showlegend = False\n",
        ")\n",
        "# Create regression line\n",
        "estimator = sm.OLS.from_formula(\"SBP ~ SOD\", data).fit()\n",
        "X = np.linspace(data['SOD'].min(), data['SOD'].max(), 2)\n",
        "Y = np.zeros(2)\n",
        "for i in range(2):\n",
        "  Y[i] = estimator.predict({\"SOD\": X[i]})\n",
        "line = go.Scatter(\n",
        "    x=X,\n",
        "    y=Y,\n",
        "    opacity=0.5,\n",
        "    line = {\"width\" : 3, \"color\" : \"blue\"},\n",
        "    showlegend = False\n",
        ")\n",
        "# Create figure\n",
        "fig = go.Figure(data=[trace, line])\n",
        "fig.update_layout(\n",
        "    xaxis_title=\"SOD\",\n",
        "    yaxis_title=\"SBP\",\n",
        "    width = 6e2\n",
        ")\n",
        "# Show plot\n",
        "fig.show()"
      ],
      "metadata": {
        "colab": {
          "base_uri": "https://localhost:8080/",
          "height": 542
        },
        "id": "Aset9PF3NYGu",
        "outputId": "d9f62c2b-7791-4195-fa0e-918bbffc5f38"
      },
      "execution_count": null,
      "outputs": [
        {
          "output_type": "display_data",
          "data": {
            "text/html": [
              "<html>\n",
              "<head><meta charset=\"utf-8\" /></head>\n",
              "<body>\n",
              "    <div>            <script src=\"https://cdnjs.cloudflare.com/ajax/libs/mathjax/2.7.5/MathJax.js?config=TeX-AMS-MML_SVG\"></script><script type=\"text/javascript\">if (window.MathJax && window.MathJax.Hub && window.MathJax.Hub.Config) {window.MathJax.Hub.Config({SVG: {font: \"STIX-Web\"}});}</script>                <script type=\"text/javascript\">window.PlotlyConfig = {MathJaxConfig: 'local'};</script>\n",
              "        <script charset=\"utf-8\" src=\"https://cdn.plot.ly/plotly-2.24.1.min.js\"></script>                <div id=\"7a119c71-ab0a-42de-a7d6-b4bb5bae0c2c\" class=\"plotly-graph-div\" style=\"height:525px; width:600.0px;\"></div>            <script type=\"text/javascript\">                                    window.PLOTLYENV=window.PLOTLYENV || {};                                    if (document.getElementById(\"7a119c71-ab0a-42de-a7d6-b4bb5bae0c2c\")) {                    Plotly.newPlot(                        \"7a119c71-ab0a-42de-a7d6-b4bb5bae0c2c\",                        [{\"marker\":{\"color\":[125.14086146035456,128.7712348190305,131.12328861496854,121.0595033829595,127.35975923099309,124.44362185842284,123.95016758143254,150.46437750089757,123.08070680789845,130.1418329018733,133.46015433854393,129.88503614658256,120.24785895917944,120.44228050717183,143.40376131706705,126.62975442150966,112.40054702005752,132.33636468506816,122.33577341575919,121.93501037092894,121.18659675655499,147.17590301663674,146.42636291708214,127.71464062898453,130.08492741642016,129.7455930498631,123.3614552767416,131.6068022446226,136.7216103000902,128.56183743857036,134.8499318616873,136.49921310418614,143.9837991883364,129.60032654737753,127.34941628000715,128.74183916911235,132.06784617947798,120.48202482300377,120.53130226706216,120.95648621469076,129.6136992874274,129.5714440774304,124.24415551572932,147.0031425365657,123.35382066233961,125.63428155228462,123.29056256441109,144.06383275490035,145.77748391839674,123.47503270302239,134.67929547143584,138.28677602506409,116.2867539692112,111.02142458933352,114.29926079420315,153.68214501638624,130.88597642895445,133.53059354137736,126.89158632473678,126.51218354295918,147.62107701502777,122.49606158198094,135.163672692012,154.44318814303654,128.74542482058732,128.1358296779956,126.30798807307262,117.7413088643908,127.62788674323582,141.63591481215528,127.6391001854529,130.59436520605502,118.04536402718098,104.73506678711168,141.3885517533235,115.67506437487506,123.87848768028913,127.88541561153806,143.70681758597684,116.02185643264812,139.07290848780048,112.16068785283404,138.37966464489364,139.06677277274872,132.88404111255903,133.92166071311846,133.23472807736806,138.81057502866975,124.02826562792119,158.7987942406141,122.70110655290058,126.55651221921802,128.8632084572868,129.63299568778427,121.50142588577913,126.00456428643017,111.33329325481917,106.54180379655324,112.82715403084076,132.8328273902328,143.11870198188672,112.23471492279901,126.57582681122503,112.85857182279393,135.07289201945167,124.32021457282951,159.58949729117268,119.62776761500702,142.66737739608627,125.43490837631826,129.44114179645987,136.2265367499551,118.37790004136029,139.5730418785784,125.29714364773288,135.55453226607864,136.67211118224267,108.74119363858877,124.6335099451175,129.44299808184985,124.11427989006783,135.70096826232057,132.65692831091454,129.4282861544047,138.10814744133052,129.26131110481606,125.58631108536149,138.6164746629151,128.51559452982033,137.67049395748114,122.12317030169056,124.13814688646939,125.1774130341718,128.95354221943745,109.23692699702373,131.76800785298298,130.23278249642902,125.09401971159312,114.67079061474777,130.39588735486643,131.81338180693282,138.18941034819812,128.68287715510854,133.0943655781211,135.2064198993148,125.6381220064635,128.5829440508786,110.90115063013825,116.44080250701869,134.21343341135136,132.73329557096957,127.16960257547021,130.29779178725235,142.71793330684835,118.34367683716373,133.57464608990628,109.82195533195387,121.9742293166628,135.12109733054632,130.30630650560485,121.31459502169578,144.7889713753815,117.3417664767009,114.04034864902087,129.56819938031933,120.69354512560649,138.40096792610703,126.92558396359941,132.66354769616436,136.05495349136552,139.8115456276187,131.35105737142493,126.03368287141528,122.93793998759948,128.6109483863421,136.18070292358288,133.95775158321734,120.44608137891831,131.16357014442636,121.86720872741412,125.69788620079942,154.0491055563158,125.28872703037143,143.40931244795675,121.05826097227244,141.12194513282898,127.76088800304319,130.70685030884866,148.58783636148675,135.05173032012937,127.11343098480812,123.60825255493906,122.51759111420994,147.43992020496216,139.17917490523536,124.24629854966432,130.81259544154685,148.55205109102943,132.4393326142245,128.07902603863712,151.43916096734674,133.37668807101178,132.90335878297816,144.81700387551058,146.97809108954047,141.379094208277,122.75686408991662,123.72451541882745,125.84010362093079,133.47120178096375,121.3578435276304,138.01922665081602,120.24071890772282,130.6126821587345,129.58908407116058,137.17862594095456,119.80394336296115,131.48102540425913,145.3473961041431,137.8017841840219,114.86394490321696,138.44494610814925,144.45673392198125,122.76155456614259,114.32395861460917,124.73423822850089,135.74758449416396,109.1078390920004,129.10013858582172,148.04521155336553,126.44100930602326,137.366365472115,136.65538883503285,127.62434390476103,108.32262095117042,135.96518567840184,130.14035744125542,141.1142995850349,120.04536654346037,141.169213357602,136.72790452283672,128.07729396121542,137.62372866733375,123.95217276399042,141.65948785569742,138.5259373972717,139.25464910628892,132.3623904647187,126.7335679987476,118.34550195764784,136.02986179888933,137.5155443901611,134.49978404592693,128.32313242777994,146.39800812457804,118.34183239766979,138.48477727506616,130.53283026963575,124.49740676497734,112.5768961474572,119.3257803301592,125.34168075453675,128.33824165932614,143.14347748302697,152.6981436615061,127.0883500658633,144.95580870165662,120.52022632559003,127.80241960105646,138.67297753345292,140.53578577952544,123.98896190263397,116.39814950720123,111.03495583472387,113.7008265869507,125.75446269365098,138.18385945207714,142.51252292306293,132.9878766040957,150.33752560375652,119.07713076110448,123.13620278184673,138.31962628571702,130.03888598371898,119.24227828033028,105.26978526233857,133.16543708127605,127.49565822801043,131.7272416283053,115.56810327321261,141.18776117336685,136.74772684555901,129.51192057999404,112.5166125314792,129.34010226085445,145.47018952244582,138.8703034804459,119.02844833685783,134.98187741401983,144.97894327351472,138.38000763285578,125.68352774809978,119.3208715915844,132.83416166706414,128.5038984803863,144.23873968327229,110.6928431276404,114.29619637188034,161.04409363317507,138.59352126553182,143.18298109423128,144.84068408758375,117.64558453245526,116.5308288307976,146.3129354742862,116.52575999410072,139.94253379540774,128.61102414778045,122.55681365329315,110.70708902406865,135.07143572716518,135.64538186032385,132.11795887877992,124.27287067117531,113.67179176097154,140.05354923802864,117.57723889443743,141.39068710781908,117.51001136761252,130.32475905420958,129.45107957658027,141.6108867683755,142.43841350082496,134.70715645022878,123.48170231281784,135.80052685715236,119.0205492193639,139.5367810960007,142.02913480214724,120.36933716260319,142.48263416298838,124.89206045870743,116.17310373209364,136.65773514407732,140.21145949155198,123.22747431861761,112.64202474947581,106.32517483928099,150.27926395833563,126.95408224824251,136.289408874598,147.49860067516582,121.34991784623065,114.1757252217327,130.23957198680247,130.76948989823137,131.64635588481903,124.725483416901,130.2309966717457,105.87797739367389,125.62480438854652,123.89842215056106,123.58888154741294,132.50112255113186,121.17523573251037,114.04482742514442,118.54362209358759,131.3543882346142,127.82983922826642,126.60551129774953,123.11609864998924,139.64394421921003,145.90747123064693,109.1215837969927,126.16029345249076,130.24134909515155,124.15135320487823,114.50721777999395,126.34196989084269,121.7190517359641,120.0869985255189,134.39228098395694,143.1975365018505,135.24388674585148,141.81549196467225,120.28175381803545,135.886843989817,132.36582612227463,131.20174008013117,130.88171433007332,142.9545353084205,117.84826114753349,127.36438802844808,150.92638416558498,128.42259826838807,126.40537822041921,146.9602399076918,117.4234760048373,118.00622419410206,148.20619027435166,133.32523781376057,136.47320427907056,146.71100012227177,137.9877167550805,129.80891386779058,131.9833725472764,141.17803183914432,114.27522800660873,133.378595434535,116.40958579506562,127.74743930385566,118.27461020105561,149.79046578796346,125.40816747865392,142.53273264037406,131.5796756836835,131.65098010092825,128.20058740530808,112.78395861161462,143.60159944046222,146.10071944370014,135.4069490189333,136.8380148070252,133.60296899150782,137.41798818451983,132.03798085563096,136.11814218684611,120.06423665050238,130.50681758846125,124.13365566843395,134.30152307739488,135.7905623535564,126.11366324417382,148.75506765256182,128.8736337110037,126.00820941282272,127.56170258821336,140.81031748435856,131.1701399282384,134.31570399718902,141.72236294734887,118.42985368437796,106.85723382304462,124.20828970675481,127.94659106136774,141.3689272349768,137.52569196610108,125.26386880008387,123.8465581703398,133.44977774931814,111.12479701012879,144.42396870882112,122.18071761678053,129.84096262708667,120.22367630568102,125.51101676449233,130.01298211842442,132.0376489715247,146.3625596613109,142.8256066094406,144.4808375208086,129.56017530921295,135.44151690586568,123.9867026083544,131.4193278442896,113.68679186536613,152.95471829961235,124.49661706202319,131.1472386223342,132.42607392508654,132.0387289390779,115.13327308472202,134.97102477614902,132.1569367769162,146.61461919913643,119.29929707859586,133.32240172447266,136.85979088522677,134.2696772322699,138.70316840594649,119.66559972071693,147.86977054431358,136.09047799581765,123.1763607588565,132.02262044077688,139.24498250157487,120.25251307165118,142.5204584657265,153.96295543157802,135.52833800113015,118.30067204388354,112.46743382483884,140.8768707074814,142.6704396149345,119.35911478492834,131.3605838207497,134.87121685746783,134.72329372791103,121.51261299694517,129.13118508584074,127.47701179845457,136.06293406728744,146.64932048015822,126.47469028620526,141.40315199812238,131.12272322838726,136.06874258138362,119.96488807267345,135.31323600779558,139.75215550458026,121.14432529258268,146.8119766438533,124.315947016951,147.7797884579282,113.94801407988147,138.64529755124815,146.20289986834874,134.86022679109257,142.66883302137015,134.51602544801594,114.69671188861841,141.27455002820784,132.32575241485512,143.03626949791195,119.75366754001934,114.04442047386958,134.1536509766925,119.27765612888282,140.9248650346681,132.88521690519343,141.92110481994402,124.06425461086594,120.61252267694657,145.63123629534653,108.68984350589142,128.79452313261945,136.68707810860244,130.3182849251833,117.24999566035815,146.2150255495849,134.28241355261932,135.7051251198001,129.53967181799018,138.87373231228955,109.99100870444852,118.67505845377968,143.09232356147876,122.42857314153486,142.0446254961778,126.61470719113751,115.78303339732966,125.26984921326881,125.87709725536578,133.47924062475556,132.00191743451293,129.1171013145929,133.04784245836862,143.80986573533815,123.18380461030004,119.14950659254386,139.72811568625497,132.42857607129022,132.10060790783837,122.25142096531178,120.23630949998655,131.24229127144977,161.2732787503159,143.83593325848113,133.571078874636,136.57307441942717,130.71764056065263,127.76245120816161,115.63159042404841,129.280870201005,131.67422136257161,133.08316678412857,132.67263880929588,133.85013389904543,123.39099708931171,139.7844641173046,146.781209485184,132.7128480593578,120.26913008131369,125.40259961530865,138.4127623866657,126.37692414082159,115.50073130359857,147.30194785141927,138.4462049089707,136.0967706694919,120.03711729707159,134.29450744374796,133.0212638576139,138.84612087209592,127.92499458081298,128.6718064086303,146.50348807958434,152.87849874432513,131.0012048338138,146.79776329059356,125.10700474234378,131.15102876214655,136.79525032850805,137.00313931708132,117.1004263575791,132.26562746189822,133.19242877628824,146.224295515456,119.37102024646074,122.74783703251457,141.55577382309806,138.48548922750393,129.12977824447822,124.60743834089318,133.1398220903316,129.38758114412423,130.8364185061649,122.11126950971708,120.78428896092758,122.8556532513395,132.97581930757624,114.59866465549388,129.33278787311343,116.432303889938,120.71954529298642,140.26012812822353,114.2851227846992,140.42728459629166,136.6273706913604,136.18519694887948,141.85062948055267,139.74620331332227,120.6823944197613,131.76920418390762,130.30588954702978,121.52432619758864,117.2067314037408,126.89641219748297,121.62068955805692,113.0492189639114,141.59589864309996,125.39913236537127,144.66237688717897,120.0713655711955,117.67428108426347,115.08271511936051,132.6641836121628,122.0813738747277,142.1582919373433,131.88994249543066,144.51417624810594,139.66362877665173,138.17228320638876,127.85876064770302,108.21031255172984,140.55956987208899,140.8149052235771,132.97726913153792,129.40366078919018,112.45299518047878,136.00272981074082,118.1092493889549,158.59108137093457,132.88569298702203,138.48870826905133,133.5459015970706,123.64523898157573,123.67223132682844,130.32199288837717,118.54002044090316,115.78518449356999,134.0499791537365,118.87998825410571,145.93887902163095,134.38691402465594,135.70507466426295,126.56863513505978,135.37833043708096,124.37665098055902,122.92137016874602,118.74600852934094,125.42897947218387,119.1122488855608,130.84166172422997,141.16148945451437,114.7639969919415,118.7883256666565,126.99621583820593,127.0644718557519,146.93898001581917,126.33248778085675,130.2862393813704,130.36790679022337,134.64367573721594,148.86441871080166,116.06895252054306,133.06688948104429,125.31719399623604,137.80567717943663,123.73997258720946,125.9374689386736,122.68483411962653,141.423256707231,135.7334954235796,132.60331688433405,132.09387048226517,131.85587550594272,140.17255117177675,145.22188009241898,134.7647302313444,126.17619369021496,153.89928569430805,129.17594879634,117.3156837563942,119.47796670357341,111.4871224933825,116.80339845048383,131.7442855497058,126.1543611766589,133.60290120389155,141.31964649191536,112.9933264653326,147.82372001602857,142.93527865299373,140.52653232027944,105.40966269606162,130.05743115437855,133.6114865021284,116.57300640400645,121.40265775530126,123.06623964255144,136.97215629267833,150.44526436117923,126.33141912809012,139.3090438420281,125.82250255257384,138.89235886036516,110.63900495055887,114.13363519717515,128.11782912001556,105.64878067475134,138.27997751290243,127.08177484059576,109.52848158523857,124.14056710001978,140.33832478705787,125.61336932751264,136.64456467393035,135.56697973590855,121.87958294418976,146.7623672399823,139.8434154761559,128.0221564463872,115.01182216416659,132.4481890365833,140.321016946867,140.7085116257085,136.1257341976274,133.49307169025377,153.04007780085277,129.95214480242947,123.42843401735679,120.94082952070204,108.68815314876169,124.9243633906938,129.3585594025161,125.0551854672269,136.11493123820162,149.9486451425836,129.5745024907406,133.47232410064143,125.47278787686996,144.61635043521957,120.99808402060864,127.60440657405238,139.6516142146411,120.4901021526996,130.83763285266,138.80061025717998,140.35730757231613,142.93789430863103,141.63960356872244,155.0394250405636,132.3029090654447,125.38099572063427,128.32946534544215,132.40767989995697,132.0426036013824,148.34597835968358,134.1603292240282,115.06377580232507,128.24286929691456,134.76941555228996,117.37485665149045,152.2740184998646,118.2289045123749,133.5085360837724,132.7110691950858,134.04144747817608,117.88461066093149,146.99375850841355,126.93251853535163,116.89629498364936,133.87908251832908,142.48186660926567,121.219020428149,154.8512983054669,123.14413622883745,146.4575221314843,132.0249214017466,144.7652265688927,145.70035847338391,128.76324039889352,136.78592729789824,113.10126599039127,130.64110847904558,115.85692436999156,148.77058261410312,130.11716553928713,112.86378718224925,115.22399783990258,137.86940608249895,134.8961614278363,128.95088159808003,119.8570475419005,123.89015746743164,144.58651952517278,142.89239156625607,118.4785172490499,123.16852346030426,128.32882888479713,144.68283896263088,137.1037366011226,125.72742508107733,142.3839245114558,124.39992378475897,146.8250861426744,133.66314650756917,130.80029835697525,122.89116492851758,142.93941273369404,123.73413945410793,136.07985151342174,118.32073277156812,129.08067396818103,131.10503820727675,145.92835828388465,127.86532349993666,133.51200602159707,137.37826311795428,133.95175488842494,146.6035330840665,137.9976668260232,131.86445832511666,123.99403458583399,126.90971238311182,132.17160134556843,123.64176311158843,114.68443574969164,118.64457402251934,121.31634546405392,152.1746873705265,126.39255807219416,129.4458172823966,133.44791914001001,119.64496120940558,124.13284438065735,128.4202623784378,130.46066901354635,152.06820811400954,128.15966337997327,124.34956011834251,135.3695074512785,147.08621078414347,110.55712000627896,133.08401456233958,119.39965665602247,137.11838944425006,121.3196210894942,139.66651724697982,117.02646632667818,137.21180386269413,145.1685884067104,129.99229422208325,121.48645769702189,152.40304560437244,132.15129051345687,124.41827602461889,139.79045935572037,133.28414737571853,125.19156555080052,135.91919625317362,126.60858145852919,130.8668367847383,132.83301548465292,142.13372625700205,122.5531214933348,144.71126010345967,136.4458942482046,143.70915430473264,127.26565119712548,120.26108974514048,124.76184235019346,139.01366789062345,137.55630325113788,129.96885250632158,113.17342900269604,139.8027188773085,132.025902363123,129.03668997009962,123.3595676119286,147.09794075655324,114.6535566852374,123.15081634758177,114.53989130489292,124.31235340050013,140.86156706387837,139.92001364732644,127.86953604448028,142.88747693187238,126.34388475321086,135.58810029909563,109.68785920348499,137.2035488085977,131.49751124000096,118.49773771766822,136.37696574667493,114.8151621130368,140.78353126332004,119.70060459023998,123.55157814954902,130.21654831013868,119.64513513641384,128.87706927120837,122.94801070557796,122.30346776960342,124.63824313399935,119.69315618184031,134.44825826354997,142.97948955632307,152.2709094606493,134.7066992029351,139.94873685735897,158.76632612974402,124.6836756045648,127.64166790724919,125.78136877451415,137.99455506629184,142.17426635374784,129.49216389380547,126.09147811005157,135.011194360422,121.67397914971966,131.40244195011812,124.6099662097746,140.1031971230167,125.36096005663131,124.81303706078103,138.33946204290106,121.45797583837631,128.9709579910044,127.59256408943146,123.23051936620128,135.49791186801204,142.23884507331854,150.0551207185639,122.1400822482537,139.01607687755515,136.84291365647314,132.7926158213692,121.17062605742849,128.81494271267417,144.77844980369107,121.70283121428383,126.8669346407061,128.94312482531265,133.4629329232562,134.24548161454607,116.92796683369583,113.18555395236858,136.46739999972573,131.5767282702705,146.95080184935347,134.45475103027078,137.34983633895632,115.71315072931118,106.64928521184312,132.25210738046448,115.04854802774075,126.23301323726062,131.52110373803296,122.37435426964744,146.39748027507935,126.34699559111625,129.25129747998227,136.07879427624025,138.29334980112426,128.71065872851295,130.1065037355271,146.33946412706837],\"colorscale\":[[0.0,\"#440154\"],[0.1111111111111111,\"#482878\"],[0.2222222222222222,\"#3e4989\"],[0.3333333333333333,\"#31688e\"],[0.4444444444444444,\"#26828e\"],[0.5555555555555556,\"#1f9e89\"],[0.6666666666666666,\"#35b779\"],[0.7777777777777778,\"#6ece58\"],[0.8888888888888888,\"#b5de2b\"],[1.0,\"#fde725\"]],\"opacity\":0.8,\"size\":5},\"mode\":\"markers\",\"showlegend\":false,\"x\":[0,1,0,0,0,1,0,1,1,1,0,1,1,0,0,1,0,1,1,0,1,1,0,1,1,1,1,1,0,0,0,1,1,1,1,1,1,0,1,0,0,1,0,1,0,1,0,1,0,1,1,1,1,0,1,0,0,1,1,1,0,1,1,1,1,1,1,1,0,0,1,1,1,0,1,1,1,1,1,0,1,1,0,0,1,0,1,0,1,1,0,0,1,1,1,1,0,0,0,1,0,1,1,0,0,1,1,0,1,0,1,0,1,0,1,1,1,1,1,1,1,1,0,1,1,1,1,1,1,0,1,1,0,0,0,1,1,0,1,1,1,1,0,0,0,0,0,0,1,1,0,0,1,1,0,1,0,1,1,1,1,0,0,1,0,1,1,0,1,1,1,0,1,0,1,0,0,1,0,1,0,1,1,1,0,1,0,0,1,1,1,0,1,1,1,0,0,1,1,1,1,1,1,0,1,1,0,1,0,0,1,1,1,1,1,0,0,1,1,0,1,1,1,1,1,0,1,0,1,1,0,1,1,0,0,1,1,1,1,1,1,0,1,1,1,1,1,1,0,1,1,1,1,1,1,0,1,0,0,1,0,0,1,1,1,1,1,1,0,1,0,0,1,0,0,1,1,0,1,1,0,0,0,0,1,0,1,1,1,1,0,1,1,1,1,1,1,0,0,1,1,0,1,0,1,1,0,1,1,0,0,1,0,0,1,0,1,1,1,1,0,0,1,0,0,1,1,1,0,1,0,0,1,1,0,0,1,0,0,1,1,1,0,0,0,0,1,0,0,0,0,1,0,1,1,1,1,0,0,0,0,0,1,1,0,0,1,1,0,0,1,1,0,0,1,1,1,0,0,1,1,0,1,1,0,0,0,1,1,1,1,0,0,1,0,1,1,0,0,0,1,1,1,1,1,1,1,1,1,0,1,1,1,0,0,1,1,0,1,1,1,1,1,1,0,0,1,1,0,1,0,1,0,0,0,1,0,0,0,0,0,0,0,1,1,1,0,1,0,0,1,0,1,1,1,1,0,1,1,0,1,0,1,0,1,0,0,0,1,1,0,0,1,1,1,1,1,1,1,0,0,1,1,0,1,0,0,0,1,0,0,0,0,1,0,0,0,1,0,1,1,1,0,1,1,0,1,0,1,1,0,0,1,0,0,0,1,1,1,1,0,1,0,1,0,0,1,0,0,1,0,1,0,1,0,0,1,1,0,1,1,1,1,1,0,1,0,0,0,1,1,0,0,0,1,1,0,1,1,1,0,1,0,1,1,0,1,1,1,1,1,1,0,0,1,1,0,1,0,1,1,0,1,1,1,1,0,1,1,0,0,1,1,1,1,1,1,1,0,1,0,1,1,0,1,0,0,1,0,1,1,1,1,1,1,0,1,0,1,0,1,0,1,0,0,0,1,0,1,1,1,0,0,1,0,1,0,1,0,0,1,0,0,0,1,1,1,1,1,0,1,0,1,0,0,1,1,1,1,1,0,0,1,0,1,0,1,0,1,0,0,0,0,1,0,1,1,1,1,0,0,0,0,0,1,0,1,1,1,1,1,0,0,1,0,0,1,0,0,0,1,0,0,1,1,0,1,1,0,1,0,1,0,0,0,0,1,0,1,1,1,0,1,1,1,0,0,1,1,1,0,0,1,1,0,1,1,0,1,1,1,1,1,1,0,1,1,1,1,1,1,1,1,0,0,1,1,0,0,1,1,1,1,1,1,1,0,1,1,1,1,0,0,0,0,0,0,1,1,0,1,0,1,1,0,1,0,1,1,0,1,1,1,0,1,0,1,1,1,1,1,1,0,1,1,0,1,1,1,0,1,1,0,0,0,1,1,0,0,0,1,0,0,0,0,0,0,0,0,0,1,1,0,0,1,0,1,0,1,0,1,0,1,0,1,0,1,0,1,1,0,1,1,0,0,1,0,0,1,0,0,1,0,1,0,0,1,1,1,1,1,1,1,1,1,0,0,0,0,1,1,1,1,1,0,1,0,1,1,1,0,0,1,0,1,1,1,0,1,1,1,0,0,1,0,1,0,1,1,1,0,1,0,1,0,1,1,1,1,1,0,0,0,1,1,0,0,0,0,1,0,1,0,0,0,0,0,0,1,1,1,1,1,1,0,1,1,0,1,0,0,1,0,1,0,1,0,0,0,0,0,0,0,0,1,1,1,1,1,1,1,0,1,1,0,1,1,0,1,0,1,1,1,0,0,1,0,1,1,0,1,0,1,1,1,1,0,1,1,1],\"y\":[125.14086146035456,128.7712348190305,131.12328861496854,121.0595033829595,127.35975923099309,124.44362185842284,123.95016758143254,150.46437750089757,123.08070680789845,130.1418329018733,133.46015433854393,129.88503614658256,120.24785895917944,120.44228050717183,143.40376131706705,126.62975442150966,112.40054702005752,132.33636468506816,122.33577341575919,121.93501037092894,121.18659675655499,147.17590301663674,146.42636291708214,127.71464062898453,130.08492741642016,129.7455930498631,123.3614552767416,131.6068022446226,136.7216103000902,128.56183743857036,134.8499318616873,136.49921310418614,143.9837991883364,129.60032654737753,127.34941628000715,128.74183916911235,132.06784617947798,120.48202482300377,120.53130226706216,120.95648621469076,129.6136992874274,129.5714440774304,124.24415551572932,147.0031425365657,123.35382066233961,125.63428155228462,123.29056256441109,144.06383275490035,145.77748391839674,123.47503270302239,134.67929547143584,138.28677602506409,116.2867539692112,111.02142458933352,114.29926079420315,153.68214501638624,130.88597642895445,133.53059354137736,126.89158632473678,126.51218354295918,147.62107701502777,122.49606158198094,135.163672692012,154.44318814303654,128.74542482058732,128.1358296779956,126.30798807307262,117.7413088643908,127.62788674323582,141.63591481215528,127.6391001854529,130.59436520605502,118.04536402718098,104.73506678711168,141.3885517533235,115.67506437487506,123.87848768028913,127.88541561153806,143.70681758597684,116.02185643264812,139.07290848780048,112.16068785283404,138.37966464489364,139.06677277274872,132.88404111255903,133.92166071311846,133.23472807736806,138.81057502866975,124.02826562792119,158.7987942406141,122.70110655290058,126.55651221921802,128.8632084572868,129.63299568778427,121.50142588577913,126.00456428643017,111.33329325481917,106.54180379655324,112.82715403084076,132.8328273902328,143.11870198188672,112.23471492279901,126.57582681122503,112.85857182279393,135.07289201945167,124.32021457282951,159.58949729117268,119.62776761500702,142.66737739608627,125.43490837631826,129.44114179645987,136.2265367499551,118.37790004136029,139.5730418785784,125.29714364773288,135.55453226607864,136.67211118224267,108.74119363858877,124.6335099451175,129.44299808184985,124.11427989006783,135.70096826232057,132.65692831091454,129.4282861544047,138.10814744133052,129.26131110481606,125.58631108536149,138.6164746629151,128.51559452982033,137.67049395748114,122.12317030169056,124.13814688646939,125.1774130341718,128.95354221943745,109.23692699702373,131.76800785298298,130.23278249642902,125.09401971159312,114.67079061474777,130.39588735486643,131.81338180693282,138.18941034819812,128.68287715510854,133.0943655781211,135.2064198993148,125.6381220064635,128.5829440508786,110.90115063013825,116.44080250701869,134.21343341135136,132.73329557096957,127.16960257547021,130.29779178725235,142.71793330684835,118.34367683716373,133.57464608990628,109.82195533195387,121.9742293166628,135.12109733054632,130.30630650560485,121.31459502169578,144.7889713753815,117.3417664767009,114.04034864902087,129.56819938031933,120.69354512560649,138.40096792610703,126.92558396359941,132.66354769616436,136.05495349136552,139.8115456276187,131.35105737142493,126.03368287141528,122.93793998759948,128.6109483863421,136.18070292358288,133.95775158321734,120.44608137891831,131.16357014442636,121.86720872741412,125.69788620079942,154.0491055563158,125.28872703037143,143.40931244795675,121.05826097227244,141.12194513282898,127.76088800304319,130.70685030884866,148.58783636148675,135.05173032012937,127.11343098480812,123.60825255493906,122.51759111420994,147.43992020496216,139.17917490523536,124.24629854966432,130.81259544154685,148.55205109102943,132.4393326142245,128.07902603863712,151.43916096734674,133.37668807101178,132.90335878297816,144.81700387551058,146.97809108954047,141.379094208277,122.75686408991662,123.72451541882745,125.84010362093079,133.47120178096375,121.3578435276304,138.01922665081602,120.24071890772282,130.6126821587345,129.58908407116058,137.17862594095456,119.80394336296115,131.48102540425913,145.3473961041431,137.8017841840219,114.86394490321696,138.44494610814925,144.45673392198125,122.76155456614259,114.32395861460917,124.73423822850089,135.74758449416396,109.1078390920004,129.10013858582172,148.04521155336553,126.44100930602326,137.366365472115,136.65538883503285,127.62434390476103,108.32262095117042,135.96518567840184,130.14035744125542,141.1142995850349,120.04536654346037,141.169213357602,136.72790452283672,128.07729396121542,137.62372866733375,123.95217276399042,141.65948785569742,138.5259373972717,139.25464910628892,132.3623904647187,126.7335679987476,118.34550195764784,136.02986179888933,137.5155443901611,134.49978404592693,128.32313242777994,146.39800812457804,118.34183239766979,138.48477727506616,130.53283026963575,124.49740676497734,112.5768961474572,119.3257803301592,125.34168075453675,128.33824165932614,143.14347748302697,152.6981436615061,127.0883500658633,144.95580870165662,120.52022632559003,127.80241960105646,138.67297753345292,140.53578577952544,123.98896190263397,116.39814950720123,111.03495583472387,113.7008265869507,125.75446269365098,138.18385945207714,142.51252292306293,132.9878766040957,150.33752560375652,119.07713076110448,123.13620278184673,138.31962628571702,130.03888598371898,119.24227828033028,105.26978526233857,133.16543708127605,127.49565822801043,131.7272416283053,115.56810327321261,141.18776117336685,136.74772684555901,129.51192057999404,112.5166125314792,129.34010226085445,145.47018952244582,138.8703034804459,119.02844833685783,134.98187741401983,144.97894327351472,138.38000763285578,125.68352774809978,119.3208715915844,132.83416166706414,128.5038984803863,144.23873968327229,110.6928431276404,114.29619637188034,161.04409363317507,138.59352126553182,143.18298109423128,144.84068408758375,117.64558453245526,116.5308288307976,146.3129354742862,116.52575999410072,139.94253379540774,128.61102414778045,122.55681365329315,110.70708902406865,135.07143572716518,135.64538186032385,132.11795887877992,124.27287067117531,113.67179176097154,140.05354923802864,117.57723889443743,141.39068710781908,117.51001136761252,130.32475905420958,129.45107957658027,141.6108867683755,142.43841350082496,134.70715645022878,123.48170231281784,135.80052685715236,119.0205492193639,139.5367810960007,142.02913480214724,120.36933716260319,142.48263416298838,124.89206045870743,116.17310373209364,136.65773514407732,140.21145949155198,123.22747431861761,112.64202474947581,106.32517483928099,150.27926395833563,126.95408224824251,136.289408874598,147.49860067516582,121.34991784623065,114.1757252217327,130.23957198680247,130.76948989823137,131.64635588481903,124.725483416901,130.2309966717457,105.87797739367389,125.62480438854652,123.89842215056106,123.58888154741294,132.50112255113186,121.17523573251037,114.04482742514442,118.54362209358759,131.3543882346142,127.82983922826642,126.60551129774953,123.11609864998924,139.64394421921003,145.90747123064693,109.1215837969927,126.16029345249076,130.24134909515155,124.15135320487823,114.50721777999395,126.34196989084269,121.7190517359641,120.0869985255189,134.39228098395694,143.1975365018505,135.24388674585148,141.81549196467225,120.28175381803545,135.886843989817,132.36582612227463,131.20174008013117,130.88171433007332,142.9545353084205,117.84826114753349,127.36438802844808,150.92638416558498,128.42259826838807,126.40537822041921,146.9602399076918,117.4234760048373,118.00622419410206,148.20619027435166,133.32523781376057,136.47320427907056,146.71100012227177,137.9877167550805,129.80891386779058,131.9833725472764,141.17803183914432,114.27522800660873,133.378595434535,116.40958579506562,127.74743930385566,118.27461020105561,149.79046578796346,125.40816747865392,142.53273264037406,131.5796756836835,131.65098010092825,128.20058740530808,112.78395861161462,143.60159944046222,146.10071944370014,135.4069490189333,136.8380148070252,133.60296899150782,137.41798818451983,132.03798085563096,136.11814218684611,120.06423665050238,130.50681758846125,124.13365566843395,134.30152307739488,135.7905623535564,126.11366324417382,148.75506765256182,128.8736337110037,126.00820941282272,127.56170258821336,140.81031748435856,131.1701399282384,134.31570399718902,141.72236294734887,118.42985368437796,106.85723382304462,124.20828970675481,127.94659106136774,141.3689272349768,137.52569196610108,125.26386880008387,123.8465581703398,133.44977774931814,111.12479701012879,144.42396870882112,122.18071761678053,129.84096262708667,120.22367630568102,125.51101676449233,130.01298211842442,132.0376489715247,146.3625596613109,142.8256066094406,144.4808375208086,129.56017530921295,135.44151690586568,123.9867026083544,131.4193278442896,113.68679186536613,152.95471829961235,124.49661706202319,131.1472386223342,132.42607392508654,132.0387289390779,115.13327308472202,134.97102477614902,132.1569367769162,146.61461919913643,119.29929707859586,133.32240172447266,136.85979088522677,134.2696772322699,138.70316840594649,119.66559972071693,147.86977054431358,136.09047799581765,123.1763607588565,132.02262044077688,139.24498250157487,120.25251307165118,142.5204584657265,153.96295543157802,135.52833800113015,118.30067204388354,112.46743382483884,140.8768707074814,142.6704396149345,119.35911478492834,131.3605838207497,134.87121685746783,134.72329372791103,121.51261299694517,129.13118508584074,127.47701179845457,136.06293406728744,146.64932048015822,126.47469028620526,141.40315199812238,131.12272322838726,136.06874258138362,119.96488807267345,135.31323600779558,139.75215550458026,121.14432529258268,146.8119766438533,124.315947016951,147.7797884579282,113.94801407988147,138.64529755124815,146.20289986834874,134.86022679109257,142.66883302137015,134.51602544801594,114.69671188861841,141.27455002820784,132.32575241485512,143.03626949791195,119.75366754001934,114.04442047386958,134.1536509766925,119.27765612888282,140.9248650346681,132.88521690519343,141.92110481994402,124.06425461086594,120.61252267694657,145.63123629534653,108.68984350589142,128.79452313261945,136.68707810860244,130.3182849251833,117.24999566035815,146.2150255495849,134.28241355261932,135.7051251198001,129.53967181799018,138.87373231228955,109.99100870444852,118.67505845377968,143.09232356147876,122.42857314153486,142.0446254961778,126.61470719113751,115.78303339732966,125.26984921326881,125.87709725536578,133.47924062475556,132.00191743451293,129.1171013145929,133.04784245836862,143.80986573533815,123.18380461030004,119.14950659254386,139.72811568625497,132.42857607129022,132.10060790783837,122.25142096531178,120.23630949998655,131.24229127144977,161.2732787503159,143.83593325848113,133.571078874636,136.57307441942717,130.71764056065263,127.76245120816161,115.63159042404841,129.280870201005,131.67422136257161,133.08316678412857,132.67263880929588,133.85013389904543,123.39099708931171,139.7844641173046,146.781209485184,132.7128480593578,120.26913008131369,125.40259961530865,138.4127623866657,126.37692414082159,115.50073130359857,147.30194785141927,138.4462049089707,136.0967706694919,120.03711729707159,134.29450744374796,133.0212638576139,138.84612087209592,127.92499458081298,128.6718064086303,146.50348807958434,152.87849874432513,131.0012048338138,146.79776329059356,125.10700474234378,131.15102876214655,136.79525032850805,137.00313931708132,117.1004263575791,132.26562746189822,133.19242877628824,146.224295515456,119.37102024646074,122.74783703251457,141.55577382309806,138.48548922750393,129.12977824447822,124.60743834089318,133.1398220903316,129.38758114412423,130.8364185061649,122.11126950971708,120.78428896092758,122.8556532513395,132.97581930757624,114.59866465549388,129.33278787311343,116.432303889938,120.71954529298642,140.26012812822353,114.2851227846992,140.42728459629166,136.6273706913604,136.18519694887948,141.85062948055267,139.74620331332227,120.6823944197613,131.76920418390762,130.30588954702978,121.52432619758864,117.2067314037408,126.89641219748297,121.62068955805692,113.0492189639114,141.59589864309996,125.39913236537127,144.66237688717897,120.0713655711955,117.67428108426347,115.08271511936051,132.6641836121628,122.0813738747277,142.1582919373433,131.88994249543066,144.51417624810594,139.66362877665173,138.17228320638876,127.85876064770302,108.21031255172984,140.55956987208899,140.8149052235771,132.97726913153792,129.40366078919018,112.45299518047878,136.00272981074082,118.1092493889549,158.59108137093457,132.88569298702203,138.48870826905133,133.5459015970706,123.64523898157573,123.67223132682844,130.32199288837717,118.54002044090316,115.78518449356999,134.0499791537365,118.87998825410571,145.93887902163095,134.38691402465594,135.70507466426295,126.56863513505978,135.37833043708096,124.37665098055902,122.92137016874602,118.74600852934094,125.42897947218387,119.1122488855608,130.84166172422997,141.16148945451437,114.7639969919415,118.7883256666565,126.99621583820593,127.0644718557519,146.93898001581917,126.33248778085675,130.2862393813704,130.36790679022337,134.64367573721594,148.86441871080166,116.06895252054306,133.06688948104429,125.31719399623604,137.80567717943663,123.73997258720946,125.9374689386736,122.68483411962653,141.423256707231,135.7334954235796,132.60331688433405,132.09387048226517,131.85587550594272,140.17255117177675,145.22188009241898,134.7647302313444,126.17619369021496,153.89928569430805,129.17594879634,117.3156837563942,119.47796670357341,111.4871224933825,116.80339845048383,131.7442855497058,126.1543611766589,133.60290120389155,141.31964649191536,112.9933264653326,147.82372001602857,142.93527865299373,140.52653232027944,105.40966269606162,130.05743115437855,133.6114865021284,116.57300640400645,121.40265775530126,123.06623964255144,136.97215629267833,150.44526436117923,126.33141912809012,139.3090438420281,125.82250255257384,138.89235886036516,110.63900495055887,114.13363519717515,128.11782912001556,105.64878067475134,138.27997751290243,127.08177484059576,109.52848158523857,124.14056710001978,140.33832478705787,125.61336932751264,136.64456467393035,135.56697973590855,121.87958294418976,146.7623672399823,139.8434154761559,128.0221564463872,115.01182216416659,132.4481890365833,140.321016946867,140.7085116257085,136.1257341976274,133.49307169025377,153.04007780085277,129.95214480242947,123.42843401735679,120.94082952070204,108.68815314876169,124.9243633906938,129.3585594025161,125.0551854672269,136.11493123820162,149.9486451425836,129.5745024907406,133.47232410064143,125.47278787686996,144.61635043521957,120.99808402060864,127.60440657405238,139.6516142146411,120.4901021526996,130.83763285266,138.80061025717998,140.35730757231613,142.93789430863103,141.63960356872244,155.0394250405636,132.3029090654447,125.38099572063427,128.32946534544215,132.40767989995697,132.0426036013824,148.34597835968358,134.1603292240282,115.06377580232507,128.24286929691456,134.76941555228996,117.37485665149045,152.2740184998646,118.2289045123749,133.5085360837724,132.7110691950858,134.04144747817608,117.88461066093149,146.99375850841355,126.93251853535163,116.89629498364936,133.87908251832908,142.48186660926567,121.219020428149,154.8512983054669,123.14413622883745,146.4575221314843,132.0249214017466,144.7652265688927,145.70035847338391,128.76324039889352,136.78592729789824,113.10126599039127,130.64110847904558,115.85692436999156,148.77058261410312,130.11716553928713,112.86378718224925,115.22399783990258,137.86940608249895,134.8961614278363,128.95088159808003,119.8570475419005,123.89015746743164,144.58651952517278,142.89239156625607,118.4785172490499,123.16852346030426,128.32882888479713,144.68283896263088,137.1037366011226,125.72742508107733,142.3839245114558,124.39992378475897,146.8250861426744,133.66314650756917,130.80029835697525,122.89116492851758,142.93941273369404,123.73413945410793,136.07985151342174,118.32073277156812,129.08067396818103,131.10503820727675,145.92835828388465,127.86532349993666,133.51200602159707,137.37826311795428,133.95175488842494,146.6035330840665,137.9976668260232,131.86445832511666,123.99403458583399,126.90971238311182,132.17160134556843,123.64176311158843,114.68443574969164,118.64457402251934,121.31634546405392,152.1746873705265,126.39255807219416,129.4458172823966,133.44791914001001,119.64496120940558,124.13284438065735,128.4202623784378,130.46066901354635,152.06820811400954,128.15966337997327,124.34956011834251,135.3695074512785,147.08621078414347,110.55712000627896,133.08401456233958,119.39965665602247,137.11838944425006,121.3196210894942,139.66651724697982,117.02646632667818,137.21180386269413,145.1685884067104,129.99229422208325,121.48645769702189,152.40304560437244,132.15129051345687,124.41827602461889,139.79045935572037,133.28414737571853,125.19156555080052,135.91919625317362,126.60858145852919,130.8668367847383,132.83301548465292,142.13372625700205,122.5531214933348,144.71126010345967,136.4458942482046,143.70915430473264,127.26565119712548,120.26108974514048,124.76184235019346,139.01366789062345,137.55630325113788,129.96885250632158,113.17342900269604,139.8027188773085,132.025902363123,129.03668997009962,123.3595676119286,147.09794075655324,114.6535566852374,123.15081634758177,114.53989130489292,124.31235340050013,140.86156706387837,139.92001364732644,127.86953604448028,142.88747693187238,126.34388475321086,135.58810029909563,109.68785920348499,137.2035488085977,131.49751124000096,118.49773771766822,136.37696574667493,114.8151621130368,140.78353126332004,119.70060459023998,123.55157814954902,130.21654831013868,119.64513513641384,128.87706927120837,122.94801070557796,122.30346776960342,124.63824313399935,119.69315618184031,134.44825826354997,142.97948955632307,152.2709094606493,134.7066992029351,139.94873685735897,158.76632612974402,124.6836756045648,127.64166790724919,125.78136877451415,137.99455506629184,142.17426635374784,129.49216389380547,126.09147811005157,135.011194360422,121.67397914971966,131.40244195011812,124.6099662097746,140.1031971230167,125.36096005663131,124.81303706078103,138.33946204290106,121.45797583837631,128.9709579910044,127.59256408943146,123.23051936620128,135.49791186801204,142.23884507331854,150.0551207185639,122.1400822482537,139.01607687755515,136.84291365647314,132.7926158213692,121.17062605742849,128.81494271267417,144.77844980369107,121.70283121428383,126.8669346407061,128.94312482531265,133.4629329232562,134.24548161454607,116.92796683369583,113.18555395236858,136.46739999972573,131.5767282702705,146.95080184935347,134.45475103027078,137.34983633895632,115.71315072931118,106.64928521184312,132.25210738046448,115.04854802774075,126.23301323726062,131.52110373803296,122.37435426964744,146.39748027507935,126.34699559111625,129.25129747998227,136.07879427624025,138.29334980112426,128.71065872851295,130.1065037355271,146.33946412706837],\"type\":\"scatter\"},{\"line\":{\"color\":\"blue\",\"width\":3},\"opacity\":0.5,\"showlegend\":false,\"x\":[0.0,1.0],\"y\":[127.49753080754198,132.64570120304495],\"type\":\"scatter\"}],                        {\"template\":{\"data\":{\"histogram2dcontour\":[{\"type\":\"histogram2dcontour\",\"colorbar\":{\"outlinewidth\":0,\"ticks\":\"\"},\"colorscale\":[[0.0,\"#0d0887\"],[0.1111111111111111,\"#46039f\"],[0.2222222222222222,\"#7201a8\"],[0.3333333333333333,\"#9c179e\"],[0.4444444444444444,\"#bd3786\"],[0.5555555555555556,\"#d8576b\"],[0.6666666666666666,\"#ed7953\"],[0.7777777777777778,\"#fb9f3a\"],[0.8888888888888888,\"#fdca26\"],[1.0,\"#f0f921\"]]}],\"choropleth\":[{\"type\":\"choropleth\",\"colorbar\":{\"outlinewidth\":0,\"ticks\":\"\"}}],\"histogram2d\":[{\"type\":\"histogram2d\",\"colorbar\":{\"outlinewidth\":0,\"ticks\":\"\"},\"colorscale\":[[0.0,\"#0d0887\"],[0.1111111111111111,\"#46039f\"],[0.2222222222222222,\"#7201a8\"],[0.3333333333333333,\"#9c179e\"],[0.4444444444444444,\"#bd3786\"],[0.5555555555555556,\"#d8576b\"],[0.6666666666666666,\"#ed7953\"],[0.7777777777777778,\"#fb9f3a\"],[0.8888888888888888,\"#fdca26\"],[1.0,\"#f0f921\"]]}],\"heatmap\":[{\"type\":\"heatmap\",\"colorbar\":{\"outlinewidth\":0,\"ticks\":\"\"},\"colorscale\":[[0.0,\"#0d0887\"],[0.1111111111111111,\"#46039f\"],[0.2222222222222222,\"#7201a8\"],[0.3333333333333333,\"#9c179e\"],[0.4444444444444444,\"#bd3786\"],[0.5555555555555556,\"#d8576b\"],[0.6666666666666666,\"#ed7953\"],[0.7777777777777778,\"#fb9f3a\"],[0.8888888888888888,\"#fdca26\"],[1.0,\"#f0f921\"]]}],\"heatmapgl\":[{\"type\":\"heatmapgl\",\"colorbar\":{\"outlinewidth\":0,\"ticks\":\"\"},\"colorscale\":[[0.0,\"#0d0887\"],[0.1111111111111111,\"#46039f\"],[0.2222222222222222,\"#7201a8\"],[0.3333333333333333,\"#9c179e\"],[0.4444444444444444,\"#bd3786\"],[0.5555555555555556,\"#d8576b\"],[0.6666666666666666,\"#ed7953\"],[0.7777777777777778,\"#fb9f3a\"],[0.8888888888888888,\"#fdca26\"],[1.0,\"#f0f921\"]]}],\"contourcarpet\":[{\"type\":\"contourcarpet\",\"colorbar\":{\"outlinewidth\":0,\"ticks\":\"\"}}],\"contour\":[{\"type\":\"contour\",\"colorbar\":{\"outlinewidth\":0,\"ticks\":\"\"},\"colorscale\":[[0.0,\"#0d0887\"],[0.1111111111111111,\"#46039f\"],[0.2222222222222222,\"#7201a8\"],[0.3333333333333333,\"#9c179e\"],[0.4444444444444444,\"#bd3786\"],[0.5555555555555556,\"#d8576b\"],[0.6666666666666666,\"#ed7953\"],[0.7777777777777778,\"#fb9f3a\"],[0.8888888888888888,\"#fdca26\"],[1.0,\"#f0f921\"]]}],\"surface\":[{\"type\":\"surface\",\"colorbar\":{\"outlinewidth\":0,\"ticks\":\"\"},\"colorscale\":[[0.0,\"#0d0887\"],[0.1111111111111111,\"#46039f\"],[0.2222222222222222,\"#7201a8\"],[0.3333333333333333,\"#9c179e\"],[0.4444444444444444,\"#bd3786\"],[0.5555555555555556,\"#d8576b\"],[0.6666666666666666,\"#ed7953\"],[0.7777777777777778,\"#fb9f3a\"],[0.8888888888888888,\"#fdca26\"],[1.0,\"#f0f921\"]]}],\"mesh3d\":[{\"type\":\"mesh3d\",\"colorbar\":{\"outlinewidth\":0,\"ticks\":\"\"}}],\"scatter\":[{\"fillpattern\":{\"fillmode\":\"overlay\",\"size\":10,\"solidity\":0.2},\"type\":\"scatter\"}],\"parcoords\":[{\"type\":\"parcoords\",\"line\":{\"colorbar\":{\"outlinewidth\":0,\"ticks\":\"\"}}}],\"scatterpolargl\":[{\"type\":\"scatterpolargl\",\"marker\":{\"colorbar\":{\"outlinewidth\":0,\"ticks\":\"\"}}}],\"bar\":[{\"error_x\":{\"color\":\"#2a3f5f\"},\"error_y\":{\"color\":\"#2a3f5f\"},\"marker\":{\"line\":{\"color\":\"#E5ECF6\",\"width\":0.5},\"pattern\":{\"fillmode\":\"overlay\",\"size\":10,\"solidity\":0.2}},\"type\":\"bar\"}],\"scattergeo\":[{\"type\":\"scattergeo\",\"marker\":{\"colorbar\":{\"outlinewidth\":0,\"ticks\":\"\"}}}],\"scatterpolar\":[{\"type\":\"scatterpolar\",\"marker\":{\"colorbar\":{\"outlinewidth\":0,\"ticks\":\"\"}}}],\"histogram\":[{\"marker\":{\"pattern\":{\"fillmode\":\"overlay\",\"size\":10,\"solidity\":0.2}},\"type\":\"histogram\"}],\"scattergl\":[{\"type\":\"scattergl\",\"marker\":{\"colorbar\":{\"outlinewidth\":0,\"ticks\":\"\"}}}],\"scatter3d\":[{\"type\":\"scatter3d\",\"line\":{\"colorbar\":{\"outlinewidth\":0,\"ticks\":\"\"}},\"marker\":{\"colorbar\":{\"outlinewidth\":0,\"ticks\":\"\"}}}],\"scattermapbox\":[{\"type\":\"scattermapbox\",\"marker\":{\"colorbar\":{\"outlinewidth\":0,\"ticks\":\"\"}}}],\"scatterternary\":[{\"type\":\"scatterternary\",\"marker\":{\"colorbar\":{\"outlinewidth\":0,\"ticks\":\"\"}}}],\"scattercarpet\":[{\"type\":\"scattercarpet\",\"marker\":{\"colorbar\":{\"outlinewidth\":0,\"ticks\":\"\"}}}],\"carpet\":[{\"aaxis\":{\"endlinecolor\":\"#2a3f5f\",\"gridcolor\":\"white\",\"linecolor\":\"white\",\"minorgridcolor\":\"white\",\"startlinecolor\":\"#2a3f5f\"},\"baxis\":{\"endlinecolor\":\"#2a3f5f\",\"gridcolor\":\"white\",\"linecolor\":\"white\",\"minorgridcolor\":\"white\",\"startlinecolor\":\"#2a3f5f\"},\"type\":\"carpet\"}],\"table\":[{\"cells\":{\"fill\":{\"color\":\"#EBF0F8\"},\"line\":{\"color\":\"white\"}},\"header\":{\"fill\":{\"color\":\"#C8D4E3\"},\"line\":{\"color\":\"white\"}},\"type\":\"table\"}],\"barpolar\":[{\"marker\":{\"line\":{\"color\":\"#E5ECF6\",\"width\":0.5},\"pattern\":{\"fillmode\":\"overlay\",\"size\":10,\"solidity\":0.2}},\"type\":\"barpolar\"}],\"pie\":[{\"automargin\":true,\"type\":\"pie\"}]},\"layout\":{\"autotypenumbers\":\"strict\",\"colorway\":[\"#636efa\",\"#EF553B\",\"#00cc96\",\"#ab63fa\",\"#FFA15A\",\"#19d3f3\",\"#FF6692\",\"#B6E880\",\"#FF97FF\",\"#FECB52\"],\"font\":{\"color\":\"#2a3f5f\"},\"hovermode\":\"closest\",\"hoverlabel\":{\"align\":\"left\"},\"paper_bgcolor\":\"white\",\"plot_bgcolor\":\"#E5ECF6\",\"polar\":{\"bgcolor\":\"#E5ECF6\",\"angularaxis\":{\"gridcolor\":\"white\",\"linecolor\":\"white\",\"ticks\":\"\"},\"radialaxis\":{\"gridcolor\":\"white\",\"linecolor\":\"white\",\"ticks\":\"\"}},\"ternary\":{\"bgcolor\":\"#E5ECF6\",\"aaxis\":{\"gridcolor\":\"white\",\"linecolor\":\"white\",\"ticks\":\"\"},\"baxis\":{\"gridcolor\":\"white\",\"linecolor\":\"white\",\"ticks\":\"\"},\"caxis\":{\"gridcolor\":\"white\",\"linecolor\":\"white\",\"ticks\":\"\"}},\"coloraxis\":{\"colorbar\":{\"outlinewidth\":0,\"ticks\":\"\"}},\"colorscale\":{\"sequential\":[[0.0,\"#0d0887\"],[0.1111111111111111,\"#46039f\"],[0.2222222222222222,\"#7201a8\"],[0.3333333333333333,\"#9c179e\"],[0.4444444444444444,\"#bd3786\"],[0.5555555555555556,\"#d8576b\"],[0.6666666666666666,\"#ed7953\"],[0.7777777777777778,\"#fb9f3a\"],[0.8888888888888888,\"#fdca26\"],[1.0,\"#f0f921\"]],\"sequentialminus\":[[0.0,\"#0d0887\"],[0.1111111111111111,\"#46039f\"],[0.2222222222222222,\"#7201a8\"],[0.3333333333333333,\"#9c179e\"],[0.4444444444444444,\"#bd3786\"],[0.5555555555555556,\"#d8576b\"],[0.6666666666666666,\"#ed7953\"],[0.7777777777777778,\"#fb9f3a\"],[0.8888888888888888,\"#fdca26\"],[1.0,\"#f0f921\"]],\"diverging\":[[0,\"#8e0152\"],[0.1,\"#c51b7d\"],[0.2,\"#de77ae\"],[0.3,\"#f1b6da\"],[0.4,\"#fde0ef\"],[0.5,\"#f7f7f7\"],[0.6,\"#e6f5d0\"],[0.7,\"#b8e186\"],[0.8,\"#7fbc41\"],[0.9,\"#4d9221\"],[1,\"#276419\"]]},\"xaxis\":{\"gridcolor\":\"white\",\"linecolor\":\"white\",\"ticks\":\"\",\"title\":{\"standoff\":15},\"zerolinecolor\":\"white\",\"automargin\":true,\"zerolinewidth\":2},\"yaxis\":{\"gridcolor\":\"white\",\"linecolor\":\"white\",\"ticks\":\"\",\"title\":{\"standoff\":15},\"zerolinecolor\":\"white\",\"automargin\":true,\"zerolinewidth\":2},\"scene\":{\"xaxis\":{\"backgroundcolor\":\"#E5ECF6\",\"gridcolor\":\"white\",\"linecolor\":\"white\",\"showbackground\":true,\"ticks\":\"\",\"zerolinecolor\":\"white\",\"gridwidth\":2},\"yaxis\":{\"backgroundcolor\":\"#E5ECF6\",\"gridcolor\":\"white\",\"linecolor\":\"white\",\"showbackground\":true,\"ticks\":\"\",\"zerolinecolor\":\"white\",\"gridwidth\":2},\"zaxis\":{\"backgroundcolor\":\"#E5ECF6\",\"gridcolor\":\"white\",\"linecolor\":\"white\",\"showbackground\":true,\"ticks\":\"\",\"zerolinecolor\":\"white\",\"gridwidth\":2}},\"shapedefaults\":{\"line\":{\"color\":\"#2a3f5f\"}},\"annotationdefaults\":{\"arrowcolor\":\"#2a3f5f\",\"arrowhead\":0,\"arrowwidth\":1},\"geo\":{\"bgcolor\":\"white\",\"landcolor\":\"#E5ECF6\",\"subunitcolor\":\"white\",\"showland\":true,\"showlakes\":true,\"lakecolor\":\"white\"},\"title\":{\"x\":0.05},\"mapbox\":{\"style\":\"light\"}}},\"xaxis\":{\"title\":{\"text\":\"SOD\"}},\"yaxis\":{\"title\":{\"text\":\"SBP\"}},\"width\":600.0},                        {\"responsive\": true}                    ).then(function(){\n",
              "                            \n",
              "var gd = document.getElementById('7a119c71-ab0a-42de-a7d6-b4bb5bae0c2c');\n",
              "var x = new MutationObserver(function (mutations, observer) {{\n",
              "        var display = window.getComputedStyle(gd).display;\n",
              "        if (!display || display === 'none') {{\n",
              "            console.log([gd, 'removed!']);\n",
              "            Plotly.purge(gd);\n",
              "            observer.disconnect();\n",
              "        }}\n",
              "}});\n",
              "\n",
              "// Listen for the removal of the full notebook cells\n",
              "var notebookContainer = gd.closest('#notebook-container');\n",
              "if (notebookContainer) {{\n",
              "    x.observe(notebookContainer, {childList: true});\n",
              "}}\n",
              "\n",
              "// Listen for the clearing of the current output cell\n",
              "var outputEl = gd.closest('.output');\n",
              "if (outputEl) {{\n",
              "    x.observe(outputEl, {childList: true});\n",
              "}}\n",
              "\n",
              "                        })                };                            </script>        </div>\n",
              "</body>\n",
              "</html>"
            ]
          },
          "metadata": {}
        }
      ]
    },
    {
      "cell_type": "markdown",
      "source": [
        "If we add AGE into the regression formula, the correlation coefficient for SOD is different. This coefficient represents the increase in SBP due to SOD **for each strata of AGE**, in average."
      ],
      "metadata": {
        "id": "zpS1evUQPiSE"
      }
    },
    {
      "cell_type": "code",
      "source": [
        "# Generate data\n",
        "data = sample_data(size = 1000)\n",
        "# Create base trace\n",
        "trace = go.Scatter3d(\n",
        "    x=data['AGE'],\n",
        "    y=data['SOD'],\n",
        "    z=data['SBP'],\n",
        "    mode='markers',\n",
        "    marker=dict(\n",
        "        size=1.8,\n",
        "        color=data['SBP'],\n",
        "        colorscale='Viridis',\n",
        "        opacity=0.8\n",
        "    )\n",
        ")\n",
        "# Create regression plane\n",
        "estimator = sm.OLS.from_formula(\"SBP ~ AGE + SOD\", data).fit()\n",
        "x = np.linspace(data['AGE'].min(), data['AGE'].max(), 5)\n",
        "y = np.linspace(data['SOD'].min(), data['SOD'].max(), 2)\n",
        "X, Y = np.meshgrid(x, y)\n",
        "Z = np.zeros((2, 5))\n",
        "for i in range(2):\n",
        "    for j in range(5):\n",
        "        Z[i][j] = estimator.predict({\"AGE\": x[j], \"SOD\": y[i]})\n",
        "plane = go.Surface(\n",
        "    x=X,\n",
        "    y=Y,\n",
        "    z=Z,\n",
        "    opacity=0.5,\n",
        "    colorscale='Viridis',\n",
        "    showscale=False\n",
        ")\n",
        "layout = go.Layout(\n",
        "    scene=dict(\n",
        "        xaxis=dict(title='AGE'),\n",
        "        yaxis=dict(title='SOD'),\n",
        "        zaxis=dict(title='SBP')\n",
        "    )\n",
        ")\n",
        "# Create figure\n",
        "fig = go.Figure(data=[trace, plane], layout = layout)\n",
        "fig.update_layout(\n",
        "    width = 7e2\n",
        ")\n",
        "# Show plot\n",
        "fig.show()"
      ],
      "metadata": {
        "colab": {
          "base_uri": "https://localhost:8080/",
          "height": 542
        },
        "id": "XGYwZNlENYZ7",
        "outputId": "88de2ec7-1edc-4ec5-ffc7-13d6c92f1818"
      },
      "execution_count": null,
      "outputs": [
        {
          "output_type": "display_data",
          "data": {
            "text/html": [
              "<html>\n",
              "<head><meta charset=\"utf-8\" /></head>\n",
              "<body>\n",
              "    <div>            <script src=\"https://cdnjs.cloudflare.com/ajax/libs/mathjax/2.7.5/MathJax.js?config=TeX-AMS-MML_SVG\"></script><script type=\"text/javascript\">if (window.MathJax && window.MathJax.Hub && window.MathJax.Hub.Config) {window.MathJax.Hub.Config({SVG: {font: \"STIX-Web\"}});}</script>                <script type=\"text/javascript\">window.PlotlyConfig = {MathJaxConfig: 'local'};</script>\n",
              "        <script charset=\"utf-8\" src=\"https://cdn.plot.ly/plotly-2.24.1.min.js\"></script>                <div id=\"57ebc393-8f52-4f60-a6f7-85cebed22f61\" class=\"plotly-graph-div\" style=\"height:525px; width:700.0px;\"></div>            <script type=\"text/javascript\">                                    window.PLOTLYENV=window.PLOTLYENV || {};                                    if (document.getElementById(\"57ebc393-8f52-4f60-a6f7-85cebed22f61\")) {                    Plotly.newPlot(                        \"57ebc393-8f52-4f60-a6f7-85cebed22f61\",                        [{\"marker\":{\"color\":[125.14086146035456,128.7712348190305,131.12328861496854,121.0595033829595,127.35975923099309,124.44362185842284,123.95016758143254,150.46437750089757,123.08070680789845,130.1418329018733,133.46015433854393,129.88503614658256,120.24785895917944,120.44228050717183,143.40376131706705,126.62975442150966,112.40054702005752,132.33636468506816,122.33577341575919,121.93501037092894,121.18659675655499,147.17590301663674,146.42636291708214,127.71464062898453,130.08492741642016,129.7455930498631,123.3614552767416,131.6068022446226,136.7216103000902,128.56183743857036,134.8499318616873,136.49921310418614,143.9837991883364,129.60032654737753,127.34941628000715,128.74183916911235,132.06784617947798,120.48202482300377,120.53130226706216,120.95648621469076,129.6136992874274,129.5714440774304,124.24415551572932,147.0031425365657,123.35382066233961,125.63428155228462,123.29056256441109,144.06383275490035,145.77748391839674,123.47503270302239,134.67929547143584,138.28677602506409,116.2867539692112,111.02142458933352,114.29926079420315,153.68214501638624,130.88597642895445,133.53059354137736,126.89158632473678,126.51218354295918,147.62107701502777,122.49606158198094,135.163672692012,154.44318814303654,128.74542482058732,128.1358296779956,126.30798807307262,117.7413088643908,127.62788674323582,141.63591481215528,127.6391001854529,130.59436520605502,118.04536402718098,104.73506678711168,141.3885517533235,115.67506437487506,123.87848768028913,127.88541561153806,143.70681758597684,116.02185643264812,139.07290848780048,112.16068785283404,138.37966464489364,139.06677277274872,132.88404111255903,133.92166071311846,133.23472807736806,138.81057502866975,124.02826562792119,158.7987942406141,122.70110655290058,126.55651221921802,128.8632084572868,129.63299568778427,121.50142588577913,126.00456428643017,111.33329325481917,106.54180379655324,112.82715403084076,132.8328273902328,143.11870198188672,112.23471492279901,126.57582681122503,112.85857182279393,135.07289201945167,124.32021457282951,159.58949729117268,119.62776761500702,142.66737739608627,125.43490837631826,129.44114179645987,136.2265367499551,118.37790004136029,139.5730418785784,125.29714364773288,135.55453226607864,136.67211118224267,108.74119363858877,124.6335099451175,129.44299808184985,124.11427989006783,135.70096826232057,132.65692831091454,129.4282861544047,138.10814744133052,129.26131110481606,125.58631108536149,138.6164746629151,128.51559452982033,137.67049395748114,122.12317030169056,124.13814688646939,125.1774130341718,128.95354221943745,109.23692699702373,131.76800785298298,130.23278249642902,125.09401971159312,114.67079061474777,130.39588735486643,131.81338180693282,138.18941034819812,128.68287715510854,133.0943655781211,135.2064198993148,125.6381220064635,128.5829440508786,110.90115063013825,116.44080250701869,134.21343341135136,132.73329557096957,127.16960257547021,130.29779178725235,142.71793330684835,118.34367683716373,133.57464608990628,109.82195533195387,121.9742293166628,135.12109733054632,130.30630650560485,121.31459502169578,144.7889713753815,117.3417664767009,114.04034864902087,129.56819938031933,120.69354512560649,138.40096792610703,126.92558396359941,132.66354769616436,136.05495349136552,139.8115456276187,131.35105737142493,126.03368287141528,122.93793998759948,128.6109483863421,136.18070292358288,133.95775158321734,120.44608137891831,131.16357014442636,121.86720872741412,125.69788620079942,154.0491055563158,125.28872703037143,143.40931244795675,121.05826097227244,141.12194513282898,127.76088800304319,130.70685030884866,148.58783636148675,135.05173032012937,127.11343098480812,123.60825255493906,122.51759111420994,147.43992020496216,139.17917490523536,124.24629854966432,130.81259544154685,148.55205109102943,132.4393326142245,128.07902603863712,151.43916096734674,133.37668807101178,132.90335878297816,144.81700387551058,146.97809108954047,141.379094208277,122.75686408991662,123.72451541882745,125.84010362093079,133.47120178096375,121.3578435276304,138.01922665081602,120.24071890772282,130.6126821587345,129.58908407116058,137.17862594095456,119.80394336296115,131.48102540425913,145.3473961041431,137.8017841840219,114.86394490321696,138.44494610814925,144.45673392198125,122.76155456614259,114.32395861460917,124.73423822850089,135.74758449416396,109.1078390920004,129.10013858582172,148.04521155336553,126.44100930602326,137.366365472115,136.65538883503285,127.62434390476103,108.32262095117042,135.96518567840184,130.14035744125542,141.1142995850349,120.04536654346037,141.169213357602,136.72790452283672,128.07729396121542,137.62372866733375,123.95217276399042,141.65948785569742,138.5259373972717,139.25464910628892,132.3623904647187,126.7335679987476,118.34550195764784,136.02986179888933,137.5155443901611,134.49978404592693,128.32313242777994,146.39800812457804,118.34183239766979,138.48477727506616,130.53283026963575,124.49740676497734,112.5768961474572,119.3257803301592,125.34168075453675,128.33824165932614,143.14347748302697,152.6981436615061,127.0883500658633,144.95580870165662,120.52022632559003,127.80241960105646,138.67297753345292,140.53578577952544,123.98896190263397,116.39814950720123,111.03495583472387,113.7008265869507,125.75446269365098,138.18385945207714,142.51252292306293,132.9878766040957,150.33752560375652,119.07713076110448,123.13620278184673,138.31962628571702,130.03888598371898,119.24227828033028,105.26978526233857,133.16543708127605,127.49565822801043,131.7272416283053,115.56810327321261,141.18776117336685,136.74772684555901,129.51192057999404,112.5166125314792,129.34010226085445,145.47018952244582,138.8703034804459,119.02844833685783,134.98187741401983,144.97894327351472,138.38000763285578,125.68352774809978,119.3208715915844,132.83416166706414,128.5038984803863,144.23873968327229,110.6928431276404,114.29619637188034,161.04409363317507,138.59352126553182,143.18298109423128,144.84068408758375,117.64558453245526,116.5308288307976,146.3129354742862,116.52575999410072,139.94253379540774,128.61102414778045,122.55681365329315,110.70708902406865,135.07143572716518,135.64538186032385,132.11795887877992,124.27287067117531,113.67179176097154,140.05354923802864,117.57723889443743,141.39068710781908,117.51001136761252,130.32475905420958,129.45107957658027,141.6108867683755,142.43841350082496,134.70715645022878,123.48170231281784,135.80052685715236,119.0205492193639,139.5367810960007,142.02913480214724,120.36933716260319,142.48263416298838,124.89206045870743,116.17310373209364,136.65773514407732,140.21145949155198,123.22747431861761,112.64202474947581,106.32517483928099,150.27926395833563,126.95408224824251,136.289408874598,147.49860067516582,121.34991784623065,114.1757252217327,130.23957198680247,130.76948989823137,131.64635588481903,124.725483416901,130.2309966717457,105.87797739367389,125.62480438854652,123.89842215056106,123.58888154741294,132.50112255113186,121.17523573251037,114.04482742514442,118.54362209358759,131.3543882346142,127.82983922826642,126.60551129774953,123.11609864998924,139.64394421921003,145.90747123064693,109.1215837969927,126.16029345249076,130.24134909515155,124.15135320487823,114.50721777999395,126.34196989084269,121.7190517359641,120.0869985255189,134.39228098395694,143.1975365018505,135.24388674585148,141.81549196467225,120.28175381803545,135.886843989817,132.36582612227463,131.20174008013117,130.88171433007332,142.9545353084205,117.84826114753349,127.36438802844808,150.92638416558498,128.42259826838807,126.40537822041921,146.9602399076918,117.4234760048373,118.00622419410206,148.20619027435166,133.32523781376057,136.47320427907056,146.71100012227177,137.9877167550805,129.80891386779058,131.9833725472764,141.17803183914432,114.27522800660873,133.378595434535,116.40958579506562,127.74743930385566,118.27461020105561,149.79046578796346,125.40816747865392,142.53273264037406,131.5796756836835,131.65098010092825,128.20058740530808,112.78395861161462,143.60159944046222,146.10071944370014,135.4069490189333,136.8380148070252,133.60296899150782,137.41798818451983,132.03798085563096,136.11814218684611,120.06423665050238,130.50681758846125,124.13365566843395,134.30152307739488,135.7905623535564,126.11366324417382,148.75506765256182,128.8736337110037,126.00820941282272,127.56170258821336,140.81031748435856,131.1701399282384,134.31570399718902,141.72236294734887,118.42985368437796,106.85723382304462,124.20828970675481,127.94659106136774,141.3689272349768,137.52569196610108,125.26386880008387,123.8465581703398,133.44977774931814,111.12479701012879,144.42396870882112,122.18071761678053,129.84096262708667,120.22367630568102,125.51101676449233,130.01298211842442,132.0376489715247,146.3625596613109,142.8256066094406,144.4808375208086,129.56017530921295,135.44151690586568,123.9867026083544,131.4193278442896,113.68679186536613,152.95471829961235,124.49661706202319,131.1472386223342,132.42607392508654,132.0387289390779,115.13327308472202,134.97102477614902,132.1569367769162,146.61461919913643,119.29929707859586,133.32240172447266,136.85979088522677,134.2696772322699,138.70316840594649,119.66559972071693,147.86977054431358,136.09047799581765,123.1763607588565,132.02262044077688,139.24498250157487,120.25251307165118,142.5204584657265,153.96295543157802,135.52833800113015,118.30067204388354,112.46743382483884,140.8768707074814,142.6704396149345,119.35911478492834,131.3605838207497,134.87121685746783,134.72329372791103,121.51261299694517,129.13118508584074,127.47701179845457,136.06293406728744,146.64932048015822,126.47469028620526,141.40315199812238,131.12272322838726,136.06874258138362,119.96488807267345,135.31323600779558,139.75215550458026,121.14432529258268,146.8119766438533,124.315947016951,147.7797884579282,113.94801407988147,138.64529755124815,146.20289986834874,134.86022679109257,142.66883302137015,134.51602544801594,114.69671188861841,141.27455002820784,132.32575241485512,143.03626949791195,119.75366754001934,114.04442047386958,134.1536509766925,119.27765612888282,140.9248650346681,132.88521690519343,141.92110481994402,124.06425461086594,120.61252267694657,145.63123629534653,108.68984350589142,128.79452313261945,136.68707810860244,130.3182849251833,117.24999566035815,146.2150255495849,134.28241355261932,135.7051251198001,129.53967181799018,138.87373231228955,109.99100870444852,118.67505845377968,143.09232356147876,122.42857314153486,142.0446254961778,126.61470719113751,115.78303339732966,125.26984921326881,125.87709725536578,133.47924062475556,132.00191743451293,129.1171013145929,133.04784245836862,143.80986573533815,123.18380461030004,119.14950659254386,139.72811568625497,132.42857607129022,132.10060790783837,122.25142096531178,120.23630949998655,131.24229127144977,161.2732787503159,143.83593325848113,133.571078874636,136.57307441942717,130.71764056065263,127.76245120816161,115.63159042404841,129.280870201005,131.67422136257161,133.08316678412857,132.67263880929588,133.85013389904543,123.39099708931171,139.7844641173046,146.781209485184,132.7128480593578,120.26913008131369,125.40259961530865,138.4127623866657,126.37692414082159,115.50073130359857,147.30194785141927,138.4462049089707,136.0967706694919,120.03711729707159,134.29450744374796,133.0212638576139,138.84612087209592,127.92499458081298,128.6718064086303,146.50348807958434,152.87849874432513,131.0012048338138,146.79776329059356,125.10700474234378,131.15102876214655,136.79525032850805,137.00313931708132,117.1004263575791,132.26562746189822,133.19242877628824,146.224295515456,119.37102024646074,122.74783703251457,141.55577382309806,138.48548922750393,129.12977824447822,124.60743834089318,133.1398220903316,129.38758114412423,130.8364185061649,122.11126950971708,120.78428896092758,122.8556532513395,132.97581930757624,114.59866465549388,129.33278787311343,116.432303889938,120.71954529298642,140.26012812822353,114.2851227846992,140.42728459629166,136.6273706913604,136.18519694887948,141.85062948055267,139.74620331332227,120.6823944197613,131.76920418390762,130.30588954702978,121.52432619758864,117.2067314037408,126.89641219748297,121.62068955805692,113.0492189639114,141.59589864309996,125.39913236537127,144.66237688717897,120.0713655711955,117.67428108426347,115.08271511936051,132.6641836121628,122.0813738747277,142.1582919373433,131.88994249543066,144.51417624810594,139.66362877665173,138.17228320638876,127.85876064770302,108.21031255172984,140.55956987208899,140.8149052235771,132.97726913153792,129.40366078919018,112.45299518047878,136.00272981074082,118.1092493889549,158.59108137093457,132.88569298702203,138.48870826905133,133.5459015970706,123.64523898157573,123.67223132682844,130.32199288837717,118.54002044090316,115.78518449356999,134.0499791537365,118.87998825410571,145.93887902163095,134.38691402465594,135.70507466426295,126.56863513505978,135.37833043708096,124.37665098055902,122.92137016874602,118.74600852934094,125.42897947218387,119.1122488855608,130.84166172422997,141.16148945451437,114.7639969919415,118.7883256666565,126.99621583820593,127.0644718557519,146.93898001581917,126.33248778085675,130.2862393813704,130.36790679022337,134.64367573721594,148.86441871080166,116.06895252054306,133.06688948104429,125.31719399623604,137.80567717943663,123.73997258720946,125.9374689386736,122.68483411962653,141.423256707231,135.7334954235796,132.60331688433405,132.09387048226517,131.85587550594272,140.17255117177675,145.22188009241898,134.7647302313444,126.17619369021496,153.89928569430805,129.17594879634,117.3156837563942,119.47796670357341,111.4871224933825,116.80339845048383,131.7442855497058,126.1543611766589,133.60290120389155,141.31964649191536,112.9933264653326,147.82372001602857,142.93527865299373,140.52653232027944,105.40966269606162,130.05743115437855,133.6114865021284,116.57300640400645,121.40265775530126,123.06623964255144,136.97215629267833,150.44526436117923,126.33141912809012,139.3090438420281,125.82250255257384,138.89235886036516,110.63900495055887,114.13363519717515,128.11782912001556,105.64878067475134,138.27997751290243,127.08177484059576,109.52848158523857,124.14056710001978,140.33832478705787,125.61336932751264,136.64456467393035,135.56697973590855,121.87958294418976,146.7623672399823,139.8434154761559,128.0221564463872,115.01182216416659,132.4481890365833,140.321016946867,140.7085116257085,136.1257341976274,133.49307169025377,153.04007780085277,129.95214480242947,123.42843401735679,120.94082952070204,108.68815314876169,124.9243633906938,129.3585594025161,125.0551854672269,136.11493123820162,149.9486451425836,129.5745024907406,133.47232410064143,125.47278787686996,144.61635043521957,120.99808402060864,127.60440657405238,139.6516142146411,120.4901021526996,130.83763285266,138.80061025717998,140.35730757231613,142.93789430863103,141.63960356872244,155.0394250405636,132.3029090654447,125.38099572063427,128.32946534544215,132.40767989995697,132.0426036013824,148.34597835968358,134.1603292240282,115.06377580232507,128.24286929691456,134.76941555228996,117.37485665149045,152.2740184998646,118.2289045123749,133.5085360837724,132.7110691950858,134.04144747817608,117.88461066093149,146.99375850841355,126.93251853535163,116.89629498364936,133.87908251832908,142.48186660926567,121.219020428149,154.8512983054669,123.14413622883745,146.4575221314843,132.0249214017466,144.7652265688927,145.70035847338391,128.76324039889352,136.78592729789824,113.10126599039127,130.64110847904558,115.85692436999156,148.77058261410312,130.11716553928713,112.86378718224925,115.22399783990258,137.86940608249895,134.8961614278363,128.95088159808003,119.8570475419005,123.89015746743164,144.58651952517278,142.89239156625607,118.4785172490499,123.16852346030426,128.32882888479713,144.68283896263088,137.1037366011226,125.72742508107733,142.3839245114558,124.39992378475897,146.8250861426744,133.66314650756917,130.80029835697525,122.89116492851758,142.93941273369404,123.73413945410793,136.07985151342174,118.32073277156812,129.08067396818103,131.10503820727675,145.92835828388465,127.86532349993666,133.51200602159707,137.37826311795428,133.95175488842494,146.6035330840665,137.9976668260232,131.86445832511666,123.99403458583399,126.90971238311182,132.17160134556843,123.64176311158843,114.68443574969164,118.64457402251934,121.31634546405392,152.1746873705265,126.39255807219416,129.4458172823966,133.44791914001001,119.64496120940558,124.13284438065735,128.4202623784378,130.46066901354635,152.06820811400954,128.15966337997327,124.34956011834251,135.3695074512785,147.08621078414347,110.55712000627896,133.08401456233958,119.39965665602247,137.11838944425006,121.3196210894942,139.66651724697982,117.02646632667818,137.21180386269413,145.1685884067104,129.99229422208325,121.48645769702189,152.40304560437244,132.15129051345687,124.41827602461889,139.79045935572037,133.28414737571853,125.19156555080052,135.91919625317362,126.60858145852919,130.8668367847383,132.83301548465292,142.13372625700205,122.5531214933348,144.71126010345967,136.4458942482046,143.70915430473264,127.26565119712548,120.26108974514048,124.76184235019346,139.01366789062345,137.55630325113788,129.96885250632158,113.17342900269604,139.8027188773085,132.025902363123,129.03668997009962,123.3595676119286,147.09794075655324,114.6535566852374,123.15081634758177,114.53989130489292,124.31235340050013,140.86156706387837,139.92001364732644,127.86953604448028,142.88747693187238,126.34388475321086,135.58810029909563,109.68785920348499,137.2035488085977,131.49751124000096,118.49773771766822,136.37696574667493,114.8151621130368,140.78353126332004,119.70060459023998,123.55157814954902,130.21654831013868,119.64513513641384,128.87706927120837,122.94801070557796,122.30346776960342,124.63824313399935,119.69315618184031,134.44825826354997,142.97948955632307,152.2709094606493,134.7066992029351,139.94873685735897,158.76632612974402,124.6836756045648,127.64166790724919,125.78136877451415,137.99455506629184,142.17426635374784,129.49216389380547,126.09147811005157,135.011194360422,121.67397914971966,131.40244195011812,124.6099662097746,140.1031971230167,125.36096005663131,124.81303706078103,138.33946204290106,121.45797583837631,128.9709579910044,127.59256408943146,123.23051936620128,135.49791186801204,142.23884507331854,150.0551207185639,122.1400822482537,139.01607687755515,136.84291365647314,132.7926158213692,121.17062605742849,128.81494271267417,144.77844980369107,121.70283121428383,126.8669346407061,128.94312482531265,133.4629329232562,134.24548161454607,116.92796683369583,113.18555395236858,136.46739999972573,131.5767282702705,146.95080184935347,134.45475103027078,137.34983633895632,115.71315072931118,106.64928521184312,132.25210738046448,115.04854802774075,126.23301323726062,131.52110373803296,122.37435426964744,146.39748027507935,126.34699559111625,129.25129747998227,136.07879427624025,138.29334980112426,128.71065872851295,130.1065037355271,146.33946412706837],\"colorscale\":[[0.0,\"#440154\"],[0.1111111111111111,\"#482878\"],[0.2222222222222222,\"#3e4989\"],[0.3333333333333333,\"#31688e\"],[0.4444444444444444,\"#26828e\"],[0.5555555555555556,\"#1f9e89\"],[0.6666666666666666,\"#35b779\"],[0.7777777777777778,\"#6ece58\"],[0.8888888888888888,\"#b5de2b\"],[1.0,\"#fde725\"]],\"opacity\":0.8,\"size\":1.8},\"mode\":\"markers\",\"x\":[62.92621392874205,63.33315665666253,65.40545992782415,61.04486523787836,63.907001643739214,61.18401578305582,61.114398776474154,74.24678261336801,61.471998445769614,64.56978983215524,66.43966650614166,64.34306739254599,60.08627923758938,60.406043566322694,70.99717245163193,63.29312879336357,56.20696344478803,65.25558734967167,62.140355041180065,61.49716979327478,60.324468791672054,72.6724299822491,74.88717017740409,62.82436833770139,64.32724052265847,63.95217629379138,61.16574922937289,65.19985217864635,68.05888983144803,63.68087344210827,67.58639875941141,68.43353179681327,70.50227929007752,64.5394422151454,62.91665496986194,63.900910322606684,64.91122195503256,59.04823971954223,59.572062969968925,59.625321737784944,65.07192825655036,64.5540989356565,61.62381747574593,72.9481271000628,62.762557854004015,62.39690891232013,61.53186659552423,71.3436440192831,72.00211787404058,61.88535690860646,66.93291814796956,67.84516895492925,57.8666817936244,55.84557493906579,57.22680659518357,77.06521008932951,66.15149368179684,66.28607135026296,63.911582057874384,62.414882380914186,74.06628798154006,60.52625601572863,66.32088620969832,76.45183464614648,63.10646860871503,64.3942038658314,63.15568943931841,58.92629069187501,63.81879712674181,71.30793761341327,63.355861992165565,65.14421586453035,58.59853392131317,52.89790818527866,70.01286510017052,57.353831340344996,62.17212082195951,62.815897559502226,72.31760594073108,58.147472732539526,68.82941689480646,54.694340229849445,68.42045845395673,70.29606464679364,65.90153727638624,66.34291435411556,65.5456102502017,69.42257202124951,61.577982065329046,77.83800879556166,62.05696080102844,63.83488291362109,63.40136997312146,64.24862150076605,60.58279033452978,62.46409653936304,55.12397207550494,53.30298184826171,56.971324902049176,65.31794815191385,72.03588895702083,55.84932961851604,63.420342070432135,56.464624367287044,67.94127658838357,62.405562415484155,79.50444987555048,60.44837896789309,70.71948854656391,63.17029760173303,63.08183252406578,67.55683277736183,58.91546664151751,68.78908679630972,61.88560658443572,67.95227374107402,68.18274191306237,54.35129120871123,61.29472258246222,64.71349839251833,61.50719747782798,67.10695699416809,66.38716597230237,63.242872883703264,68.33668969425008,64.73306403663182,61.706084197375304,69.14090819004656,63.78849838916311,68.8136097729843,61.568522106651805,62.05093059947356,62.349143653082734,64.96191011749508,55.00714705172312,66.07668904229571,63.29937707418596,62.74311781126983,57.77391744354722,64.85760310167474,65.56162238849433,68.38145293549857,63.77065807195612,66.98780116334417,67.318596350682,62.252308977280066,65.04250938739311,55.869277767782,58.37889062030697,66.03541009066134,66.23649003070632,63.30716756971448,64.74662018926524,71.03054117969326,58.669561246777974,66.52192969363212,55.12138429385279,61.09697927572882,66.89506446457699,64.3532269018188,59.28650577487546,73.5455017143631,58.59996181420626,56.92910666051913,65.34354619830445,60.04848519886119,68.5680094570874,64.35712267357776,65.77686045855513,67.09662858286157,70.20437169188622,65.25021831795881,62.96099404540015,61.18071711711655,64.14529310643293,67.58141614739921,67.08298547713208,59.28827011822905,66.45765383710363,60.71501721571557,62.26650860805554,76.64099955253947,61.596121936396344,72.02710292943942,61.34824776161376,70.40738685259387,64.5970025476445,65.63159121021113,74.46280258656675,67.68782229190826,62.55966116691746,61.749041865843594,61.51977722873861,72.31716893563636,69.57204106514874,62.296413102649474,65.46754043069765,73.91879769101196,65.58802518612374,63.249360851167175,74.81877902876504,66.329318536569,66.27260209421462,72.17201940541156,72.81123075444918,71.05299630170869,61.47873025394381,61.37508307346072,62.3707779819191,66.8400382947436,60.934268752976905,68.34709837070393,59.86218099773049,64.31401992201627,64.80793946988905,68.28148011028887,59.66199594461433,65.2033455181992,71.53962482764399,68.83424510869999,57.12664861923899,69.10227753573675,71.29560018453432,61.01995571626977,56.81079845992245,62.01821605051363,67.33253441375517,55.15022778699551,64.57359239646185,73.71255917570285,61.89959472032948,67.63299235438002,68.29623422056842,63.07030564690581,54.52225953151262,67.3410751617343,65.21216379315084,70.33838392493129,59.89738144605094,69.95881364869264,68.11944637540591,63.62131903570336,68.10335269666112,61.35174591080668,70.95776480567864,69.05436641362827,69.29785079652065,66.57107124292182,63.89852844727113,59.097519118494134,67.24861354405392,67.89176929829326,67.40155861825485,64.08476021621858,72.62582268325889,59.18006920629914,69.6699633006137,65.64523073376557,62.28292124003539,56.230510327953446,60.036662721418665,62.930298043132815,63.28083598180141,71.27775417255783,75.25322300630619,63.15173747186833,71.95110890394923,59.534471442791876,63.87496761524442,67.98960557283637,69.1602509280904,62.022002112305614,57.483418962247804,54.77982630469925,56.5781851947837,62.15176697989624,67.95140272919903,71.26075805593811,66.01719775255191,74.11861079303537,59.95164874339321,62.02793224363607,69.82996576826017,65.07073430632624,59.17538858332969,52.65875286073533,65.63885779516546,63.13730258387476,65.19179414913313,56.98768116325101,70.40577625914557,68.28381262905759,64.4390989889035,56.03159894690326,63.71509694908771,72.0773865015187,68.9801017090574,59.92753001811227,67.6367994475071,72.15237043161387,69.19719566064515,62.84697680854897,58.81074765462792,65.97082068697567,63.856373763218194,71.2030073008703,55.58008744744265,56.40855985704876,80.39403786076228,68.96541090858092,71.47391317415044,72.52838884710309,58.94849026961821,58.51749946618183,72.43359406438522,58.4103943501002,69.36118470109479,63.57147109916415,60.72824290099597,55.33639061441712,68.57047280026147,67.18797614309956,65.58258029185215,62.84199642227045,56.774884159414164,68.7163187964597,58.29205406869132,70.67858765353705,59.312484203015686,63.88770843603457,64.66679903482326,69.63456990866173,70.39750256931484,66.92356778360019,61.561222159493894,68.8497271227179,58.85557681198239,69.8169654728418,70.54275992282359,60.249770348092426,70.87980904763577,61.329666754832154,58.821922073666876,69.03567491280575,70.4211149276462,61.511912937298746,56.175972673925116,52.17430880671086,74.79601791001188,63.81431878513437,67.81887329196891,72.85247311262262,61.122234965423175,55.95596006705851,64.50882448888588,64.75190741990666,65.65096919297106,62.076366828794825,65.11388603360824,52.52933782281749,63.099926732586056,62.309870081156845,62.03538491304778,66.42587163947907,60.64583832127403,57.4908607563163,59.1355273292758,65.39939849659598,64.12542479215452,63.473793506590056,61.52361580620704,69.88292184192764,73.41511321693157,54.572306109204135,61.990667499175906,64.52304922722696,61.90221051921399,57.77498347784815,63.49246260752233,60.32986562282745,59.74747397171149,66.97480187503228,71.31807060359068,66.8682599577658,70.12666142556544,60.5363848777112,68.19335122985007,65.04508318739614,64.84003221142655,64.90834491215307,70.11539791423476,58.86615348216022,63.57756209047543,75.08174664721626,64.2520662868462,61.51296734286267,72.50347845124637,58.67261321825361,58.93968898344403,73.73113820046301,65.59625430445696,67.162736298767,72.4706385067405,68.4398736511447,64.65435422917244,65.59350478216786,69.68801523426855,56.62446870280793,65.85534941483634,58.324427406465766,63.9450486127032,58.97633183143754,74.4031389933833,63.43224203130147,70.80680834887457,64.91927101248035,64.3104046557687,64.44482285117093,55.98541666417154,71.42219343183214,72.30996892991105,67.08943428192188,67.7197912094441,66.66148958963844,69.1423616319441,66.10887085688552,68.18509214740463,60.00766761164961,64.79708050481494,61.55872485165616,66.81586601176954,67.02004078452138,62.93306920103077,73.36655575979141,63.50418342298027,63.06503023768395,64.3213567432726,70.3377976926594,65.57859657122602,66.6914617615038,71.13661924118774,59.8349645583552,53.68743034458301,61.17294243153402,63.394897208657895,69.86726525554604,69.12221687604381,62.0764289512622,61.66700892976659,65.96253152320052,55.04270979903625,72.80817614744387,60.44487268346499,63.75105036091539,59.245649311330595,62.48661905720062,64.77623146943662,65.54738481388574,72.67150399896524,71.77415386993657,71.77087147114153,65.28980745720114,67.40029867628475,62.086016254843486,64.8945251493036,56.67962995281173,76.2193364398051,62.14552424750948,64.66597975360419,65.30848281187467,65.5614772387793,57.95170834733446,67.65342803213291,65.4839815452359,72.30835239564162,59.151061303987035,66.22603790205063,68.08032030734772,66.71500855975607,69.73516136720349,59.56587235616486,73.45345817808425,67.28426145179598,62.38610773034368,65.7512089905144,69.47652507948469,60.05287172789558,70.9239726463889,76.41143129501584,67.29250648349726,59.9068339640466,56.51490738839489,70.51748297070495,70.46857418502374,59.33809298657188,66.07457833964392,66.9119487142935,67.26551409919497,60.01128123263969,63.97629321300205,63.11054462154094,67.32358742705358,73.47476091244451,63.30533855094961,69.44717361718047,66.1557008573407,67.3215613087661,60.04587079759358,68.12307068554777,70.13698700425354,61.03782799705586,72.70830553472723,61.61286531314014,74.34827882935883,58.40594443690256,68.15013073792643,72.19607408631045,67.01696929564011,70.63033624157629,67.01975151450348,56.70489013776249,69.27447386240402,65.76761718022865,70.292935780801,59.84116391911236,57.23026425597563,66.76259370441164,61.13714043472628,70.35068202740385,65.06258508084518,70.6489692141401,61.15033303059599,61.30177812767264,73.33624896130257,54.86770236639265,64.46551262513495,68.89242189477632,64.55167148737014,58.73234584206625,72.87220452480507,66.11236537316188,67.45081496008306,64.93947425640351,68.89056140488682,54.96309398852717,58.8712010757014,71.37240753118854,61.04227925318946,71.17136137139558,62.066281785281994,57.26007115467911,61.9246818902518,63.930601001767506,66.28528664708614,64.53364734763855,63.98878366163312,65.74406974141576,71.16431409410477,60.81481607942012,59.35877089502116,70.24260329318508,64.62880274032047,65.8515391373384,61.008142354197105,59.46230910762496,65.32580369117547,80.22474507891326,71.44280327218782,66.38237966157398,67.83597595108674,65.76762323791353,63.64755742994248,57.99225324311292,64.50148848180974,66.43467283658508,66.3084303664008,66.59527133157339,66.59215398310585,61.54197277487208,69.98622638038282,72.83753676446835,66.03048622697216,59.65020304696784,62.6138595717965,68.8552892062349,63.712298014586715,57.90944371135085,73.47581037106448,69.03468504052775,68.18781581962382,60.21779770217085,66.43095620391497,66.53512469003357,68.86029589253974,63.435869745098536,63.9190249398291,72.58911024472903,75.2797283361623,65.22251115765386,73.4879891545686,63.16786523162673,64.01059469872489,68.12806302455334,67.14506412690871,58.131177335430365,66.06562283682034,66.20696399773738,72.37021415148877,59.878987609804156,61.30069114499962,70.41501296128564,68.64380404092933,64.0607662361294,62.79762585918423,66.04460635605838,64.258096341675,65.32468834403979,61.9075684932491,59.05321114417124,61.62180924882489,66.09333689300276,57.16415628919283,64.64986593171257,58.53670468608821,60.20408791830637,70.67402922907876,56.24325317404859,69.89939570831781,67.97769804743072,66.74449880891635,69.89048391233246,69.07210319106888,60.344050263584634,65.57953944181232,64.91280148292365,60.0972920478816,58.73781683414154,62.5031457120317,60.2385637689689,56.59766114667664,69.56602980057043,63.56732137963794,72.77466813709356,60.074547721985155,57.6545989222276,57.8558785434673,65.32875536722379,61.18625358866913,70.62597924640087,65.51067741550764,71.27670619480185,68.95329265392445,68.46474702717607,63.777812503114944,53.81385567027659,70.69044475714463,70.55248141451932,66.13560554811461,64.1575477966532,55.47210008881797,67.61778274340756,60.159753273756614,78.33497653892691,66.83781281741317,67.89174225023493,66.4533678019042,61.29038483693396,61.34325446654478,64.74989330053783,59.57844327347897,58.6080386693197,67.23043489333635,58.805873510809356,73.2124999310861,66.61435014434309,66.80389242337903,62.42132909426325,67.38388193864739,62.27888205617751,61.91261929807497,59.56569401219667,62.869204148292646,59.71093616347909,66.266613965867,70.0764784751091,57.61244311977055,58.08944765151159,62.37070286387767,62.94516075221258,73.28315537883482,63.33148637539964,65.2676024255658,65.13359104042421,66.73355347847424,73.52554090361694,58.658828925846834,66.962265253634,62.765989038546024,68.14204393653843,62.006514992894324,62.0323657506182,61.00778754473547,69.98929728274352,67.53332256468764,65.80178507682888,65.65164977906157,64.70091378415577,69.02513398926945,72.5366592216226,67.20663165462071,63.92072054259518,76.739035726189,64.18903327621122,59.108609547832586,60.35353423598615,54.805338140206985,57.47576667345612,66.61320894071875,62.690546654069394,66.39085192167681,69.58662353996421,56.526163717145494,72.45149758290661,69.86002439590536,70.41464354470531,52.59867662898484,64.69179877273102,66.19673189380427,58.32925969276331,61.7405941079626,63.04282353510612,67.96348237000566,74.43069289716351,62.94022527016279,69.65980021284369,62.953874247329615,69.01524648341329,55.408181359582144,56.45703208029566,62.674615614019075,51.94424843252136,68.98140038920204,64.35943612709401,54.82378330738977,62.341999319657965,70.83754411707807,62.00787744594612,67.1878084014084,66.87663683192827,60.24385609575533,72.42681910923693,68.87932347215335,63.6096429287673,57.551055045197515,66.48318280080206,70.1019734331928,68.87198730858245,67.51988678459126,66.37589784597745,75.94877494925669,64.97321698218452,61.44287312312978,60.59608203996943,53.405391459292176,61.89622533059381,65.49071981367715,62.617378453289774,67.83831719427569,73.9446023582732,63.144494002756645,66.20868962242345,62.44569692541915,72.37776716897189,61.11347425300281,64.2617982936205,68.55038239668075,60.459406126651025,65.01060720900477,68.76669577715897,69.5662446822386,70.61390814412788,71.55458706764018,76.3881709624599,65.95494716198857,62.568937231910446,62.75945583416027,64.9536877252979,65.26106017864657,73.86805227373846,67.0944996257855,56.843318503523065,63.83603574891004,66.71535196024786,58.94347500019632,75.39442671994736,59.046522246636776,65.8877994717375,66.05826492380798,67.279836051802,58.17558533667445,72.5746183765932,62.6829917617349,59.25078033707639,66.94179093079677,70.67076304868397,60.44176850309331,76.28160181898028,62.114656043931404,73.85876334467825,66.49223897731802,71.76354860232074,71.76950550895634,65.02206013816082,69.588188486356,56.35558680565745,64.6232199376353,56.97782219470936,73.87121807431693,65.23245901715839,56.358573146945346,57.07328031924483,68.52099323697836,67.33265215817386,64.80581255403719,59.31326758828327,62.08542014649424,71.62617671293208,71.82163536745553,59.368209574491075,60.539140405233375,63.11042909813116,71.60448925709399,68.44284913964094,63.28639161414696,70.38592040507046,62.25606879818549,73.11128786576172,66.93615712508183,65.71268840881191,61.86810188841087,70.43710801552012,62.319730913849405,67.10841654256335,59.137549803272094,63.2138190955161,66.55236049284244,72.3717632801939,63.37455897972577,66.57066006123429,68.28401192288408,67.20661586062687,72.93503439171477,67.20051095602246,66.23282394957167,62.64535797122563,62.288466424722124,65.34364591398632,61.94804182339327,56.846222847013436,59.72907541553458,60.840904003167786,76.20042402076483,63.689807087882926,64.89089483822691,66.37238370219055,59.85044082729618,61.48310068696348,64.28834808329387,65.45025057908784,74.97982307951679,63.16668379446377,61.75659086661218,67.40911162272798,73.25496826980313,54.34043613629748,66.80889722896059,59.663965881504986,68.45808632320431,60.96044947460056,69.32158713803311,57.709256591332,68.60983569797408,71.44939054125125,63.963980542508715,60.480472517822825,75.02821458825153,65.68090365611113,61.24554184277251,69.53753276137715,66.18366872766994,63.110598162094284,67.51976580286559,61.776395954381854,65.35150032296237,65.93372677210682,70.75203268682799,60.800910599815545,71.35018133577726,67.72175611740718,71.61561129065603,63.82433961907862,59.67571666263399,62.33487964234122,69.16775661760488,68.81302885465885,64.22350365437406,57.08217176349583,68.3809180765791,65.06334905342594,64.61661206140244,62.1717210781739,73.44274224115627,58.377553905676166,59.92265872248362,57.38403381643697,61.159534831548655,69.0826700966238,69.50133859367496,63.3115896572208,70.69019986944971,63.74752647332948,68.84329566428062,54.62322812266585,68.4083692556432,65.33529162316373,59.39017944721152,68.66665331901271,56.510393607468075,69.93307480595617,58.985420034661374,62.65672862790388,64.65308782356297,59.87595755800782,64.08650684078378,61.68021527584111,60.51202071774734,61.57484825077307,60.96869390930569,65.70309829229323,71.33496086557118,74.91583057490482,66.79662712968107,69.8789335527139,78.78698702632784,62.123474618811976,63.800463105224374,62.63059344323923,68.80119587724673,70.02569457216853,64.24391682160302,62.76375541092986,66.56065131791685,61.44154293207107,65.54396656724302,62.916482480725634,70.10471547686356,61.84257993445148,62.825118682111984,69.69874274507123,60.73553771249526,65.07031354464162,63.36604959519819,62.04306029339524,68.56563498207117,69.73465896233346,73.96746336091363,61.09495769271637,69.04239535973879,68.1668810150066,65.94052135024593,59.99161619088,64.64205560907243,71.28692392048474,61.32579923314345,63.433811105887514,64.34984031983365,66.19336026900932,66.99677237645452,57.386490236901075,56.61427823337068,67.29037790503797,65.85600081174765,72.91392762211346,68.59543544544994,68.82311729945398,57.63124201027424,53.37181631998852,66.6330904794491,57.49009869547269,63.58468774451268,64.87551818317927,61.25294566294032,72.83834967289518,62.81001197460106,64.4478520736554,67.14184240339833,68.2606758858751,63.649018493120366,64.24950622209397,72.7371054630649],\"y\":[0,1,0,0,0,1,0,1,1,1,0,1,1,0,0,1,0,1,1,0,1,1,0,1,1,1,1,1,0,0,0,1,1,1,1,1,1,0,1,0,0,1,0,1,0,1,0,1,0,1,1,1,1,0,1,0,0,1,1,1,0,1,1,1,1,1,1,1,0,0,1,1,1,0,1,1,1,1,1,0,1,1,0,0,1,0,1,0,1,1,0,0,1,1,1,1,0,0,0,1,0,1,1,0,0,1,1,0,1,0,1,0,1,0,1,1,1,1,1,1,1,1,0,1,1,1,1,1,1,0,1,1,0,0,0,1,1,0,1,1,1,1,0,0,0,0,0,0,1,1,0,0,1,1,0,1,0,1,1,1,1,0,0,1,0,1,1,0,1,1,1,0,1,0,1,0,0,1,0,1,0,1,1,1,0,1,0,0,1,1,1,0,1,1,1,0,0,1,1,1,1,1,1,0,1,1,0,1,0,0,1,1,1,1,1,0,0,1,1,0,1,1,1,1,1,0,1,0,1,1,0,1,1,0,0,1,1,1,1,1,1,0,1,1,1,1,1,1,0,1,1,1,1,1,1,0,1,0,0,1,0,0,1,1,1,1,1,1,0,1,0,0,1,0,0,1,1,0,1,1,0,0,0,0,1,0,1,1,1,1,0,1,1,1,1,1,1,0,0,1,1,0,1,0,1,1,0,1,1,0,0,1,0,0,1,0,1,1,1,1,0,0,1,0,0,1,1,1,0,1,0,0,1,1,0,0,1,0,0,1,1,1,0,0,0,0,1,0,0,0,0,1,0,1,1,1,1,0,0,0,0,0,1,1,0,0,1,1,0,0,1,1,0,0,1,1,1,0,0,1,1,0,1,1,0,0,0,1,1,1,1,0,0,1,0,1,1,0,0,0,1,1,1,1,1,1,1,1,1,0,1,1,1,0,0,1,1,0,1,1,1,1,1,1,0,0,1,1,0,1,0,1,0,0,0,1,0,0,0,0,0,0,0,1,1,1,0,1,0,0,1,0,1,1,1,1,0,1,1,0,1,0,1,0,1,0,0,0,1,1,0,0,1,1,1,1,1,1,1,0,0,1,1,0,1,0,0,0,1,0,0,0,0,1,0,0,0,1,0,1,1,1,0,1,1,0,1,0,1,1,0,0,1,0,0,0,1,1,1,1,0,1,0,1,0,0,1,0,0,1,0,1,0,1,0,0,1,1,0,1,1,1,1,1,0,1,0,0,0,1,1,0,0,0,1,1,0,1,1,1,0,1,0,1,1,0,1,1,1,1,1,1,0,0,1,1,0,1,0,1,1,0,1,1,1,1,0,1,1,0,0,1,1,1,1,1,1,1,0,1,0,1,1,0,1,0,0,1,0,1,1,1,1,1,1,0,1,0,1,0,1,0,1,0,0,0,1,0,1,1,1,0,0,1,0,1,0,1,0,0,1,0,0,0,1,1,1,1,1,0,1,0,1,0,0,1,1,1,1,1,0,0,1,0,1,0,1,0,1,0,0,0,0,1,0,1,1,1,1,0,0,0,0,0,1,0,1,1,1,1,1,0,0,1,0,0,1,0,0,0,1,0,0,1,1,0,1,1,0,1,0,1,0,0,0,0,1,0,1,1,1,0,1,1,1,0,0,1,1,1,0,0,1,1,0,1,1,0,1,1,1,1,1,1,0,1,1,1,1,1,1,1,1,0,0,1,1,0,0,1,1,1,1,1,1,1,0,1,1,1,1,0,0,0,0,0,0,1,1,0,1,0,1,1,0,1,0,1,1,0,1,1,1,0,1,0,1,1,1,1,1,1,0,1,1,0,1,1,1,0,1,1,0,0,0,1,1,0,0,0,1,0,0,0,0,0,0,0,0,0,1,1,0,0,1,0,1,0,1,0,1,0,1,0,1,0,1,0,1,1,0,1,1,0,0,1,0,0,1,0,0,1,0,1,0,0,1,1,1,1,1,1,1,1,1,0,0,0,0,1,1,1,1,1,0,1,0,1,1,1,0,0,1,0,1,1,1,0,1,1,1,0,0,1,0,1,0,1,1,1,0,1,0,1,0,1,1,1,1,1,0,0,0,1,1,0,0,0,0,1,0,1,0,0,0,0,0,0,1,1,1,1,1,1,0,1,1,0,1,0,0,1,0,1,0,1,0,0,0,0,0,0,0,0,1,1,1,1,1,1,1,0,1,1,0,1,1,0,1,0,1,1,1,0,0,1,0,1,1,0,1,0,1,1,1,1,0,1,1,1],\"z\":[125.14086146035456,128.7712348190305,131.12328861496854,121.0595033829595,127.35975923099309,124.44362185842284,123.95016758143254,150.46437750089757,123.08070680789845,130.1418329018733,133.46015433854393,129.88503614658256,120.24785895917944,120.44228050717183,143.40376131706705,126.62975442150966,112.40054702005752,132.33636468506816,122.33577341575919,121.93501037092894,121.18659675655499,147.17590301663674,146.42636291708214,127.71464062898453,130.08492741642016,129.7455930498631,123.3614552767416,131.6068022446226,136.7216103000902,128.56183743857036,134.8499318616873,136.49921310418614,143.9837991883364,129.60032654737753,127.34941628000715,128.74183916911235,132.06784617947798,120.48202482300377,120.53130226706216,120.95648621469076,129.6136992874274,129.5714440774304,124.24415551572932,147.0031425365657,123.35382066233961,125.63428155228462,123.29056256441109,144.06383275490035,145.77748391839674,123.47503270302239,134.67929547143584,138.28677602506409,116.2867539692112,111.02142458933352,114.29926079420315,153.68214501638624,130.88597642895445,133.53059354137736,126.89158632473678,126.51218354295918,147.62107701502777,122.49606158198094,135.163672692012,154.44318814303654,128.74542482058732,128.1358296779956,126.30798807307262,117.7413088643908,127.62788674323582,141.63591481215528,127.6391001854529,130.59436520605502,118.04536402718098,104.73506678711168,141.3885517533235,115.67506437487506,123.87848768028913,127.88541561153806,143.70681758597684,116.02185643264812,139.07290848780048,112.16068785283404,138.37966464489364,139.06677277274872,132.88404111255903,133.92166071311846,133.23472807736806,138.81057502866975,124.02826562792119,158.7987942406141,122.70110655290058,126.55651221921802,128.8632084572868,129.63299568778427,121.50142588577913,126.00456428643017,111.33329325481917,106.54180379655324,112.82715403084076,132.8328273902328,143.11870198188672,112.23471492279901,126.57582681122503,112.85857182279393,135.07289201945167,124.32021457282951,159.58949729117268,119.62776761500702,142.66737739608627,125.43490837631826,129.44114179645987,136.2265367499551,118.37790004136029,139.5730418785784,125.29714364773288,135.55453226607864,136.67211118224267,108.74119363858877,124.6335099451175,129.44299808184985,124.11427989006783,135.70096826232057,132.65692831091454,129.4282861544047,138.10814744133052,129.26131110481606,125.58631108536149,138.6164746629151,128.51559452982033,137.67049395748114,122.12317030169056,124.13814688646939,125.1774130341718,128.95354221943745,109.23692699702373,131.76800785298298,130.23278249642902,125.09401971159312,114.67079061474777,130.39588735486643,131.81338180693282,138.18941034819812,128.68287715510854,133.0943655781211,135.2064198993148,125.6381220064635,128.5829440508786,110.90115063013825,116.44080250701869,134.21343341135136,132.73329557096957,127.16960257547021,130.29779178725235,142.71793330684835,118.34367683716373,133.57464608990628,109.82195533195387,121.9742293166628,135.12109733054632,130.30630650560485,121.31459502169578,144.7889713753815,117.3417664767009,114.04034864902087,129.56819938031933,120.69354512560649,138.40096792610703,126.92558396359941,132.66354769616436,136.05495349136552,139.8115456276187,131.35105737142493,126.03368287141528,122.93793998759948,128.6109483863421,136.18070292358288,133.95775158321734,120.44608137891831,131.16357014442636,121.86720872741412,125.69788620079942,154.0491055563158,125.28872703037143,143.40931244795675,121.05826097227244,141.12194513282898,127.76088800304319,130.70685030884866,148.58783636148675,135.05173032012937,127.11343098480812,123.60825255493906,122.51759111420994,147.43992020496216,139.17917490523536,124.24629854966432,130.81259544154685,148.55205109102943,132.4393326142245,128.07902603863712,151.43916096734674,133.37668807101178,132.90335878297816,144.81700387551058,146.97809108954047,141.379094208277,122.75686408991662,123.72451541882745,125.84010362093079,133.47120178096375,121.3578435276304,138.01922665081602,120.24071890772282,130.6126821587345,129.58908407116058,137.17862594095456,119.80394336296115,131.48102540425913,145.3473961041431,137.8017841840219,114.86394490321696,138.44494610814925,144.45673392198125,122.76155456614259,114.32395861460917,124.73423822850089,135.74758449416396,109.1078390920004,129.10013858582172,148.04521155336553,126.44100930602326,137.366365472115,136.65538883503285,127.62434390476103,108.32262095117042,135.96518567840184,130.14035744125542,141.1142995850349,120.04536654346037,141.169213357602,136.72790452283672,128.07729396121542,137.62372866733375,123.95217276399042,141.65948785569742,138.5259373972717,139.25464910628892,132.3623904647187,126.7335679987476,118.34550195764784,136.02986179888933,137.5155443901611,134.49978404592693,128.32313242777994,146.39800812457804,118.34183239766979,138.48477727506616,130.53283026963575,124.49740676497734,112.5768961474572,119.3257803301592,125.34168075453675,128.33824165932614,143.14347748302697,152.6981436615061,127.0883500658633,144.95580870165662,120.52022632559003,127.80241960105646,138.67297753345292,140.53578577952544,123.98896190263397,116.39814950720123,111.03495583472387,113.7008265869507,125.75446269365098,138.18385945207714,142.51252292306293,132.9878766040957,150.33752560375652,119.07713076110448,123.13620278184673,138.31962628571702,130.03888598371898,119.24227828033028,105.26978526233857,133.16543708127605,127.49565822801043,131.7272416283053,115.56810327321261,141.18776117336685,136.74772684555901,129.51192057999404,112.5166125314792,129.34010226085445,145.47018952244582,138.8703034804459,119.02844833685783,134.98187741401983,144.97894327351472,138.38000763285578,125.68352774809978,119.3208715915844,132.83416166706414,128.5038984803863,144.23873968327229,110.6928431276404,114.29619637188034,161.04409363317507,138.59352126553182,143.18298109423128,144.84068408758375,117.64558453245526,116.5308288307976,146.3129354742862,116.52575999410072,139.94253379540774,128.61102414778045,122.55681365329315,110.70708902406865,135.07143572716518,135.64538186032385,132.11795887877992,124.27287067117531,113.67179176097154,140.05354923802864,117.57723889443743,141.39068710781908,117.51001136761252,130.32475905420958,129.45107957658027,141.6108867683755,142.43841350082496,134.70715645022878,123.48170231281784,135.80052685715236,119.0205492193639,139.5367810960007,142.02913480214724,120.36933716260319,142.48263416298838,124.89206045870743,116.17310373209364,136.65773514407732,140.21145949155198,123.22747431861761,112.64202474947581,106.32517483928099,150.27926395833563,126.95408224824251,136.289408874598,147.49860067516582,121.34991784623065,114.1757252217327,130.23957198680247,130.76948989823137,131.64635588481903,124.725483416901,130.2309966717457,105.87797739367389,125.62480438854652,123.89842215056106,123.58888154741294,132.50112255113186,121.17523573251037,114.04482742514442,118.54362209358759,131.3543882346142,127.82983922826642,126.60551129774953,123.11609864998924,139.64394421921003,145.90747123064693,109.1215837969927,126.16029345249076,130.24134909515155,124.15135320487823,114.50721777999395,126.34196989084269,121.7190517359641,120.0869985255189,134.39228098395694,143.1975365018505,135.24388674585148,141.81549196467225,120.28175381803545,135.886843989817,132.36582612227463,131.20174008013117,130.88171433007332,142.9545353084205,117.84826114753349,127.36438802844808,150.92638416558498,128.42259826838807,126.40537822041921,146.9602399076918,117.4234760048373,118.00622419410206,148.20619027435166,133.32523781376057,136.47320427907056,146.71100012227177,137.9877167550805,129.80891386779058,131.9833725472764,141.17803183914432,114.27522800660873,133.378595434535,116.40958579506562,127.74743930385566,118.27461020105561,149.79046578796346,125.40816747865392,142.53273264037406,131.5796756836835,131.65098010092825,128.20058740530808,112.78395861161462,143.60159944046222,146.10071944370014,135.4069490189333,136.8380148070252,133.60296899150782,137.41798818451983,132.03798085563096,136.11814218684611,120.06423665050238,130.50681758846125,124.13365566843395,134.30152307739488,135.7905623535564,126.11366324417382,148.75506765256182,128.8736337110037,126.00820941282272,127.56170258821336,140.81031748435856,131.1701399282384,134.31570399718902,141.72236294734887,118.42985368437796,106.85723382304462,124.20828970675481,127.94659106136774,141.3689272349768,137.52569196610108,125.26386880008387,123.8465581703398,133.44977774931814,111.12479701012879,144.42396870882112,122.18071761678053,129.84096262708667,120.22367630568102,125.51101676449233,130.01298211842442,132.0376489715247,146.3625596613109,142.8256066094406,144.4808375208086,129.56017530921295,135.44151690586568,123.9867026083544,131.4193278442896,113.68679186536613,152.95471829961235,124.49661706202319,131.1472386223342,132.42607392508654,132.0387289390779,115.13327308472202,134.97102477614902,132.1569367769162,146.61461919913643,119.29929707859586,133.32240172447266,136.85979088522677,134.2696772322699,138.70316840594649,119.66559972071693,147.86977054431358,136.09047799581765,123.1763607588565,132.02262044077688,139.24498250157487,120.25251307165118,142.5204584657265,153.96295543157802,135.52833800113015,118.30067204388354,112.46743382483884,140.8768707074814,142.6704396149345,119.35911478492834,131.3605838207497,134.87121685746783,134.72329372791103,121.51261299694517,129.13118508584074,127.47701179845457,136.06293406728744,146.64932048015822,126.47469028620526,141.40315199812238,131.12272322838726,136.06874258138362,119.96488807267345,135.31323600779558,139.75215550458026,121.14432529258268,146.8119766438533,124.315947016951,147.7797884579282,113.94801407988147,138.64529755124815,146.20289986834874,134.86022679109257,142.66883302137015,134.51602544801594,114.69671188861841,141.27455002820784,132.32575241485512,143.03626949791195,119.75366754001934,114.04442047386958,134.1536509766925,119.27765612888282,140.9248650346681,132.88521690519343,141.92110481994402,124.06425461086594,120.61252267694657,145.63123629534653,108.68984350589142,128.79452313261945,136.68707810860244,130.3182849251833,117.24999566035815,146.2150255495849,134.28241355261932,135.7051251198001,129.53967181799018,138.87373231228955,109.99100870444852,118.67505845377968,143.09232356147876,122.42857314153486,142.0446254961778,126.61470719113751,115.78303339732966,125.26984921326881,125.87709725536578,133.47924062475556,132.00191743451293,129.1171013145929,133.04784245836862,143.80986573533815,123.18380461030004,119.14950659254386,139.72811568625497,132.42857607129022,132.10060790783837,122.25142096531178,120.23630949998655,131.24229127144977,161.2732787503159,143.83593325848113,133.571078874636,136.57307441942717,130.71764056065263,127.76245120816161,115.63159042404841,129.280870201005,131.67422136257161,133.08316678412857,132.67263880929588,133.85013389904543,123.39099708931171,139.7844641173046,146.781209485184,132.7128480593578,120.26913008131369,125.40259961530865,138.4127623866657,126.37692414082159,115.50073130359857,147.30194785141927,138.4462049089707,136.0967706694919,120.03711729707159,134.29450744374796,133.0212638576139,138.84612087209592,127.92499458081298,128.6718064086303,146.50348807958434,152.87849874432513,131.0012048338138,146.79776329059356,125.10700474234378,131.15102876214655,136.79525032850805,137.00313931708132,117.1004263575791,132.26562746189822,133.19242877628824,146.224295515456,119.37102024646074,122.74783703251457,141.55577382309806,138.48548922750393,129.12977824447822,124.60743834089318,133.1398220903316,129.38758114412423,130.8364185061649,122.11126950971708,120.78428896092758,122.8556532513395,132.97581930757624,114.59866465549388,129.33278787311343,116.432303889938,120.71954529298642,140.26012812822353,114.2851227846992,140.42728459629166,136.6273706913604,136.18519694887948,141.85062948055267,139.74620331332227,120.6823944197613,131.76920418390762,130.30588954702978,121.52432619758864,117.2067314037408,126.89641219748297,121.62068955805692,113.0492189639114,141.59589864309996,125.39913236537127,144.66237688717897,120.0713655711955,117.67428108426347,115.08271511936051,132.6641836121628,122.0813738747277,142.1582919373433,131.88994249543066,144.51417624810594,139.66362877665173,138.17228320638876,127.85876064770302,108.21031255172984,140.55956987208899,140.8149052235771,132.97726913153792,129.40366078919018,112.45299518047878,136.00272981074082,118.1092493889549,158.59108137093457,132.88569298702203,138.48870826905133,133.5459015970706,123.64523898157573,123.67223132682844,130.32199288837717,118.54002044090316,115.78518449356999,134.0499791537365,118.87998825410571,145.93887902163095,134.38691402465594,135.70507466426295,126.56863513505978,135.37833043708096,124.37665098055902,122.92137016874602,118.74600852934094,125.42897947218387,119.1122488855608,130.84166172422997,141.16148945451437,114.7639969919415,118.7883256666565,126.99621583820593,127.0644718557519,146.93898001581917,126.33248778085675,130.2862393813704,130.36790679022337,134.64367573721594,148.86441871080166,116.06895252054306,133.06688948104429,125.31719399623604,137.80567717943663,123.73997258720946,125.9374689386736,122.68483411962653,141.423256707231,135.7334954235796,132.60331688433405,132.09387048226517,131.85587550594272,140.17255117177675,145.22188009241898,134.7647302313444,126.17619369021496,153.89928569430805,129.17594879634,117.3156837563942,119.47796670357341,111.4871224933825,116.80339845048383,131.7442855497058,126.1543611766589,133.60290120389155,141.31964649191536,112.9933264653326,147.82372001602857,142.93527865299373,140.52653232027944,105.40966269606162,130.05743115437855,133.6114865021284,116.57300640400645,121.40265775530126,123.06623964255144,136.97215629267833,150.44526436117923,126.33141912809012,139.3090438420281,125.82250255257384,138.89235886036516,110.63900495055887,114.13363519717515,128.11782912001556,105.64878067475134,138.27997751290243,127.08177484059576,109.52848158523857,124.14056710001978,140.33832478705787,125.61336932751264,136.64456467393035,135.56697973590855,121.87958294418976,146.7623672399823,139.8434154761559,128.0221564463872,115.01182216416659,132.4481890365833,140.321016946867,140.7085116257085,136.1257341976274,133.49307169025377,153.04007780085277,129.95214480242947,123.42843401735679,120.94082952070204,108.68815314876169,124.9243633906938,129.3585594025161,125.0551854672269,136.11493123820162,149.9486451425836,129.5745024907406,133.47232410064143,125.47278787686996,144.61635043521957,120.99808402060864,127.60440657405238,139.6516142146411,120.4901021526996,130.83763285266,138.80061025717998,140.35730757231613,142.93789430863103,141.63960356872244,155.0394250405636,132.3029090654447,125.38099572063427,128.32946534544215,132.40767989995697,132.0426036013824,148.34597835968358,134.1603292240282,115.06377580232507,128.24286929691456,134.76941555228996,117.37485665149045,152.2740184998646,118.2289045123749,133.5085360837724,132.7110691950858,134.04144747817608,117.88461066093149,146.99375850841355,126.93251853535163,116.89629498364936,133.87908251832908,142.48186660926567,121.219020428149,154.8512983054669,123.14413622883745,146.4575221314843,132.0249214017466,144.7652265688927,145.70035847338391,128.76324039889352,136.78592729789824,113.10126599039127,130.64110847904558,115.85692436999156,148.77058261410312,130.11716553928713,112.86378718224925,115.22399783990258,137.86940608249895,134.8961614278363,128.95088159808003,119.8570475419005,123.89015746743164,144.58651952517278,142.89239156625607,118.4785172490499,123.16852346030426,128.32882888479713,144.68283896263088,137.1037366011226,125.72742508107733,142.3839245114558,124.39992378475897,146.8250861426744,133.66314650756917,130.80029835697525,122.89116492851758,142.93941273369404,123.73413945410793,136.07985151342174,118.32073277156812,129.08067396818103,131.10503820727675,145.92835828388465,127.86532349993666,133.51200602159707,137.37826311795428,133.95175488842494,146.6035330840665,137.9976668260232,131.86445832511666,123.99403458583399,126.90971238311182,132.17160134556843,123.64176311158843,114.68443574969164,118.64457402251934,121.31634546405392,152.1746873705265,126.39255807219416,129.4458172823966,133.44791914001001,119.64496120940558,124.13284438065735,128.4202623784378,130.46066901354635,152.06820811400954,128.15966337997327,124.34956011834251,135.3695074512785,147.08621078414347,110.55712000627896,133.08401456233958,119.39965665602247,137.11838944425006,121.3196210894942,139.66651724697982,117.02646632667818,137.21180386269413,145.1685884067104,129.99229422208325,121.48645769702189,152.40304560437244,132.15129051345687,124.41827602461889,139.79045935572037,133.28414737571853,125.19156555080052,135.91919625317362,126.60858145852919,130.8668367847383,132.83301548465292,142.13372625700205,122.5531214933348,144.71126010345967,136.4458942482046,143.70915430473264,127.26565119712548,120.26108974514048,124.76184235019346,139.01366789062345,137.55630325113788,129.96885250632158,113.17342900269604,139.8027188773085,132.025902363123,129.03668997009962,123.3595676119286,147.09794075655324,114.6535566852374,123.15081634758177,114.53989130489292,124.31235340050013,140.86156706387837,139.92001364732644,127.86953604448028,142.88747693187238,126.34388475321086,135.58810029909563,109.68785920348499,137.2035488085977,131.49751124000096,118.49773771766822,136.37696574667493,114.8151621130368,140.78353126332004,119.70060459023998,123.55157814954902,130.21654831013868,119.64513513641384,128.87706927120837,122.94801070557796,122.30346776960342,124.63824313399935,119.69315618184031,134.44825826354997,142.97948955632307,152.2709094606493,134.7066992029351,139.94873685735897,158.76632612974402,124.6836756045648,127.64166790724919,125.78136877451415,137.99455506629184,142.17426635374784,129.49216389380547,126.09147811005157,135.011194360422,121.67397914971966,131.40244195011812,124.6099662097746,140.1031971230167,125.36096005663131,124.81303706078103,138.33946204290106,121.45797583837631,128.9709579910044,127.59256408943146,123.23051936620128,135.49791186801204,142.23884507331854,150.0551207185639,122.1400822482537,139.01607687755515,136.84291365647314,132.7926158213692,121.17062605742849,128.81494271267417,144.77844980369107,121.70283121428383,126.8669346407061,128.94312482531265,133.4629329232562,134.24548161454607,116.92796683369583,113.18555395236858,136.46739999972573,131.5767282702705,146.95080184935347,134.45475103027078,137.34983633895632,115.71315072931118,106.64928521184312,132.25210738046448,115.04854802774075,126.23301323726062,131.52110373803296,122.37435426964744,146.39748027507935,126.34699559111625,129.25129747998227,136.07879427624025,138.29334980112426,128.71065872851295,130.1065037355271,146.33946412706837],\"type\":\"scatter3d\"},{\"colorscale\":[[0.0,\"#440154\"],[0.1111111111111111,\"#482878\"],[0.2222222222222222,\"#3e4989\"],[0.3333333333333333,\"#31688e\"],[0.4444444444444444,\"#26828e\"],[0.5555555555555556,\"#1f9e89\"],[0.6666666666666666,\"#35b779\"],[0.7777777777777778,\"#6ece58\"],[0.8888888888888888,\"#b5de2b\"],[1.0,\"#fde725\"]],\"opacity\":0.5,\"showscale\":false,\"x\":[[51.94424843252136,59.056695789581596,66.16914314664183,73.28159050370205,80.39403786076228],[51.94424843252136,59.056695789581596,66.16914314664183,73.28159050370205,80.39403786076228]],\"y\":[[0.0,0.0,0.0,0.0,0.0],[1.0,1.0,1.0,1.0,1.0]],\"z\":[[103.68403462215821,117.98769487568818,132.29135512921815,146.59501538274807,160.89867563627806],[104.75985517870168,119.06351543223165,133.36717568576162,147.67083593929155,161.97449619282153]],\"type\":\"surface\"}],                        {\"scene\":{\"xaxis\":{\"title\":{\"text\":\"AGE\"}},\"yaxis\":{\"title\":{\"text\":\"SOD\"}},\"zaxis\":{\"title\":{\"text\":\"SBP\"}}},\"template\":{\"data\":{\"histogram2dcontour\":[{\"type\":\"histogram2dcontour\",\"colorbar\":{\"outlinewidth\":0,\"ticks\":\"\"},\"colorscale\":[[0.0,\"#0d0887\"],[0.1111111111111111,\"#46039f\"],[0.2222222222222222,\"#7201a8\"],[0.3333333333333333,\"#9c179e\"],[0.4444444444444444,\"#bd3786\"],[0.5555555555555556,\"#d8576b\"],[0.6666666666666666,\"#ed7953\"],[0.7777777777777778,\"#fb9f3a\"],[0.8888888888888888,\"#fdca26\"],[1.0,\"#f0f921\"]]}],\"choropleth\":[{\"type\":\"choropleth\",\"colorbar\":{\"outlinewidth\":0,\"ticks\":\"\"}}],\"histogram2d\":[{\"type\":\"histogram2d\",\"colorbar\":{\"outlinewidth\":0,\"ticks\":\"\"},\"colorscale\":[[0.0,\"#0d0887\"],[0.1111111111111111,\"#46039f\"],[0.2222222222222222,\"#7201a8\"],[0.3333333333333333,\"#9c179e\"],[0.4444444444444444,\"#bd3786\"],[0.5555555555555556,\"#d8576b\"],[0.6666666666666666,\"#ed7953\"],[0.7777777777777778,\"#fb9f3a\"],[0.8888888888888888,\"#fdca26\"],[1.0,\"#f0f921\"]]}],\"heatmap\":[{\"type\":\"heatmap\",\"colorbar\":{\"outlinewidth\":0,\"ticks\":\"\"},\"colorscale\":[[0.0,\"#0d0887\"],[0.1111111111111111,\"#46039f\"],[0.2222222222222222,\"#7201a8\"],[0.3333333333333333,\"#9c179e\"],[0.4444444444444444,\"#bd3786\"],[0.5555555555555556,\"#d8576b\"],[0.6666666666666666,\"#ed7953\"],[0.7777777777777778,\"#fb9f3a\"],[0.8888888888888888,\"#fdca26\"],[1.0,\"#f0f921\"]]}],\"heatmapgl\":[{\"type\":\"heatmapgl\",\"colorbar\":{\"outlinewidth\":0,\"ticks\":\"\"},\"colorscale\":[[0.0,\"#0d0887\"],[0.1111111111111111,\"#46039f\"],[0.2222222222222222,\"#7201a8\"],[0.3333333333333333,\"#9c179e\"],[0.4444444444444444,\"#bd3786\"],[0.5555555555555556,\"#d8576b\"],[0.6666666666666666,\"#ed7953\"],[0.7777777777777778,\"#fb9f3a\"],[0.8888888888888888,\"#fdca26\"],[1.0,\"#f0f921\"]]}],\"contourcarpet\":[{\"type\":\"contourcarpet\",\"colorbar\":{\"outlinewidth\":0,\"ticks\":\"\"}}],\"contour\":[{\"type\":\"contour\",\"colorbar\":{\"outlinewidth\":0,\"ticks\":\"\"},\"colorscale\":[[0.0,\"#0d0887\"],[0.1111111111111111,\"#46039f\"],[0.2222222222222222,\"#7201a8\"],[0.3333333333333333,\"#9c179e\"],[0.4444444444444444,\"#bd3786\"],[0.5555555555555556,\"#d8576b\"],[0.6666666666666666,\"#ed7953\"],[0.7777777777777778,\"#fb9f3a\"],[0.8888888888888888,\"#fdca26\"],[1.0,\"#f0f921\"]]}],\"surface\":[{\"type\":\"surface\",\"colorbar\":{\"outlinewidth\":0,\"ticks\":\"\"},\"colorscale\":[[0.0,\"#0d0887\"],[0.1111111111111111,\"#46039f\"],[0.2222222222222222,\"#7201a8\"],[0.3333333333333333,\"#9c179e\"],[0.4444444444444444,\"#bd3786\"],[0.5555555555555556,\"#d8576b\"],[0.6666666666666666,\"#ed7953\"],[0.7777777777777778,\"#fb9f3a\"],[0.8888888888888888,\"#fdca26\"],[1.0,\"#f0f921\"]]}],\"mesh3d\":[{\"type\":\"mesh3d\",\"colorbar\":{\"outlinewidth\":0,\"ticks\":\"\"}}],\"scatter\":[{\"fillpattern\":{\"fillmode\":\"overlay\",\"size\":10,\"solidity\":0.2},\"type\":\"scatter\"}],\"parcoords\":[{\"type\":\"parcoords\",\"line\":{\"colorbar\":{\"outlinewidth\":0,\"ticks\":\"\"}}}],\"scatterpolargl\":[{\"type\":\"scatterpolargl\",\"marker\":{\"colorbar\":{\"outlinewidth\":0,\"ticks\":\"\"}}}],\"bar\":[{\"error_x\":{\"color\":\"#2a3f5f\"},\"error_y\":{\"color\":\"#2a3f5f\"},\"marker\":{\"line\":{\"color\":\"#E5ECF6\",\"width\":0.5},\"pattern\":{\"fillmode\":\"overlay\",\"size\":10,\"solidity\":0.2}},\"type\":\"bar\"}],\"scattergeo\":[{\"type\":\"scattergeo\",\"marker\":{\"colorbar\":{\"outlinewidth\":0,\"ticks\":\"\"}}}],\"scatterpolar\":[{\"type\":\"scatterpolar\",\"marker\":{\"colorbar\":{\"outlinewidth\":0,\"ticks\":\"\"}}}],\"histogram\":[{\"marker\":{\"pattern\":{\"fillmode\":\"overlay\",\"size\":10,\"solidity\":0.2}},\"type\":\"histogram\"}],\"scattergl\":[{\"type\":\"scattergl\",\"marker\":{\"colorbar\":{\"outlinewidth\":0,\"ticks\":\"\"}}}],\"scatter3d\":[{\"type\":\"scatter3d\",\"line\":{\"colorbar\":{\"outlinewidth\":0,\"ticks\":\"\"}},\"marker\":{\"colorbar\":{\"outlinewidth\":0,\"ticks\":\"\"}}}],\"scattermapbox\":[{\"type\":\"scattermapbox\",\"marker\":{\"colorbar\":{\"outlinewidth\":0,\"ticks\":\"\"}}}],\"scatterternary\":[{\"type\":\"scatterternary\",\"marker\":{\"colorbar\":{\"outlinewidth\":0,\"ticks\":\"\"}}}],\"scattercarpet\":[{\"type\":\"scattercarpet\",\"marker\":{\"colorbar\":{\"outlinewidth\":0,\"ticks\":\"\"}}}],\"carpet\":[{\"aaxis\":{\"endlinecolor\":\"#2a3f5f\",\"gridcolor\":\"white\",\"linecolor\":\"white\",\"minorgridcolor\":\"white\",\"startlinecolor\":\"#2a3f5f\"},\"baxis\":{\"endlinecolor\":\"#2a3f5f\",\"gridcolor\":\"white\",\"linecolor\":\"white\",\"minorgridcolor\":\"white\",\"startlinecolor\":\"#2a3f5f\"},\"type\":\"carpet\"}],\"table\":[{\"cells\":{\"fill\":{\"color\":\"#EBF0F8\"},\"line\":{\"color\":\"white\"}},\"header\":{\"fill\":{\"color\":\"#C8D4E3\"},\"line\":{\"color\":\"white\"}},\"type\":\"table\"}],\"barpolar\":[{\"marker\":{\"line\":{\"color\":\"#E5ECF6\",\"width\":0.5},\"pattern\":{\"fillmode\":\"overlay\",\"size\":10,\"solidity\":0.2}},\"type\":\"barpolar\"}],\"pie\":[{\"automargin\":true,\"type\":\"pie\"}]},\"layout\":{\"autotypenumbers\":\"strict\",\"colorway\":[\"#636efa\",\"#EF553B\",\"#00cc96\",\"#ab63fa\",\"#FFA15A\",\"#19d3f3\",\"#FF6692\",\"#B6E880\",\"#FF97FF\",\"#FECB52\"],\"font\":{\"color\":\"#2a3f5f\"},\"hovermode\":\"closest\",\"hoverlabel\":{\"align\":\"left\"},\"paper_bgcolor\":\"white\",\"plot_bgcolor\":\"#E5ECF6\",\"polar\":{\"bgcolor\":\"#E5ECF6\",\"angularaxis\":{\"gridcolor\":\"white\",\"linecolor\":\"white\",\"ticks\":\"\"},\"radialaxis\":{\"gridcolor\":\"white\",\"linecolor\":\"white\",\"ticks\":\"\"}},\"ternary\":{\"bgcolor\":\"#E5ECF6\",\"aaxis\":{\"gridcolor\":\"white\",\"linecolor\":\"white\",\"ticks\":\"\"},\"baxis\":{\"gridcolor\":\"white\",\"linecolor\":\"white\",\"ticks\":\"\"},\"caxis\":{\"gridcolor\":\"white\",\"linecolor\":\"white\",\"ticks\":\"\"}},\"coloraxis\":{\"colorbar\":{\"outlinewidth\":0,\"ticks\":\"\"}},\"colorscale\":{\"sequential\":[[0.0,\"#0d0887\"],[0.1111111111111111,\"#46039f\"],[0.2222222222222222,\"#7201a8\"],[0.3333333333333333,\"#9c179e\"],[0.4444444444444444,\"#bd3786\"],[0.5555555555555556,\"#d8576b\"],[0.6666666666666666,\"#ed7953\"],[0.7777777777777778,\"#fb9f3a\"],[0.8888888888888888,\"#fdca26\"],[1.0,\"#f0f921\"]],\"sequentialminus\":[[0.0,\"#0d0887\"],[0.1111111111111111,\"#46039f\"],[0.2222222222222222,\"#7201a8\"],[0.3333333333333333,\"#9c179e\"],[0.4444444444444444,\"#bd3786\"],[0.5555555555555556,\"#d8576b\"],[0.6666666666666666,\"#ed7953\"],[0.7777777777777778,\"#fb9f3a\"],[0.8888888888888888,\"#fdca26\"],[1.0,\"#f0f921\"]],\"diverging\":[[0,\"#8e0152\"],[0.1,\"#c51b7d\"],[0.2,\"#de77ae\"],[0.3,\"#f1b6da\"],[0.4,\"#fde0ef\"],[0.5,\"#f7f7f7\"],[0.6,\"#e6f5d0\"],[0.7,\"#b8e186\"],[0.8,\"#7fbc41\"],[0.9,\"#4d9221\"],[1,\"#276419\"]]},\"xaxis\":{\"gridcolor\":\"white\",\"linecolor\":\"white\",\"ticks\":\"\",\"title\":{\"standoff\":15},\"zerolinecolor\":\"white\",\"automargin\":true,\"zerolinewidth\":2},\"yaxis\":{\"gridcolor\":\"white\",\"linecolor\":\"white\",\"ticks\":\"\",\"title\":{\"standoff\":15},\"zerolinecolor\":\"white\",\"automargin\":true,\"zerolinewidth\":2},\"scene\":{\"xaxis\":{\"backgroundcolor\":\"#E5ECF6\",\"gridcolor\":\"white\",\"linecolor\":\"white\",\"showbackground\":true,\"ticks\":\"\",\"zerolinecolor\":\"white\",\"gridwidth\":2},\"yaxis\":{\"backgroundcolor\":\"#E5ECF6\",\"gridcolor\":\"white\",\"linecolor\":\"white\",\"showbackground\":true,\"ticks\":\"\",\"zerolinecolor\":\"white\",\"gridwidth\":2},\"zaxis\":{\"backgroundcolor\":\"#E5ECF6\",\"gridcolor\":\"white\",\"linecolor\":\"white\",\"showbackground\":true,\"ticks\":\"\",\"zerolinecolor\":\"white\",\"gridwidth\":2}},\"shapedefaults\":{\"line\":{\"color\":\"#2a3f5f\"}},\"annotationdefaults\":{\"arrowcolor\":\"#2a3f5f\",\"arrowhead\":0,\"arrowwidth\":1},\"geo\":{\"bgcolor\":\"white\",\"landcolor\":\"#E5ECF6\",\"subunitcolor\":\"white\",\"showland\":true,\"showlakes\":true,\"lakecolor\":\"white\"},\"title\":{\"x\":0.05},\"mapbox\":{\"style\":\"light\"}}},\"width\":700.0},                        {\"responsive\": true}                    ).then(function(){\n",
              "                            \n",
              "var gd = document.getElementById('57ebc393-8f52-4f60-a6f7-85cebed22f61');\n",
              "var x = new MutationObserver(function (mutations, observer) {{\n",
              "        var display = window.getComputedStyle(gd).display;\n",
              "        if (!display || display === 'none') {{\n",
              "            console.log([gd, 'removed!']);\n",
              "            Plotly.purge(gd);\n",
              "            observer.disconnect();\n",
              "        }}\n",
              "}});\n",
              "\n",
              "// Listen for the removal of the full notebook cells\n",
              "var notebookContainer = gd.closest('#notebook-container');\n",
              "if (notebookContainer) {{\n",
              "    x.observe(notebookContainer, {childList: true});\n",
              "}}\n",
              "\n",
              "// Listen for the clearing of the current output cell\n",
              "var outputEl = gd.closest('.output');\n",
              "if (outputEl) {{\n",
              "    x.observe(outputEl, {childList: true});\n",
              "}}\n",
              "\n",
              "                        })                };                            </script>        </div>\n",
              "</body>\n",
              "</html>"
            ]
          },
          "metadata": {}
        }
      ]
    },
    {
      "cell_type": "markdown",
      "metadata": {
        "id": "R0-OI5NeYz29"
      },
      "source": [
        "## Conclusions"
      ]
    },
    {
      "cell_type": "markdown",
      "metadata": {
        "id": "uUZsv1RdYz29"
      },
      "source": [
        "Applying a naive regression model without adjustment leads to an estimated ACE which is four times off. A regression model with a valid adjustment set reduce the relative error to only 0.22%.\n",
        "\n",
        "But how to identify such valid set? *Stay tuned!*"
      ]
    }
  ],
  "metadata": {
    "colab": {
      "provenance": []
    },
    "kernelspec": {
      "display_name": "Python 3",
      "language": "python",
      "name": "python3"
    },
    "language_info": {
      "codemirror_mode": {
        "name": "ipython",
        "version": 3
      },
      "file_extension": ".py",
      "mimetype": "text/x-python",
      "name": "python",
      "nbconvert_exporter": "python",
      "pygments_lexer": "ipython3",
      "version": "3.8.5"
    }
  },
  "nbformat": 4,
  "nbformat_minor": 0
}